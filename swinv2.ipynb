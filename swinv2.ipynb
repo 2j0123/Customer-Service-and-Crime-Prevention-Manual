{
 "cells": [
  {
   "cell_type": "code",
   "execution_count": 1,
   "metadata": {},
   "outputs": [],
   "source": [
    "from transformers import Swinv2Config, Swinv2Model, AutoFeatureExtractor\n",
    "import transformers\n",
    "import os, json, glob, requests, torch, cv2\n",
    "import numpy as np\n",
    "from PIL import Image\n",
    "from torch.utils.data import DataLoader, Dataset\n",
    "import pandas as pd\n",
    "import torch.nn as nn\n",
    "import torch.optim as optim\n",
    "import matplotlib.pyplot as plt\n",
    "import torchvision.transforms as transforms\n",
    "from sklearn.metrics import accuracy_score\n",
    "from tensorflow.keras.preprocessing import image\n",
    "from transformers import Swinv2ForImageClassification"
   ]
  },
  {
   "cell_type": "code",
   "execution_count": 2,
   "metadata": {},
   "outputs": [],
   "source": [
    "#set default path\n",
    "TRAIN_JSON_PATH = r'C:\\Users\\User\\Desktop\\Code\\Github\\Final_project\\data\\label\\train'\n",
    "VALID_JSON_PATH = r'C:\\Users\\User\\Desktop\\Code\\Github\\Final_project\\data\\label\\val'\n",
    "TEST_JSON_PATH = r'C:\\Users\\User\\Desktop\\Code\\Github\\Final_project\\data\\label\\test'\n",
    "\n",
    "TRAIN_IMG_PATH = r'C:\\Users\\User\\Desktop\\Code\\Github\\Final_project\\data\\train'\n",
    "VALID_IMG_PATH = r'C:\\Users\\User\\Desktop\\Code\\Github\\Final_project\\data\\val'\n",
    "TEST_IMG_PATH = r'C:\\Users\\User\\Desktop\\Code\\Github\\Final_project\\data\\test'\n",
    "\n",
    "TRAIN_SEGMENT_PATH = r'C:\\Users\\User\\Desktop\\Code\\Github\\Final_project\\data\\segmentation\\train'\n",
    "VALID_SEGMENT_PATH = r'C:\\Users\\User\\Desktop\\Code\\Github\\Final_project\\data\\segmentation\\val'\n",
    "\n",
    "MASKED_TRAIN_PATH = r'C:\\Users\\User\\Desktop\\Code\\Github\\Final_project\\data\\masked_train'\n",
    "MASKED_VAL_PATH = r'C:\\Users\\User\\Desktop\\Code\\Github\\Final_project\\data\\masked_val'\n",
    "\n",
    "\n",
    "\n",
    "IMG_ROWS = 256\n",
    "IMG_COLS = 256"
   ]
  },
  {
   "cell_type": "code",
   "execution_count": 3,
   "metadata": {},
   "outputs": [],
   "source": [
    "#To get json list that contains info about the pictures.\n",
    "def get_json_list_1d(json_folder_path): #returns a 1 dim array\n",
    "    temp_loader = []\n",
    "    json_train = []\n",
    "    emotion_list_json = os.listdir(json_folder_path)\n",
    "\n",
    "    for emotion in emotion_list_json:\n",
    "        with open (json_folder_path + \"\\\\\" + emotion, \"r\", encoding='euc-kr') as f:\n",
    "            temp_loader.append(json.load(f))     \n",
    "\n",
    "    for i in range(len(temp_loader)):\n",
    "        json_train += temp_loader[i]     \n",
    "\n",
    "    return json_train\n",
    "\n",
    "def get_json_list_2d(json_folder_path): #returns 2 dim array\n",
    "    json_train = []\n",
    "    emotion_list_json = os.listdir(json_folder_path)\n",
    "\n",
    "    for emotion in emotion_list_json:\n",
    "        with open (json_folder_path + emotion, \"r\", encoding='euc-kr') as f:\n",
    "            json_train.append(json.load(f))     \n",
    "\n",
    "    return json_train\n",
    "\n"
   ]
  },
  {
   "cell_type": "markdown",
   "metadata": {},
   "source": [
    "Json 파일들을 읽기 쉽게 불러오기"
   ]
  },
  {
   "cell_type": "code",
   "execution_count": 5,
   "metadata": {},
   "outputs": [
    {
     "name": "stdout",
     "output_type": "stream",
     "text": [
      "dict_keys(['filename', 'gender', 'age', 'isProf', 'faceExp_uploader', 'bg_uploader', 'annot_A', 'annot_B', 'annot_C'])\n",
      "5382\n",
      "1049\n",
      "['anger', 'happy', 'panic', 'sadness']\n"
     ]
    }
   ],
   "source": [
    "#call for the functions\n",
    "json_train = get_json_list_1d(TRAIN_JSON_PATH)\n",
    "json_val = get_json_list_1d(VALID_JSON_PATH)\n",
    "\n",
    "\n",
    "\n",
    "\n",
    "print(json_train[0].keys()) #see what keys are available\n",
    "print(len(json_train))\n",
    "print(len(json_val))\n",
    "print(os.listdir(TRAIN_IMG_PATH))\n",
    "#0 = 분노, 1 = 기쁨, 2 = 당황, 3 = 슬픔\n",
    "#0 = anger, 1 = happy, 2 = panic, 3 = sadness\n"
   ]
  },
  {
   "cell_type": "code",
   "execution_count": 35,
   "metadata": {},
   "outputs": [
    {
     "name": "stdout",
     "output_type": "stream",
     "text": [
      "303\n"
     ]
    }
   ],
   "source": [
    "# print(len(json_val_2d[1]))\n",
    "# len(json_train)\n",
    "print(len(os.listdir(VALID_IMG_PATH + '/' + 'happy/')))"
   ]
  },
  {
   "cell_type": "markdown",
   "metadata": {},
   "source": [
    "파일 JSON 이랑 비교해서 빠진거 있나 확인"
   ]
  },
  {
   "cell_type": "code",
   "execution_count": 13,
   "metadata": {},
   "outputs": [
    {
     "name": "stdout",
     "output_type": "stream",
     "text": [
      "[]\n",
      "0\n"
     ]
    }
   ],
   "source": [
    "#여기는 2D 쪽을 사용해서 했었음\n",
    "\n",
    "# filenames_json = [entry['filename'] for entry in json_val_2d[1]]\n",
    "# filenames_folder = os.listdir(VALID_IMG_PATH + 'happy/')\n",
    "\n",
    "# print(list( set(filenames_json) - set(filenames_folder)))\n",
    "# print(len(list( set(filenames_json) - set(filenames_folder))))"
   ]
  },
  {
   "cell_type": "code",
   "execution_count": 14,
   "metadata": {},
   "outputs": [
    {
     "data": {
      "text/plain": [
       "False"
      ]
     },
     "execution_count": 14,
     "metadata": {},
     "output_type": "execute_result"
    }
   ],
   "source": [
    "#checking if that file exist in the path\n",
    "# temp = r'C:\\Users\\User\\Downloads\\Project3\\val\\happy'\n",
    "# filenames_folder = os.listdir(temp)\n",
    "\n",
    "# '7uji1c8ab7778bc286c3cd90077847f9a906f00b210838ba57877a29abd60ffix.jpg' in filenames_folder"
   ]
  },
  {
   "cell_type": "markdown",
   "metadata": {},
   "source": [
    "get all images and put them into a list"
   ]
  },
  {
   "cell_type": "code",
   "execution_count": 6,
   "metadata": {},
   "outputs": [],
   "source": [
    "#0 = 분노, 1 = 기쁨, 2 = 당황, 3 = 슬픔\n",
    "\n",
    "\n",
    "#이미지와 레이블을 받아오기. 이미지 리사이즈만 하고 다른 전처리는 안함\n",
    "#다른 전처리도 같이 진행 가능함. 아래에서 feature_extractor 에서 모델에 맞는 전처리를 해주기 때문에 여기서 진행 안함.\n",
    "\n",
    "#designed for 1D json file\n",
    "def load_image_and_label_1D(json_list, img_path):\n",
    "    img_file = []\n",
    "    label_list = []\n",
    "    \n",
    "    eng_to_num = { '분노'   : '0',\n",
    "                   '기쁨'   : '1',\n",
    "                   '당황'   : '2',\n",
    "                   '슬픔'   : '3'             \n",
    "                 }\n",
    "    kr_to_en = { '분노'    : 'anger',\n",
    "                 '기쁨'   : 'happy',\n",
    "                 '당황'   : 'panic',\n",
    "                 '슬픔'   : 'sadness'             \n",
    "                 }\n",
    "\n",
    "    \n",
    "    for entry in range(len(json_list)):\n",
    "        try:\n",
    "            label = json_list[entry]['faceExp_uploader']\n",
    "            img_dir = img_path + '/' + kr_to_en[label] + '/' + json_list[entry]['filename']\n",
    "            # img_dir = img_path + kr_to_en[label] + '/' + json_list[entry]['filename']\n",
    "            # img = np.array(image.load_img(img_dir, target_size=(IMG_ROWS, IMG_COLS)))/255\n",
    "            img = image.load_img(img_dir, target_size=(IMG_ROWS, IMG_COLS))\n",
    "            img_file.append(img)\n",
    "            label_list.append(int(eng_to_num[label]))\n",
    "        except Exception:\n",
    "            print(\"Emotion \" + label + \" \" + json_list[entry]['filename'] + \" Not available\")\n",
    "            pass\n",
    "\n",
    "    return img_file, label_list"
   ]
  },
  {
   "cell_type": "code",
   "execution_count": 31,
   "metadata": {},
   "outputs": [
    {
     "name": "stdout",
     "output_type": "stream",
     "text": [
      "Emotion 당황 twdva8d723865fa1005873a6967797c75f3dd83197f13f7daa3e3926947071al6.jpg Not available\n",
      "Emotion 당황 5yid6d7ae32bf14b1343da46cfdb3fdffc8e1c64baf4fb1b175690f648a870v69.jpg Not available\n",
      "Emotion 당황 bpv531e5cebdb1c00085158bb0677c5596ccabf1c8a5cb0007991571bf306wcd4.jpg Not available\n",
      "Emotion 당황 s1q397a38900c1e1f950496109900e7c01f0630459790d8590010655c4090vlh0.jpg Not available\n",
      "Emotion 당황 7m2k46c05803855399ea1ee1911875ee59e05640c93135c0bc91b5660456cdo8k.jpg Not available\n",
      "Emotion 당황 n55yc741f09701506c7eb5ba30533db35c905ab5bf0597b5652ece03c5950ozv1.jpg Not available\n",
      "Emotion 당황 bid7b3c93409e1d83514689337f6d3d63a338339d71c9ce7fded153d3576fk2ml.jpg Not available\n",
      "Emotion 당황 if0lfc4b517c6597e3656dbea350e406e1b5ae4e175e460597064875909d9t40p.jpg Not available\n",
      "Emotion 당황 58w153f3f5ade2ad20ec19e6744ff2ff0a54ba3520ffbef36f3f3a47af75fxuf5.jpg Not available\n",
      "Emotion 당황 lhyp01dff4faf13d1b4319722dc31bb3a104a3878ab3816a03bb8acdfa3d3eomk.jpg Not available\n",
      "Emotion 당황 vba0d31d23b44711180462388c8aba4424a0aa2951153a6b0d233d3f28041kzff.jpg Not available\n",
      "Emotion 당황 mj9mb18295a54da298a5a537dfa99a0172259a1af9ba2eaaefafdab9d47adrc83.jpg Not available\n",
      "Emotion 당황 bxx7a068c1eeb2032eaa0483940042ace8a00ea64ff23ce002b502aa3cafbo5kx.jpg Not available\n",
      "Emotion 당황 8p5p37951df3a18686dd10da624176ca7197b6778c877278d89f6331ada7bpjcq.jpg Not available\n",
      "Emotion 당황 67q29f539b5a2e59c55a703be25dfae0a68c6b8ccb8a2962ac8aaea799af22gm2.jpg Not available\n",
      "Emotion 당황 i5r0dc94151cdc9be669fc2d29221a29d8b2d6af2baf287360d36cf38b949clxw.jpg Not available\n",
      "Emotion 당황 140c3185430750e85cc0c7c38055b5abf5b06fc6ed34a60043506bd08af29llt0.jpg Not available\n",
      "Emotion 당황 ja43b19979da8e776e43e550068c7ae667eb695ab11144913697e014366110d6d.jpg Not available\n"
     ]
    }
   ],
   "source": [
    "train_img, train_label = load_image_and_label_1D(json_train, TRAIN_IMG_PATH)\n",
    "# train_img, train_label = load_image_and_label_1D(json_train, MASKED_TRAIN_PATH)"
   ]
  },
  {
   "cell_type": "code",
   "execution_count": 30,
   "metadata": {},
   "outputs": [],
   "source": [
    "# val_img, val_label = load_image_and_label_1D(json_val, VALID_IMG_PATH)\n",
    "val_img, val_label = load_image_and_label_1D(json_val, VALID_IMG_PATH)"
   ]
  },
  {
   "cell_type": "code",
   "execution_count": 12,
   "metadata": {},
   "outputs": [
    {
     "name": "stdout",
     "output_type": "stream",
     "text": [
      "5364\n",
      "1049\n"
     ]
    }
   ],
   "source": [
    "print(len(train_img))\n",
    "# print(type(train_label[0]))\n",
    "print(len(val_img))\n",
    "# print(train_img[0].shape)\n",
    "# print(len(test_img))"
   ]
  },
  {
   "cell_type": "markdown",
   "metadata": {},
   "source": [
    "Modeling"
   ]
  },
  {
   "cell_type": "code",
   "execution_count": 7,
   "metadata": {},
   "outputs": [],
   "source": [
    "from transformers import Swinv2ForImageClassification, AutoFeatureExtractor"
   ]
  },
  {
   "cell_type": "code",
   "execution_count": 10,
   "metadata": {},
   "outputs": [],
   "source": [
    "model_name = \"microsoft/swinv2-tiny-patch4-window8-256\"\n"
   ]
  },
  {
   "cell_type": "code",
   "execution_count": 28,
   "metadata": {},
   "outputs": [
    {
     "ename": "NameError",
     "evalue": "name 'train_img' is not defined",
     "output_type": "error",
     "traceback": [
      "\u001b[1;31m---------------------------------------------------------------------------\u001b[0m",
      "\u001b[1;31mNameError\u001b[0m                                 Traceback (most recent call last)",
      "Cell \u001b[1;32mIn[28], line 2\u001b[0m\n\u001b[0;32m      1\u001b[0m train_df \u001b[38;5;241m=\u001b[39m pd\u001b[38;5;241m.\u001b[39mDataFrame(columns\u001b[38;5;241m=\u001b[39m[\u001b[38;5;124m'\u001b[39m\u001b[38;5;124mimage\u001b[39m\u001b[38;5;124m'\u001b[39m, \u001b[38;5;124m'\u001b[39m\u001b[38;5;124mlabel\u001b[39m\u001b[38;5;124m'\u001b[39m])\n\u001b[1;32m----> 2\u001b[0m train_df[\u001b[38;5;124m'\u001b[39m\u001b[38;5;124mimage\u001b[39m\u001b[38;5;124m'\u001b[39m] \u001b[38;5;241m=\u001b[39m \u001b[43mtrain_img\u001b[49m\n\u001b[0;32m      3\u001b[0m train_df[\u001b[38;5;124m'\u001b[39m\u001b[38;5;124mlabel\u001b[39m\u001b[38;5;124m'\u001b[39m] \u001b[38;5;241m=\u001b[39m train_label\n\u001b[0;32m      5\u001b[0m val_df \u001b[38;5;241m=\u001b[39m pd\u001b[38;5;241m.\u001b[39mDataFrame(columns\u001b[38;5;241m=\u001b[39m[\u001b[38;5;124m'\u001b[39m\u001b[38;5;124mimage\u001b[39m\u001b[38;5;124m'\u001b[39m, \u001b[38;5;124m'\u001b[39m\u001b[38;5;124mlabel\u001b[39m\u001b[38;5;124m'\u001b[39m])\n",
      "\u001b[1;31mNameError\u001b[0m: name 'train_img' is not defined"
     ]
    }
   ],
   "source": [
    "train_df = pd.DataFrame(columns=['image', 'label'])\n",
    "train_df['image'] = train_img\n",
    "train_df['label'] = train_label\n",
    "\n",
    "val_df = pd.DataFrame(columns=['image', 'label'])\n",
    "val_df['image'] = val_img\n",
    "val_df['label'] = val_label\n",
    "\n"
   ]
  },
  {
   "cell_type": "code",
   "execution_count": 44,
   "metadata": {},
   "outputs": [],
   "source": [
    "train_dict = train_df.to_dict('records')\n",
    "val_dict = val_df.to_dict('records')\n",
    "\n",
    "\n",
    "# train_dict[0]['image']\n",
    "# train_dict\n",
    "# print(type(train_dict[0]))"
   ]
  },
  {
   "cell_type": "code",
   "execution_count": 45,
   "metadata": {},
   "outputs": [
    {
     "data": {
      "text/plain": [
       "Dataset({\n",
       "    features: ['image', 'label'],\n",
       "    num_rows: 5364\n",
       "})"
      ]
     },
     "execution_count": 45,
     "metadata": {},
     "output_type": "execute_result"
    }
   ],
   "source": [
    "from datasets import Dataset\n",
    "# train_ds = Dataset.from_pandas(pd.DataFrame(data=train_dict))\n",
    "train_ds = Dataset.from_list(train_dict)\n",
    "val_ds = Dataset.from_list(val_dict)\n",
    "\n",
    "train_ds"
   ]
  },
  {
   "cell_type": "code",
   "execution_count": 8,
   "metadata": {},
   "outputs": [
    {
     "data": {
      "text/plain": [
       "{'0': '분노', '1': '기쁨', '2': '당황', '3': '슬픔'}"
      ]
     },
     "execution_count": 8,
     "metadata": {},
     "output_type": "execute_result"
    }
   ],
   "source": [
    "# label2id = {       '분노'   : '0',\n",
    "#                    '기쁨'   : '1',\n",
    "#                    '당황'   : '2',\n",
    "#                    '슬픔'   : '3'             \n",
    "#                  }\n",
    "# id2label = {\n",
    "#     '0' : '분노',\n",
    "#     '1' : '기쁨',\n",
    "#     '2' : '당황',\n",
    "#     '3' : '슬픔'\n",
    "# }\n",
    "\n",
    "label2id = {       'Anger'   : '0',\n",
    "                   'Happy'   : '1',\n",
    "                   'Panic'   : '2',\n",
    "                   'Sadness'   : '3'             \n",
    "                 }\n",
    "id2label = {\n",
    "    '0' : 'Anger',\n",
    "    '1' : 'Happy',\n",
    "    '2' : 'Panic',\n",
    "    '3' : 'Sadness'\n",
    "}\n",
    "\n",
    "id2label"
   ]
  },
  {
   "cell_type": "code",
   "execution_count": 11,
   "metadata": {},
   "outputs": [
    {
     "name": "stderr",
     "output_type": "stream",
     "text": [
      "c:\\Users\\User\\anaconda3\\envs\\my_env_py311\\Lib\\site-packages\\huggingface_hub\\file_download.py:1132: FutureWarning: `resume_download` is deprecated and will be removed in version 1.0.0. Downloads always resume when possible. If you want to force a new download, use `force_download=True`.\n",
      "  warnings.warn(\n",
      "Could not find image processor class in the image processor config or the model config. Loading based on pattern matching with the model's feature extractor configuration. Please open a PR/issue to update `preprocessor_config.json` to use `image_processor_type` instead of `feature_extractor_type`. This warning will be removed in v4.40.\n"
     ]
    },
    {
     "data": {
      "text/plain": [
       "ViTImageProcessor {\n",
       "  \"_valid_processor_keys\": [\n",
       "    \"images\",\n",
       "    \"do_resize\",\n",
       "    \"size\",\n",
       "    \"resample\",\n",
       "    \"do_rescale\",\n",
       "    \"rescale_factor\",\n",
       "    \"do_normalize\",\n",
       "    \"image_mean\",\n",
       "    \"image_std\",\n",
       "    \"return_tensors\",\n",
       "    \"data_format\",\n",
       "    \"input_data_format\"\n",
       "  ],\n",
       "  \"do_normalize\": true,\n",
       "  \"do_rescale\": true,\n",
       "  \"do_resize\": true,\n",
       "  \"image_mean\": [\n",
       "    0.485,\n",
       "    0.456,\n",
       "    0.406\n",
       "  ],\n",
       "  \"image_processor_type\": \"ViTImageProcessor\",\n",
       "  \"image_std\": [\n",
       "    0.229,\n",
       "    0.224,\n",
       "    0.225\n",
       "  ],\n",
       "  \"resample\": 3,\n",
       "  \"rescale_factor\": 0.00392156862745098,\n",
       "  \"size\": {\n",
       "    \"height\": 256,\n",
       "    \"width\": 256\n",
       "  }\n",
       "}"
      ]
     },
     "execution_count": 11,
     "metadata": {},
     "output_type": "execute_result"
    }
   ],
   "source": [
    "from transformers import AutoImageProcessor\n",
    "\n",
    "image_processor  = AutoImageProcessor.from_pretrained(model_name)\n",
    "image_processor"
   ]
  },
  {
   "cell_type": "code",
   "execution_count": 12,
   "metadata": {},
   "outputs": [],
   "source": [
    "from torchvision.transforms import (\n",
    "    CenterCrop,\n",
    "    Compose,\n",
    "    Normalize,\n",
    "    RandomHorizontalFlip,\n",
    "    RandomResizedCrop,\n",
    "    Resize,\n",
    "    ToTensor,\n",
    ")\n",
    "\n",
    "normalize = Normalize(mean=image_processor.image_mean, std=image_processor.image_std)\n",
    "if \"height\" in image_processor.size:\n",
    "    size = (image_processor.size[\"height\"], image_processor.size[\"width\"])\n",
    "    crop_size = size\n",
    "    max_size = None\n",
    "elif \"shortest_edge\" in image_processor.size:\n",
    "    size = image_processor.size[\"shortest_edge\"]\n",
    "    crop_size = (size, size)\n",
    "    max_size = image_processor.size.get(\"longest_edge\")\n",
    "\n",
    "train_transforms = Compose(\n",
    "        [\n",
    "            RandomResizedCrop(crop_size),\n",
    "            RandomHorizontalFlip(),\n",
    "            ToTensor(),\n",
    "            normalize,\n",
    "        ]\n",
    "    )\n",
    "\n",
    "val_transforms = Compose(\n",
    "        [\n",
    "            Resize(size),\n",
    "            CenterCrop(crop_size),\n",
    "            ToTensor(),\n",
    "            normalize,\n",
    "        ]\n",
    "    )\n",
    "\n",
    "def preprocess_train(example_batch):\n",
    "    \"\"\"Apply train_transforms across a batch.\"\"\"\n",
    "    example_batch[\"pixel_values\"] = [train_transforms(image.convert(\"RGB\")) for image in example_batch[\"image\"]]\n",
    "    return example_batch\n",
    "\n",
    "def preprocess_val(example_batch):\n",
    "    \"\"\"Apply val_transforms across a batch.\"\"\"\n",
    "    example_batch[\"pixel_values\"] = [val_transforms(image.convert(\"RGB\")) for image in example_batch[\"image\"]]\n",
    "    return example_batch"
   ]
  },
  {
   "cell_type": "code",
   "execution_count": 49,
   "metadata": {},
   "outputs": [],
   "source": [
    "train_ds.set_transform(preprocess_train)\n",
    "val_ds.set_transform(preprocess_val)\n"
   ]
  },
  {
   "cell_type": "code",
   "execution_count": 20,
   "metadata": {},
   "outputs": [
    {
     "data": {
      "text/plain": [
       "{'image': <PIL.PngImagePlugin.PngImageFile image mode=RGB size=256x256>,\n",
       " 'label': 0,\n",
       " 'pixel_values': tensor([[[-1.1075, -1.1418, -1.1247,  ..., -1.0733, -1.0390, -1.0904],\n",
       "          [-1.1247, -1.1247, -1.1075,  ..., -1.0904, -1.0562, -1.0733],\n",
       "          [-1.1075, -1.1075, -1.1075,  ..., -1.1075, -1.0733, -1.0904],\n",
       "          ...,\n",
       "          [-0.1486, -0.1486, -0.1314,  ...,  0.9132,  0.9303,  0.9303],\n",
       "          [-0.0116, -0.0287,  0.0227,  ...,  0.9132,  0.9132,  0.9132],\n",
       "          [ 0.1768,  0.1426,  0.1939,  ...,  0.9303,  0.9303,  0.8961]],\n",
       " \n",
       "         [[-0.7227, -0.7577, -0.7577,  ..., -0.7402, -0.7052, -0.7577],\n",
       "          [-0.7402, -0.7402, -0.7402,  ..., -0.7227, -0.6877, -0.7227],\n",
       "          [-0.7227, -0.7227, -0.7402,  ..., -0.7227, -0.6877, -0.7227],\n",
       "          ...,\n",
       "          [-0.0049, -0.0049,  0.0126,  ...,  1.2031,  1.2206,  1.2206],\n",
       "          [ 0.1527,  0.1176,  0.1702,  ...,  1.2206,  1.2206,  1.2206],\n",
       "          [ 0.3277,  0.2927,  0.3452,  ...,  1.2381,  1.2381,  1.2556]],\n",
       " \n",
       "         [[-0.2184, -0.2532, -0.2184,  ..., -0.2184, -0.1835, -0.2010],\n",
       "          [-0.2358, -0.2358, -0.2010,  ..., -0.2184, -0.1835, -0.1661],\n",
       "          [-0.2184, -0.2184, -0.2010,  ..., -0.2184, -0.1835, -0.1661],\n",
       "          ...,\n",
       "          [ 0.0431,  0.0779,  0.0953,  ...,  1.7685,  1.7685,  1.8034],\n",
       "          [ 0.1999,  0.1999,  0.2522,  ...,  1.7337,  1.7337,  1.7685],\n",
       "          [ 0.4091,  0.3742,  0.4265,  ...,  1.7163,  1.7163,  1.7511]]])}"
      ]
     },
     "execution_count": 20,
     "metadata": {},
     "output_type": "execute_result"
    }
   ],
   "source": [
    "train_ds[0]"
   ]
  },
  {
   "cell_type": "code",
   "execution_count": 50,
   "metadata": {},
   "outputs": [
    {
     "name": "stderr",
     "output_type": "stream",
     "text": [
      "Some weights of Swinv2ForImageClassification were not initialized from the model checkpoint at microsoft/swinv2-tiny-patch4-window8-256 and are newly initialized because the shapes did not match:\n",
      "- classifier.weight: found shape torch.Size([1000, 768]) in the checkpoint and torch.Size([4, 768]) in the model instantiated\n",
      "- classifier.bias: found shape torch.Size([1000]) in the checkpoint and torch.Size([4]) in the model instantiated\n",
      "You should probably TRAIN this model on a down-stream task to be able to use it for predictions and inference.\n"
     ]
    }
   ],
   "source": [
    "model = Swinv2ForImageClassification.from_pretrained(\n",
    "    model_name, \n",
    "    label2id=label2id,\n",
    "    id2label=id2label,\n",
    "    ignore_mismatched_sizes = True, # provide this in case you're planning to fine-tune an already fine-tuned checkpoint\n",
    ")"
   ]
  },
  {
   "cell_type": "code",
   "execution_count": 51,
   "metadata": {},
   "outputs": [],
   "source": [
    "from transformers import TrainingArguments, Trainer\n",
    "\n",
    "batch_size = 8\n",
    "\n",
    "model_checkpoint = model_name.split(\"/\")[-1]\n",
    "\n",
    "args = TrainingArguments(\n",
    "    f\"{model_checkpoint}-finetuned-emotions-train-masked\",\n",
    "    remove_unused_columns=False,\n",
    "    evaluation_strategy = \"epoch\",\n",
    "    save_strategy = \"epoch\",\n",
    "    learning_rate=5e-5,\n",
    "    per_device_train_batch_size=batch_size,\n",
    "    gradient_accumulation_steps=4,\n",
    "    per_device_eval_batch_size=batch_size,\n",
    "    num_train_epochs=30,\n",
    "    warmup_ratio=0.1,\n",
    "    logging_steps=10,\n",
    "    load_best_model_at_end=True,\n",
    "    metric_for_best_model=\"accuracy\",\n",
    "    # push_to_hub=True,\n",
    ")"
   ]
  },
  {
   "cell_type": "code",
   "execution_count": 52,
   "metadata": {},
   "outputs": [],
   "source": [
    "import numpy as np\n",
    "\n",
    "# the compute_metrics function takes a Named Tuple as input:\n",
    "# predictions, which are the logits of the model as Numpy arrays,\n",
    "# and label_ids, which are the ground-truth labels as Numpy arrays.\n",
    "def compute_metrics(eval_pred):\n",
    "    \"\"\"Computes accuracy on a batch of predictions\"\"\"\n",
    "    predictions = np.argmax(eval_pred.predictions, axis=1)\n",
    "    return metric.compute(predictions=predictions, references=eval_pred.label_ids)"
   ]
  },
  {
   "cell_type": "code",
   "execution_count": 53,
   "metadata": {},
   "outputs": [],
   "source": [
    "import torch\n",
    "\n",
    "def collate_fn(examples):\n",
    "    pixel_values = torch.stack([example[\"pixel_values\"] for example in examples])\n",
    "    labels = torch.tensor([example[\"label\"] for example in examples])\n",
    "    return {\"pixel_values\": pixel_values, \"labels\": labels}"
   ]
  },
  {
   "cell_type": "code",
   "execution_count": 28,
   "metadata": {},
   "outputs": [
    {
     "data": {
      "application/vnd.jupyter.widget-view+json": {
       "model_id": "ca44819ee7484878911d2f2d0f37b87c",
       "version_major": 2,
       "version_minor": 0
      },
      "text/plain": [
       "VBox(children=(HTML(value='<center> <img\\nsrc=https://huggingface.co/front/assets/huggingface_logo-noborder.sv…"
      ]
     },
     "metadata": {},
     "output_type": "display_data"
    }
   ],
   "source": [
    "from huggingface_hub import login\n",
    "\n",
    "login()"
   ]
  },
  {
   "cell_type": "code",
   "execution_count": 54,
   "metadata": {},
   "outputs": [
    {
     "name": "stderr",
     "output_type": "stream",
     "text": [
      "c:\\Users\\User\\anaconda3\\envs\\my_env_py311\\Lib\\site-packages\\datasets\\load.py:759: FutureWarning: The repository for accuracy contains custom code which must be executed to correctly load the metric. You can inspect the repository content at https://raw.githubusercontent.com/huggingface/datasets/2.19.1/metrics/accuracy/accuracy.py\n",
      "You can avoid this message in future by passing the argument `trust_remote_code=True`.\n",
      "Passing `trust_remote_code=True` will be mandatory to load this metric from the next major release of `datasets`.\n",
      "  warnings.warn(\n"
     ]
    }
   ],
   "source": [
    "from datasets import load_metric\n",
    "\n",
    "metric = load_metric(\"accuracy\")"
   ]
  },
  {
   "cell_type": "code",
   "execution_count": 55,
   "metadata": {},
   "outputs": [],
   "source": [
    "trainer = Trainer(\n",
    "    model,\n",
    "    args,\n",
    "    train_dataset=train_ds,\n",
    "    eval_dataset=val_ds,\n",
    "    tokenizer=image_processor,\n",
    "    compute_metrics=compute_metrics,\n",
    "    data_collator=collate_fn,\n",
    ")"
   ]
  },
  {
   "cell_type": "code",
   "execution_count": 56,
   "metadata": {},
   "outputs": [
    {
     "data": {
      "application/vnd.jupyter.widget-view+json": {
       "model_id": "5592ef95440c4403b4da775ba605129d",
       "version_major": 2,
       "version_minor": 0
      },
      "text/plain": [
       "  0%|          | 0/5010 [00:00<?, ?it/s]"
      ]
     },
     "metadata": {},
     "output_type": "display_data"
    },
    {
     "name": "stdout",
     "output_type": "stream",
     "text": [
      "{'loss': 1.4173, 'grad_norm': 4.963411808013916, 'learning_rate': 9.980039920159682e-07, 'epoch': 0.06}\n",
      "{'loss': 1.3894, 'grad_norm': 6.791276931762695, 'learning_rate': 1.9960079840319363e-06, 'epoch': 0.12}\n",
      "{'loss': 1.3966, 'grad_norm': 6.7818145751953125, 'learning_rate': 2.9940119760479042e-06, 'epoch': 0.18}\n",
      "{'loss': 1.3717, 'grad_norm': 4.816768169403076, 'learning_rate': 3.992015968063873e-06, 'epoch': 0.24}\n",
      "{'loss': 1.3771, 'grad_norm': 5.76188850402832, 'learning_rate': 4.9900199600798405e-06, 'epoch': 0.3}\n",
      "{'loss': 1.379, 'grad_norm': 7.152700901031494, 'learning_rate': 5.9880239520958085e-06, 'epoch': 0.36}\n",
      "{'loss': 1.3758, 'grad_norm': 5.186458587646484, 'learning_rate': 6.986027944111776e-06, 'epoch': 0.42}\n",
      "{'loss': 1.36, 'grad_norm': 6.5703229904174805, 'learning_rate': 7.984031936127745e-06, 'epoch': 0.48}\n",
      "{'loss': 1.3223, 'grad_norm': 6.3045172691345215, 'learning_rate': 8.982035928143713e-06, 'epoch': 0.54}\n",
      "{'loss': 1.305, 'grad_norm': 8.671656608581543, 'learning_rate': 9.980039920159681e-06, 'epoch': 0.6}\n",
      "{'loss': 1.2865, 'grad_norm': 7.087973594665527, 'learning_rate': 1.0978043912175649e-05, 'epoch': 0.66}\n",
      "{'loss': 1.2549, 'grad_norm': 7.937198162078857, 'learning_rate': 1.1976047904191617e-05, 'epoch': 0.72}\n",
      "{'loss': 1.2009, 'grad_norm': 8.531322479248047, 'learning_rate': 1.2974051896207585e-05, 'epoch': 0.77}\n",
      "{'loss': 1.1511, 'grad_norm': 11.340506553649902, 'learning_rate': 1.3972055888223553e-05, 'epoch': 0.83}\n",
      "{'loss': 1.1377, 'grad_norm': 28.732315063476562, 'learning_rate': 1.497005988023952e-05, 'epoch': 0.89}\n",
      "{'loss': 1.121, 'grad_norm': 9.428099632263184, 'learning_rate': 1.596806387225549e-05, 'epoch': 0.95}\n"
     ]
    },
    {
     "data": {
      "application/vnd.jupyter.widget-view+json": {
       "model_id": "89caac5aaa564c51aa408da7c2b20c10",
       "version_major": 2,
       "version_minor": 0
      },
      "text/plain": [
       "  0%|          | 0/132 [00:00<?, ?it/s]"
      ]
     },
     "metadata": {},
     "output_type": "display_data"
    },
    {
     "name": "stdout",
     "output_type": "stream",
     "text": [
      "{'eval_loss': 1.3025370836257935, 'eval_accuracy': 0.3794089609151573, 'eval_runtime': 5.9108, 'eval_samples_per_second': 177.473, 'eval_steps_per_second': 22.332, 'epoch': 1.0}\n",
      "{'loss': 1.1267, 'grad_norm': 11.08442497253418, 'learning_rate': 1.6966067864271457e-05, 'epoch': 1.01}\n",
      "{'loss': 0.9779, 'grad_norm': 11.546260833740234, 'learning_rate': 1.7964071856287426e-05, 'epoch': 1.07}\n",
      "{'loss': 1.0095, 'grad_norm': 16.48371124267578, 'learning_rate': 1.8962075848303393e-05, 'epoch': 1.13}\n",
      "{'loss': 0.952, 'grad_norm': 8.521121978759766, 'learning_rate': 1.9960079840319362e-05, 'epoch': 1.19}\n",
      "{'loss': 0.8605, 'grad_norm': 12.767341613769531, 'learning_rate': 2.095808383233533e-05, 'epoch': 1.25}\n",
      "{'loss': 0.9728, 'grad_norm': 17.146793365478516, 'learning_rate': 2.1956087824351298e-05, 'epoch': 1.31}\n",
      "{'loss': 0.8467, 'grad_norm': 19.384918212890625, 'learning_rate': 2.2954091816367264e-05, 'epoch': 1.37}\n",
      "{'loss': 0.8787, 'grad_norm': 11.692898750305176, 'learning_rate': 2.3952095808383234e-05, 'epoch': 1.43}\n",
      "{'loss': 0.8962, 'grad_norm': 12.755792617797852, 'learning_rate': 2.49500998003992e-05, 'epoch': 1.49}\n",
      "{'loss': 0.81, 'grad_norm': 15.204971313476562, 'learning_rate': 2.594810379241517e-05, 'epoch': 1.55}\n",
      "{'loss': 0.748, 'grad_norm': 15.33372974395752, 'learning_rate': 2.694610778443114e-05, 'epoch': 1.61}\n",
      "{'loss': 0.893, 'grad_norm': 12.920455932617188, 'learning_rate': 2.7944111776447106e-05, 'epoch': 1.67}\n",
      "{'loss': 0.8242, 'grad_norm': 12.16563892364502, 'learning_rate': 2.8942115768463075e-05, 'epoch': 1.73}\n",
      "{'loss': 0.7479, 'grad_norm': 12.79874324798584, 'learning_rate': 2.994011976047904e-05, 'epoch': 1.79}\n",
      "{'loss': 0.7322, 'grad_norm': 8.314651489257812, 'learning_rate': 3.0938123752495015e-05, 'epoch': 1.85}\n",
      "{'loss': 0.7511, 'grad_norm': 10.691906929016113, 'learning_rate': 3.193612774451098e-05, 'epoch': 1.91}\n",
      "{'loss': 0.7619, 'grad_norm': 10.762214660644531, 'learning_rate': 3.293413173652695e-05, 'epoch': 1.97}\n"
     ]
    },
    {
     "data": {
      "application/vnd.jupyter.widget-view+json": {
       "model_id": "dd28195911d44e5fa9629b0a337b81dc",
       "version_major": 2,
       "version_minor": 0
      },
      "text/plain": [
       "  0%|          | 0/132 [00:00<?, ?it/s]"
      ]
     },
     "metadata": {},
     "output_type": "display_data"
    },
    {
     "name": "stdout",
     "output_type": "stream",
     "text": [
      "{'eval_loss': 1.0413624048233032, 'eval_accuracy': 0.5700667302192565, 'eval_runtime': 5.7461, 'eval_samples_per_second': 182.559, 'eval_steps_per_second': 22.972, 'epoch': 2.0}\n",
      "{'loss': 0.7123, 'grad_norm': 11.29297924041748, 'learning_rate': 3.393213572854291e-05, 'epoch': 2.03}\n",
      "{'loss': 0.8164, 'grad_norm': 8.674234390258789, 'learning_rate': 3.4930139720558886e-05, 'epoch': 2.09}\n",
      "{'loss': 0.8083, 'grad_norm': 14.92780876159668, 'learning_rate': 3.592814371257485e-05, 'epoch': 2.15}\n",
      "{'loss': 0.8495, 'grad_norm': 9.481246948242188, 'learning_rate': 3.692614770459082e-05, 'epoch': 2.21}\n",
      "{'loss': 0.7223, 'grad_norm': 13.61283016204834, 'learning_rate': 3.7924151696606785e-05, 'epoch': 2.27}\n",
      "{'loss': 0.6644, 'grad_norm': 11.804389953613281, 'learning_rate': 3.892215568862276e-05, 'epoch': 2.32}\n",
      "{'loss': 0.6461, 'grad_norm': 8.117280006408691, 'learning_rate': 3.9920159680638724e-05, 'epoch': 2.38}\n",
      "{'loss': 0.6646, 'grad_norm': 8.45789909362793, 'learning_rate': 4.091816367265469e-05, 'epoch': 2.44}\n",
      "{'loss': 0.6334, 'grad_norm': 10.715519905090332, 'learning_rate': 4.191616766467066e-05, 'epoch': 2.5}\n",
      "{'loss': 0.706, 'grad_norm': 9.350570678710938, 'learning_rate': 4.291417165668663e-05, 'epoch': 2.56}\n",
      "{'loss': 0.6046, 'grad_norm': 12.158756256103516, 'learning_rate': 4.3912175648702596e-05, 'epoch': 2.62}\n",
      "{'loss': 0.7191, 'grad_norm': 11.403846740722656, 'learning_rate': 4.491017964071856e-05, 'epoch': 2.68}\n",
      "{'loss': 0.6417, 'grad_norm': 8.678853988647461, 'learning_rate': 4.590818363273453e-05, 'epoch': 2.74}\n",
      "{'loss': 0.6406, 'grad_norm': 8.955740928649902, 'learning_rate': 4.69061876247505e-05, 'epoch': 2.8}\n",
      "{'loss': 0.6979, 'grad_norm': 10.31939697265625, 'learning_rate': 4.790419161676647e-05, 'epoch': 2.86}\n",
      "{'loss': 0.6171, 'grad_norm': 7.689001560211182, 'learning_rate': 4.8902195608782434e-05, 'epoch': 2.92}\n",
      "{'loss': 0.7211, 'grad_norm': 11.624744415283203, 'learning_rate': 4.99001996007984e-05, 'epoch': 2.98}\n"
     ]
    },
    {
     "data": {
      "application/vnd.jupyter.widget-view+json": {
       "model_id": "5996e21b556d4ed683eac1243075ee3c",
       "version_major": 2,
       "version_minor": 0
      },
      "text/plain": [
       "  0%|          | 0/132 [00:00<?, ?it/s]"
      ]
     },
     "metadata": {},
     "output_type": "display_data"
    },
    {
     "name": "stdout",
     "output_type": "stream",
     "text": [
      "{'eval_loss': 0.9001839756965637, 'eval_accuracy': 0.6282173498570067, 'eval_runtime': 5.8925, 'eval_samples_per_second': 178.022, 'eval_steps_per_second': 22.401, 'epoch': 3.0}\n",
      "{'loss': 0.6845, 'grad_norm': 7.943650722503662, 'learning_rate': 4.99001996007984e-05, 'epoch': 3.04}\n",
      "{'loss': 0.5691, 'grad_norm': 6.174980640411377, 'learning_rate': 4.978931026835218e-05, 'epoch': 3.1}\n",
      "{'loss': 0.6481, 'grad_norm': 8.3155517578125, 'learning_rate': 4.9678420935905965e-05, 'epoch': 3.16}\n",
      "{'loss': 0.6158, 'grad_norm': 11.408405303955078, 'learning_rate': 4.956753160345975e-05, 'epoch': 3.22}\n",
      "{'loss': 0.6496, 'grad_norm': 9.50242805480957, 'learning_rate': 4.945664227101353e-05, 'epoch': 3.28}\n",
      "{'loss': 0.5771, 'grad_norm': 7.077677249908447, 'learning_rate': 4.934575293856731e-05, 'epoch': 3.34}\n",
      "{'loss': 0.6178, 'grad_norm': 7.641733169555664, 'learning_rate': 4.9234863606121094e-05, 'epoch': 3.4}\n",
      "{'loss': 0.6435, 'grad_norm': 10.740875244140625, 'learning_rate': 4.9123974273674876e-05, 'epoch': 3.46}\n",
      "{'loss': 0.6322, 'grad_norm': 9.431280136108398, 'learning_rate': 4.901308494122865e-05, 'epoch': 3.52}\n",
      "{'loss': 0.6234, 'grad_norm': 7.191455364227295, 'learning_rate': 4.8902195608782434e-05, 'epoch': 3.58}\n",
      "{'loss': 0.6225, 'grad_norm': 10.483843803405762, 'learning_rate': 4.8791306276336216e-05, 'epoch': 3.64}\n",
      "{'loss': 0.6149, 'grad_norm': 11.678214073181152, 'learning_rate': 4.868041694389e-05, 'epoch': 3.7}\n",
      "{'loss': 0.6075, 'grad_norm': 13.592690467834473, 'learning_rate': 4.856952761144378e-05, 'epoch': 3.76}\n",
      "{'loss': 0.6994, 'grad_norm': 11.024243354797363, 'learning_rate': 4.845863827899756e-05, 'epoch': 3.82}\n",
      "{'loss': 0.5698, 'grad_norm': 8.114112854003906, 'learning_rate': 4.8347748946551346e-05, 'epoch': 3.87}\n",
      "{'loss': 0.6423, 'grad_norm': 8.74925708770752, 'learning_rate': 4.823685961410512e-05, 'epoch': 3.93}\n",
      "{'loss': 0.5585, 'grad_norm': 8.34603214263916, 'learning_rate': 4.81259702816589e-05, 'epoch': 3.99}\n"
     ]
    },
    {
     "data": {
      "application/vnd.jupyter.widget-view+json": {
       "model_id": "b9535c36a81745588ba12f9a4586c12f",
       "version_major": 2,
       "version_minor": 0
      },
      "text/plain": [
       "  0%|          | 0/132 [00:00<?, ?it/s]"
      ]
     },
     "metadata": {},
     "output_type": "display_data"
    },
    {
     "name": "stdout",
     "output_type": "stream",
     "text": [
      "{'eval_loss': 0.8162450790405273, 'eval_accuracy': 0.6701620591039085, 'eval_runtime': 5.8352, 'eval_samples_per_second': 179.771, 'eval_steps_per_second': 22.621, 'epoch': 4.0}\n",
      "{'loss': 0.5464, 'grad_norm': 10.740099906921387, 'learning_rate': 4.8015080949212686e-05, 'epoch': 4.05}\n",
      "{'loss': 0.4854, 'grad_norm': 11.635372161865234, 'learning_rate': 4.790419161676647e-05, 'epoch': 4.11}\n",
      "{'loss': 0.6239, 'grad_norm': 7.19569730758667, 'learning_rate': 4.779330228432025e-05, 'epoch': 4.17}\n",
      "{'loss': 0.5728, 'grad_norm': 7.882519721984863, 'learning_rate': 4.768241295187403e-05, 'epoch': 4.23}\n",
      "{'loss': 0.6294, 'grad_norm': 10.998778343200684, 'learning_rate': 4.7571523619427815e-05, 'epoch': 4.29}\n",
      "{'loss': 0.5522, 'grad_norm': 8.836294174194336, 'learning_rate': 4.746063428698159e-05, 'epoch': 4.35}\n",
      "{'loss': 0.5179, 'grad_norm': 5.6256608963012695, 'learning_rate': 4.734974495453537e-05, 'epoch': 4.41}\n",
      "{'loss': 0.5646, 'grad_norm': 6.7247138023376465, 'learning_rate': 4.7238855622089155e-05, 'epoch': 4.47}\n",
      "{'loss': 0.6503, 'grad_norm': 7.667932987213135, 'learning_rate': 4.712796628964294e-05, 'epoch': 4.53}\n",
      "{'loss': 0.5554, 'grad_norm': 7.570247173309326, 'learning_rate': 4.701707695719672e-05, 'epoch': 4.59}\n",
      "{'loss': 0.5842, 'grad_norm': 6.353485107421875, 'learning_rate': 4.69061876247505e-05, 'epoch': 4.65}\n",
      "{'loss': 0.4909, 'grad_norm': 6.537477970123291, 'learning_rate': 4.6795298292304284e-05, 'epoch': 4.71}\n",
      "{'loss': 0.5802, 'grad_norm': 6.582605361938477, 'learning_rate': 4.668440895985806e-05, 'epoch': 4.77}\n",
      "{'loss': 0.5713, 'grad_norm': 10.151505470275879, 'learning_rate': 4.657351962741184e-05, 'epoch': 4.83}\n",
      "{'loss': 0.5904, 'grad_norm': 7.845865726470947, 'learning_rate': 4.6462630294965624e-05, 'epoch': 4.89}\n",
      "{'loss': 0.4923, 'grad_norm': 7.095911026000977, 'learning_rate': 4.6351740962519406e-05, 'epoch': 4.95}\n"
     ]
    },
    {
     "data": {
      "application/vnd.jupyter.widget-view+json": {
       "model_id": "dc4ac6b83ce74d3f91d86a67ede3a2cb",
       "version_major": 2,
       "version_minor": 0
      },
      "text/plain": [
       "  0%|          | 0/132 [00:00<?, ?it/s]"
      ]
     },
     "metadata": {},
     "output_type": "display_data"
    },
    {
     "name": "stdout",
     "output_type": "stream",
     "text": [
      "{'eval_loss': 0.7043070793151855, 'eval_accuracy': 0.7159199237368923, 'eval_runtime': 5.7592, 'eval_samples_per_second': 182.145, 'eval_steps_per_second': 22.92, 'epoch': 5.0}\n",
      "{'loss': 0.5235, 'grad_norm': 9.15439510345459, 'learning_rate': 4.624085163007319e-05, 'epoch': 5.01}\n",
      "{'loss': 0.563, 'grad_norm': 9.501121520996094, 'learning_rate': 4.612996229762697e-05, 'epoch': 5.07}\n",
      "{'loss': 0.5014, 'grad_norm': 9.58963680267334, 'learning_rate': 4.601907296518075e-05, 'epoch': 5.13}\n",
      "{'loss': 0.5253, 'grad_norm': 7.622592926025391, 'learning_rate': 4.590818363273453e-05, 'epoch': 5.19}\n",
      "{'loss': 0.4861, 'grad_norm': 8.359110832214355, 'learning_rate': 4.579729430028831e-05, 'epoch': 5.25}\n",
      "{'loss': 0.4538, 'grad_norm': 7.232700824737549, 'learning_rate': 4.568640496784209e-05, 'epoch': 5.31}\n",
      "{'loss': 0.542, 'grad_norm': 13.594724655151367, 'learning_rate': 4.5575515635395875e-05, 'epoch': 5.37}\n",
      "{'loss': 0.6296, 'grad_norm': 6.223521709442139, 'learning_rate': 4.546462630294966e-05, 'epoch': 5.42}\n",
      "{'loss': 0.4716, 'grad_norm': 8.938763618469238, 'learning_rate': 4.535373697050344e-05, 'epoch': 5.48}\n",
      "{'loss': 0.5519, 'grad_norm': 11.24112606048584, 'learning_rate': 4.524284763805722e-05, 'epoch': 5.54}\n",
      "{'loss': 0.4985, 'grad_norm': 5.907757759094238, 'learning_rate': 4.5131958305611005e-05, 'epoch': 5.6}\n",
      "{'loss': 0.5704, 'grad_norm': 6.790956020355225, 'learning_rate': 4.502106897316478e-05, 'epoch': 5.66}\n",
      "{'loss': 0.5863, 'grad_norm': 9.17790412902832, 'learning_rate': 4.491017964071856e-05, 'epoch': 5.72}\n",
      "{'loss': 0.4839, 'grad_norm': 7.645298004150391, 'learning_rate': 4.4799290308272345e-05, 'epoch': 5.78}\n",
      "{'loss': 0.4984, 'grad_norm': 9.918680191040039, 'learning_rate': 4.468840097582613e-05, 'epoch': 5.84}\n",
      "{'loss': 0.4917, 'grad_norm': 9.201143264770508, 'learning_rate': 4.457751164337991e-05, 'epoch': 5.9}\n",
      "{'loss': 0.5114, 'grad_norm': 9.160380363464355, 'learning_rate': 4.446662231093369e-05, 'epoch': 5.96}\n"
     ]
    },
    {
     "data": {
      "application/vnd.jupyter.widget-view+json": {
       "model_id": "590ccc70c11948b99e2bf7ff77700014",
       "version_major": 2,
       "version_minor": 0
      },
      "text/plain": [
       "  0%|          | 0/132 [00:00<?, ?it/s]"
      ]
     },
     "metadata": {},
     "output_type": "display_data"
    },
    {
     "name": "stdout",
     "output_type": "stream",
     "text": [
      "{'eval_loss': 0.7418821454048157, 'eval_accuracy': 0.7044804575786463, 'eval_runtime': 5.7458, 'eval_samples_per_second': 182.57, 'eval_steps_per_second': 22.973, 'epoch': 6.0}\n",
      "{'loss': 0.5247, 'grad_norm': 5.407949447631836, 'learning_rate': 4.4355732978487474e-05, 'epoch': 6.02}\n",
      "{'loss': 0.5285, 'grad_norm': 6.934054851531982, 'learning_rate': 4.424484364604125e-05, 'epoch': 6.08}\n",
      "{'loss': 0.5605, 'grad_norm': 10.199114799499512, 'learning_rate': 4.413395431359503e-05, 'epoch': 6.14}\n",
      "{'loss': 0.5506, 'grad_norm': 7.208373069763184, 'learning_rate': 4.4023064981148814e-05, 'epoch': 6.2}\n",
      "{'loss': 0.5315, 'grad_norm': 7.449705600738525, 'learning_rate': 4.3912175648702596e-05, 'epoch': 6.26}\n",
      "{'loss': 0.4651, 'grad_norm': 4.666525363922119, 'learning_rate': 4.380128631625638e-05, 'epoch': 6.32}\n",
      "{'loss': 0.57, 'grad_norm': 7.392370223999023, 'learning_rate': 4.369039698381016e-05, 'epoch': 6.38}\n",
      "{'loss': 0.437, 'grad_norm': 6.3974409103393555, 'learning_rate': 4.357950765136394e-05, 'epoch': 6.44}\n",
      "{'loss': 0.5128, 'grad_norm': 11.396657943725586, 'learning_rate': 4.346861831891772e-05, 'epoch': 6.5}\n",
      "{'loss': 0.4842, 'grad_norm': 3.0618207454681396, 'learning_rate': 4.33577289864715e-05, 'epoch': 6.56}\n",
      "{'loss': 0.4567, 'grad_norm': 6.529572486877441, 'learning_rate': 4.324683965402528e-05, 'epoch': 6.62}\n",
      "{'loss': 0.5498, 'grad_norm': 10.972990036010742, 'learning_rate': 4.3135950321579065e-05, 'epoch': 6.68}\n",
      "{'loss': 0.4889, 'grad_norm': 6.029428958892822, 'learning_rate': 4.302506098913285e-05, 'epoch': 6.74}\n",
      "{'loss': 0.4005, 'grad_norm': 4.96563720703125, 'learning_rate': 4.291417165668663e-05, 'epoch': 6.8}\n",
      "{'loss': 0.4453, 'grad_norm': 9.208027839660645, 'learning_rate': 4.280328232424041e-05, 'epoch': 6.86}\n",
      "{'loss': 0.514, 'grad_norm': 8.80383014678955, 'learning_rate': 4.269239299179419e-05, 'epoch': 6.92}\n",
      "{'loss': 0.4306, 'grad_norm': 4.615415573120117, 'learning_rate': 4.258150365934797e-05, 'epoch': 6.97}\n"
     ]
    },
    {
     "data": {
      "application/vnd.jupyter.widget-view+json": {
       "model_id": "ac11de7d076f4d05b1640c7271f05d90",
       "version_major": 2,
       "version_minor": 0
      },
      "text/plain": [
       "  0%|          | 0/132 [00:00<?, ?it/s]"
      ]
     },
     "metadata": {},
     "output_type": "display_data"
    },
    {
     "name": "stdout",
     "output_type": "stream",
     "text": [
      "{'eval_loss': 0.718110203742981, 'eval_accuracy': 0.7168732125834127, 'eval_runtime': 5.7671, 'eval_samples_per_second': 181.893, 'eval_steps_per_second': 22.888, 'epoch': 7.0}\n",
      "{'loss': 0.4295, 'grad_norm': 8.519325256347656, 'learning_rate': 4.247061432690175e-05, 'epoch': 7.03}\n",
      "{'loss': 0.4585, 'grad_norm': 8.75397777557373, 'learning_rate': 4.2359724994455534e-05, 'epoch': 7.09}\n",
      "{'loss': 0.4642, 'grad_norm': 6.7315497398376465, 'learning_rate': 4.224883566200932e-05, 'epoch': 7.15}\n",
      "{'loss': 0.4566, 'grad_norm': 7.7151618003845215, 'learning_rate': 4.21379463295631e-05, 'epoch': 7.21}\n",
      "{'loss': 0.4287, 'grad_norm': 9.710984230041504, 'learning_rate': 4.202705699711688e-05, 'epoch': 7.27}\n",
      "{'loss': 0.5211, 'grad_norm': 5.071323394775391, 'learning_rate': 4.191616766467066e-05, 'epoch': 7.33}\n",
      "{'loss': 0.4872, 'grad_norm': 8.654717445373535, 'learning_rate': 4.180527833222444e-05, 'epoch': 7.39}\n",
      "{'loss': 0.4396, 'grad_norm': 6.144834041595459, 'learning_rate': 4.169438899977822e-05, 'epoch': 7.45}\n",
      "{'loss': 0.4831, 'grad_norm': 7.69573974609375, 'learning_rate': 4.1583499667332004e-05, 'epoch': 7.51}\n",
      "{'loss': 0.463, 'grad_norm': 5.599860191345215, 'learning_rate': 4.1472610334885786e-05, 'epoch': 7.57}\n",
      "{'loss': 0.5077, 'grad_norm': 7.065283298492432, 'learning_rate': 4.136172100243957e-05, 'epoch': 7.63}\n",
      "{'loss': 0.4756, 'grad_norm': 6.645122528076172, 'learning_rate': 4.125083166999335e-05, 'epoch': 7.69}\n",
      "{'loss': 0.4271, 'grad_norm': 7.310064315795898, 'learning_rate': 4.113994233754713e-05, 'epoch': 7.75}\n",
      "{'loss': 0.4493, 'grad_norm': 8.766611099243164, 'learning_rate': 4.102905300510091e-05, 'epoch': 7.81}\n",
      "{'loss': 0.4229, 'grad_norm': 8.154149055480957, 'learning_rate': 4.091816367265469e-05, 'epoch': 7.87}\n",
      "{'loss': 0.5505, 'grad_norm': 6.2555670738220215, 'learning_rate': 4.080727434020847e-05, 'epoch': 7.93}\n",
      "{'loss': 0.504, 'grad_norm': 7.822856426239014, 'learning_rate': 4.0696385007762255e-05, 'epoch': 7.99}\n"
     ]
    },
    {
     "data": {
      "application/vnd.jupyter.widget-view+json": {
       "model_id": "266c508962d04a88b558b737f7640755",
       "version_major": 2,
       "version_minor": 0
      },
      "text/plain": [
       "  0%|          | 0/132 [00:00<?, ?it/s]"
      ]
     },
     "metadata": {},
     "output_type": "display_data"
    },
    {
     "name": "stdout",
     "output_type": "stream",
     "text": [
      "{'eval_loss': 0.7331265807151794, 'eval_accuracy': 0.7044804575786463, 'eval_runtime': 5.7905, 'eval_samples_per_second': 181.157, 'eval_steps_per_second': 22.796, 'epoch': 8.0}\n",
      "{'loss': 0.4161, 'grad_norm': 8.075773239135742, 'learning_rate': 4.058549567531604e-05, 'epoch': 8.05}\n",
      "{'loss': 0.4818, 'grad_norm': 12.338173866271973, 'learning_rate': 4.047460634286982e-05, 'epoch': 8.11}\n",
      "{'loss': 0.3788, 'grad_norm': 7.19439697265625, 'learning_rate': 4.03637170104236e-05, 'epoch': 8.17}\n",
      "{'loss': 0.4507, 'grad_norm': 8.345800399780273, 'learning_rate': 4.025282767797738e-05, 'epoch': 8.23}\n",
      "{'loss': 0.5082, 'grad_norm': 10.544084548950195, 'learning_rate': 4.014193834553116e-05, 'epoch': 8.29}\n",
      "{'loss': 0.4532, 'grad_norm': 5.962796211242676, 'learning_rate': 4.003104901308494e-05, 'epoch': 8.35}\n",
      "{'loss': 0.4798, 'grad_norm': 4.934860706329346, 'learning_rate': 3.9920159680638724e-05, 'epoch': 8.41}\n",
      "{'loss': 0.445, 'grad_norm': 6.760146141052246, 'learning_rate': 3.980927034819251e-05, 'epoch': 8.46}\n",
      "{'loss': 0.3884, 'grad_norm': 9.989572525024414, 'learning_rate': 3.969838101574629e-05, 'epoch': 8.52}\n",
      "{'loss': 0.4249, 'grad_norm': 7.019318103790283, 'learning_rate': 3.958749168330007e-05, 'epoch': 8.58}\n",
      "{'loss': 0.4272, 'grad_norm': 7.237915515899658, 'learning_rate': 3.947660235085385e-05, 'epoch': 8.64}\n",
      "{'loss': 0.391, 'grad_norm': 6.800465106964111, 'learning_rate': 3.936571301840763e-05, 'epoch': 8.7}\n",
      "{'loss': 0.5439, 'grad_norm': 17.016374588012695, 'learning_rate': 3.925482368596141e-05, 'epoch': 8.76}\n",
      "{'loss': 0.4206, 'grad_norm': 12.165670394897461, 'learning_rate': 3.9143934353515194e-05, 'epoch': 8.82}\n",
      "{'loss': 0.4214, 'grad_norm': 7.289379596710205, 'learning_rate': 3.9033045021068976e-05, 'epoch': 8.88}\n",
      "{'loss': 0.4905, 'grad_norm': 4.2297210693359375, 'learning_rate': 3.892215568862276e-05, 'epoch': 8.94}\n"
     ]
    },
    {
     "data": {
      "application/vnd.jupyter.widget-view+json": {
       "model_id": "89dbada766ef46fdaf8928c50e39db15",
       "version_major": 2,
       "version_minor": 0
      },
      "text/plain": [
       "  0%|          | 0/132 [00:00<?, ?it/s]"
      ]
     },
     "metadata": {},
     "output_type": "display_data"
    },
    {
     "name": "stdout",
     "output_type": "stream",
     "text": [
      "{'eval_loss': 0.8041198253631592, 'eval_accuracy': 0.6873212583412774, 'eval_runtime': 5.7244, 'eval_samples_per_second': 183.251, 'eval_steps_per_second': 23.059, 'epoch': 9.0}\n",
      "{'loss': 0.418, 'grad_norm': 7.6947174072265625, 'learning_rate': 3.881126635617654e-05, 'epoch': 9.0}\n",
      "{'loss': 0.411, 'grad_norm': 7.839876174926758, 'learning_rate': 3.8700377023730316e-05, 'epoch': 9.06}\n",
      "{'loss': 0.4084, 'grad_norm': 11.4972505569458, 'learning_rate': 3.85894876912841e-05, 'epoch': 9.12}\n",
      "{'loss': 0.3992, 'grad_norm': 9.01121997833252, 'learning_rate': 3.847859835883788e-05, 'epoch': 9.18}\n",
      "{'loss': 0.4768, 'grad_norm': 5.84736442565918, 'learning_rate': 3.836770902639166e-05, 'epoch': 9.24}\n",
      "{'loss': 0.3678, 'grad_norm': 8.230523109436035, 'learning_rate': 3.8256819693945445e-05, 'epoch': 9.3}\n",
      "{'loss': 0.4507, 'grad_norm': 8.407151222229004, 'learning_rate': 3.814593036149923e-05, 'epoch': 9.36}\n",
      "{'loss': 0.405, 'grad_norm': 5.761240005493164, 'learning_rate': 3.803504102905301e-05, 'epoch': 9.42}\n",
      "{'loss': 0.4506, 'grad_norm': 6.49562931060791, 'learning_rate': 3.7924151696606785e-05, 'epoch': 9.48}\n",
      "{'loss': 0.4523, 'grad_norm': 7.7982354164123535, 'learning_rate': 3.781326236416057e-05, 'epoch': 9.54}\n",
      "{'loss': 0.4479, 'grad_norm': 5.981830596923828, 'learning_rate': 3.770237303171435e-05, 'epoch': 9.6}\n",
      "{'loss': 0.4473, 'grad_norm': 7.168384552001953, 'learning_rate': 3.759148369926813e-05, 'epoch': 9.66}\n",
      "{'loss': 0.4239, 'grad_norm': 8.478171348571777, 'learning_rate': 3.7480594366821914e-05, 'epoch': 9.72}\n",
      "{'loss': 0.4114, 'grad_norm': 7.9522857666015625, 'learning_rate': 3.7369705034375696e-05, 'epoch': 9.78}\n",
      "{'loss': 0.3942, 'grad_norm': 7.100489616394043, 'learning_rate': 3.725881570192948e-05, 'epoch': 9.84}\n",
      "{'loss': 0.4767, 'grad_norm': 11.007781982421875, 'learning_rate': 3.714792636948326e-05, 'epoch': 9.9}\n",
      "{'loss': 0.4181, 'grad_norm': 5.357361793518066, 'learning_rate': 3.7037037037037037e-05, 'epoch': 9.96}\n"
     ]
    },
    {
     "data": {
      "application/vnd.jupyter.widget-view+json": {
       "model_id": "0616e151de884ffb9da8b48936ae0b60",
       "version_major": 2,
       "version_minor": 0
      },
      "text/plain": [
       "  0%|          | 0/132 [00:00<?, ?it/s]"
      ]
     },
     "metadata": {},
     "output_type": "display_data"
    },
    {
     "name": "stdout",
     "output_type": "stream",
     "text": [
      "{'eval_loss': 0.8228487968444824, 'eval_accuracy': 0.6854146806482364, 'eval_runtime': 6.0009, 'eval_samples_per_second': 174.806, 'eval_steps_per_second': 21.997, 'epoch': 10.0}\n",
      "{'loss': 0.3939, 'grad_norm': 5.9228596687316895, 'learning_rate': 3.692614770459082e-05, 'epoch': 10.01}\n",
      "{'loss': 0.3806, 'grad_norm': 8.360032081604004, 'learning_rate': 3.68152583721446e-05, 'epoch': 10.07}\n",
      "{'loss': 0.4529, 'grad_norm': 7.239208698272705, 'learning_rate': 3.6704369039698383e-05, 'epoch': 10.13}\n",
      "{'loss': 0.4742, 'grad_norm': 5.270244598388672, 'learning_rate': 3.6593479707252166e-05, 'epoch': 10.19}\n",
      "{'loss': 0.447, 'grad_norm': 11.298628807067871, 'learning_rate': 3.648259037480595e-05, 'epoch': 10.25}\n",
      "{'loss': 0.3696, 'grad_norm': 7.320913314819336, 'learning_rate': 3.637170104235973e-05, 'epoch': 10.31}\n",
      "{'loss': 0.4373, 'grad_norm': 9.677531242370605, 'learning_rate': 3.6260811709913506e-05, 'epoch': 10.37}\n",
      "{'loss': 0.4517, 'grad_norm': 10.92647647857666, 'learning_rate': 3.614992237746729e-05, 'epoch': 10.43}\n",
      "{'loss': 0.4015, 'grad_norm': 8.884283065795898, 'learning_rate': 3.603903304502107e-05, 'epoch': 10.49}\n",
      "{'loss': 0.4101, 'grad_norm': 3.337629556655884, 'learning_rate': 3.592814371257485e-05, 'epoch': 10.55}\n",
      "{'loss': 0.4098, 'grad_norm': 9.689937591552734, 'learning_rate': 3.5817254380128635e-05, 'epoch': 10.61}\n",
      "{'loss': 0.3727, 'grad_norm': 6.113096714019775, 'learning_rate': 3.570636504768242e-05, 'epoch': 10.67}\n",
      "{'loss': 0.3856, 'grad_norm': 6.22418737411499, 'learning_rate': 3.55954757152362e-05, 'epoch': 10.73}\n",
      "{'loss': 0.4818, 'grad_norm': 8.91971492767334, 'learning_rate': 3.5484586382789975e-05, 'epoch': 10.79}\n",
      "{'loss': 0.4583, 'grad_norm': 7.1363396644592285, 'learning_rate': 3.537369705034376e-05, 'epoch': 10.85}\n",
      "{'loss': 0.4267, 'grad_norm': 13.335211753845215, 'learning_rate': 3.526280771789754e-05, 'epoch': 10.91}\n",
      "{'loss': 0.382, 'grad_norm': 8.924814224243164, 'learning_rate': 3.515191838545132e-05, 'epoch': 10.97}\n"
     ]
    },
    {
     "data": {
      "application/vnd.jupyter.widget-view+json": {
       "model_id": "f82fb21e9cbd4292885e14229da0997e",
       "version_major": 2,
       "version_minor": 0
      },
      "text/plain": [
       "  0%|          | 0/132 [00:00<?, ?it/s]"
      ]
     },
     "metadata": {},
     "output_type": "display_data"
    },
    {
     "name": "stdout",
     "output_type": "stream",
     "text": [
      "{'eval_loss': 0.9176353812217712, 'eval_accuracy': 0.6720686367969495, 'eval_runtime': 5.9397, 'eval_samples_per_second': 176.607, 'eval_steps_per_second': 22.223, 'epoch': 11.0}\n",
      "{'loss': 0.4129, 'grad_norm': 5.1622314453125, 'learning_rate': 3.5041029053005104e-05, 'epoch': 11.03}\n",
      "{'loss': 0.3364, 'grad_norm': 6.029051780700684, 'learning_rate': 3.4930139720558886e-05, 'epoch': 11.09}\n",
      "{'loss': 0.424, 'grad_norm': 14.081719398498535, 'learning_rate': 3.481925038811267e-05, 'epoch': 11.15}\n",
      "{'loss': 0.3757, 'grad_norm': 8.391963958740234, 'learning_rate': 3.4708361055666444e-05, 'epoch': 11.21}\n",
      "{'loss': 0.4215, 'grad_norm': 6.457772254943848, 'learning_rate': 3.4597471723220226e-05, 'epoch': 11.27}\n",
      "{'loss': 0.3438, 'grad_norm': 3.9835355281829834, 'learning_rate': 3.448658239077401e-05, 'epoch': 11.33}\n",
      "{'loss': 0.4831, 'grad_norm': 14.043869018554688, 'learning_rate': 3.437569305832779e-05, 'epoch': 11.39}\n",
      "{'loss': 0.4842, 'grad_norm': 16.852834701538086, 'learning_rate': 3.426480372588157e-05, 'epoch': 11.45}\n",
      "{'loss': 0.4444, 'grad_norm': 5.578027248382568, 'learning_rate': 3.4153914393435356e-05, 'epoch': 11.51}\n",
      "{'loss': 0.4364, 'grad_norm': 5.8901824951171875, 'learning_rate': 3.404302506098914e-05, 'epoch': 11.56}\n",
      "{'loss': 0.417, 'grad_norm': 7.811951160430908, 'learning_rate': 3.393213572854291e-05, 'epoch': 11.62}\n",
      "{'loss': 0.4127, 'grad_norm': 8.420744895935059, 'learning_rate': 3.3821246396096696e-05, 'epoch': 11.68}\n",
      "{'loss': 0.4222, 'grad_norm': 5.908783435821533, 'learning_rate': 3.371035706365048e-05, 'epoch': 11.74}\n",
      "{'loss': 0.4308, 'grad_norm': 8.341954231262207, 'learning_rate': 3.359946773120426e-05, 'epoch': 11.8}\n",
      "{'loss': 0.3486, 'grad_norm': 7.542657852172852, 'learning_rate': 3.348857839875804e-05, 'epoch': 11.86}\n",
      "{'loss': 0.4122, 'grad_norm': 5.7655768394470215, 'learning_rate': 3.3377689066311825e-05, 'epoch': 11.92}\n",
      "{'loss': 0.5069, 'grad_norm': 10.4072265625, 'learning_rate': 3.326679973386561e-05, 'epoch': 11.98}\n"
     ]
    },
    {
     "data": {
      "application/vnd.jupyter.widget-view+json": {
       "model_id": "b7f27702222b44038f28dd71efa24a72",
       "version_major": 2,
       "version_minor": 0
      },
      "text/plain": [
       "  0%|          | 0/132 [00:00<?, ?it/s]"
      ]
     },
     "metadata": {},
     "output_type": "display_data"
    },
    {
     "name": "stdout",
     "output_type": "stream",
     "text": [
      "{'eval_loss': 0.8134416341781616, 'eval_accuracy': 0.6959008579599618, 'eval_runtime': 6.1076, 'eval_samples_per_second': 171.752, 'eval_steps_per_second': 21.612, 'epoch': 12.0}\n",
      "{'loss': 0.4267, 'grad_norm': 5.6625542640686035, 'learning_rate': 3.315591040141939e-05, 'epoch': 12.04}\n",
      "{'loss': 0.3945, 'grad_norm': 3.9210705757141113, 'learning_rate': 3.3045021068973165e-05, 'epoch': 12.1}\n",
      "{'loss': 0.4014, 'grad_norm': 5.3100905418396, 'learning_rate': 3.293413173652695e-05, 'epoch': 12.16}\n",
      "{'loss': 0.3889, 'grad_norm': 8.316365242004395, 'learning_rate': 3.282324240408073e-05, 'epoch': 12.22}\n",
      "{'loss': 0.4148, 'grad_norm': 9.536713600158691, 'learning_rate': 3.271235307163451e-05, 'epoch': 12.28}\n",
      "{'loss': 0.4216, 'grad_norm': 5.215900421142578, 'learning_rate': 3.2601463739188294e-05, 'epoch': 12.34}\n",
      "{'loss': 0.4059, 'grad_norm': 7.403354644775391, 'learning_rate': 3.2490574406742076e-05, 'epoch': 12.4}\n",
      "{'loss': 0.3777, 'grad_norm': 7.368259429931641, 'learning_rate': 3.237968507429586e-05, 'epoch': 12.46}\n",
      "{'loss': 0.4039, 'grad_norm': 8.515366554260254, 'learning_rate': 3.2268795741849634e-05, 'epoch': 12.52}\n",
      "{'loss': 0.3351, 'grad_norm': 3.7299201488494873, 'learning_rate': 3.2157906409403416e-05, 'epoch': 12.58}\n",
      "{'loss': 0.4349, 'grad_norm': 7.663396835327148, 'learning_rate': 3.20470170769572e-05, 'epoch': 12.64}\n",
      "{'loss': 0.3952, 'grad_norm': 5.128833770751953, 'learning_rate': 3.193612774451098e-05, 'epoch': 12.7}\n",
      "{'loss': 0.4191, 'grad_norm': 8.409514427185059, 'learning_rate': 3.182523841206476e-05, 'epoch': 12.76}\n",
      "{'loss': 0.3658, 'grad_norm': 7.034617900848389, 'learning_rate': 3.1714349079618545e-05, 'epoch': 12.82}\n",
      "{'loss': 0.3993, 'grad_norm': 7.365114688873291, 'learning_rate': 3.160345974717233e-05, 'epoch': 12.88}\n",
      "{'loss': 0.4578, 'grad_norm': 7.092709541320801, 'learning_rate': 3.14925704147261e-05, 'epoch': 12.94}\n",
      "{'loss': 0.343, 'grad_norm': 4.636282920837402, 'learning_rate': 3.1381681082279885e-05, 'epoch': 13.0}\n"
     ]
    },
    {
     "data": {
      "application/vnd.jupyter.widget-view+json": {
       "model_id": "fb109e4fdfcd4573a4d46c645fe38b97",
       "version_major": 2,
       "version_minor": 0
      },
      "text/plain": [
       "  0%|          | 0/132 [00:00<?, ?it/s]"
      ]
     },
     "metadata": {},
     "output_type": "display_data"
    },
    {
     "name": "stdout",
     "output_type": "stream",
     "text": [
      "{'eval_loss': 0.7746860384941101, 'eval_accuracy': 0.6959008579599618, 'eval_runtime': 5.8186, 'eval_samples_per_second': 180.285, 'eval_steps_per_second': 22.686, 'epoch': 13.0}\n",
      "{'loss': 0.4133, 'grad_norm': 5.874404430389404, 'learning_rate': 3.127079174983367e-05, 'epoch': 13.06}\n",
      "{'loss': 0.3803, 'grad_norm': 6.7590742111206055, 'learning_rate': 3.115990241738745e-05, 'epoch': 13.11}\n",
      "{'loss': 0.354, 'grad_norm': 8.676255226135254, 'learning_rate': 3.104901308494123e-05, 'epoch': 13.17}\n",
      "{'loss': 0.3872, 'grad_norm': 8.669197082519531, 'learning_rate': 3.0938123752495015e-05, 'epoch': 13.23}\n",
      "{'loss': 0.3431, 'grad_norm': 7.186553001403809, 'learning_rate': 3.08272344200488e-05, 'epoch': 13.29}\n",
      "{'loss': 0.4156, 'grad_norm': 3.2945258617401123, 'learning_rate': 3.071634508760257e-05, 'epoch': 13.35}\n",
      "{'loss': 0.3764, 'grad_norm': 8.151432037353516, 'learning_rate': 3.0605455755156355e-05, 'epoch': 13.41}\n",
      "{'loss': 0.3452, 'grad_norm': 7.973482608795166, 'learning_rate': 3.0494566422710137e-05, 'epoch': 13.47}\n",
      "{'loss': 0.3762, 'grad_norm': 5.352871417999268, 'learning_rate': 3.038367709026392e-05, 'epoch': 13.53}\n",
      "{'loss': 0.4392, 'grad_norm': 5.290807247161865, 'learning_rate': 3.02727877578177e-05, 'epoch': 13.59}\n",
      "{'loss': 0.384, 'grad_norm': 13.812140464782715, 'learning_rate': 3.016189842537148e-05, 'epoch': 13.65}\n",
      "{'loss': 0.3697, 'grad_norm': 7.806451797485352, 'learning_rate': 3.0051009092925263e-05, 'epoch': 13.71}\n",
      "{'loss': 0.3421, 'grad_norm': 7.573549270629883, 'learning_rate': 2.994011976047904e-05, 'epoch': 13.77}\n",
      "{'loss': 0.4404, 'grad_norm': 15.762781143188477, 'learning_rate': 2.9829230428032824e-05, 'epoch': 13.83}\n",
      "{'loss': 0.4244, 'grad_norm': 10.802835464477539, 'learning_rate': 2.9718341095586606e-05, 'epoch': 13.89}\n",
      "{'loss': 0.31, 'grad_norm': 7.1885199546813965, 'learning_rate': 2.960745176314039e-05, 'epoch': 13.95}\n"
     ]
    },
    {
     "data": {
      "application/vnd.jupyter.widget-view+json": {
       "model_id": "3a0756d82e01499188a7d27cd9b1bcff",
       "version_major": 2,
       "version_minor": 0
      },
      "text/plain": [
       "  0%|          | 0/132 [00:00<?, ?it/s]"
      ]
     },
     "metadata": {},
     "output_type": "display_data"
    },
    {
     "name": "stdout",
     "output_type": "stream",
     "text": [
      "{'eval_loss': 0.8212938904762268, 'eval_accuracy': 0.7006673021925643, 'eval_runtime': 6.0542, 'eval_samples_per_second': 173.269, 'eval_steps_per_second': 21.803, 'epoch': 14.0}\n",
      "{'loss': 0.3978, 'grad_norm': 8.487759590148926, 'learning_rate': 2.949656243069417e-05, 'epoch': 14.01}\n",
      "{'loss': 0.4112, 'grad_norm': 10.912277221679688, 'learning_rate': 2.938567309824795e-05, 'epoch': 14.07}\n",
      "{'loss': 0.3412, 'grad_norm': 4.11976957321167, 'learning_rate': 2.9274783765801732e-05, 'epoch': 14.13}\n",
      "{'loss': 0.3105, 'grad_norm': 4.076371669769287, 'learning_rate': 2.9163894433355514e-05, 'epoch': 14.19}\n",
      "{'loss': 0.445, 'grad_norm': 11.732887268066406, 'learning_rate': 2.9053005100909293e-05, 'epoch': 14.25}\n",
      "{'loss': 0.3881, 'grad_norm': 3.588486671447754, 'learning_rate': 2.8942115768463075e-05, 'epoch': 14.31}\n",
      "{'loss': 0.4052, 'grad_norm': 9.067994117736816, 'learning_rate': 2.8831226436016858e-05, 'epoch': 14.37}\n",
      "{'loss': 0.3849, 'grad_norm': 5.493880271911621, 'learning_rate': 2.8720337103570636e-05, 'epoch': 14.43}\n",
      "{'loss': 0.4116, 'grad_norm': 6.238125324249268, 'learning_rate': 2.860944777112442e-05, 'epoch': 14.49}\n",
      "{'loss': 0.3046, 'grad_norm': 4.0486345291137695, 'learning_rate': 2.84985584386782e-05, 'epoch': 14.55}\n",
      "{'loss': 0.3734, 'grad_norm': 5.295166492462158, 'learning_rate': 2.8387669106231983e-05, 'epoch': 14.61}\n",
      "{'loss': 0.3698, 'grad_norm': 10.529495239257812, 'learning_rate': 2.8276779773785762e-05, 'epoch': 14.66}\n",
      "{'loss': 0.3461, 'grad_norm': 6.453710556030273, 'learning_rate': 2.8165890441339545e-05, 'epoch': 14.72}\n",
      "{'loss': 0.3372, 'grad_norm': 8.61420726776123, 'learning_rate': 2.8055001108893327e-05, 'epoch': 14.78}\n",
      "{'loss': 0.3353, 'grad_norm': 6.206957817077637, 'learning_rate': 2.7944111776447106e-05, 'epoch': 14.84}\n",
      "{'loss': 0.3345, 'grad_norm': 6.254672527313232, 'learning_rate': 2.7833222444000888e-05, 'epoch': 14.9}\n",
      "{'loss': 0.3531, 'grad_norm': 8.325735092163086, 'learning_rate': 2.772233311155467e-05, 'epoch': 14.96}\n"
     ]
    },
    {
     "data": {
      "application/vnd.jupyter.widget-view+json": {
       "model_id": "211e3c3258864c37a8ba5f7823c46fde",
       "version_major": 2,
       "version_minor": 0
      },
      "text/plain": [
       "  0%|          | 0/132 [00:00<?, ?it/s]"
      ]
     },
     "metadata": {},
     "output_type": "display_data"
    },
    {
     "name": "stdout",
     "output_type": "stream",
     "text": [
      "{'eval_loss': 0.7912051677703857, 'eval_accuracy': 0.7187797902764538, 'eval_runtime': 5.7845, 'eval_samples_per_second': 181.347, 'eval_steps_per_second': 22.82, 'epoch': 15.0}\n",
      "{'loss': 0.4544, 'grad_norm': 10.672832489013672, 'learning_rate': 2.7611443779108453e-05, 'epoch': 15.02}\n",
      "{'loss': 0.2822, 'grad_norm': 3.0720741748809814, 'learning_rate': 2.750055444666223e-05, 'epoch': 15.08}\n",
      "{'loss': 0.3815, 'grad_norm': 9.408061981201172, 'learning_rate': 2.7389665114216014e-05, 'epoch': 15.14}\n",
      "{'loss': 0.3672, 'grad_norm': 6.768227577209473, 'learning_rate': 2.7278775781769793e-05, 'epoch': 15.2}\n",
      "{'loss': 0.3521, 'grad_norm': 5.870574951171875, 'learning_rate': 2.7167886449323575e-05, 'epoch': 15.26}\n",
      "{'loss': 0.353, 'grad_norm': 7.438294410705566, 'learning_rate': 2.7056997116877357e-05, 'epoch': 15.32}\n",
      "{'loss': 0.3513, 'grad_norm': 10.90173053741455, 'learning_rate': 2.694610778443114e-05, 'epoch': 15.38}\n",
      "{'loss': 0.4026, 'grad_norm': 4.030770301818848, 'learning_rate': 2.6835218451984922e-05, 'epoch': 15.44}\n",
      "{'loss': 0.4251, 'grad_norm': 8.257696151733398, 'learning_rate': 2.67243291195387e-05, 'epoch': 15.5}\n",
      "{'loss': 0.371, 'grad_norm': 5.557029724121094, 'learning_rate': 2.661343978709248e-05, 'epoch': 15.56}\n",
      "{'loss': 0.333, 'grad_norm': 5.475907325744629, 'learning_rate': 2.6502550454646262e-05, 'epoch': 15.62}\n",
      "{'loss': 0.4545, 'grad_norm': 10.292510986328125, 'learning_rate': 2.6391661122200044e-05, 'epoch': 15.68}\n",
      "{'loss': 0.405, 'grad_norm': 5.6182732582092285, 'learning_rate': 2.6280771789753826e-05, 'epoch': 15.74}\n",
      "{'loss': 0.293, 'grad_norm': 8.929388046264648, 'learning_rate': 2.616988245730761e-05, 'epoch': 15.8}\n",
      "{'loss': 0.3819, 'grad_norm': 8.277878761291504, 'learning_rate': 2.605899312486139e-05, 'epoch': 15.86}\n",
      "{'loss': 0.3951, 'grad_norm': 7.631036281585693, 'learning_rate': 2.594810379241517e-05, 'epoch': 15.92}\n",
      "{'loss': 0.3488, 'grad_norm': 7.558634281158447, 'learning_rate': 2.583721445996895e-05, 'epoch': 15.98}\n"
     ]
    },
    {
     "data": {
      "application/vnd.jupyter.widget-view+json": {
       "model_id": "686f617db9fe4d3190b0993220b36d24",
       "version_major": 2,
       "version_minor": 0
      },
      "text/plain": [
       "  0%|          | 0/132 [00:00<?, ?it/s]"
      ]
     },
     "metadata": {},
     "output_type": "display_data"
    },
    {
     "name": "stdout",
     "output_type": "stream",
     "text": [
      "{'eval_loss': 0.959498405456543, 'eval_accuracy': 0.684461391801716, 'eval_runtime': 5.8556, 'eval_samples_per_second': 179.144, 'eval_steps_per_second': 22.542, 'epoch': 16.0}\n",
      "{'loss': 0.4066, 'grad_norm': 8.93233871459961, 'learning_rate': 2.572632512752273e-05, 'epoch': 16.04}\n",
      "{'loss': 0.3735, 'grad_norm': 5.51727294921875, 'learning_rate': 2.5615435795076513e-05, 'epoch': 16.1}\n",
      "{'loss': 0.3934, 'grad_norm': 9.764252662658691, 'learning_rate': 2.5504546462630296e-05, 'epoch': 16.15}\n",
      "{'loss': 0.3678, 'grad_norm': 9.374000549316406, 'learning_rate': 2.5393657130184078e-05, 'epoch': 16.21}\n",
      "{'loss': 0.3181, 'grad_norm': 8.026623725891113, 'learning_rate': 2.528276779773786e-05, 'epoch': 16.27}\n",
      "{'loss': 0.2997, 'grad_norm': 11.709798812866211, 'learning_rate': 2.5171878465291642e-05, 'epoch': 16.33}\n",
      "{'loss': 0.3747, 'grad_norm': 9.628546714782715, 'learning_rate': 2.5060989132845418e-05, 'epoch': 16.39}\n",
      "{'loss': 0.352, 'grad_norm': 13.022377014160156, 'learning_rate': 2.49500998003992e-05, 'epoch': 16.45}\n",
      "{'loss': 0.3752, 'grad_norm': 10.066679000854492, 'learning_rate': 2.4839210467952982e-05, 'epoch': 16.51}\n",
      "{'loss': 0.3445, 'grad_norm': 10.679267883300781, 'learning_rate': 2.4728321135506765e-05, 'epoch': 16.57}\n",
      "{'loss': 0.406, 'grad_norm': 6.45984411239624, 'learning_rate': 2.4617431803060547e-05, 'epoch': 16.63}\n",
      "{'loss': 0.3696, 'grad_norm': 7.013273239135742, 'learning_rate': 2.4506542470614326e-05, 'epoch': 16.69}\n",
      "{'loss': 0.3125, 'grad_norm': 11.212689399719238, 'learning_rate': 2.4395653138168108e-05, 'epoch': 16.75}\n",
      "{'loss': 0.2733, 'grad_norm': 10.357864379882812, 'learning_rate': 2.428476380572189e-05, 'epoch': 16.81}\n",
      "{'loss': 0.3507, 'grad_norm': 8.250482559204102, 'learning_rate': 2.4173874473275673e-05, 'epoch': 16.87}\n",
      "{'loss': 0.4003, 'grad_norm': 9.787156105041504, 'learning_rate': 2.406298514082945e-05, 'epoch': 16.93}\n",
      "{'loss': 0.3295, 'grad_norm': 7.187964916229248, 'learning_rate': 2.3952095808383234e-05, 'epoch': 16.99}\n"
     ]
    },
    {
     "data": {
      "application/vnd.jupyter.widget-view+json": {
       "model_id": "82924ff8c34e41488c9db9f7c2bf2ec0",
       "version_major": 2,
       "version_minor": 0
      },
      "text/plain": [
       "  0%|          | 0/132 [00:00<?, ?it/s]"
      ]
     },
     "metadata": {},
     "output_type": "display_data"
    },
    {
     "name": "stdout",
     "output_type": "stream",
     "text": [
      "{'eval_loss': 0.7811444401741028, 'eval_accuracy': 0.7006673021925643, 'eval_runtime': 5.7536, 'eval_samples_per_second': 182.322, 'eval_steps_per_second': 22.942, 'epoch': 17.0}\n",
      "{'loss': 0.3592, 'grad_norm': 5.205692768096924, 'learning_rate': 2.3841206475937016e-05, 'epoch': 17.05}\n",
      "{'loss': 0.3209, 'grad_norm': 12.442056655883789, 'learning_rate': 2.3730317143490795e-05, 'epoch': 17.11}\n",
      "{'loss': 0.3443, 'grad_norm': 9.170533180236816, 'learning_rate': 2.3619427811044577e-05, 'epoch': 17.17}\n",
      "{'loss': 0.3542, 'grad_norm': 9.488508224487305, 'learning_rate': 2.350853847859836e-05, 'epoch': 17.23}\n",
      "{'loss': 0.3129, 'grad_norm': 8.572324752807617, 'learning_rate': 2.3397649146152142e-05, 'epoch': 17.29}\n",
      "{'loss': 0.3213, 'grad_norm': 6.915404319763184, 'learning_rate': 2.328675981370592e-05, 'epoch': 17.35}\n",
      "{'loss': 0.3635, 'grad_norm': 10.464498519897461, 'learning_rate': 2.3175870481259703e-05, 'epoch': 17.41}\n",
      "{'loss': 0.2942, 'grad_norm': 4.911907196044922, 'learning_rate': 2.3064981148813485e-05, 'epoch': 17.47}\n",
      "{'loss': 0.299, 'grad_norm': 7.565820693969727, 'learning_rate': 2.2954091816367264e-05, 'epoch': 17.53}\n",
      "{'loss': 0.3385, 'grad_norm': 8.154156684875488, 'learning_rate': 2.2843202483921047e-05, 'epoch': 17.59}\n",
      "{'loss': 0.244, 'grad_norm': 8.820159912109375, 'learning_rate': 2.273231315147483e-05, 'epoch': 17.65}\n",
      "{'loss': 0.3075, 'grad_norm': 5.413896083831787, 'learning_rate': 2.262142381902861e-05, 'epoch': 17.7}\n",
      "{'loss': 0.3127, 'grad_norm': 10.756657600402832, 'learning_rate': 2.251053448658239e-05, 'epoch': 17.76}\n",
      "{'loss': 0.3559, 'grad_norm': 12.238521575927734, 'learning_rate': 2.2399645154136172e-05, 'epoch': 17.82}\n",
      "{'loss': 0.3595, 'grad_norm': 8.585806846618652, 'learning_rate': 2.2288755821689955e-05, 'epoch': 17.88}\n",
      "{'loss': 0.3065, 'grad_norm': 3.2472124099731445, 'learning_rate': 2.2177866489243737e-05, 'epoch': 17.94}\n"
     ]
    },
    {
     "data": {
      "application/vnd.jupyter.widget-view+json": {
       "model_id": "fc9258874d94457fad1cefa9b3c42518",
       "version_major": 2,
       "version_minor": 0
      },
      "text/plain": [
       "  0%|          | 0/132 [00:00<?, ?it/s]"
      ]
     },
     "metadata": {},
     "output_type": "display_data"
    },
    {
     "name": "stdout",
     "output_type": "stream",
     "text": [
      "{'eval_loss': 0.885947048664093, 'eval_accuracy': 0.684461391801716, 'eval_runtime': 5.8805, 'eval_samples_per_second': 178.386, 'eval_steps_per_second': 22.447, 'epoch': 18.0}\n",
      "{'loss': 0.3405, 'grad_norm': 3.92039155960083, 'learning_rate': 2.2066977156797516e-05, 'epoch': 18.0}\n",
      "{'loss': 0.2443, 'grad_norm': 6.065349578857422, 'learning_rate': 2.1956087824351298e-05, 'epoch': 18.06}\n",
      "{'loss': 0.2855, 'grad_norm': 15.916715621948242, 'learning_rate': 2.184519849190508e-05, 'epoch': 18.12}\n",
      "{'loss': 0.3432, 'grad_norm': 8.090182304382324, 'learning_rate': 2.173430915945886e-05, 'epoch': 18.18}\n",
      "{'loss': 0.3664, 'grad_norm': 9.873905181884766, 'learning_rate': 2.162341982701264e-05, 'epoch': 18.24}\n",
      "{'loss': 0.2813, 'grad_norm': 9.352781295776367, 'learning_rate': 2.1512530494566424e-05, 'epoch': 18.3}\n",
      "{'loss': 0.2917, 'grad_norm': 3.9732043743133545, 'learning_rate': 2.1401641162120206e-05, 'epoch': 18.36}\n",
      "{'loss': 0.3291, 'grad_norm': 9.967427253723145, 'learning_rate': 2.1290751829673985e-05, 'epoch': 18.42}\n",
      "{'loss': 0.2966, 'grad_norm': 6.073770999908447, 'learning_rate': 2.1179862497227767e-05, 'epoch': 18.48}\n",
      "{'loss': 0.3054, 'grad_norm': 7.441615581512451, 'learning_rate': 2.106897316478155e-05, 'epoch': 18.54}\n",
      "{'loss': 0.3092, 'grad_norm': 8.33748722076416, 'learning_rate': 2.095808383233533e-05, 'epoch': 18.6}\n",
      "{'loss': 0.318, 'grad_norm': 10.565675735473633, 'learning_rate': 2.084719449988911e-05, 'epoch': 18.66}\n",
      "{'loss': 0.3288, 'grad_norm': 8.566100120544434, 'learning_rate': 2.0736305167442893e-05, 'epoch': 18.72}\n",
      "{'loss': 0.3491, 'grad_norm': 4.182703018188477, 'learning_rate': 2.0625415834996675e-05, 'epoch': 18.78}\n",
      "{'loss': 0.2556, 'grad_norm': 7.702578544616699, 'learning_rate': 2.0514526502550454e-05, 'epoch': 18.84}\n",
      "{'loss': 0.3479, 'grad_norm': 5.914025783538818, 'learning_rate': 2.0403637170104236e-05, 'epoch': 18.9}\n",
      "{'loss': 0.3188, 'grad_norm': 7.035857677459717, 'learning_rate': 2.029274783765802e-05, 'epoch': 18.96}\n"
     ]
    },
    {
     "data": {
      "application/vnd.jupyter.widget-view+json": {
       "model_id": "498480ab411f4041affd332ef31a21f2",
       "version_major": 2,
       "version_minor": 0
      },
      "text/plain": [
       "  0%|          | 0/132 [00:00<?, ?it/s]"
      ]
     },
     "metadata": {},
     "output_type": "display_data"
    },
    {
     "name": "stdout",
     "output_type": "stream",
     "text": [
      "{'eval_loss': 0.818373441696167, 'eval_accuracy': 0.7063870352716873, 'eval_runtime': 5.7877, 'eval_samples_per_second': 181.245, 'eval_steps_per_second': 22.807, 'epoch': 19.0}\n",
      "{'loss': 0.3313, 'grad_norm': 11.10905647277832, 'learning_rate': 2.01818585052118e-05, 'epoch': 19.02}\n",
      "{'loss': 0.3626, 'grad_norm': 7.2368550300598145, 'learning_rate': 2.007096917276558e-05, 'epoch': 19.08}\n",
      "{'loss': 0.3049, 'grad_norm': 10.344049453735352, 'learning_rate': 1.9960079840319362e-05, 'epoch': 19.14}\n",
      "{'loss': 0.249, 'grad_norm': 5.817652702331543, 'learning_rate': 1.9849190507873144e-05, 'epoch': 19.2}\n",
      "{'loss': 0.2539, 'grad_norm': 4.830235481262207, 'learning_rate': 1.9738301175426923e-05, 'epoch': 19.25}\n",
      "{'loss': 0.3103, 'grad_norm': 4.8031487464904785, 'learning_rate': 1.9627411842980706e-05, 'epoch': 19.31}\n",
      "{'loss': 0.3358, 'grad_norm': 8.339717864990234, 'learning_rate': 1.9516522510534488e-05, 'epoch': 19.37}\n",
      "{'loss': 0.2559, 'grad_norm': 4.1738786697387695, 'learning_rate': 1.940563317808827e-05, 'epoch': 19.43}\n",
      "{'loss': 0.3468, 'grad_norm': 8.853870391845703, 'learning_rate': 1.929474384564205e-05, 'epoch': 19.49}\n",
      "{'loss': 0.3249, 'grad_norm': 7.446905136108398, 'learning_rate': 1.918385451319583e-05, 'epoch': 19.55}\n",
      "{'loss': 0.3367, 'grad_norm': 11.666657447814941, 'learning_rate': 1.9072965180749614e-05, 'epoch': 19.61}\n",
      "{'loss': 0.3304, 'grad_norm': 6.818268775939941, 'learning_rate': 1.8962075848303393e-05, 'epoch': 19.67}\n",
      "{'loss': 0.3207, 'grad_norm': 10.527572631835938, 'learning_rate': 1.8851186515857175e-05, 'epoch': 19.73}\n",
      "{'loss': 0.3053, 'grad_norm': 4.691054344177246, 'learning_rate': 1.8740297183410957e-05, 'epoch': 19.79}\n",
      "{'loss': 0.2759, 'grad_norm': 15.311182975769043, 'learning_rate': 1.862940785096474e-05, 'epoch': 19.85}\n",
      "{'loss': 0.3069, 'grad_norm': 10.291305541992188, 'learning_rate': 1.8518518518518518e-05, 'epoch': 19.91}\n",
      "{'loss': 0.3477, 'grad_norm': 7.260158061981201, 'learning_rate': 1.84076291860723e-05, 'epoch': 19.97}\n"
     ]
    },
    {
     "data": {
      "application/vnd.jupyter.widget-view+json": {
       "model_id": "ca428409f8674382a2280a5dcacce55f",
       "version_major": 2,
       "version_minor": 0
      },
      "text/plain": [
       "  0%|          | 0/132 [00:00<?, ?it/s]"
      ]
     },
     "metadata": {},
     "output_type": "display_data"
    },
    {
     "name": "stdout",
     "output_type": "stream",
     "text": [
      "{'eval_loss': 0.924895703792572, 'eval_accuracy': 0.6835081029551954, 'eval_runtime': 5.7621, 'eval_samples_per_second': 182.052, 'eval_steps_per_second': 22.908, 'epoch': 20.0}\n",
      "{'loss': 0.2817, 'grad_norm': 5.508008003234863, 'learning_rate': 1.8296739853626083e-05, 'epoch': 20.03}\n",
      "{'loss': 0.338, 'grad_norm': 8.939826965332031, 'learning_rate': 1.8185850521179865e-05, 'epoch': 20.09}\n",
      "{'loss': 0.267, 'grad_norm': 9.800111770629883, 'learning_rate': 1.8074961188733644e-05, 'epoch': 20.15}\n",
      "{'loss': 0.3712, 'grad_norm': 9.07094669342041, 'learning_rate': 1.7964071856287426e-05, 'epoch': 20.21}\n",
      "{'loss': 0.2664, 'grad_norm': 12.277390480041504, 'learning_rate': 1.785318252384121e-05, 'epoch': 20.27}\n",
      "{'loss': 0.2698, 'grad_norm': 8.848297119140625, 'learning_rate': 1.7742293191394987e-05, 'epoch': 20.33}\n",
      "{'loss': 0.3525, 'grad_norm': 8.680608749389648, 'learning_rate': 1.763140385894877e-05, 'epoch': 20.39}\n",
      "{'loss': 0.3012, 'grad_norm': 11.805484771728516, 'learning_rate': 1.7520514526502552e-05, 'epoch': 20.45}\n",
      "{'loss': 0.2385, 'grad_norm': 6.610302925109863, 'learning_rate': 1.7409625194056334e-05, 'epoch': 20.51}\n",
      "{'loss': 0.3282, 'grad_norm': 5.248172283172607, 'learning_rate': 1.7298735861610113e-05, 'epoch': 20.57}\n",
      "{'loss': 0.2982, 'grad_norm': 6.735212326049805, 'learning_rate': 1.7187846529163895e-05, 'epoch': 20.63}\n",
      "{'loss': 0.3273, 'grad_norm': 12.521240234375, 'learning_rate': 1.7076957196717678e-05, 'epoch': 20.69}\n",
      "{'loss': 0.3053, 'grad_norm': 12.7218017578125, 'learning_rate': 1.6966067864271457e-05, 'epoch': 20.75}\n",
      "{'loss': 0.3524, 'grad_norm': 5.675413131713867, 'learning_rate': 1.685517853182524e-05, 'epoch': 20.8}\n",
      "{'loss': 0.3469, 'grad_norm': 12.195728302001953, 'learning_rate': 1.674428919937902e-05, 'epoch': 20.86}\n",
      "{'loss': 0.3708, 'grad_norm': 10.38056468963623, 'learning_rate': 1.6633399866932804e-05, 'epoch': 20.92}\n",
      "{'loss': 0.3359, 'grad_norm': 5.840523719787598, 'learning_rate': 1.6522510534486582e-05, 'epoch': 20.98}\n"
     ]
    },
    {
     "data": {
      "application/vnd.jupyter.widget-view+json": {
       "model_id": "4c16c459cd94434db1af9034ea3b56a5",
       "version_major": 2,
       "version_minor": 0
      },
      "text/plain": [
       "  0%|          | 0/132 [00:00<?, ?it/s]"
      ]
     },
     "metadata": {},
     "output_type": "display_data"
    },
    {
     "name": "stdout",
     "output_type": "stream",
     "text": [
      "{'eval_loss': 0.9739429950714111, 'eval_accuracy': 0.678741658722593, 'eval_runtime': 5.9244, 'eval_samples_per_second': 177.065, 'eval_steps_per_second': 22.281, 'epoch': 21.0}\n",
      "{'loss': 0.3095, 'grad_norm': 11.986234664916992, 'learning_rate': 1.6411621202040365e-05, 'epoch': 21.04}\n",
      "{'loss': 0.307, 'grad_norm': 5.414530277252197, 'learning_rate': 1.6300731869594147e-05, 'epoch': 21.1}\n",
      "{'loss': 0.3398, 'grad_norm': 7.487661838531494, 'learning_rate': 1.618984253714793e-05, 'epoch': 21.16}\n",
      "{'loss': 0.2863, 'grad_norm': 4.48895263671875, 'learning_rate': 1.6078953204701708e-05, 'epoch': 21.22}\n",
      "{'loss': 0.258, 'grad_norm': 14.284899711608887, 'learning_rate': 1.596806387225549e-05, 'epoch': 21.28}\n",
      "{'loss': 0.2414, 'grad_norm': 8.908731460571289, 'learning_rate': 1.5857174539809273e-05, 'epoch': 21.34}\n",
      "{'loss': 0.3069, 'grad_norm': 11.675201416015625, 'learning_rate': 1.574628520736305e-05, 'epoch': 21.4}\n",
      "{'loss': 0.2573, 'grad_norm': 3.552821159362793, 'learning_rate': 1.5635395874916834e-05, 'epoch': 21.46}\n",
      "{'loss': 0.2772, 'grad_norm': 10.076371192932129, 'learning_rate': 1.5524506542470616e-05, 'epoch': 21.52}\n",
      "{'loss': 0.2864, 'grad_norm': 10.36682415008545, 'learning_rate': 1.54136172100244e-05, 'epoch': 21.58}\n",
      "{'loss': 0.2925, 'grad_norm': 6.176407337188721, 'learning_rate': 1.5302727877578177e-05, 'epoch': 21.64}\n",
      "{'loss': 0.3102, 'grad_norm': 4.71035099029541, 'learning_rate': 1.519183854513196e-05, 'epoch': 21.7}\n",
      "{'loss': 0.3309, 'grad_norm': 9.197837829589844, 'learning_rate': 1.508094921268574e-05, 'epoch': 21.76}\n",
      "{'loss': 0.3028, 'grad_norm': 9.055546760559082, 'learning_rate': 1.497005988023952e-05, 'epoch': 21.82}\n",
      "{'loss': 0.2615, 'grad_norm': 3.5149877071380615, 'learning_rate': 1.4859170547793303e-05, 'epoch': 21.88}\n",
      "{'loss': 0.3808, 'grad_norm': 10.227852821350098, 'learning_rate': 1.4748281215347085e-05, 'epoch': 21.94}\n",
      "{'loss': 0.293, 'grad_norm': 7.485800266265869, 'learning_rate': 1.4637391882900866e-05, 'epoch': 22.0}\n"
     ]
    },
    {
     "data": {
      "application/vnd.jupyter.widget-view+json": {
       "model_id": "7e768060ccc7435a8f8670f0db68f47f",
       "version_major": 2,
       "version_minor": 0
      },
      "text/plain": [
       "  0%|          | 0/132 [00:00<?, ?it/s]"
      ]
     },
     "metadata": {},
     "output_type": "display_data"
    },
    {
     "name": "stdout",
     "output_type": "stream",
     "text": [
      "{'eval_loss': 1.0062097311019897, 'eval_accuracy': 0.674928503336511, 'eval_runtime': 5.7592, 'eval_samples_per_second': 182.144, 'eval_steps_per_second': 22.92, 'epoch': 22.0}\n",
      "{'loss': 0.2978, 'grad_norm': 11.929001808166504, 'learning_rate': 1.4526502550454647e-05, 'epoch': 22.06}\n",
      "{'loss': 0.2608, 'grad_norm': 5.842853546142578, 'learning_rate': 1.4415613218008429e-05, 'epoch': 22.12}\n",
      "{'loss': 0.3136, 'grad_norm': 9.553566932678223, 'learning_rate': 1.430472388556221e-05, 'epoch': 22.18}\n",
      "{'loss': 0.3073, 'grad_norm': 4.803668975830078, 'learning_rate': 1.4193834553115992e-05, 'epoch': 22.24}\n",
      "{'loss': 0.3156, 'grad_norm': 7.925091743469238, 'learning_rate': 1.4082945220669772e-05, 'epoch': 22.3}\n",
      "{'loss': 0.3419, 'grad_norm': 6.013632774353027, 'learning_rate': 1.3972055888223553e-05, 'epoch': 22.35}\n",
      "{'loss': 0.3064, 'grad_norm': 7.528961181640625, 'learning_rate': 1.3861166555777335e-05, 'epoch': 22.41}\n",
      "{'loss': 0.2422, 'grad_norm': 3.2932732105255127, 'learning_rate': 1.3750277223331116e-05, 'epoch': 22.47}\n",
      "{'loss': 0.3079, 'grad_norm': 11.811806678771973, 'learning_rate': 1.3639387890884896e-05, 'epoch': 22.53}\n",
      "{'loss': 0.2519, 'grad_norm': 8.904914855957031, 'learning_rate': 1.3528498558438679e-05, 'epoch': 22.59}\n",
      "{'loss': 0.3079, 'grad_norm': 10.299758911132812, 'learning_rate': 1.3417609225992461e-05, 'epoch': 22.65}\n",
      "{'loss': 0.3021, 'grad_norm': 16.125791549682617, 'learning_rate': 1.330671989354624e-05, 'epoch': 22.71}\n",
      "{'loss': 0.2853, 'grad_norm': 8.277274131774902, 'learning_rate': 1.3195830561100022e-05, 'epoch': 22.77}\n",
      "{'loss': 0.2306, 'grad_norm': 10.459688186645508, 'learning_rate': 1.3084941228653804e-05, 'epoch': 22.83}\n",
      "{'loss': 0.3533, 'grad_norm': 5.355425834655762, 'learning_rate': 1.2974051896207585e-05, 'epoch': 22.89}\n",
      "{'loss': 0.323, 'grad_norm': 14.070515632629395, 'learning_rate': 1.2863162563761365e-05, 'epoch': 22.95}\n"
     ]
    },
    {
     "data": {
      "application/vnd.jupyter.widget-view+json": {
       "model_id": "1f7f0fabb3724a498751622df8c39bed",
       "version_major": 2,
       "version_minor": 0
      },
      "text/plain": [
       "  0%|          | 0/132 [00:00<?, ?it/s]"
      ]
     },
     "metadata": {},
     "output_type": "display_data"
    },
    {
     "name": "stdout",
     "output_type": "stream",
     "text": [
      "{'eval_loss': 0.8698439598083496, 'eval_accuracy': 0.6873212583412774, 'eval_runtime': 6.0674, 'eval_samples_per_second': 172.89, 'eval_steps_per_second': 21.755, 'epoch': 23.0}\n",
      "{'loss': 0.2877, 'grad_norm': 12.74541187286377, 'learning_rate': 1.2752273231315148e-05, 'epoch': 23.01}\n",
      "{'loss': 0.2873, 'grad_norm': 9.444933891296387, 'learning_rate': 1.264138389886893e-05, 'epoch': 23.07}\n",
      "{'loss': 0.3129, 'grad_norm': 14.342670440673828, 'learning_rate': 1.2530494566422709e-05, 'epoch': 23.13}\n",
      "{'loss': 0.2954, 'grad_norm': 2.567579507827759, 'learning_rate': 1.2419605233976491e-05, 'epoch': 23.19}\n",
      "{'loss': 0.3271, 'grad_norm': 6.128903388977051, 'learning_rate': 1.2308715901530274e-05, 'epoch': 23.25}\n",
      "{'loss': 0.3182, 'grad_norm': 11.578522682189941, 'learning_rate': 1.2197826569084054e-05, 'epoch': 23.31}\n",
      "{'loss': 0.2932, 'grad_norm': 8.779277801513672, 'learning_rate': 1.2086937236637836e-05, 'epoch': 23.37}\n",
      "{'loss': 0.2826, 'grad_norm': 7.704631328582764, 'learning_rate': 1.1976047904191617e-05, 'epoch': 23.43}\n",
      "{'loss': 0.2546, 'grad_norm': 2.401848793029785, 'learning_rate': 1.1865158571745398e-05, 'epoch': 23.49}\n",
      "{'loss': 0.2939, 'grad_norm': 10.183095932006836, 'learning_rate': 1.175426923929918e-05, 'epoch': 23.55}\n",
      "{'loss': 0.2597, 'grad_norm': 16.753705978393555, 'learning_rate': 1.164337990685296e-05, 'epoch': 23.61}\n",
      "{'loss': 0.2691, 'grad_norm': 3.536623477935791, 'learning_rate': 1.1532490574406743e-05, 'epoch': 23.67}\n",
      "{'loss': 0.304, 'grad_norm': 8.55993366241455, 'learning_rate': 1.1421601241960523e-05, 'epoch': 23.73}\n",
      "{'loss': 0.2588, 'grad_norm': 10.085268020629883, 'learning_rate': 1.1310711909514306e-05, 'epoch': 23.79}\n",
      "{'loss': 0.2285, 'grad_norm': 11.559001922607422, 'learning_rate': 1.1199822577068086e-05, 'epoch': 23.85}\n",
      "{'loss': 0.261, 'grad_norm': 7.265761375427246, 'learning_rate': 1.1088933244621868e-05, 'epoch': 23.9}\n",
      "{'loss': 0.314, 'grad_norm': 12.590778350830078, 'learning_rate': 1.0978043912175649e-05, 'epoch': 23.96}\n"
     ]
    },
    {
     "data": {
      "application/vnd.jupyter.widget-view+json": {
       "model_id": "84b7bfe0a33544d4b93c54f2a8c72079",
       "version_major": 2,
       "version_minor": 0
      },
      "text/plain": [
       "  0%|          | 0/132 [00:00<?, ?it/s]"
      ]
     },
     "metadata": {},
     "output_type": "display_data"
    },
    {
     "name": "stdout",
     "output_type": "stream",
     "text": [
      "{'eval_loss': 1.0889173746109009, 'eval_accuracy': 0.6587225929456625, 'eval_runtime': 5.7622, 'eval_samples_per_second': 182.049, 'eval_steps_per_second': 22.908, 'epoch': 24.0}\n",
      "{'loss': 0.2128, 'grad_norm': 2.43434739112854, 'learning_rate': 1.086715457972943e-05, 'epoch': 24.02}\n",
      "{'loss': 0.3096, 'grad_norm': 9.849274635314941, 'learning_rate': 1.0756265247283212e-05, 'epoch': 24.08}\n",
      "{'loss': 0.2504, 'grad_norm': 11.633554458618164, 'learning_rate': 1.0645375914836992e-05, 'epoch': 24.14}\n",
      "{'loss': 0.2621, 'grad_norm': 4.99143123626709, 'learning_rate': 1.0534486582390775e-05, 'epoch': 24.2}\n",
      "{'loss': 0.281, 'grad_norm': 8.285667419433594, 'learning_rate': 1.0423597249944555e-05, 'epoch': 24.26}\n",
      "{'loss': 0.3495, 'grad_norm': 9.186397552490234, 'learning_rate': 1.0312707917498338e-05, 'epoch': 24.32}\n",
      "{'loss': 0.2239, 'grad_norm': 17.244831085205078, 'learning_rate': 1.0201818585052118e-05, 'epoch': 24.38}\n",
      "{'loss': 0.3734, 'grad_norm': 15.756927490234375, 'learning_rate': 1.00909292526059e-05, 'epoch': 24.44}\n",
      "{'loss': 0.302, 'grad_norm': 12.90703296661377, 'learning_rate': 9.980039920159681e-06, 'epoch': 24.5}\n",
      "{'loss': 0.2851, 'grad_norm': 8.437908172607422, 'learning_rate': 9.869150587713462e-06, 'epoch': 24.56}\n",
      "{'loss': 0.2647, 'grad_norm': 10.281706809997559, 'learning_rate': 9.758261255267244e-06, 'epoch': 24.62}\n",
      "{'loss': 0.2543, 'grad_norm': 9.23334789276123, 'learning_rate': 9.647371922821025e-06, 'epoch': 24.68}\n",
      "{'loss': 0.3503, 'grad_norm': 8.076385498046875, 'learning_rate': 9.536482590374807e-06, 'epoch': 24.74}\n",
      "{'loss': 0.2764, 'grad_norm': 6.56284236907959, 'learning_rate': 9.425593257928587e-06, 'epoch': 24.8}\n",
      "{'loss': 0.3355, 'grad_norm': 5.633159160614014, 'learning_rate': 9.31470392548237e-06, 'epoch': 24.86}\n",
      "{'loss': 0.2763, 'grad_norm': 8.445623397827148, 'learning_rate': 9.20381459303615e-06, 'epoch': 24.92}\n",
      "{'loss': 0.2913, 'grad_norm': 4.20863676071167, 'learning_rate': 9.092925260589933e-06, 'epoch': 24.98}\n"
     ]
    },
    {
     "data": {
      "application/vnd.jupyter.widget-view+json": {
       "model_id": "8e53da894d1e4f369e240d9a74978f4a",
       "version_major": 2,
       "version_minor": 0
      },
      "text/plain": [
       "  0%|          | 0/132 [00:00<?, ?it/s]"
      ]
     },
     "metadata": {},
     "output_type": "display_data"
    },
    {
     "name": "stdout",
     "output_type": "stream",
     "text": [
      "{'eval_loss': 0.9806537628173828, 'eval_accuracy': 0.6711153479504289, 'eval_runtime': 5.7534, 'eval_samples_per_second': 182.326, 'eval_steps_per_second': 22.943, 'epoch': 25.0}\n",
      "{'loss': 0.2734, 'grad_norm': 4.240232467651367, 'learning_rate': 8.982035928143713e-06, 'epoch': 25.04}\n",
      "{'loss': 0.3077, 'grad_norm': 14.347038269042969, 'learning_rate': 8.871146595697494e-06, 'epoch': 25.1}\n",
      "{'loss': 0.2699, 'grad_norm': 3.4002857208251953, 'learning_rate': 8.760257263251276e-06, 'epoch': 25.16}\n",
      "{'loss': 0.2391, 'grad_norm': 10.330156326293945, 'learning_rate': 8.649367930805057e-06, 'epoch': 25.22}\n",
      "{'loss': 0.2374, 'grad_norm': 12.096610069274902, 'learning_rate': 8.538478598358839e-06, 'epoch': 25.28}\n",
      "{'loss': 0.2597, 'grad_norm': 6.321804523468018, 'learning_rate': 8.42758926591262e-06, 'epoch': 25.34}\n",
      "{'loss': 0.307, 'grad_norm': 11.639593124389648, 'learning_rate': 8.316699933466402e-06, 'epoch': 25.39}\n",
      "{'loss': 0.3298, 'grad_norm': 5.723362445831299, 'learning_rate': 8.205810601020182e-06, 'epoch': 25.45}\n",
      "{'loss': 0.2843, 'grad_norm': 8.519523620605469, 'learning_rate': 8.094921268573965e-06, 'epoch': 25.51}\n",
      "{'loss': 0.2643, 'grad_norm': 7.401377201080322, 'learning_rate': 7.984031936127745e-06, 'epoch': 25.57}\n",
      "{'loss': 0.4293, 'grad_norm': 16.976118087768555, 'learning_rate': 7.873142603681526e-06, 'epoch': 25.63}\n",
      "{'loss': 0.2658, 'grad_norm': 5.5151591300964355, 'learning_rate': 7.762253271235308e-06, 'epoch': 25.69}\n",
      "{'loss': 0.3229, 'grad_norm': 10.514167785644531, 'learning_rate': 7.651363938789089e-06, 'epoch': 25.75}\n",
      "{'loss': 0.2924, 'grad_norm': 10.457451820373535, 'learning_rate': 7.54047460634287e-06, 'epoch': 25.81}\n",
      "{'loss': 0.292, 'grad_norm': 9.119688034057617, 'learning_rate': 7.4295852738966515e-06, 'epoch': 25.87}\n",
      "{'loss': 0.287, 'grad_norm': 10.991350173950195, 'learning_rate': 7.318695941450433e-06, 'epoch': 25.93}\n",
      "{'loss': 0.2909, 'grad_norm': 14.037099838256836, 'learning_rate': 7.207806609004214e-06, 'epoch': 25.99}\n"
     ]
    },
    {
     "data": {
      "application/vnd.jupyter.widget-view+json": {
       "model_id": "9f3a54beb6f14fd9b0dafef592c14f6e",
       "version_major": 2,
       "version_minor": 0
      },
      "text/plain": [
       "  0%|          | 0/132 [00:00<?, ?it/s]"
      ]
     },
     "metadata": {},
     "output_type": "display_data"
    },
    {
     "name": "stdout",
     "output_type": "stream",
     "text": [
      "{'eval_loss': 1.0533795356750488, 'eval_accuracy': 0.663489037178265, 'eval_runtime': 5.8324, 'eval_samples_per_second': 179.859, 'eval_steps_per_second': 22.632, 'epoch': 26.0}\n",
      "{'loss': 0.2494, 'grad_norm': 7.974393844604492, 'learning_rate': 7.096917276557996e-06, 'epoch': 26.05}\n",
      "{'loss': 0.2836, 'grad_norm': 6.274271488189697, 'learning_rate': 6.986027944111776e-06, 'epoch': 26.11}\n",
      "{'loss': 0.2281, 'grad_norm': 8.56406307220459, 'learning_rate': 6.875138611665558e-06, 'epoch': 26.17}\n",
      "{'loss': 0.2623, 'grad_norm': 7.465416431427002, 'learning_rate': 6.764249279219339e-06, 'epoch': 26.23}\n",
      "{'loss': 0.2781, 'grad_norm': 10.173929214477539, 'learning_rate': 6.65335994677312e-06, 'epoch': 26.29}\n",
      "{'loss': 0.2941, 'grad_norm': 5.258289813995361, 'learning_rate': 6.542470614326902e-06, 'epoch': 26.35}\n",
      "{'loss': 0.2213, 'grad_norm': 4.562726020812988, 'learning_rate': 6.431581281880683e-06, 'epoch': 26.41}\n",
      "{'loss': 0.2809, 'grad_norm': 8.439356803894043, 'learning_rate': 6.320691949434465e-06, 'epoch': 26.47}\n",
      "{'loss': 0.2942, 'grad_norm': 8.321744918823242, 'learning_rate': 6.209802616988246e-06, 'epoch': 26.53}\n",
      "{'loss': 0.3242, 'grad_norm': 12.648058891296387, 'learning_rate': 6.098913284542027e-06, 'epoch': 26.59}\n",
      "{'loss': 0.2941, 'grad_norm': 5.883024215698242, 'learning_rate': 5.9880239520958085e-06, 'epoch': 26.65}\n",
      "{'loss': 0.2627, 'grad_norm': 5.997912883758545, 'learning_rate': 5.87713461964959e-06, 'epoch': 26.71}\n",
      "{'loss': 0.304, 'grad_norm': 10.659120559692383, 'learning_rate': 5.766245287203371e-06, 'epoch': 26.77}\n",
      "{'loss': 0.304, 'grad_norm': 7.832265377044678, 'learning_rate': 5.655355954757153e-06, 'epoch': 26.83}\n",
      "{'loss': 0.2456, 'grad_norm': 8.392067909240723, 'learning_rate': 5.544466622310934e-06, 'epoch': 26.89}\n",
      "{'loss': 0.2383, 'grad_norm': 10.822796821594238, 'learning_rate': 5.433577289864715e-06, 'epoch': 26.94}\n"
     ]
    },
    {
     "data": {
      "application/vnd.jupyter.widget-view+json": {
       "model_id": "002cace3701a458aa98a952293caeeb1",
       "version_major": 2,
       "version_minor": 0
      },
      "text/plain": [
       "  0%|          | 0/132 [00:00<?, ?it/s]"
      ]
     },
     "metadata": {},
     "output_type": "display_data"
    },
    {
     "name": "stdout",
     "output_type": "stream",
     "text": [
      "{'eval_loss': 0.9984140396118164, 'eval_accuracy': 0.6682554814108675, 'eval_runtime': 5.9127, 'eval_samples_per_second': 177.414, 'eval_steps_per_second': 22.325, 'epoch': 27.0}\n",
      "{'loss': 0.3315, 'grad_norm': 3.055011749267578, 'learning_rate': 5.322687957418496e-06, 'epoch': 27.0}\n",
      "{'loss': 0.2892, 'grad_norm': 5.2458696365356445, 'learning_rate': 5.211798624972278e-06, 'epoch': 27.06}\n",
      "{'loss': 0.2547, 'grad_norm': 7.855108261108398, 'learning_rate': 5.100909292526059e-06, 'epoch': 27.12}\n",
      "{'loss': 0.2243, 'grad_norm': 2.6851537227630615, 'learning_rate': 4.9900199600798405e-06, 'epoch': 27.18}\n",
      "{'loss': 0.3011, 'grad_norm': 13.67179012298584, 'learning_rate': 4.879130627633622e-06, 'epoch': 27.24}\n",
      "{'loss': 0.2941, 'grad_norm': 6.907442092895508, 'learning_rate': 4.768241295187403e-06, 'epoch': 27.3}\n",
      "{'loss': 0.2469, 'grad_norm': 12.08372688293457, 'learning_rate': 4.657351962741185e-06, 'epoch': 27.36}\n",
      "{'loss': 0.2343, 'grad_norm': 6.226778030395508, 'learning_rate': 4.546462630294966e-06, 'epoch': 27.42}\n",
      "{'loss': 0.1688, 'grad_norm': 8.02280044555664, 'learning_rate': 4.435573297848747e-06, 'epoch': 27.48}\n",
      "{'loss': 0.3293, 'grad_norm': 10.232362747192383, 'learning_rate': 4.324683965402528e-06, 'epoch': 27.54}\n",
      "{'loss': 0.2757, 'grad_norm': 5.680072784423828, 'learning_rate': 4.21379463295631e-06, 'epoch': 27.6}\n",
      "{'loss': 0.3113, 'grad_norm': 11.838935852050781, 'learning_rate': 4.102905300510091e-06, 'epoch': 27.66}\n",
      "{'loss': 0.2277, 'grad_norm': 6.3307647705078125, 'learning_rate': 3.992015968063873e-06, 'epoch': 27.72}\n",
      "{'loss': 0.2677, 'grad_norm': 6.96252965927124, 'learning_rate': 3.881126635617654e-06, 'epoch': 27.78}\n",
      "{'loss': 0.3076, 'grad_norm': 13.62267017364502, 'learning_rate': 3.770237303171435e-06, 'epoch': 27.84}\n",
      "{'loss': 0.273, 'grad_norm': 7.6534600257873535, 'learning_rate': 3.6593479707252165e-06, 'epoch': 27.9}\n",
      "{'loss': 0.2161, 'grad_norm': 16.519428253173828, 'learning_rate': 3.548458638278998e-06, 'epoch': 27.96}\n"
     ]
    },
    {
     "data": {
      "application/vnd.jupyter.widget-view+json": {
       "model_id": "2993322012334468b1387152fe7e4e4b",
       "version_major": 2,
       "version_minor": 0
      },
      "text/plain": [
       "  0%|          | 0/132 [00:00<?, ?it/s]"
      ]
     },
     "metadata": {},
     "output_type": "display_data"
    },
    {
     "name": "stdout",
     "output_type": "stream",
     "text": [
      "{'eval_loss': 0.9364066123962402, 'eval_accuracy': 0.6939942802669209, 'eval_runtime': 5.8023, 'eval_samples_per_second': 180.791, 'eval_steps_per_second': 22.75, 'epoch': 28.0}\n",
      "{'loss': 0.2883, 'grad_norm': 8.41470718383789, 'learning_rate': 3.437569305832779e-06, 'epoch': 28.02}\n",
      "{'loss': 0.284, 'grad_norm': 12.046388626098633, 'learning_rate': 3.32667997338656e-06, 'epoch': 28.08}\n",
      "{'loss': 0.3337, 'grad_norm': 14.663113594055176, 'learning_rate': 3.2157906409403414e-06, 'epoch': 28.14}\n",
      "{'loss': 0.3064, 'grad_norm': 14.905474662780762, 'learning_rate': 3.104901308494123e-06, 'epoch': 28.2}\n",
      "{'loss': 0.3374, 'grad_norm': 12.343160629272461, 'learning_rate': 2.9940119760479042e-06, 'epoch': 28.26}\n",
      "{'loss': 0.2694, 'grad_norm': 8.075944900512695, 'learning_rate': 2.8831226436016857e-06, 'epoch': 28.32}\n",
      "{'loss': 0.2557, 'grad_norm': 5.074282646179199, 'learning_rate': 2.772233311155467e-06, 'epoch': 28.38}\n",
      "{'loss': 0.2073, 'grad_norm': 7.738137722015381, 'learning_rate': 2.661343978709248e-06, 'epoch': 28.44}\n",
      "{'loss': 0.2792, 'grad_norm': 8.777384757995605, 'learning_rate': 2.5504546462630296e-06, 'epoch': 28.49}\n",
      "{'loss': 0.2321, 'grad_norm': 6.087813377380371, 'learning_rate': 2.439565313816811e-06, 'epoch': 28.55}\n",
      "{'loss': 0.2732, 'grad_norm': 5.429346561431885, 'learning_rate': 2.3286759813705924e-06, 'epoch': 28.61}\n",
      "{'loss': 0.3037, 'grad_norm': 13.936022758483887, 'learning_rate': 2.2177866489243734e-06, 'epoch': 28.67}\n",
      "{'loss': 0.2338, 'grad_norm': 7.013965606689453, 'learning_rate': 2.106897316478155e-06, 'epoch': 28.73}\n",
      "{'loss': 0.2947, 'grad_norm': 8.429546356201172, 'learning_rate': 1.9960079840319363e-06, 'epoch': 28.79}\n",
      "{'loss': 0.2394, 'grad_norm': 9.343843460083008, 'learning_rate': 1.8851186515857175e-06, 'epoch': 28.85}\n",
      "{'loss': 0.3598, 'grad_norm': 9.31727123260498, 'learning_rate': 1.774229319139499e-06, 'epoch': 28.91}\n",
      "{'loss': 0.2301, 'grad_norm': 7.5197858810424805, 'learning_rate': 1.66333998669328e-06, 'epoch': 28.97}\n"
     ]
    },
    {
     "data": {
      "application/vnd.jupyter.widget-view+json": {
       "model_id": "fdf3f8b8cf834f48b7f930fde6650a14",
       "version_major": 2,
       "version_minor": 0
      },
      "text/plain": [
       "  0%|          | 0/132 [00:00<?, ?it/s]"
      ]
     },
     "metadata": {},
     "output_type": "display_data"
    },
    {
     "name": "stdout",
     "output_type": "stream",
     "text": [
      "{'eval_loss': 0.9469659924507141, 'eval_accuracy': 0.6825548141086749, 'eval_runtime': 5.7183, 'eval_samples_per_second': 183.447, 'eval_steps_per_second': 23.084, 'epoch': 29.0}\n",
      "{'loss': 0.2195, 'grad_norm': 5.436984539031982, 'learning_rate': 1.5524506542470614e-06, 'epoch': 29.03}\n",
      "{'loss': 0.2928, 'grad_norm': 15.090767860412598, 'learning_rate': 1.4415613218008428e-06, 'epoch': 29.09}\n",
      "{'loss': 0.2047, 'grad_norm': 9.930169105529785, 'learning_rate': 1.330671989354624e-06, 'epoch': 29.15}\n",
      "{'loss': 0.3421, 'grad_norm': 9.402002334594727, 'learning_rate': 1.2197826569084055e-06, 'epoch': 29.21}\n",
      "{'loss': 0.2264, 'grad_norm': 3.1669206619262695, 'learning_rate': 1.1088933244621867e-06, 'epoch': 29.27}\n",
      "{'loss': 0.3131, 'grad_norm': 10.678750038146973, 'learning_rate': 9.980039920159682e-07, 'epoch': 29.33}\n",
      "{'loss': 0.2563, 'grad_norm': 8.725540161132812, 'learning_rate': 8.871146595697495e-07, 'epoch': 29.39}\n",
      "{'loss': 0.3132, 'grad_norm': 12.228582382202148, 'learning_rate': 7.762253271235307e-07, 'epoch': 29.45}\n",
      "{'loss': 0.2127, 'grad_norm': 2.5975630283355713, 'learning_rate': 6.65335994677312e-07, 'epoch': 29.51}\n",
      "{'loss': 0.2277, 'grad_norm': 4.880424499511719, 'learning_rate': 5.544466622310934e-07, 'epoch': 29.57}\n",
      "{'loss': 0.3121, 'grad_norm': 2.9088261127471924, 'learning_rate': 4.4355732978487474e-07, 'epoch': 29.63}\n",
      "{'loss': 0.2143, 'grad_norm': 6.235208511352539, 'learning_rate': 3.32667997338656e-07, 'epoch': 29.69}\n",
      "{'loss': 0.2341, 'grad_norm': 6.769510269165039, 'learning_rate': 2.2177866489243737e-07, 'epoch': 29.75}\n",
      "{'loss': 0.2855, 'grad_norm': 6.668435573577881, 'learning_rate': 1.1088933244621868e-07, 'epoch': 29.81}\n",
      "{'loss': 0.3384, 'grad_norm': 2.84588360786438, 'learning_rate': 0.0, 'epoch': 29.87}\n"
     ]
    },
    {
     "data": {
      "application/vnd.jupyter.widget-view+json": {
       "model_id": "2a6adb7f20094e58a9d25e5ffdf2d127",
       "version_major": 2,
       "version_minor": 0
      },
      "text/plain": [
       "  0%|          | 0/132 [00:00<?, ?it/s]"
      ]
     },
     "metadata": {},
     "output_type": "display_data"
    },
    {
     "name": "stdout",
     "output_type": "stream",
     "text": [
      "{'eval_loss': 0.9877329468727112, 'eval_accuracy': 0.6711153479504289, 'eval_runtime': 5.919, 'eval_samples_per_second': 177.227, 'eval_steps_per_second': 22.301, 'epoch': 29.87}\n",
      "{'train_runtime': 1774.7947, 'train_samples_per_second': 90.67, 'train_steps_per_second': 2.823, 'train_loss': 0.43082107878968623, 'epoch': 29.87}\n",
      "***** train metrics *****\n",
      "  epoch                    =      29.8659\n",
      "  total_flos               = 4854444621GF\n",
      "  train_loss               =       0.4308\n",
      "  train_runtime            =   0:29:34.79\n",
      "  train_samples_per_second =        90.67\n",
      "  train_steps_per_second   =        2.823\n"
     ]
    }
   ],
   "source": [
    "train_results = trainer.train()\n",
    "# rest is optional but nice to have\n",
    "trainer.save_model()\n",
    "trainer.log_metrics(\"train\", train_results.metrics)\n",
    "trainer.save_metrics(\"train\", train_results.metrics)\n",
    "trainer.save_state()"
   ]
  },
  {
   "cell_type": "code",
   "execution_count": 57,
   "metadata": {},
   "outputs": [
    {
     "data": {
      "application/vnd.jupyter.widget-view+json": {
       "model_id": "2eada9a5d91f4a6280ac10d32f9322e1",
       "version_major": 2,
       "version_minor": 0
      },
      "text/plain": [
       "  0%|          | 0/132 [00:00<?, ?it/s]"
      ]
     },
     "metadata": {},
     "output_type": "display_data"
    },
    {
     "name": "stdout",
     "output_type": "stream",
     "text": [
      "***** eval metrics *****\n",
      "  epoch                   =    29.8659\n",
      "  eval_accuracy           =     0.7188\n",
      "  eval_loss               =     0.7912\n",
      "  eval_runtime            = 0:00:06.29\n",
      "  eval_samples_per_second =    166.705\n",
      "  eval_steps_per_second   =     20.977\n"
     ]
    }
   ],
   "source": [
    "metrics = trainer.evaluate()\n",
    "# some nice to haves:\n",
    "trainer.log_metrics(\"eval\", metrics)\n",
    "trainer.save_metrics(\"eval\", metrics)"
   ]
  },
  {
   "cell_type": "markdown",
   "metadata": {},
   "source": [
    "test 하는거 실험"
   ]
  },
  {
   "cell_type": "code",
   "execution_count": 17,
   "metadata": {},
   "outputs": [],
   "source": [
    "from transformers import AutoModelForImageClassification, AutoImageProcessor\n",
    "\n",
    "# pretrain_path = r\"C:\\Users\\User\\Desktop\\Code\\Github\\Final_project\\WASSUP_EST_FINAL_Team4\\swinv2-tiny-patch4-window8-256-finetuned-emotions-train-masked\\checkpoint-2516\"\n",
    "pretrain_path = r'C:\\Users\\User\\Desktop\\Code\\Github\\Final_project\\swinv2-tiny-patch4-window8-256-finetuned-eurosat\\checkpoint-2516'\n",
    "model_trained = AutoModelForImageClassification.from_pretrained(pretrain_path)\n",
    "test_img_processor = AutoImageProcessor.from_pretrained(pretrain_path)"
   ]
  },
  {
   "cell_type": "code",
   "execution_count": 87,
   "metadata": {},
   "outputs": [
    {
     "data": {
      "text/plain": [
       "Swinv2ForImageClassification(\n",
       "  (swinv2): Swinv2Model(\n",
       "    (embeddings): Swinv2Embeddings(\n",
       "      (patch_embeddings): Swinv2PatchEmbeddings(\n",
       "        (projection): Conv2d(3, 96, kernel_size=(4, 4), stride=(4, 4))\n",
       "      )\n",
       "      (norm): LayerNorm((96,), eps=1e-05, elementwise_affine=True)\n",
       "      (dropout): Dropout(p=0.0, inplace=False)\n",
       "    )\n",
       "    (encoder): Swinv2Encoder(\n",
       "      (layers): ModuleList(\n",
       "        (0): Swinv2Stage(\n",
       "          (blocks): ModuleList(\n",
       "            (0-1): 2 x Swinv2Layer(\n",
       "              (attention): Swinv2Attention(\n",
       "                (self): Swinv2SelfAttention(\n",
       "                  (continuous_position_bias_mlp): Sequential(\n",
       "                    (0): Linear(in_features=2, out_features=512, bias=True)\n",
       "                    (1): ReLU(inplace=True)\n",
       "                    (2): Linear(in_features=512, out_features=3, bias=False)\n",
       "                  )\n",
       "                  (query): Linear(in_features=96, out_features=96, bias=True)\n",
       "                  (key): Linear(in_features=96, out_features=96, bias=False)\n",
       "                  (value): Linear(in_features=96, out_features=96, bias=True)\n",
       "                  (dropout): Dropout(p=0.0, inplace=False)\n",
       "                )\n",
       "                (output): Swinv2SelfOutput(\n",
       "                  (dense): Linear(in_features=96, out_features=96, bias=True)\n",
       "                  (dropout): Dropout(p=0.0, inplace=False)\n",
       "                )\n",
       "              )\n",
       "              (layernorm_before): LayerNorm((96,), eps=1e-05, elementwise_affine=True)\n",
       "              (drop_path): Swinv2DropPath(p=0.1)\n",
       "              (intermediate): Swinv2Intermediate(\n",
       "                (dense): Linear(in_features=96, out_features=384, bias=True)\n",
       "                (intermediate_act_fn): GELUActivation()\n",
       "              )\n",
       "              (output): Swinv2Output(\n",
       "                (dense): Linear(in_features=384, out_features=96, bias=True)\n",
       "                (dropout): Dropout(p=0.0, inplace=False)\n",
       "              )\n",
       "              (layernorm_after): LayerNorm((96,), eps=1e-05, elementwise_affine=True)\n",
       "            )\n",
       "          )\n",
       "          (downsample): Swinv2PatchMerging(\n",
       "            (reduction): Linear(in_features=384, out_features=192, bias=False)\n",
       "            (norm): LayerNorm((192,), eps=1e-05, elementwise_affine=True)\n",
       "          )\n",
       "        )\n",
       "        (1): Swinv2Stage(\n",
       "          (blocks): ModuleList(\n",
       "            (0-1): 2 x Swinv2Layer(\n",
       "              (attention): Swinv2Attention(\n",
       "                (self): Swinv2SelfAttention(\n",
       "                  (continuous_position_bias_mlp): Sequential(\n",
       "                    (0): Linear(in_features=2, out_features=512, bias=True)\n",
       "                    (1): ReLU(inplace=True)\n",
       "                    (2): Linear(in_features=512, out_features=6, bias=False)\n",
       "                  )\n",
       "                  (query): Linear(in_features=192, out_features=192, bias=True)\n",
       "                  (key): Linear(in_features=192, out_features=192, bias=False)\n",
       "                  (value): Linear(in_features=192, out_features=192, bias=True)\n",
       "                  (dropout): Dropout(p=0.0, inplace=False)\n",
       "                )\n",
       "                (output): Swinv2SelfOutput(\n",
       "                  (dense): Linear(in_features=192, out_features=192, bias=True)\n",
       "                  (dropout): Dropout(p=0.0, inplace=False)\n",
       "                )\n",
       "              )\n",
       "              (layernorm_before): LayerNorm((192,), eps=1e-05, elementwise_affine=True)\n",
       "              (drop_path): Swinv2DropPath(p=0.1)\n",
       "              (intermediate): Swinv2Intermediate(\n",
       "                (dense): Linear(in_features=192, out_features=768, bias=True)\n",
       "                (intermediate_act_fn): GELUActivation()\n",
       "              )\n",
       "              (output): Swinv2Output(\n",
       "                (dense): Linear(in_features=768, out_features=192, bias=True)\n",
       "                (dropout): Dropout(p=0.0, inplace=False)\n",
       "              )\n",
       "              (layernorm_after): LayerNorm((192,), eps=1e-05, elementwise_affine=True)\n",
       "            )\n",
       "          )\n",
       "          (downsample): Swinv2PatchMerging(\n",
       "            (reduction): Linear(in_features=768, out_features=384, bias=False)\n",
       "            (norm): LayerNorm((384,), eps=1e-05, elementwise_affine=True)\n",
       "          )\n",
       "        )\n",
       "        (2): Swinv2Stage(\n",
       "          (blocks): ModuleList(\n",
       "            (0-5): 6 x Swinv2Layer(\n",
       "              (attention): Swinv2Attention(\n",
       "                (self): Swinv2SelfAttention(\n",
       "                  (continuous_position_bias_mlp): Sequential(\n",
       "                    (0): Linear(in_features=2, out_features=512, bias=True)\n",
       "                    (1): ReLU(inplace=True)\n",
       "                    (2): Linear(in_features=512, out_features=12, bias=False)\n",
       "                  )\n",
       "                  (query): Linear(in_features=384, out_features=384, bias=True)\n",
       "                  (key): Linear(in_features=384, out_features=384, bias=False)\n",
       "                  (value): Linear(in_features=384, out_features=384, bias=True)\n",
       "                  (dropout): Dropout(p=0.0, inplace=False)\n",
       "                )\n",
       "                (output): Swinv2SelfOutput(\n",
       "                  (dense): Linear(in_features=384, out_features=384, bias=True)\n",
       "                  (dropout): Dropout(p=0.0, inplace=False)\n",
       "                )\n",
       "              )\n",
       "              (layernorm_before): LayerNorm((384,), eps=1e-05, elementwise_affine=True)\n",
       "              (drop_path): Swinv2DropPath(p=0.1)\n",
       "              (intermediate): Swinv2Intermediate(\n",
       "                (dense): Linear(in_features=384, out_features=1536, bias=True)\n",
       "                (intermediate_act_fn): GELUActivation()\n",
       "              )\n",
       "              (output): Swinv2Output(\n",
       "                (dense): Linear(in_features=1536, out_features=384, bias=True)\n",
       "                (dropout): Dropout(p=0.0, inplace=False)\n",
       "              )\n",
       "              (layernorm_after): LayerNorm((384,), eps=1e-05, elementwise_affine=True)\n",
       "            )\n",
       "          )\n",
       "          (downsample): Swinv2PatchMerging(\n",
       "            (reduction): Linear(in_features=1536, out_features=768, bias=False)\n",
       "            (norm): LayerNorm((768,), eps=1e-05, elementwise_affine=True)\n",
       "          )\n",
       "        )\n",
       "        (3): Swinv2Stage(\n",
       "          (blocks): ModuleList(\n",
       "            (0-1): 2 x Swinv2Layer(\n",
       "              (attention): Swinv2Attention(\n",
       "                (self): Swinv2SelfAttention(\n",
       "                  (continuous_position_bias_mlp): Sequential(\n",
       "                    (0): Linear(in_features=2, out_features=512, bias=True)\n",
       "                    (1): ReLU(inplace=True)\n",
       "                    (2): Linear(in_features=512, out_features=24, bias=False)\n",
       "                  )\n",
       "                  (query): Linear(in_features=768, out_features=768, bias=True)\n",
       "                  (key): Linear(in_features=768, out_features=768, bias=False)\n",
       "                  (value): Linear(in_features=768, out_features=768, bias=True)\n",
       "                  (dropout): Dropout(p=0.0, inplace=False)\n",
       "                )\n",
       "                (output): Swinv2SelfOutput(\n",
       "                  (dense): Linear(in_features=768, out_features=768, bias=True)\n",
       "                  (dropout): Dropout(p=0.0, inplace=False)\n",
       "                )\n",
       "              )\n",
       "              (layernorm_before): LayerNorm((768,), eps=1e-05, elementwise_affine=True)\n",
       "              (drop_path): Swinv2DropPath(p=0.1)\n",
       "              (intermediate): Swinv2Intermediate(\n",
       "                (dense): Linear(in_features=768, out_features=3072, bias=True)\n",
       "                (intermediate_act_fn): GELUActivation()\n",
       "              )\n",
       "              (output): Swinv2Output(\n",
       "                (dense): Linear(in_features=3072, out_features=768, bias=True)\n",
       "                (dropout): Dropout(p=0.0, inplace=False)\n",
       "              )\n",
       "              (layernorm_after): LayerNorm((768,), eps=1e-05, elementwise_affine=True)\n",
       "            )\n",
       "          )\n",
       "        )\n",
       "      )\n",
       "    )\n",
       "    (layernorm): LayerNorm((768,), eps=1e-05, elementwise_affine=True)\n",
       "    (pooler): AdaptiveAvgPool1d(output_size=1)\n",
       "  )\n",
       "  (classifier): Linear(in_features=768, out_features=4, bias=True)\n",
       ")"
      ]
     },
     "execution_count": 87,
     "metadata": {},
     "output_type": "execute_result"
    }
   ],
   "source": [
    "model_trained.eval()"
   ]
  },
  {
   "cell_type": "code",
   "execution_count": 14,
   "metadata": {},
   "outputs": [],
   "source": [
    "json_test = get_json_list_1d(TEST_JSON_PATH)\n",
    "test_img, test_label = load_image_and_label_1D(json_test, TEST_IMG_PATH)"
   ]
  },
  {
   "cell_type": "code",
   "execution_count": 60,
   "metadata": {},
   "outputs": [
    {
     "data": {
      "text/plain": [
       "['분노',\n",
       " '분노',\n",
       " '분노',\n",
       " '분노',\n",
       " '분노',\n",
       " '분노',\n",
       " '분노',\n",
       " '당황',\n",
       " '분노',\n",
       " '분노',\n",
       " '분노',\n",
       " '기쁨',\n",
       " '분노',\n",
       " '슬픔',\n",
       " '당황',\n",
       " '분노',\n",
       " '분노',\n",
       " '분노',\n",
       " '분노',\n",
       " '분노',\n",
       " '분노',\n",
       " '기쁨',\n",
       " '분노',\n",
       " '분노',\n",
       " '분노',\n",
       " '분노',\n",
       " '분노',\n",
       " '분노',\n",
       " '슬픔',\n",
       " '분노',\n",
       " '기쁨',\n",
       " '분노',\n",
       " '분노',\n",
       " '분노',\n",
       " '분노',\n",
       " '분노',\n",
       " '분노',\n",
       " '기쁨',\n",
       " '기쁨',\n",
       " '분노',\n",
       " '기쁨',\n",
       " '분노',\n",
       " '슬픔',\n",
       " '기쁨',\n",
       " '기쁨',\n",
       " '분노',\n",
       " '분노',\n",
       " '분노',\n",
       " '당황',\n",
       " '분노',\n",
       " '분노',\n",
       " '분노',\n",
       " '분노',\n",
       " '분노',\n",
       " '분노',\n",
       " '분노',\n",
       " '기쁨',\n",
       " '분노',\n",
       " '당황',\n",
       " '기쁨',\n",
       " '분노',\n",
       " '분노',\n",
       " '분노',\n",
       " '분노',\n",
       " '분노',\n",
       " '슬픔',\n",
       " '슬픔',\n",
       " '분노',\n",
       " '분노',\n",
       " '분노',\n",
       " '분노',\n",
       " '기쁨',\n",
       " '슬픔',\n",
       " '분노',\n",
       " '기쁨',\n",
       " '분노',\n",
       " '분노',\n",
       " '기쁨',\n",
       " '기쁨',\n",
       " '분노',\n",
       " '당황',\n",
       " '분노',\n",
       " '기쁨',\n",
       " '분노',\n",
       " '분노',\n",
       " '분노',\n",
       " '분노',\n",
       " '분노',\n",
       " '당황',\n",
       " '분노',\n",
       " '당황',\n",
       " '분노',\n",
       " '슬픔',\n",
       " '분노',\n",
       " '당황',\n",
       " '분노',\n",
       " '분노',\n",
       " '분노',\n",
       " '슬픔',\n",
       " '슬픔',\n",
       " '기쁨',\n",
       " '기쁨',\n",
       " '슬픔',\n",
       " '분노',\n",
       " '분노',\n",
       " '기쁨',\n",
       " '분노',\n",
       " '분노',\n",
       " '분노',\n",
       " '분노',\n",
       " '분노',\n",
       " '분노',\n",
       " '분노',\n",
       " '기쁨',\n",
       " '분노',\n",
       " '슬픔',\n",
       " '분노',\n",
       " '기쁨',\n",
       " '당황',\n",
       " '기쁨',\n",
       " '분노',\n",
       " '분노',\n",
       " '분노',\n",
       " '분노',\n",
       " '분노',\n",
       " '분노',\n",
       " '분노',\n",
       " '분노',\n",
       " '분노',\n",
       " '당황',\n",
       " '분노',\n",
       " '기쁨',\n",
       " '기쁨',\n",
       " '분노',\n",
       " '분노',\n",
       " '당황',\n",
       " '분노',\n",
       " '기쁨',\n",
       " '슬픔',\n",
       " '분노',\n",
       " '당황',\n",
       " '기쁨',\n",
       " '기쁨',\n",
       " '분노',\n",
       " '분노',\n",
       " '분노',\n",
       " '기쁨',\n",
       " '분노',\n",
       " '분노',\n",
       " '분노',\n",
       " '분노',\n",
       " '분노',\n",
       " '분노',\n",
       " '분노',\n",
       " '분노',\n",
       " '분노',\n",
       " '분노',\n",
       " '분노',\n",
       " '분노',\n",
       " '분노',\n",
       " '분노',\n",
       " '기쁨',\n",
       " '분노',\n",
       " '기쁨',\n",
       " '분노',\n",
       " '분노',\n",
       " '분노',\n",
       " '분노',\n",
       " '분노',\n",
       " '분노',\n",
       " '분노',\n",
       " '슬픔',\n",
       " '슬픔',\n",
       " '분노',\n",
       " '슬픔',\n",
       " '분노',\n",
       " '분노',\n",
       " '기쁨',\n",
       " '기쁨',\n",
       " '기쁨',\n",
       " '분노',\n",
       " '분노',\n",
       " '분노',\n",
       " '분노',\n",
       " '분노',\n",
       " '당황',\n",
       " '분노',\n",
       " '슬픔',\n",
       " '분노',\n",
       " '기쁨',\n",
       " '분노',\n",
       " '분노',\n",
       " '기쁨',\n",
       " '슬픔',\n",
       " '분노',\n",
       " '기쁨',\n",
       " '분노',\n",
       " '분노',\n",
       " '당황',\n",
       " '슬픔',\n",
       " '분노',\n",
       " '분노',\n",
       " '분노',\n",
       " '슬픔',\n",
       " '분노',\n",
       " '분노',\n",
       " '분노',\n",
       " '분노',\n",
       " '분노',\n",
       " '분노',\n",
       " '당황',\n",
       " '분노',\n",
       " '분노',\n",
       " '분노',\n",
       " '슬픔',\n",
       " '분노',\n",
       " '분노',\n",
       " '분노',\n",
       " '분노',\n",
       " '분노',\n",
       " '분노',\n",
       " '분노',\n",
       " '분노',\n",
       " '분노',\n",
       " '분노',\n",
       " '분노',\n",
       " '기쁨',\n",
       " '분노',\n",
       " '슬픔',\n",
       " '분노',\n",
       " '분노',\n",
       " '분노',\n",
       " '분노',\n",
       " '분노',\n",
       " '분노',\n",
       " '분노',\n",
       " '분노',\n",
       " '당황',\n",
       " '분노',\n",
       " '분노',\n",
       " '분노',\n",
       " '분노',\n",
       " '분노',\n",
       " '기쁨',\n",
       " '분노',\n",
       " '슬픔',\n",
       " '분노',\n",
       " '분노',\n",
       " '분노',\n",
       " '기쁨',\n",
       " '분노',\n",
       " '기쁨',\n",
       " '분노',\n",
       " '분노',\n",
       " '분노',\n",
       " '분노',\n",
       " '기쁨',\n",
       " '기쁨',\n",
       " '분노',\n",
       " '분노',\n",
       " '분노',\n",
       " '분노',\n",
       " '분노',\n",
       " '분노',\n",
       " '분노',\n",
       " '분노',\n",
       " '기쁨',\n",
       " '분노',\n",
       " '기쁨',\n",
       " '기쁨',\n",
       " '기쁨',\n",
       " '슬픔',\n",
       " '기쁨',\n",
       " '슬픔',\n",
       " '분노',\n",
       " '분노',\n",
       " '분노',\n",
       " '분노',\n",
       " '분노',\n",
       " '슬픔',\n",
       " '기쁨',\n",
       " '분노',\n",
       " '기쁨',\n",
       " '기쁨',\n",
       " '기쁨',\n",
       " '슬픔',\n",
       " '기쁨',\n",
       " '슬픔',\n",
       " '기쁨',\n",
       " '기쁨',\n",
       " '기쁨',\n",
       " '기쁨',\n",
       " '기쁨',\n",
       " '기쁨',\n",
       " '기쁨',\n",
       " '기쁨',\n",
       " '슬픔',\n",
       " '기쁨',\n",
       " '기쁨',\n",
       " '기쁨',\n",
       " '기쁨',\n",
       " '기쁨',\n",
       " '슬픔',\n",
       " '기쁨',\n",
       " '기쁨',\n",
       " '기쁨',\n",
       " '기쁨',\n",
       " '기쁨',\n",
       " '기쁨',\n",
       " '기쁨',\n",
       " '기쁨',\n",
       " '슬픔',\n",
       " '분노',\n",
       " '분노',\n",
       " '기쁨',\n",
       " '분노',\n",
       " '기쁨',\n",
       " '기쁨',\n",
       " '기쁨',\n",
       " '기쁨',\n",
       " '기쁨',\n",
       " '기쁨',\n",
       " '슬픔',\n",
       " '기쁨',\n",
       " '기쁨',\n",
       " '슬픔',\n",
       " '슬픔',\n",
       " '분노',\n",
       " '기쁨',\n",
       " '기쁨',\n",
       " '기쁨',\n",
       " '기쁨',\n",
       " '기쁨',\n",
       " '기쁨',\n",
       " '기쁨',\n",
       " '기쁨',\n",
       " '기쁨',\n",
       " '기쁨',\n",
       " '기쁨',\n",
       " '기쁨',\n",
       " '기쁨',\n",
       " '기쁨',\n",
       " '기쁨',\n",
       " '기쁨',\n",
       " '기쁨',\n",
       " '슬픔',\n",
       " '기쁨',\n",
       " '기쁨',\n",
       " '기쁨',\n",
       " '기쁨',\n",
       " '기쁨',\n",
       " '기쁨',\n",
       " '기쁨',\n",
       " '기쁨',\n",
       " '분노',\n",
       " '기쁨',\n",
       " '기쁨',\n",
       " '기쁨',\n",
       " '기쁨',\n",
       " '기쁨',\n",
       " '기쁨',\n",
       " '기쁨',\n",
       " '기쁨',\n",
       " '기쁨',\n",
       " '기쁨',\n",
       " '기쁨',\n",
       " '기쁨',\n",
       " '기쁨',\n",
       " '기쁨',\n",
       " '슬픔',\n",
       " '기쁨',\n",
       " '기쁨',\n",
       " '슬픔',\n",
       " '기쁨',\n",
       " '기쁨',\n",
       " '기쁨',\n",
       " '기쁨',\n",
       " '기쁨',\n",
       " '기쁨',\n",
       " '기쁨',\n",
       " '기쁨',\n",
       " '기쁨',\n",
       " '기쁨',\n",
       " '기쁨',\n",
       " '기쁨',\n",
       " '기쁨',\n",
       " '기쁨',\n",
       " '기쁨',\n",
       " '기쁨',\n",
       " '기쁨',\n",
       " '기쁨',\n",
       " '기쁨',\n",
       " '기쁨',\n",
       " '슬픔',\n",
       " '기쁨',\n",
       " '기쁨',\n",
       " '기쁨',\n",
       " '기쁨',\n",
       " '기쁨',\n",
       " '기쁨',\n",
       " '기쁨',\n",
       " '기쁨',\n",
       " '기쁨',\n",
       " '기쁨',\n",
       " '기쁨',\n",
       " '기쁨',\n",
       " '기쁨',\n",
       " '기쁨',\n",
       " '기쁨',\n",
       " '기쁨',\n",
       " '기쁨',\n",
       " '기쁨',\n",
       " '기쁨',\n",
       " '기쁨',\n",
       " '분노',\n",
       " '분노',\n",
       " '기쁨',\n",
       " '기쁨',\n",
       " '슬픔',\n",
       " '기쁨',\n",
       " '분노',\n",
       " '기쁨',\n",
       " '기쁨',\n",
       " '기쁨',\n",
       " '분노',\n",
       " '기쁨',\n",
       " '기쁨',\n",
       " '기쁨',\n",
       " '분노',\n",
       " '기쁨',\n",
       " '분노',\n",
       " '기쁨',\n",
       " '기쁨',\n",
       " '기쁨',\n",
       " '기쁨',\n",
       " '슬픔',\n",
       " '기쁨',\n",
       " '기쁨',\n",
       " '분노',\n",
       " '기쁨',\n",
       " '기쁨',\n",
       " '기쁨',\n",
       " '기쁨',\n",
       " '기쁨',\n",
       " '기쁨',\n",
       " '기쁨',\n",
       " '기쁨',\n",
       " '기쁨',\n",
       " '분노',\n",
       " '슬픔',\n",
       " '기쁨',\n",
       " '기쁨',\n",
       " '기쁨',\n",
       " '기쁨',\n",
       " '기쁨',\n",
       " '기쁨',\n",
       " '기쁨',\n",
       " '기쁨',\n",
       " '슬픔',\n",
       " '기쁨',\n",
       " '기쁨',\n",
       " '분노',\n",
       " '기쁨',\n",
       " '분노',\n",
       " '당황',\n",
       " '분노',\n",
       " '기쁨',\n",
       " '기쁨',\n",
       " '분노',\n",
       " '슬픔',\n",
       " '기쁨',\n",
       " '기쁨',\n",
       " '기쁨',\n",
       " '당황',\n",
       " '기쁨',\n",
       " '기쁨',\n",
       " '기쁨',\n",
       " '기쁨',\n",
       " '기쁨',\n",
       " '기쁨',\n",
       " '기쁨',\n",
       " '기쁨',\n",
       " '기쁨',\n",
       " '기쁨',\n",
       " '기쁨',\n",
       " '기쁨',\n",
       " '기쁨',\n",
       " '기쁨',\n",
       " '기쁨',\n",
       " '기쁨',\n",
       " '기쁨',\n",
       " '기쁨',\n",
       " '슬픔',\n",
       " '기쁨',\n",
       " '분노',\n",
       " '기쁨',\n",
       " '기쁨',\n",
       " '분노',\n",
       " '기쁨',\n",
       " '슬픔',\n",
       " '기쁨',\n",
       " '기쁨',\n",
       " '기쁨',\n",
       " '기쁨',\n",
       " '기쁨',\n",
       " '기쁨',\n",
       " '기쁨',\n",
       " '기쁨',\n",
       " '기쁨',\n",
       " '기쁨',\n",
       " '기쁨',\n",
       " '기쁨',\n",
       " '기쁨',\n",
       " '슬픔',\n",
       " '기쁨',\n",
       " '기쁨',\n",
       " '기쁨',\n",
       " '기쁨',\n",
       " '기쁨',\n",
       " '기쁨',\n",
       " '기쁨',\n",
       " '기쁨',\n",
       " '분노',\n",
       " '기쁨',\n",
       " '기쁨',\n",
       " '기쁨',\n",
       " '기쁨',\n",
       " '기쁨',\n",
       " '기쁨',\n",
       " '슬픔',\n",
       " '기쁨',\n",
       " '기쁨',\n",
       " '기쁨',\n",
       " '기쁨',\n",
       " '기쁨',\n",
       " '기쁨',\n",
       " '기쁨',\n",
       " '기쁨',\n",
       " '기쁨',\n",
       " '분노',\n",
       " '기쁨',\n",
       " '기쁨',\n",
       " '기쁨',\n",
       " '기쁨',\n",
       " '분노',\n",
       " '슬픔',\n",
       " '기쁨',\n",
       " '기쁨',\n",
       " '기쁨',\n",
       " '기쁨',\n",
       " '기쁨',\n",
       " '기쁨',\n",
       " '기쁨',\n",
       " '기쁨',\n",
       " '기쁨',\n",
       " '기쁨',\n",
       " '기쁨',\n",
       " '기쁨',\n",
       " '슬픔',\n",
       " '기쁨',\n",
       " '기쁨',\n",
       " '기쁨',\n",
       " '기쁨',\n",
       " '기쁨',\n",
       " '기쁨',\n",
       " '기쁨',\n",
       " '기쁨',\n",
       " '기쁨',\n",
       " '기쁨',\n",
       " '기쁨',\n",
       " '기쁨',\n",
       " '기쁨',\n",
       " '기쁨',\n",
       " '기쁨',\n",
       " '기쁨',\n",
       " '기쁨',\n",
       " '기쁨',\n",
       " '슬픔',\n",
       " '당황',\n",
       " '당황',\n",
       " '당황',\n",
       " '기쁨',\n",
       " '당황',\n",
       " '당황',\n",
       " '당황',\n",
       " '분노',\n",
       " '슬픔',\n",
       " '당황',\n",
       " '당황',\n",
       " '슬픔',\n",
       " '기쁨',\n",
       " '당황',\n",
       " '당황',\n",
       " '당황',\n",
       " '기쁨',\n",
       " '당황',\n",
       " '당황',\n",
       " '기쁨',\n",
       " '당황',\n",
       " '당황',\n",
       " '당황',\n",
       " '분노',\n",
       " '당황',\n",
       " '당황',\n",
       " '슬픔',\n",
       " '당황',\n",
       " '당황',\n",
       " '기쁨',\n",
       " '기쁨',\n",
       " '당황',\n",
       " '슬픔',\n",
       " '당황',\n",
       " '당황',\n",
       " '분노',\n",
       " '당황',\n",
       " '당황',\n",
       " '당황',\n",
       " '기쁨',\n",
       " '분노',\n",
       " '당황',\n",
       " '분노',\n",
       " '당황',\n",
       " '당황',\n",
       " '당황',\n",
       " '당황',\n",
       " '당황',\n",
       " '기쁨',\n",
       " '분노',\n",
       " '당황',\n",
       " '기쁨',\n",
       " '당황',\n",
       " '당황',\n",
       " '당황',\n",
       " '분노',\n",
       " '당황',\n",
       " '분노',\n",
       " '기쁨',\n",
       " '당황',\n",
       " '당황',\n",
       " '분노',\n",
       " '기쁨',\n",
       " '당황',\n",
       " '당황',\n",
       " '당황',\n",
       " '당황',\n",
       " '당황',\n",
       " '당황',\n",
       " '당황',\n",
       " '분노',\n",
       " '당황',\n",
       " '분노',\n",
       " '당황',\n",
       " '슬픔',\n",
       " '슬픔',\n",
       " '기쁨',\n",
       " '당황',\n",
       " '분노',\n",
       " '당황',\n",
       " '분노',\n",
       " '당황',\n",
       " '당황',\n",
       " '분노',\n",
       " '기쁨',\n",
       " '당황',\n",
       " '당황',\n",
       " '분노',\n",
       " '당황',\n",
       " '분노',\n",
       " '당황',\n",
       " '분노',\n",
       " '기쁨',\n",
       " '당황',\n",
       " '기쁨',\n",
       " '기쁨',\n",
       " '당황',\n",
       " '당황',\n",
       " '당황',\n",
       " '분노',\n",
       " '당황',\n",
       " '슬픔',\n",
       " '당황',\n",
       " '당황',\n",
       " '기쁨',\n",
       " '분노',\n",
       " '당황',\n",
       " '슬픔',\n",
       " '분노',\n",
       " '당황',\n",
       " '분노',\n",
       " '당황',\n",
       " '분노',\n",
       " '당황',\n",
       " '당황',\n",
       " '당황',\n",
       " '분노',\n",
       " '당황',\n",
       " '당황',\n",
       " '당황',\n",
       " '당황',\n",
       " '기쁨',\n",
       " '당황',\n",
       " '당황',\n",
       " '기쁨',\n",
       " '당황',\n",
       " '슬픔',\n",
       " '분노',\n",
       " '당황',\n",
       " '분노',\n",
       " '기쁨',\n",
       " '당황',\n",
       " '기쁨',\n",
       " '당황',\n",
       " '분노',\n",
       " '기쁨',\n",
       " '당황',\n",
       " '당황',\n",
       " '당황',\n",
       " '당황',\n",
       " '분노',\n",
       " '분노',\n",
       " '당황',\n",
       " '분노',\n",
       " '슬픔',\n",
       " '당황',\n",
       " '당황',\n",
       " '기쁨',\n",
       " '기쁨',\n",
       " '기쁨',\n",
       " '당황',\n",
       " '당황',\n",
       " '기쁨',\n",
       " '당황',\n",
       " '기쁨',\n",
       " '당황',\n",
       " '당황',\n",
       " '당황',\n",
       " '기쁨',\n",
       " '당황',\n",
       " '당황',\n",
       " '분노',\n",
       " '분노',\n",
       " '당황',\n",
       " '당황',\n",
       " '당황',\n",
       " '당황',\n",
       " '당황',\n",
       " '당황',\n",
       " '당황',\n",
       " '당황',\n",
       " '기쁨',\n",
       " '당황',\n",
       " '분노',\n",
       " '당황',\n",
       " '당황',\n",
       " '당황',\n",
       " '기쁨',\n",
       " '당황',\n",
       " '당황',\n",
       " '분노',\n",
       " '분노',\n",
       " '분노',\n",
       " '분노',\n",
       " '분노',\n",
       " '슬픔',\n",
       " '당황',\n",
       " '당황',\n",
       " '당황',\n",
       " '기쁨',\n",
       " '당황',\n",
       " '분노',\n",
       " '당황',\n",
       " '당황',\n",
       " '기쁨',\n",
       " '당황',\n",
       " '당황',\n",
       " '당황',\n",
       " '당황',\n",
       " '당황',\n",
       " '분노',\n",
       " '당황',\n",
       " '당황',\n",
       " '당황',\n",
       " '당황',\n",
       " '분노',\n",
       " '당황',\n",
       " '당황',\n",
       " '당황',\n",
       " '당황',\n",
       " '슬픔',\n",
       " '당황',\n",
       " '기쁨',\n",
       " '분노',\n",
       " '기쁨',\n",
       " '분노',\n",
       " '당황',\n",
       " '당황',\n",
       " '당황',\n",
       " '기쁨',\n",
       " '당황',\n",
       " '당황',\n",
       " '슬픔',\n",
       " '당황',\n",
       " '분노',\n",
       " '당황',\n",
       " '당황',\n",
       " '당황',\n",
       " '당황',\n",
       " '당황',\n",
       " '분노',\n",
       " '슬픔',\n",
       " '당황',\n",
       " '당황',\n",
       " '분노',\n",
       " '당황',\n",
       " '기쁨',\n",
       " '당황',\n",
       " '당황',\n",
       " '분노',\n",
       " '당황',\n",
       " '슬픔',\n",
       " '당황',\n",
       " '분노',\n",
       " '당황',\n",
       " '당황',\n",
       " '당황',\n",
       " '기쁨',\n",
       " '당황',\n",
       " '당황',\n",
       " '당황',\n",
       " '당황',\n",
       " '당황',\n",
       " '슬픔',\n",
       " '기쁨',\n",
       " '슬픔',\n",
       " '당황',\n",
       " '기쁨',\n",
       " '당황',\n",
       " '분노',\n",
       " '당황',\n",
       " '당황',\n",
       " '당황',\n",
       " '슬픔',\n",
       " '당황',\n",
       " '당황',\n",
       " '당황',\n",
       " '분노',\n",
       " '당황',\n",
       " '분노',\n",
       " '당황',\n",
       " '당황',\n",
       " '기쁨',\n",
       " '당황',\n",
       " '분노',\n",
       " '슬픔',\n",
       " '슬픔',\n",
       " '슬픔',\n",
       " '분노',\n",
       " '기쁨',\n",
       " '당황',\n",
       " '슬픔',\n",
       " '슬픔',\n",
       " '슬픔',\n",
       " '슬픔',\n",
       " '분노',\n",
       " '슬픔',\n",
       " '분노',\n",
       " '분노',\n",
       " '분노',\n",
       " '당황',\n",
       " '분노',\n",
       " '슬픔',\n",
       " '슬픔',\n",
       " '슬픔',\n",
       " '분노',\n",
       " '기쁨',\n",
       " '슬픔',\n",
       " '슬픔',\n",
       " '슬픔',\n",
       " '슬픔',\n",
       " '분노',\n",
       " '슬픔',\n",
       " '분노',\n",
       " '슬픔',\n",
       " '기쁨',\n",
       " '기쁨',\n",
       " '슬픔',\n",
       " '슬픔',\n",
       " '슬픔',\n",
       " '분노',\n",
       " '슬픔',\n",
       " '기쁨',\n",
       " '기쁨',\n",
       " '슬픔',\n",
       " '기쁨',\n",
       " '분노',\n",
       " '당황',\n",
       " '슬픔',\n",
       " '기쁨',\n",
       " '슬픔',\n",
       " '슬픔',\n",
       " '기쁨',\n",
       " '슬픔',\n",
       " '슬픔',\n",
       " '분노',\n",
       " '슬픔',\n",
       " '슬픔',\n",
       " '슬픔',\n",
       " '슬픔',\n",
       " '슬픔',\n",
       " '슬픔',\n",
       " '분노',\n",
       " '기쁨',\n",
       " '분노',\n",
       " '분노',\n",
       " '슬픔',\n",
       " '슬픔',\n",
       " '분노',\n",
       " '슬픔',\n",
       " '슬픔',\n",
       " '슬픔',\n",
       " '기쁨',\n",
       " '분노',\n",
       " '기쁨',\n",
       " '기쁨',\n",
       " '슬픔',\n",
       " '분노',\n",
       " '슬픔',\n",
       " '기쁨',\n",
       " '기쁨',\n",
       " '슬픔',\n",
       " '기쁨',\n",
       " '기쁨',\n",
       " '기쁨',\n",
       " '슬픔',\n",
       " '슬픔',\n",
       " '분노',\n",
       " '슬픔',\n",
       " '슬픔',\n",
       " '슬픔',\n",
       " '분노',\n",
       " '기쁨',\n",
       " '기쁨',\n",
       " '슬픔',\n",
       " '슬픔',\n",
       " '기쁨',\n",
       " '슬픔',\n",
       " '분노',\n",
       " '슬픔',\n",
       " '슬픔',\n",
       " '당황',\n",
       " '슬픔',\n",
       " '기쁨',\n",
       " '슬픔',\n",
       " '분노',\n",
       " '슬픔',\n",
       " '슬픔',\n",
       " '슬픔',\n",
       " '슬픔',\n",
       " '슬픔',\n",
       " '슬픔',\n",
       " '슬픔',\n",
       " '슬픔',\n",
       " '슬픔',\n",
       " '기쁨',\n",
       " '슬픔',\n",
       " '슬픔',\n",
       " '슬픔',\n",
       " '슬픔',\n",
       " '분노',\n",
       " '슬픔',\n",
       " '슬픔',\n",
       " '분노',\n",
       " '분노',\n",
       " '기쁨',\n",
       " '기쁨',\n",
       " '슬픔',\n",
       " '슬픔',\n",
       " '기쁨',\n",
       " '분노',\n",
       " '분노',\n",
       " '슬픔',\n",
       " '분노',\n",
       " '슬픔',\n",
       " '슬픔',\n",
       " '슬픔',\n",
       " '분노',\n",
       " '슬픔',\n",
       " '슬픔',\n",
       " '슬픔',\n",
       " '슬픔',\n",
       " '기쁨',\n",
       " '기쁨',\n",
       " '슬픔',\n",
       " '슬픔',\n",
       " '슬픔',\n",
       " '분노',\n",
       " '슬픔',\n",
       " '기쁨',\n",
       " '슬픔',\n",
       " '기쁨',\n",
       " ...]"
      ]
     },
     "execution_count": 60,
     "metadata": {},
     "output_type": "execute_result"
    }
   ],
   "source": [
    "predictions = []\n",
    "\n",
    "\n",
    "\n",
    "\n",
    "for test in test_img:\n",
    "    enc = test_img_processor(test.convert(\"RGB\"), return_tensors=\"pt\")\n",
    "    \n",
    "    with torch.no_grad():\n",
    "        outputs = model_trained(**enc)\n",
    "        logits = outputs.logits\n",
    "        predicted_class_idx = logits.argmax(-1).item()\n",
    "        predictions.append(model_trained.config.id2label[predicted_class_idx])\n",
    "\n",
    "predictions\n",
    "# int_to_label_mapping = {0: '분노', 1: '기쁨', 2: '당황', 3: '슬픔'}\n",
    "# predicted_labels = [int_to_label_mapping[pred] for pred in predictions]"
   ]
  },
  {
   "cell_type": "code",
   "execution_count": 61,
   "metadata": {},
   "outputs": [],
   "source": [
    "int_to_label_mapping = {0: '분노', 1: '기쁨', 2: '당황', 3: '슬픔'}\n",
    "test_label = list(map(int_to_label_mapping.get, test_label))"
   ]
  },
  {
   "cell_type": "code",
   "execution_count": 62,
   "metadata": {},
   "outputs": [
    {
     "data": {
      "text/plain": [
       "0.6763412489006156"
      ]
     },
     "execution_count": 62,
     "metadata": {},
     "output_type": "execute_result"
    }
   ],
   "source": [
    "sum(1 for x,y in zip(test_label,predictions) if x == y) / len(test_label)"
   ]
  },
  {
   "cell_type": "code",
   "execution_count": 15,
   "metadata": {},
   "outputs": [],
   "source": [
    "from transformers import pipeline\n",
    "\n",
    "pipe = pipeline(\"image-classification\", pretrain_path)"
   ]
  },
  {
   "cell_type": "code",
   "execution_count": 18,
   "metadata": {},
   "outputs": [
    {
     "data": {
      "text/plain": [
       "[{'label': '당황', 'score': 0.9521239399909973},\n",
       " {'label': '분노', 'score': 0.0368758849799633},\n",
       " {'label': '슬픔', 'score': 0.007200550753623247},\n",
       " {'label': '기쁨', 'score': 0.003799621481448412}]"
      ]
     },
     "execution_count": 18,
     "metadata": {},
     "output_type": "execute_result"
    }
   ],
   "source": [
    "pipe(test_img[7][0])"
   ]
  },
  {
   "cell_type": "code",
   "execution_count": 27,
   "metadata": {},
   "outputs": [
    {
     "name": "stdout",
     "output_type": "stream",
     "text": [
      "{'label': '당황', 'score': 0.9521239399909973}\n",
      "<class 'dict'>\n"
     ]
    }
   ],
   "source": [
    "# print(type(pipe(test_img[7])))\n",
    "print(next(iter(pipe(test_img[7]))))\n",
    "print(type(next(iter(pipe(test_img[7])))))"
   ]
  },
  {
   "cell_type": "code",
   "execution_count": 104,
   "metadata": {},
   "outputs": [
    {
     "data": {
      "image/jpeg": "[encoded data removed]",
      "image/png": "[encoded data removed]",
      "text/plain": [
       "<PIL.Image.Image image mode=RGB size=256x256>"
      ]
     },
     "execution_count": 104,
     "metadata": {},
     "output_type": "execute_result"
    }
   ],
   "source": [
    "test_img[7]"
   ]
  },
  {
   "cell_type": "code",
   "execution_count": null,
   "metadata": {},
   "outputs": [],
   "source": [
    "# df = pd.DataFrame(json_train, columns=['filename', 'faceExp_uploader'])\n",
    "# df['faceExp_uploader'].unique()\n",
    "# train_npz = np.load(TRAIN_SEGMENT_PATH + 'train_anger.npz')\n",
    "# file_name = json_train[0]['filename']\n",
    "# plt.imshow(train_npz[file_name], vmin=0, vmax=5)"
   ]
  },
  {
   "cell_type": "code",
   "execution_count": null,
   "metadata": {},
   "outputs": [],
   "source": []
  }
 ],
 "metadata": {
  "kernelspec": {
   "display_name": "my_env_py311",
   "language": "python",
   "name": "python3"
  },
  "language_info": {
   "codemirror_mode": {
    "name": "ipython",
    "version": 3
   },
   "file_extension": ".py",
   "mimetype": "text/x-python",
   "name": "python",
   "nbconvert_exporter": "python",
   "pygments_lexer": "ipython3",
   "version": "3.11.8"
  }
 },
 "nbformat": 4,
 "nbformat_minor": 2
}
