{
  "nbformat": 4,
  "nbformat_minor": 0,
  "metadata": {
    "colab": {
      "provenance": [],
      "machine_shape": "hm",
      "gpuType": "L4",
      "mount_file_id": "1xYeR3MvXAaHzDZDEHDDF01_glSXzhLsl",
      "authorship_tag": "ABX9TyNqup+VG+CrZZfwUdYwmBFD"
    },
    "kernelspec": {
      "name": "python3",
      "display_name": "Python 3"
    },
    "language_info": {
      "name": "python"
    },
    "accelerator": "GPU"
  },
  "cells": [
    {
      "cell_type": "code",
      "source": [
        "from google.colab import drive\n",
        "drive.mount('/content/drive')"
      ],
      "metadata": {
        "colab": {
          "base_uri": "https://localhost:8080/"
        },
        "id": "XzLM8OnC_Hft",
        "outputId": "9d920f88-cff6-4a4c-b94e-6677b36368aa"
      },
      "execution_count": null,
      "outputs": [
        {
          "output_type": "stream",
          "name": "stdout",
          "text": [
            "Drive already mounted at /content/drive; to attempt to forcibly remount, call drive.mount(\"/content/drive\", force_remount=True).\n"
          ]
        }
      ]
    },
    {
      "cell_type": "code",
      "source": [
        "import pandas as pd\n",
        "import numpy as np\n",
        "import os\n",
        "import glob\n",
        "from datetime import datetime\n",
        "import xml.etree.ElementTree as ET\n",
        "import cv2 as cv\n",
        "import cv2\n",
        "import matplotlib.pyplot as plt\n",
        "import seaborn as sns\n",
        "import warnings\n",
        "warnings.filterwarnings('ignore')\n",
        "import json"
      ],
      "metadata": {
        "id": "Nivbig0wVjZj"
      },
      "execution_count": null,
      "outputs": []
    },
    {
      "cell_type": "code",
      "source": [
        "def create_dataset(annotations_path, json_path, images_path):\n",
        "    dataset = {\n",
        "        \"file\": [],\n",
        "        \"name\": [],\n",
        "        \"xmin\": [],\n",
        "        \"ymin\": [],\n",
        "        \"xmax\": [],\n",
        "        \"ymax\": [],\n",
        "    }\n",
        "\n",
        "    for json_file in glob.glob(annotations_path + json_path + \"/*.json\"):\n",
        "        # JSON 파일 읽기\n",
        "        with open(json_file, 'r', encoding='euc-kr') as f:\n",
        "            json_data = json.load(f)\n",
        "\n",
        "        for entry in json_data:\n",
        "            filename = entry[\"filename\"]\n",
        "            face_exp_uploader = entry.get(\"faceExp_uploader\")\n",
        "            image_file = os.path.join(images_path, filename)\n",
        "\n",
        "            if not os.path.exists(image_file):\n",
        "                print(f\"Image file not found: {filename}\")\n",
        "                continue  # 이미지 파일이 없으면 해당 항목 건너뛰기\n",
        "\n",
        "            if face_exp_uploader:\n",
        "                boxes = entry.get(\"annot_A\", {}).get(\"boxes\")\n",
        "                if boxes:\n",
        "                    dataset[\"file\"].append(filename)\n",
        "                    dataset[\"name\"].append(face_exp_uploader)\n",
        "                    dataset[\"xmin\"].append(boxes.get(\"minX\"))\n",
        "                    dataset[\"ymin\"].append(boxes.get(\"minY\"))\n",
        "                    dataset[\"xmax\"].append(boxes.get(\"maxX\"))\n",
        "                    dataset[\"ymax\"].append(boxes.get(\"maxY\"))\n",
        "                else:\n",
        "                    print(f\"No boxes found for {filename}\")\n",
        "\n",
        "    return dataset"
      ],
      "metadata": {
        "id": "Yho2dF9rHyYU"
      },
      "execution_count": null,
      "outputs": []
    },
    {
      "cell_type": "code",
      "source": [
        "annotations_path = \"/content/drive/MyDrive/감정따뜻쟁이/label/\"\n",
        "train_images_path = \"/content/drive/MyDrive/yolo_output/train/images/\"\n",
        "test_images_path = \"/content/drive/MyDrive/yolo_output/test/images/\"\n",
        "val_images_path = \"/content/drive/MyDrive/yolo_output/val/images/\"\n",
        "\n",
        "dataset1 = create_dataset(annotations_path, \"train\", train_images_path)\n",
        "dataset2 = create_dataset(annotations_path, \"test\", test_images_path)\n",
        "dataset3 = create_dataset(annotations_path, \"val\", val_images_path)\n"
      ],
      "metadata": {
        "collapsed": true,
        "id": "TnV0JO9heByL",
        "colab": {
          "base_uri": "https://localhost:8080/"
        },
        "outputId": "ac0adbcd-e3fa-4ede-b6c0-456565c33629"
      },
      "execution_count": null,
      "outputs": [
        {
          "output_type": "stream",
          "name": "stdout",
          "text": [
            "Image file not found: 7zwecfe6e57f975ee8b238b355e3e87923c4557383daae96720c1b8c3f669g9m2.jpg\n",
            "Image file not found: oxmt62fbb28fafcdaa8d64e75a332e1d506d6a079cb45fc9e00c576c40fbeo0wy.jpg\n",
            "Image file not found: s1mu862ea97f26b2720eeecb51156f6e32e8523fd62f3f04ef2f727639f52d7g3.jpg\n",
            "Image file not found: twdva8d723865fa1005873a6967797c75f3dd83197f13f7daa3e3926947071al6.jpg\n",
            "Image file not found: 5yid6d7ae32bf14b1343da46cfdb3fdffc8e1c64baf4fb1b175690f648a870v69.jpg\n",
            "Image file not found: bpv531e5cebdb1c00085158bb0677c5596ccabf1c8a5cb0007991571bf306wcd4.jpg\n",
            "Image file not found: s1q397a38900c1e1f950496109900e7c01f0630459790d8590010655c4090vlh0.jpg\n",
            "Image file not found: 7m2k46c05803855399ea1ee1911875ee59e05640c93135c0bc91b5660456cdo8k.jpg\n",
            "Image file not found: n55yc741f09701506c7eb5ba30533db35c905ab5bf0597b5652ece03c5950ozv1.jpg\n",
            "Image file not found: bid7b3c93409e1d83514689337f6d3d63a338339d71c9ce7fded153d3576fk2ml.jpg\n",
            "Image file not found: if0lfc4b517c6597e3656dbea350e406e1b5ae4e175e460597064875909d9t40p.jpg\n",
            "Image file not found: 58w153f3f5ade2ad20ec19e6744ff2ff0a54ba3520ffbef36f3f3a47af75fxuf5.jpg\n",
            "Image file not found: lhyp01dff4faf13d1b4319722dc31bb3a104a3878ab3816a03bb8acdfa3d3eomk.jpg\n",
            "Image file not found: vba0d31d23b44711180462388c8aba4424a0aa2951153a6b0d233d3f28041kzff.jpg\n",
            "Image file not found: mj9mb18295a54da298a5a537dfa99a0172259a1af9ba2eaaefafdab9d47adrc83.jpg\n",
            "Image file not found: bxx7a068c1eeb2032eaa0483940042ace8a00ea64ff23ce002b502aa3cafbo5kx.jpg\n",
            "Image file not found: 8p5p37951df3a18686dd10da624176ca7197b6778c877278d89f6331ada7bpjcq.jpg\n",
            "Image file not found: 67q29f539b5a2e59c55a703be25dfae0a68c6b8ccb8a2962ac8aaea799af22gm2.jpg\n",
            "Image file not found: i5r0dc94151cdc9be669fc2d29221a29d8b2d6af2baf287360d36cf38b949clxw.jpg\n",
            "Image file not found: 140c3185430750e85cc0c7c38055b5abf5b06fc6ed34a60043506bd08af29llt0.jpg\n",
            "Image file not found: ja43b19979da8e776e43e550068c7ae667eb695ab11144913697e014366110d6d.jpg\n",
            "Image file not found: vaf19e5b5115104cf15d50122270474f5f86a48fe13b400e441212572df940p5d.jpg\n",
            "Image file not found: b14secfe2b1749c94c7cc563020df10e40372c7b9c8dbe793779c6c2cb272cznr.jpg\n"
          ]
        }
      ]
    },
    {
      "cell_type": "code",
      "source": [
        "def create_dataset2(annotations_path2, json_path, images_path2):\n",
        "    dataset = {\n",
        "        \"file\": [],\n",
        "        \"name\": [],\n",
        "        \"xmin\": [],\n",
        "        \"ymin\": [],\n",
        "        \"xmax\": [],\n",
        "        \"ymax\": [],\n",
        "    }\n",
        "\n",
        "    for json_file in glob.glob(annotations_path2 + json_path + \"/*.json\"):\n",
        "        # JSON 파일 읽기\n",
        "        with open(json_file, 'r') as f:\n",
        "            json_data = json.load(f)\n",
        "\n",
        "        for entry in json_data:\n",
        "            filename = entry[\"filename\"]\n",
        "            face_exp_uploader = entry.get(\"faceExp_uploader\")\n",
        "            image_file = os.path.join(images_path2, filename)\n",
        "\n",
        "            if not os.path.exists(image_file):\n",
        "                print(f\"Image file not found: {filename}\")\n",
        "                continue  # 이미지 파일이 없으면 해당 항목 건너뛰기\n",
        "\n",
        "            if face_exp_uploader:\n",
        "                boxes = entry.get(\"annot_A\", {}).get(\"boxes\")\n",
        "                if boxes:\n",
        "                    dataset[\"file\"].append(filename)\n",
        "                    dataset[\"name\"].append(face_exp_uploader)\n",
        "                    dataset[\"xmin\"].append(boxes.get(\"minX\"))\n",
        "                    dataset[\"ymin\"].append(boxes.get(\"minY\"))\n",
        "                    dataset[\"xmax\"].append(boxes.get(\"maxX\"))\n",
        "                    dataset[\"ymax\"].append(boxes.get(\"maxY\"))\n",
        "                else:\n",
        "                    print(f\"No boxes found for {filename}\")\n",
        "\n",
        "    return dataset"
      ],
      "metadata": {
        "id": "4qEDD4oecBnL"
      },
      "execution_count": null,
      "outputs": []
    },
    {
      "cell_type": "code",
      "source": [
        "annotations_path2 = \"/content/drive/MyDrive/label_2/\"\n",
        "train_images_path2 = \"/content/drive/MyDrive/yolo_output/train/images/\"\n",
        "test_images_path2 = \"/content/drive/MyDrive/yolo_output/test/images/\"\n",
        "val_images_path2 = \"/content/drive/MyDrive/yolo_output/val/images/\"\n",
        "\n",
        "dataset4 = create_dataset2(annotations_path2, \"train\", train_images_path2)\n",
        "dataset5 = create_dataset2(annotations_path2, \"test\", test_images_path2)\n",
        "dataset6 = create_dataset2(annotations_path2, \"val\", val_images_path2)"
      ],
      "metadata": {
        "id": "b2Rpcz4qH41k"
      },
      "execution_count": null,
      "outputs": []
    },
    {
      "cell_type": "code",
      "source": [
        "df1 = pd.DataFrame(dataset1)\n",
        "df2 = pd.DataFrame(dataset2)\n",
        "df3 = pd.DataFrame(dataset3)\n",
        "df4 = pd.DataFrame(dataset4)\n",
        "df5 = pd.DataFrame(dataset5)\n",
        "df6 = pd.DataFrame(dataset6)"
      ],
      "metadata": {
        "id": "Ndfui5icelSC"
      },
      "execution_count": null,
      "outputs": []
    },
    {
      "cell_type": "code",
      "source": [
        "df1.head()"
      ],
      "metadata": {
        "id": "U4JQUS44kVj8",
        "colab": {
          "base_uri": "https://localhost:8080/",
          "height": 206
        },
        "outputId": "2d58ac2a-c887-4381-881a-1a2708480b86"
      },
      "execution_count": null,
      "outputs": [
        {
          "output_type": "execute_result",
          "data": {
            "text/plain": [
              "                                                file name         xmin  \\\n",
              "0  sfpsd1254c044a197b3440b24c44b0cbe0b294f90ac879...   기쁨  1504.474500   \n",
              "1  2tby14ba67fea06c15c1c19c15c47b0a7c90bbe3f06076...   기쁨  1316.008500   \n",
              "2  0jsg06048a28fde3caad404f93dec397e5c579e83c1c2c...   기쁨  1563.979100   \n",
              "3  kcj92df0c0404d268c1a2bb901ac34326fd734416b4204...   기쁨   990.366600   \n",
              "4  zlye07fb710879977db578f793838be19b15b80543e98b...   기쁨  1129.214047   \n",
              "\n",
              "         ymin         xmax         ymax  \n",
              "0  642.640800  2243.173300  1596.718300  \n",
              "1  515.588943  2075.192400  1604.840914  \n",
              "2  630.578000  2147.691000  1409.854700  \n",
              "3  724.068700  1799.860800  1808.655200  \n",
              "4  456.744658  1995.204053  1707.601262  "
            ],
            "text/html": [
              "\n",
              "  <div id=\"df-776dc0d0-085d-4cbe-bf7c-dbbf3534b9e5\" class=\"colab-df-container\">\n",
              "    <div>\n",
              "<style scoped>\n",
              "    .dataframe tbody tr th:only-of-type {\n",
              "        vertical-align: middle;\n",
              "    }\n",
              "\n",
              "    .dataframe tbody tr th {\n",
              "        vertical-align: top;\n",
              "    }\n",
              "\n",
              "    .dataframe thead th {\n",
              "        text-align: right;\n",
              "    }\n",
              "</style>\n",
              "<table border=\"1\" class=\"dataframe\">\n",
              "  <thead>\n",
              "    <tr style=\"text-align: right;\">\n",
              "      <th></th>\n",
              "      <th>file</th>\n",
              "      <th>name</th>\n",
              "      <th>xmin</th>\n",
              "      <th>ymin</th>\n",
              "      <th>xmax</th>\n",
              "      <th>ymax</th>\n",
              "    </tr>\n",
              "  </thead>\n",
              "  <tbody>\n",
              "    <tr>\n",
              "      <th>0</th>\n",
              "      <td>sfpsd1254c044a197b3440b24c44b0cbe0b294f90ac879...</td>\n",
              "      <td>기쁨</td>\n",
              "      <td>1504.474500</td>\n",
              "      <td>642.640800</td>\n",
              "      <td>2243.173300</td>\n",
              "      <td>1596.718300</td>\n",
              "    </tr>\n",
              "    <tr>\n",
              "      <th>1</th>\n",
              "      <td>2tby14ba67fea06c15c1c19c15c47b0a7c90bbe3f06076...</td>\n",
              "      <td>기쁨</td>\n",
              "      <td>1316.008500</td>\n",
              "      <td>515.588943</td>\n",
              "      <td>2075.192400</td>\n",
              "      <td>1604.840914</td>\n",
              "    </tr>\n",
              "    <tr>\n",
              "      <th>2</th>\n",
              "      <td>0jsg06048a28fde3caad404f93dec397e5c579e83c1c2c...</td>\n",
              "      <td>기쁨</td>\n",
              "      <td>1563.979100</td>\n",
              "      <td>630.578000</td>\n",
              "      <td>2147.691000</td>\n",
              "      <td>1409.854700</td>\n",
              "    </tr>\n",
              "    <tr>\n",
              "      <th>3</th>\n",
              "      <td>kcj92df0c0404d268c1a2bb901ac34326fd734416b4204...</td>\n",
              "      <td>기쁨</td>\n",
              "      <td>990.366600</td>\n",
              "      <td>724.068700</td>\n",
              "      <td>1799.860800</td>\n",
              "      <td>1808.655200</td>\n",
              "    </tr>\n",
              "    <tr>\n",
              "      <th>4</th>\n",
              "      <td>zlye07fb710879977db578f793838be19b15b80543e98b...</td>\n",
              "      <td>기쁨</td>\n",
              "      <td>1129.214047</td>\n",
              "      <td>456.744658</td>\n",
              "      <td>1995.204053</td>\n",
              "      <td>1707.601262</td>\n",
              "    </tr>\n",
              "  </tbody>\n",
              "</table>\n",
              "</div>\n",
              "    <div class=\"colab-df-buttons\">\n",
              "\n",
              "  <div class=\"colab-df-container\">\n",
              "    <button class=\"colab-df-convert\" onclick=\"convertToInteractive('df-776dc0d0-085d-4cbe-bf7c-dbbf3534b9e5')\"\n",
              "            title=\"Convert this dataframe to an interactive table.\"\n",
              "            style=\"display:none;\">\n",
              "\n",
              "  <svg xmlns=\"http://www.w3.org/2000/svg\" height=\"24px\" viewBox=\"0 -960 960 960\">\n",
              "    <path d=\"M120-120v-720h720v720H120Zm60-500h600v-160H180v160Zm220 220h160v-160H400v160Zm0 220h160v-160H400v160ZM180-400h160v-160H180v160Zm440 0h160v-160H620v160ZM180-180h160v-160H180v160Zm440 0h160v-160H620v160Z\"/>\n",
              "  </svg>\n",
              "    </button>\n",
              "\n",
              "  <style>\n",
              "    .colab-df-container {\n",
              "      display:flex;\n",
              "      gap: 12px;\n",
              "    }\n",
              "\n",
              "    .colab-df-convert {\n",
              "      background-color: #E8F0FE;\n",
              "      border: none;\n",
              "      border-radius: 50%;\n",
              "      cursor: pointer;\n",
              "      display: none;\n",
              "      fill: #1967D2;\n",
              "      height: 32px;\n",
              "      padding: 0 0 0 0;\n",
              "      width: 32px;\n",
              "    }\n",
              "\n",
              "    .colab-df-convert:hover {\n",
              "      background-color: #E2EBFA;\n",
              "      box-shadow: 0px 1px 2px rgba(60, 64, 67, 0.3), 0px 1px 3px 1px rgba(60, 64, 67, 0.15);\n",
              "      fill: #174EA6;\n",
              "    }\n",
              "\n",
              "    .colab-df-buttons div {\n",
              "      margin-bottom: 4px;\n",
              "    }\n",
              "\n",
              "    [theme=dark] .colab-df-convert {\n",
              "      background-color: #3B4455;\n",
              "      fill: #D2E3FC;\n",
              "    }\n",
              "\n",
              "    [theme=dark] .colab-df-convert:hover {\n",
              "      background-color: #434B5C;\n",
              "      box-shadow: 0px 1px 3px 1px rgba(0, 0, 0, 0.15);\n",
              "      filter: drop-shadow(0px 1px 2px rgba(0, 0, 0, 0.3));\n",
              "      fill: #FFFFFF;\n",
              "    }\n",
              "  </style>\n",
              "\n",
              "    <script>\n",
              "      const buttonEl =\n",
              "        document.querySelector('#df-776dc0d0-085d-4cbe-bf7c-dbbf3534b9e5 button.colab-df-convert');\n",
              "      buttonEl.style.display =\n",
              "        google.colab.kernel.accessAllowed ? 'block' : 'none';\n",
              "\n",
              "      async function convertToInteractive(key) {\n",
              "        const element = document.querySelector('#df-776dc0d0-085d-4cbe-bf7c-dbbf3534b9e5');\n",
              "        const dataTable =\n",
              "          await google.colab.kernel.invokeFunction('convertToInteractive',\n",
              "                                                    [key], {});\n",
              "        if (!dataTable) return;\n",
              "\n",
              "        const docLinkHtml = 'Like what you see? Visit the ' +\n",
              "          '<a target=\"_blank\" href=https://colab.research.google.com/notebooks/data_table.ipynb>data table notebook</a>'\n",
              "          + ' to learn more about interactive tables.';\n",
              "        element.innerHTML = '';\n",
              "        dataTable['output_type'] = 'display_data';\n",
              "        await google.colab.output.renderOutput(dataTable, element);\n",
              "        const docLink = document.createElement('div');\n",
              "        docLink.innerHTML = docLinkHtml;\n",
              "        element.appendChild(docLink);\n",
              "      }\n",
              "    </script>\n",
              "  </div>\n",
              "\n",
              "\n",
              "<div id=\"df-44d54417-fc67-4daf-8a56-e0759042419c\">\n",
              "  <button class=\"colab-df-quickchart\" onclick=\"quickchart('df-44d54417-fc67-4daf-8a56-e0759042419c')\"\n",
              "            title=\"Suggest charts\"\n",
              "            style=\"display:none;\">\n",
              "\n",
              "<svg xmlns=\"http://www.w3.org/2000/svg\" height=\"24px\"viewBox=\"0 0 24 24\"\n",
              "     width=\"24px\">\n",
              "    <g>\n",
              "        <path d=\"M19 3H5c-1.1 0-2 .9-2 2v14c0 1.1.9 2 2 2h14c1.1 0 2-.9 2-2V5c0-1.1-.9-2-2-2zM9 17H7v-7h2v7zm4 0h-2V7h2v10zm4 0h-2v-4h2v4z\"/>\n",
              "    </g>\n",
              "</svg>\n",
              "  </button>\n",
              "\n",
              "<style>\n",
              "  .colab-df-quickchart {\n",
              "      --bg-color: #E8F0FE;\n",
              "      --fill-color: #1967D2;\n",
              "      --hover-bg-color: #E2EBFA;\n",
              "      --hover-fill-color: #174EA6;\n",
              "      --disabled-fill-color: #AAA;\n",
              "      --disabled-bg-color: #DDD;\n",
              "  }\n",
              "\n",
              "  [theme=dark] .colab-df-quickchart {\n",
              "      --bg-color: #3B4455;\n",
              "      --fill-color: #D2E3FC;\n",
              "      --hover-bg-color: #434B5C;\n",
              "      --hover-fill-color: #FFFFFF;\n",
              "      --disabled-bg-color: #3B4455;\n",
              "      --disabled-fill-color: #666;\n",
              "  }\n",
              "\n",
              "  .colab-df-quickchart {\n",
              "    background-color: var(--bg-color);\n",
              "    border: none;\n",
              "    border-radius: 50%;\n",
              "    cursor: pointer;\n",
              "    display: none;\n",
              "    fill: var(--fill-color);\n",
              "    height: 32px;\n",
              "    padding: 0;\n",
              "    width: 32px;\n",
              "  }\n",
              "\n",
              "  .colab-df-quickchart:hover {\n",
              "    background-color: var(--hover-bg-color);\n",
              "    box-shadow: 0 1px 2px rgba(60, 64, 67, 0.3), 0 1px 3px 1px rgba(60, 64, 67, 0.15);\n",
              "    fill: var(--button-hover-fill-color);\n",
              "  }\n",
              "\n",
              "  .colab-df-quickchart-complete:disabled,\n",
              "  .colab-df-quickchart-complete:disabled:hover {\n",
              "    background-color: var(--disabled-bg-color);\n",
              "    fill: var(--disabled-fill-color);\n",
              "    box-shadow: none;\n",
              "  }\n",
              "\n",
              "  .colab-df-spinner {\n",
              "    border: 2px solid var(--fill-color);\n",
              "    border-color: transparent;\n",
              "    border-bottom-color: var(--fill-color);\n",
              "    animation:\n",
              "      spin 1s steps(1) infinite;\n",
              "  }\n",
              "\n",
              "  @keyframes spin {\n",
              "    0% {\n",
              "      border-color: transparent;\n",
              "      border-bottom-color: var(--fill-color);\n",
              "      border-left-color: var(--fill-color);\n",
              "    }\n",
              "    20% {\n",
              "      border-color: transparent;\n",
              "      border-left-color: var(--fill-color);\n",
              "      border-top-color: var(--fill-color);\n",
              "    }\n",
              "    30% {\n",
              "      border-color: transparent;\n",
              "      border-left-color: var(--fill-color);\n",
              "      border-top-color: var(--fill-color);\n",
              "      border-right-color: var(--fill-color);\n",
              "    }\n",
              "    40% {\n",
              "      border-color: transparent;\n",
              "      border-right-color: var(--fill-color);\n",
              "      border-top-color: var(--fill-color);\n",
              "    }\n",
              "    60% {\n",
              "      border-color: transparent;\n",
              "      border-right-color: var(--fill-color);\n",
              "    }\n",
              "    80% {\n",
              "      border-color: transparent;\n",
              "      border-right-color: var(--fill-color);\n",
              "      border-bottom-color: var(--fill-color);\n",
              "    }\n",
              "    90% {\n",
              "      border-color: transparent;\n",
              "      border-bottom-color: var(--fill-color);\n",
              "    }\n",
              "  }\n",
              "</style>\n",
              "\n",
              "  <script>\n",
              "    async function quickchart(key) {\n",
              "      const quickchartButtonEl =\n",
              "        document.querySelector('#' + key + ' button');\n",
              "      quickchartButtonEl.disabled = true;  // To prevent multiple clicks.\n",
              "      quickchartButtonEl.classList.add('colab-df-spinner');\n",
              "      try {\n",
              "        const charts = await google.colab.kernel.invokeFunction(\n",
              "            'suggestCharts', [key], {});\n",
              "      } catch (error) {\n",
              "        console.error('Error during call to suggestCharts:', error);\n",
              "      }\n",
              "      quickchartButtonEl.classList.remove('colab-df-spinner');\n",
              "      quickchartButtonEl.classList.add('colab-df-quickchart-complete');\n",
              "    }\n",
              "    (() => {\n",
              "      let quickchartButtonEl =\n",
              "        document.querySelector('#df-44d54417-fc67-4daf-8a56-e0759042419c button');\n",
              "      quickchartButtonEl.style.display =\n",
              "        google.colab.kernel.accessAllowed ? 'block' : 'none';\n",
              "    })();\n",
              "  </script>\n",
              "</div>\n",
              "\n",
              "    </div>\n",
              "  </div>\n"
            ],
            "application/vnd.google.colaboratory.intrinsic+json": {
              "type": "dataframe",
              "variable_name": "df1",
              "summary": "{\n  \"name\": \"df1\",\n  \"rows\": 5364,\n  \"fields\": [\n    {\n      \"column\": \"file\",\n      \"properties\": {\n        \"dtype\": \"string\",\n        \"num_unique_values\": 5364,\n        \"samples\": [\n          \"osni0097dd7065c0f9cbc3c37ccbcbb75f99c859b1da0055770fa45b35c1eqmf3.jpg\",\n          \"zwcp6433f297b6bd2f8f9fb2b86f75b38ed29be2348b3b859bff8bb48f363xt6m.jpg\",\n          \"k4wpf20bf0bfb2207c6b7b7404b0c402c462cf3b5bceca1df3255540de900a49x.jpg\"\n        ],\n        \"semantic_type\": \"\",\n        \"description\": \"\"\n      }\n    },\n    {\n      \"column\": \"name\",\n      \"properties\": {\n        \"dtype\": \"category\",\n        \"num_unique_values\": 4,\n        \"samples\": [\n          \"\\ub2f9\\ud669\",\n          \"\\uc2ac\\ud514\",\n          \"\\uae30\\uc068\"\n        ],\n        \"semantic_type\": \"\",\n        \"description\": \"\"\n      }\n    },\n    {\n      \"column\": \"xmin\",\n      \"properties\": {\n        \"dtype\": \"number\",\n        \"std\": 469.62923170971123,\n        \"min\": -221.23809523809524,\n        \"max\": 3940.0142,\n        \"num_unique_values\": 5361,\n        \"samples\": [\n          1649.0717,\n          1675.9359000000002,\n          840.6789999999999\n        ],\n        \"semantic_type\": \"\",\n        \"description\": \"\"\n      }\n    },\n    {\n      \"column\": \"ymin\",\n      \"properties\": {\n        \"dtype\": \"number\",\n        \"std\": 231.02543397106768,\n        \"min\": -219.04761904761907,\n        \"max\": 1806.427925398932,\n        \"num_unique_values\": 5345,\n        \"samples\": [\n          470.02569228722524,\n          530.3524679372582,\n          330.85318126097957\n        ],\n        \"semantic_type\": \"\",\n        \"description\": \"\"\n      }\n    },\n    {\n      \"column\": \"xmax\",\n      \"properties\": {\n        \"dtype\": \"number\",\n        \"std\": 557.3024892371153,\n        \"min\": 0.0,\n        \"max\": 6173.3975,\n        \"num_unique_values\": 5362,\n        \"samples\": [\n          2510.890887519358,\n          1719.3213000000014,\n          1774.6091\n        ],\n        \"semantic_type\": \"\",\n        \"description\": \"\"\n      }\n    },\n    {\n      \"column\": \"ymax\",\n      \"properties\": {\n        \"dtype\": \"number\",\n        \"std\": 361.90908982976487,\n        \"min\": -146.84931506849315,\n        \"max\": 4496.241728015551,\n        \"num_unique_values\": 5359,\n        \"samples\": [\n          1297.8775091170446,\n          1047.2627,\n          1433.7662581143782\n        ],\n        \"semantic_type\": \"\",\n        \"description\": \"\"\n      }\n    }\n  ]\n}"
            }
          },
          "metadata": {},
          "execution_count": 38
        }
      ]
    },
    {
      "cell_type": "code",
      "source": [
        "df = pd.concat([df1, df2, df3, df4, df5, df6], ignore_index = True)"
      ],
      "metadata": {
        "id": "-ZfPPFaf4dZ0"
      },
      "execution_count": null,
      "outputs": []
    },
    {
      "cell_type": "code",
      "source": [
        "df.head()"
      ],
      "metadata": {
        "colab": {
          "base_uri": "https://localhost:8080/",
          "height": 206
        },
        "id": "tmjkt88_6wEi",
        "outputId": "cee8aca1-8d79-4803-83d6-ece72aab92dc"
      },
      "execution_count": null,
      "outputs": [
        {
          "output_type": "execute_result",
          "data": {
            "text/plain": [
              "                                                file name         xmin  \\\n",
              "0  sfpsd1254c044a197b3440b24c44b0cbe0b294f90ac879...   기쁨  1504.474500   \n",
              "1  2tby14ba67fea06c15c1c19c15c47b0a7c90bbe3f06076...   기쁨  1316.008500   \n",
              "2  0jsg06048a28fde3caad404f93dec397e5c579e83c1c2c...   기쁨  1563.979100   \n",
              "3  kcj92df0c0404d268c1a2bb901ac34326fd734416b4204...   기쁨   990.366600   \n",
              "4  zlye07fb710879977db578f793838be19b15b80543e98b...   기쁨  1129.214047   \n",
              "\n",
              "         ymin         xmax         ymax  \n",
              "0  642.640800  2243.173300  1596.718300  \n",
              "1  515.588943  2075.192400  1604.840914  \n",
              "2  630.578000  2147.691000  1409.854700  \n",
              "3  724.068700  1799.860800  1808.655200  \n",
              "4  456.744658  1995.204053  1707.601262  "
            ],
            "text/html": [
              "\n",
              "  <div id=\"df-a16e22a3-1aff-4e5d-a9c8-0efacf67bf84\" class=\"colab-df-container\">\n",
              "    <div>\n",
              "<style scoped>\n",
              "    .dataframe tbody tr th:only-of-type {\n",
              "        vertical-align: middle;\n",
              "    }\n",
              "\n",
              "    .dataframe tbody tr th {\n",
              "        vertical-align: top;\n",
              "    }\n",
              "\n",
              "    .dataframe thead th {\n",
              "        text-align: right;\n",
              "    }\n",
              "</style>\n",
              "<table border=\"1\" class=\"dataframe\">\n",
              "  <thead>\n",
              "    <tr style=\"text-align: right;\">\n",
              "      <th></th>\n",
              "      <th>file</th>\n",
              "      <th>name</th>\n",
              "      <th>xmin</th>\n",
              "      <th>ymin</th>\n",
              "      <th>xmax</th>\n",
              "      <th>ymax</th>\n",
              "    </tr>\n",
              "  </thead>\n",
              "  <tbody>\n",
              "    <tr>\n",
              "      <th>0</th>\n",
              "      <td>sfpsd1254c044a197b3440b24c44b0cbe0b294f90ac879...</td>\n",
              "      <td>기쁨</td>\n",
              "      <td>1504.474500</td>\n",
              "      <td>642.640800</td>\n",
              "      <td>2243.173300</td>\n",
              "      <td>1596.718300</td>\n",
              "    </tr>\n",
              "    <tr>\n",
              "      <th>1</th>\n",
              "      <td>2tby14ba67fea06c15c1c19c15c47b0a7c90bbe3f06076...</td>\n",
              "      <td>기쁨</td>\n",
              "      <td>1316.008500</td>\n",
              "      <td>515.588943</td>\n",
              "      <td>2075.192400</td>\n",
              "      <td>1604.840914</td>\n",
              "    </tr>\n",
              "    <tr>\n",
              "      <th>2</th>\n",
              "      <td>0jsg06048a28fde3caad404f93dec397e5c579e83c1c2c...</td>\n",
              "      <td>기쁨</td>\n",
              "      <td>1563.979100</td>\n",
              "      <td>630.578000</td>\n",
              "      <td>2147.691000</td>\n",
              "      <td>1409.854700</td>\n",
              "    </tr>\n",
              "    <tr>\n",
              "      <th>3</th>\n",
              "      <td>kcj92df0c0404d268c1a2bb901ac34326fd734416b4204...</td>\n",
              "      <td>기쁨</td>\n",
              "      <td>990.366600</td>\n",
              "      <td>724.068700</td>\n",
              "      <td>1799.860800</td>\n",
              "      <td>1808.655200</td>\n",
              "    </tr>\n",
              "    <tr>\n",
              "      <th>4</th>\n",
              "      <td>zlye07fb710879977db578f793838be19b15b80543e98b...</td>\n",
              "      <td>기쁨</td>\n",
              "      <td>1129.214047</td>\n",
              "      <td>456.744658</td>\n",
              "      <td>1995.204053</td>\n",
              "      <td>1707.601262</td>\n",
              "    </tr>\n",
              "  </tbody>\n",
              "</table>\n",
              "</div>\n",
              "    <div class=\"colab-df-buttons\">\n",
              "\n",
              "  <div class=\"colab-df-container\">\n",
              "    <button class=\"colab-df-convert\" onclick=\"convertToInteractive('df-a16e22a3-1aff-4e5d-a9c8-0efacf67bf84')\"\n",
              "            title=\"Convert this dataframe to an interactive table.\"\n",
              "            style=\"display:none;\">\n",
              "\n",
              "  <svg xmlns=\"http://www.w3.org/2000/svg\" height=\"24px\" viewBox=\"0 -960 960 960\">\n",
              "    <path d=\"M120-120v-720h720v720H120Zm60-500h600v-160H180v160Zm220 220h160v-160H400v160Zm0 220h160v-160H400v160ZM180-400h160v-160H180v160Zm440 0h160v-160H620v160ZM180-180h160v-160H180v160Zm440 0h160v-160H620v160Z\"/>\n",
              "  </svg>\n",
              "    </button>\n",
              "\n",
              "  <style>\n",
              "    .colab-df-container {\n",
              "      display:flex;\n",
              "      gap: 12px;\n",
              "    }\n",
              "\n",
              "    .colab-df-convert {\n",
              "      background-color: #E8F0FE;\n",
              "      border: none;\n",
              "      border-radius: 50%;\n",
              "      cursor: pointer;\n",
              "      display: none;\n",
              "      fill: #1967D2;\n",
              "      height: 32px;\n",
              "      padding: 0 0 0 0;\n",
              "      width: 32px;\n",
              "    }\n",
              "\n",
              "    .colab-df-convert:hover {\n",
              "      background-color: #E2EBFA;\n",
              "      box-shadow: 0px 1px 2px rgba(60, 64, 67, 0.3), 0px 1px 3px 1px rgba(60, 64, 67, 0.15);\n",
              "      fill: #174EA6;\n",
              "    }\n",
              "\n",
              "    .colab-df-buttons div {\n",
              "      margin-bottom: 4px;\n",
              "    }\n",
              "\n",
              "    [theme=dark] .colab-df-convert {\n",
              "      background-color: #3B4455;\n",
              "      fill: #D2E3FC;\n",
              "    }\n",
              "\n",
              "    [theme=dark] .colab-df-convert:hover {\n",
              "      background-color: #434B5C;\n",
              "      box-shadow: 0px 1px 3px 1px rgba(0, 0, 0, 0.15);\n",
              "      filter: drop-shadow(0px 1px 2px rgba(0, 0, 0, 0.3));\n",
              "      fill: #FFFFFF;\n",
              "    }\n",
              "  </style>\n",
              "\n",
              "    <script>\n",
              "      const buttonEl =\n",
              "        document.querySelector('#df-a16e22a3-1aff-4e5d-a9c8-0efacf67bf84 button.colab-df-convert');\n",
              "      buttonEl.style.display =\n",
              "        google.colab.kernel.accessAllowed ? 'block' : 'none';\n",
              "\n",
              "      async function convertToInteractive(key) {\n",
              "        const element = document.querySelector('#df-a16e22a3-1aff-4e5d-a9c8-0efacf67bf84');\n",
              "        const dataTable =\n",
              "          await google.colab.kernel.invokeFunction('convertToInteractive',\n",
              "                                                    [key], {});\n",
              "        if (!dataTable) return;\n",
              "\n",
              "        const docLinkHtml = 'Like what you see? Visit the ' +\n",
              "          '<a target=\"_blank\" href=https://colab.research.google.com/notebooks/data_table.ipynb>data table notebook</a>'\n",
              "          + ' to learn more about interactive tables.';\n",
              "        element.innerHTML = '';\n",
              "        dataTable['output_type'] = 'display_data';\n",
              "        await google.colab.output.renderOutput(dataTable, element);\n",
              "        const docLink = document.createElement('div');\n",
              "        docLink.innerHTML = docLinkHtml;\n",
              "        element.appendChild(docLink);\n",
              "      }\n",
              "    </script>\n",
              "  </div>\n",
              "\n",
              "\n",
              "<div id=\"df-fb0d39f3-d75f-4a5c-9fac-007b2d420d95\">\n",
              "  <button class=\"colab-df-quickchart\" onclick=\"quickchart('df-fb0d39f3-d75f-4a5c-9fac-007b2d420d95')\"\n",
              "            title=\"Suggest charts\"\n",
              "            style=\"display:none;\">\n",
              "\n",
              "<svg xmlns=\"http://www.w3.org/2000/svg\" height=\"24px\"viewBox=\"0 0 24 24\"\n",
              "     width=\"24px\">\n",
              "    <g>\n",
              "        <path d=\"M19 3H5c-1.1 0-2 .9-2 2v14c0 1.1.9 2 2 2h14c1.1 0 2-.9 2-2V5c0-1.1-.9-2-2-2zM9 17H7v-7h2v7zm4 0h-2V7h2v10zm4 0h-2v-4h2v4z\"/>\n",
              "    </g>\n",
              "</svg>\n",
              "  </button>\n",
              "\n",
              "<style>\n",
              "  .colab-df-quickchart {\n",
              "      --bg-color: #E8F0FE;\n",
              "      --fill-color: #1967D2;\n",
              "      --hover-bg-color: #E2EBFA;\n",
              "      --hover-fill-color: #174EA6;\n",
              "      --disabled-fill-color: #AAA;\n",
              "      --disabled-bg-color: #DDD;\n",
              "  }\n",
              "\n",
              "  [theme=dark] .colab-df-quickchart {\n",
              "      --bg-color: #3B4455;\n",
              "      --fill-color: #D2E3FC;\n",
              "      --hover-bg-color: #434B5C;\n",
              "      --hover-fill-color: #FFFFFF;\n",
              "      --disabled-bg-color: #3B4455;\n",
              "      --disabled-fill-color: #666;\n",
              "  }\n",
              "\n",
              "  .colab-df-quickchart {\n",
              "    background-color: var(--bg-color);\n",
              "    border: none;\n",
              "    border-radius: 50%;\n",
              "    cursor: pointer;\n",
              "    display: none;\n",
              "    fill: var(--fill-color);\n",
              "    height: 32px;\n",
              "    padding: 0;\n",
              "    width: 32px;\n",
              "  }\n",
              "\n",
              "  .colab-df-quickchart:hover {\n",
              "    background-color: var(--hover-bg-color);\n",
              "    box-shadow: 0 1px 2px rgba(60, 64, 67, 0.3), 0 1px 3px 1px rgba(60, 64, 67, 0.15);\n",
              "    fill: var(--button-hover-fill-color);\n",
              "  }\n",
              "\n",
              "  .colab-df-quickchart-complete:disabled,\n",
              "  .colab-df-quickchart-complete:disabled:hover {\n",
              "    background-color: var(--disabled-bg-color);\n",
              "    fill: var(--disabled-fill-color);\n",
              "    box-shadow: none;\n",
              "  }\n",
              "\n",
              "  .colab-df-spinner {\n",
              "    border: 2px solid var(--fill-color);\n",
              "    border-color: transparent;\n",
              "    border-bottom-color: var(--fill-color);\n",
              "    animation:\n",
              "      spin 1s steps(1) infinite;\n",
              "  }\n",
              "\n",
              "  @keyframes spin {\n",
              "    0% {\n",
              "      border-color: transparent;\n",
              "      border-bottom-color: var(--fill-color);\n",
              "      border-left-color: var(--fill-color);\n",
              "    }\n",
              "    20% {\n",
              "      border-color: transparent;\n",
              "      border-left-color: var(--fill-color);\n",
              "      border-top-color: var(--fill-color);\n",
              "    }\n",
              "    30% {\n",
              "      border-color: transparent;\n",
              "      border-left-color: var(--fill-color);\n",
              "      border-top-color: var(--fill-color);\n",
              "      border-right-color: var(--fill-color);\n",
              "    }\n",
              "    40% {\n",
              "      border-color: transparent;\n",
              "      border-right-color: var(--fill-color);\n",
              "      border-top-color: var(--fill-color);\n",
              "    }\n",
              "    60% {\n",
              "      border-color: transparent;\n",
              "      border-right-color: var(--fill-color);\n",
              "    }\n",
              "    80% {\n",
              "      border-color: transparent;\n",
              "      border-right-color: var(--fill-color);\n",
              "      border-bottom-color: var(--fill-color);\n",
              "    }\n",
              "    90% {\n",
              "      border-color: transparent;\n",
              "      border-bottom-color: var(--fill-color);\n",
              "    }\n",
              "  }\n",
              "</style>\n",
              "\n",
              "  <script>\n",
              "    async function quickchart(key) {\n",
              "      const quickchartButtonEl =\n",
              "        document.querySelector('#' + key + ' button');\n",
              "      quickchartButtonEl.disabled = true;  // To prevent multiple clicks.\n",
              "      quickchartButtonEl.classList.add('colab-df-spinner');\n",
              "      try {\n",
              "        const charts = await google.colab.kernel.invokeFunction(\n",
              "            'suggestCharts', [key], {});\n",
              "      } catch (error) {\n",
              "        console.error('Error during call to suggestCharts:', error);\n",
              "      }\n",
              "      quickchartButtonEl.classList.remove('colab-df-spinner');\n",
              "      quickchartButtonEl.classList.add('colab-df-quickchart-complete');\n",
              "    }\n",
              "    (() => {\n",
              "      let quickchartButtonEl =\n",
              "        document.querySelector('#df-fb0d39f3-d75f-4a5c-9fac-007b2d420d95 button');\n",
              "      quickchartButtonEl.style.display =\n",
              "        google.colab.kernel.accessAllowed ? 'block' : 'none';\n",
              "    })();\n",
              "  </script>\n",
              "</div>\n",
              "\n",
              "    </div>\n",
              "  </div>\n"
            ],
            "application/vnd.google.colaboratory.intrinsic+json": {
              "type": "dataframe",
              "variable_name": "df",
              "summary": "{\n  \"name\": \"df\",\n  \"rows\": 10218,\n  \"fields\": [\n    {\n      \"column\": \"file\",\n      \"properties\": {\n        \"dtype\": \"string\",\n        \"num_unique_values\": 10218,\n        \"samples\": [\n          \"oxe0eef61f8f785ce3e23e8acad12ee8e2b983a8d84f4ebc45b3297031492u003.jpg\",\n          \"ma7b44d5a5a1f9eebb03eb84b30b4ade315d400db18baddad104be9a4b1942zi1.jpg\",\n          \"jg3r7089d930c0302805e8e0fc73d85f3f529f9de507a1f36020b9e506bef5tij.jpg\"\n        ],\n        \"semantic_type\": \"\",\n        \"description\": \"\"\n      }\n    },\n    {\n      \"column\": \"name\",\n      \"properties\": {\n        \"dtype\": \"category\",\n        \"num_unique_values\": 5,\n        \"samples\": [\n          \"\\ub2f9\\ud669\",\n          \"\\uc911\\ub9bd\",\n          \"\\ubd84\\ub178\"\n        ],\n        \"semantic_type\": \"\",\n        \"description\": \"\"\n      }\n    },\n    {\n      \"column\": \"xmin\",\n      \"properties\": {\n        \"dtype\": \"number\",\n        \"std\": 469.7772973014048,\n        \"min\": -511.51757188498414,\n        \"max\": 4368.234906,\n        \"num_unique_values\": 10193,\n        \"samples\": [\n          1460.3344691234652,\n          1570.2270828874143,\n          1129.3323392121752\n        ],\n        \"semantic_type\": \"\",\n        \"description\": \"\"\n      }\n    },\n    {\n      \"column\": \"ymin\",\n      \"properties\": {\n        \"dtype\": \"number\",\n        \"std\": 227.61878278954066,\n        \"min\": -219.04761904761907,\n        \"max\": 2370.4430000000007,\n        \"num_unique_values\": 10148,\n        \"samples\": [\n          302.36688,\n          214.98550000000003,\n          791.81433\n        ],\n        \"semantic_type\": \"\",\n        \"description\": \"\"\n      }\n    },\n    {\n      \"column\": \"xmax\",\n      \"properties\": {\n        \"dtype\": \"number\",\n        \"std\": 561.0914950195455,\n        \"min\": -511.51757188498414,\n        \"max\": 6391.445306,\n        \"num_unique_values\": 10197,\n        \"samples\": [\n          1904.0734701102754,\n          2608.3425,\n          1781.5358232567478\n        ],\n        \"semantic_type\": \"\",\n        \"description\": \"\"\n      }\n    },\n    {\n      \"column\": \"ymax\",\n      \"properties\": {\n        \"dtype\": \"number\",\n        \"std\": 365.5745971229929,\n        \"min\": -196.4856230031949,\n        \"max\": 4521.969700000001,\n        \"num_unique_values\": 10181,\n        \"samples\": [\n          1507.8014147569986,\n          1443.6315789473683,\n          1459.5831\n        ],\n        \"semantic_type\": \"\",\n        \"description\": \"\"\n      }\n    }\n  ]\n}"
            }
          },
          "metadata": {},
          "execution_count": 41
        }
      ]
    },
    {
      "cell_type": "code",
      "source": [
        "df.info()"
      ],
      "metadata": {
        "colab": {
          "base_uri": "https://localhost:8080/"
        },
        "id": "3rI57JcO6xNE",
        "outputId": "dced17a9-bf14-4953-ccd0-4bfb09cef4ae"
      },
      "execution_count": null,
      "outputs": [
        {
          "output_type": "stream",
          "name": "stdout",
          "text": [
            "<class 'pandas.core.frame.DataFrame'>\n",
            "RangeIndex: 10218 entries, 0 to 10217\n",
            "Data columns (total 6 columns):\n",
            " #   Column  Non-Null Count  Dtype  \n",
            "---  ------  --------------  -----  \n",
            " 0   file    10218 non-null  object \n",
            " 1   name    10218 non-null  object \n",
            " 2   xmin    10218 non-null  float64\n",
            " 3   ymin    10218 non-null  float64\n",
            " 4   xmax    10218 non-null  float64\n",
            " 5   ymax    10218 non-null  float64\n",
            "dtypes: float64(4), object(2)\n",
            "memory usage: 479.1+ KB\n"
          ]
        }
      ]
    },
    {
      "cell_type": "code",
      "source": [
        "name_dict = {\n",
        "    '분노': 0,\n",
        "    '기쁨': 1,\n",
        "    '당황': 2,\n",
        "    '슬픔': 3,\n",
        "    '중립': 4\n",
        "\n",
        "}\n",
        "\n",
        "df['class'] = df['name'].map(name_dict)"
      ],
      "metadata": {
        "id": "KNIDwbaL6yZc"
      },
      "execution_count": null,
      "outputs": []
    },
    {
      "cell_type": "code",
      "source": [
        "df1 = pd.read_csv('/content/drive/MyDrive/감정따뜻쟁이/filesize2.csv')"
      ],
      "metadata": {
        "id": "r3Razuk37HLE"
      },
      "execution_count": null,
      "outputs": []
    },
    {
      "cell_type": "code",
      "source": [
        "df = pd.merge(df, df1, on='file', how='inner')"
      ],
      "metadata": {
        "collapsed": true,
        "id": "71vWi3_I7Oh8"
      },
      "execution_count": null,
      "outputs": []
    },
    {
      "cell_type": "code",
      "source": [
        "df.info()"
      ],
      "metadata": {
        "colab": {
          "base_uri": "https://localhost:8080/"
        },
        "id": "5FdFJT2L7QO8",
        "outputId": "9be7fa37-1d98-4902-a6cc-926598913bd3"
      },
      "execution_count": null,
      "outputs": [
        {
          "output_type": "stream",
          "name": "stdout",
          "text": [
            "<class 'pandas.core.frame.DataFrame'>\n",
            "RangeIndex: 10094 entries, 0 to 10093\n",
            "Data columns (total 9 columns):\n",
            " #   Column  Non-Null Count  Dtype  \n",
            "---  ------  --------------  -----  \n",
            " 0   file    10094 non-null  object \n",
            " 1   name    10094 non-null  object \n",
            " 2   xmin    10094 non-null  float64\n",
            " 3   ymin    10094 non-null  float64\n",
            " 4   xmax    10094 non-null  float64\n",
            " 5   ymax    10094 non-null  float64\n",
            " 6   class   10094 non-null  int64  \n",
            " 7   width   10094 non-null  int64  \n",
            " 8   height  10094 non-null  int64  \n",
            "dtypes: float64(4), int64(3), object(2)\n",
            "memory usage: 709.9+ KB\n"
          ]
        }
      ]
    },
    {
      "cell_type": "code",
      "source": [
        "df.head()"
      ],
      "metadata": {
        "colab": {
          "base_uri": "https://localhost:8080/",
          "height": 206
        },
        "id": "_uhdxz-Z8Gh0",
        "outputId": "52d70ce4-f95d-4924-d8b0-24b4bba7c4d6"
      },
      "execution_count": null,
      "outputs": [
        {
          "output_type": "execute_result",
          "data": {
            "text/plain": [
              "                                                file name         xmin  \\\n",
              "0  sfpsd1254c044a197b3440b24c44b0cbe0b294f90ac879...   기쁨  1504.474500   \n",
              "1  2tby14ba67fea06c15c1c19c15c47b0a7c90bbe3f06076...   기쁨  1316.008500   \n",
              "2  0jsg06048a28fde3caad404f93dec397e5c579e83c1c2c...   기쁨  1563.979100   \n",
              "3  kcj92df0c0404d268c1a2bb901ac34326fd734416b4204...   기쁨   990.366600   \n",
              "4  zlye07fb710879977db578f793838be19b15b80543e98b...   기쁨  1129.214047   \n",
              "\n",
              "         ymin         xmax         ymax  class  width  height  \n",
              "0  642.640800  2243.173300  1596.718300      1   3264    2448  \n",
              "1  515.588943  2075.192400  1604.840914      1   2944    2208  \n",
              "2  630.578000  2147.691000  1409.854700      1   3264    2448  \n",
              "3  724.068700  1799.860800  1808.655200      1   3264    2448  \n",
              "4  456.744658  1995.204053  1707.601262      1   2880    2160  "
            ],
            "text/html": [
              "\n",
              "  <div id=\"df-4e688267-c26b-45cf-bfe0-c3fa442489eb\" class=\"colab-df-container\">\n",
              "    <div>\n",
              "<style scoped>\n",
              "    .dataframe tbody tr th:only-of-type {\n",
              "        vertical-align: middle;\n",
              "    }\n",
              "\n",
              "    .dataframe tbody tr th {\n",
              "        vertical-align: top;\n",
              "    }\n",
              "\n",
              "    .dataframe thead th {\n",
              "        text-align: right;\n",
              "    }\n",
              "</style>\n",
              "<table border=\"1\" class=\"dataframe\">\n",
              "  <thead>\n",
              "    <tr style=\"text-align: right;\">\n",
              "      <th></th>\n",
              "      <th>file</th>\n",
              "      <th>name</th>\n",
              "      <th>xmin</th>\n",
              "      <th>ymin</th>\n",
              "      <th>xmax</th>\n",
              "      <th>ymax</th>\n",
              "      <th>class</th>\n",
              "      <th>width</th>\n",
              "      <th>height</th>\n",
              "    </tr>\n",
              "  </thead>\n",
              "  <tbody>\n",
              "    <tr>\n",
              "      <th>0</th>\n",
              "      <td>sfpsd1254c044a197b3440b24c44b0cbe0b294f90ac879...</td>\n",
              "      <td>기쁨</td>\n",
              "      <td>1504.474500</td>\n",
              "      <td>642.640800</td>\n",
              "      <td>2243.173300</td>\n",
              "      <td>1596.718300</td>\n",
              "      <td>1</td>\n",
              "      <td>3264</td>\n",
              "      <td>2448</td>\n",
              "    </tr>\n",
              "    <tr>\n",
              "      <th>1</th>\n",
              "      <td>2tby14ba67fea06c15c1c19c15c47b0a7c90bbe3f06076...</td>\n",
              "      <td>기쁨</td>\n",
              "      <td>1316.008500</td>\n",
              "      <td>515.588943</td>\n",
              "      <td>2075.192400</td>\n",
              "      <td>1604.840914</td>\n",
              "      <td>1</td>\n",
              "      <td>2944</td>\n",
              "      <td>2208</td>\n",
              "    </tr>\n",
              "    <tr>\n",
              "      <th>2</th>\n",
              "      <td>0jsg06048a28fde3caad404f93dec397e5c579e83c1c2c...</td>\n",
              "      <td>기쁨</td>\n",
              "      <td>1563.979100</td>\n",
              "      <td>630.578000</td>\n",
              "      <td>2147.691000</td>\n",
              "      <td>1409.854700</td>\n",
              "      <td>1</td>\n",
              "      <td>3264</td>\n",
              "      <td>2448</td>\n",
              "    </tr>\n",
              "    <tr>\n",
              "      <th>3</th>\n",
              "      <td>kcj92df0c0404d268c1a2bb901ac34326fd734416b4204...</td>\n",
              "      <td>기쁨</td>\n",
              "      <td>990.366600</td>\n",
              "      <td>724.068700</td>\n",
              "      <td>1799.860800</td>\n",
              "      <td>1808.655200</td>\n",
              "      <td>1</td>\n",
              "      <td>3264</td>\n",
              "      <td>2448</td>\n",
              "    </tr>\n",
              "    <tr>\n",
              "      <th>4</th>\n",
              "      <td>zlye07fb710879977db578f793838be19b15b80543e98b...</td>\n",
              "      <td>기쁨</td>\n",
              "      <td>1129.214047</td>\n",
              "      <td>456.744658</td>\n",
              "      <td>1995.204053</td>\n",
              "      <td>1707.601262</td>\n",
              "      <td>1</td>\n",
              "      <td>2880</td>\n",
              "      <td>2160</td>\n",
              "    </tr>\n",
              "  </tbody>\n",
              "</table>\n",
              "</div>\n",
              "    <div class=\"colab-df-buttons\">\n",
              "\n",
              "  <div class=\"colab-df-container\">\n",
              "    <button class=\"colab-df-convert\" onclick=\"convertToInteractive('df-4e688267-c26b-45cf-bfe0-c3fa442489eb')\"\n",
              "            title=\"Convert this dataframe to an interactive table.\"\n",
              "            style=\"display:none;\">\n",
              "\n",
              "  <svg xmlns=\"http://www.w3.org/2000/svg\" height=\"24px\" viewBox=\"0 -960 960 960\">\n",
              "    <path d=\"M120-120v-720h720v720H120Zm60-500h600v-160H180v160Zm220 220h160v-160H400v160Zm0 220h160v-160H400v160ZM180-400h160v-160H180v160Zm440 0h160v-160H620v160ZM180-180h160v-160H180v160Zm440 0h160v-160H620v160Z\"/>\n",
              "  </svg>\n",
              "    </button>\n",
              "\n",
              "  <style>\n",
              "    .colab-df-container {\n",
              "      display:flex;\n",
              "      gap: 12px;\n",
              "    }\n",
              "\n",
              "    .colab-df-convert {\n",
              "      background-color: #E8F0FE;\n",
              "      border: none;\n",
              "      border-radius: 50%;\n",
              "      cursor: pointer;\n",
              "      display: none;\n",
              "      fill: #1967D2;\n",
              "      height: 32px;\n",
              "      padding: 0 0 0 0;\n",
              "      width: 32px;\n",
              "    }\n",
              "\n",
              "    .colab-df-convert:hover {\n",
              "      background-color: #E2EBFA;\n",
              "      box-shadow: 0px 1px 2px rgba(60, 64, 67, 0.3), 0px 1px 3px 1px rgba(60, 64, 67, 0.15);\n",
              "      fill: #174EA6;\n",
              "    }\n",
              "\n",
              "    .colab-df-buttons div {\n",
              "      margin-bottom: 4px;\n",
              "    }\n",
              "\n",
              "    [theme=dark] .colab-df-convert {\n",
              "      background-color: #3B4455;\n",
              "      fill: #D2E3FC;\n",
              "    }\n",
              "\n",
              "    [theme=dark] .colab-df-convert:hover {\n",
              "      background-color: #434B5C;\n",
              "      box-shadow: 0px 1px 3px 1px rgba(0, 0, 0, 0.15);\n",
              "      filter: drop-shadow(0px 1px 2px rgba(0, 0, 0, 0.3));\n",
              "      fill: #FFFFFF;\n",
              "    }\n",
              "  </style>\n",
              "\n",
              "    <script>\n",
              "      const buttonEl =\n",
              "        document.querySelector('#df-4e688267-c26b-45cf-bfe0-c3fa442489eb button.colab-df-convert');\n",
              "      buttonEl.style.display =\n",
              "        google.colab.kernel.accessAllowed ? 'block' : 'none';\n",
              "\n",
              "      async function convertToInteractive(key) {\n",
              "        const element = document.querySelector('#df-4e688267-c26b-45cf-bfe0-c3fa442489eb');\n",
              "        const dataTable =\n",
              "          await google.colab.kernel.invokeFunction('convertToInteractive',\n",
              "                                                    [key], {});\n",
              "        if (!dataTable) return;\n",
              "\n",
              "        const docLinkHtml = 'Like what you see? Visit the ' +\n",
              "          '<a target=\"_blank\" href=https://colab.research.google.com/notebooks/data_table.ipynb>data table notebook</a>'\n",
              "          + ' to learn more about interactive tables.';\n",
              "        element.innerHTML = '';\n",
              "        dataTable['output_type'] = 'display_data';\n",
              "        await google.colab.output.renderOutput(dataTable, element);\n",
              "        const docLink = document.createElement('div');\n",
              "        docLink.innerHTML = docLinkHtml;\n",
              "        element.appendChild(docLink);\n",
              "      }\n",
              "    </script>\n",
              "  </div>\n",
              "\n",
              "\n",
              "<div id=\"df-ff68760f-00a8-456f-88ea-ee53ef69e067\">\n",
              "  <button class=\"colab-df-quickchart\" onclick=\"quickchart('df-ff68760f-00a8-456f-88ea-ee53ef69e067')\"\n",
              "            title=\"Suggest charts\"\n",
              "            style=\"display:none;\">\n",
              "\n",
              "<svg xmlns=\"http://www.w3.org/2000/svg\" height=\"24px\"viewBox=\"0 0 24 24\"\n",
              "     width=\"24px\">\n",
              "    <g>\n",
              "        <path d=\"M19 3H5c-1.1 0-2 .9-2 2v14c0 1.1.9 2 2 2h14c1.1 0 2-.9 2-2V5c0-1.1-.9-2-2-2zM9 17H7v-7h2v7zm4 0h-2V7h2v10zm4 0h-2v-4h2v4z\"/>\n",
              "    </g>\n",
              "</svg>\n",
              "  </button>\n",
              "\n",
              "<style>\n",
              "  .colab-df-quickchart {\n",
              "      --bg-color: #E8F0FE;\n",
              "      --fill-color: #1967D2;\n",
              "      --hover-bg-color: #E2EBFA;\n",
              "      --hover-fill-color: #174EA6;\n",
              "      --disabled-fill-color: #AAA;\n",
              "      --disabled-bg-color: #DDD;\n",
              "  }\n",
              "\n",
              "  [theme=dark] .colab-df-quickchart {\n",
              "      --bg-color: #3B4455;\n",
              "      --fill-color: #D2E3FC;\n",
              "      --hover-bg-color: #434B5C;\n",
              "      --hover-fill-color: #FFFFFF;\n",
              "      --disabled-bg-color: #3B4455;\n",
              "      --disabled-fill-color: #666;\n",
              "  }\n",
              "\n",
              "  .colab-df-quickchart {\n",
              "    background-color: var(--bg-color);\n",
              "    border: none;\n",
              "    border-radius: 50%;\n",
              "    cursor: pointer;\n",
              "    display: none;\n",
              "    fill: var(--fill-color);\n",
              "    height: 32px;\n",
              "    padding: 0;\n",
              "    width: 32px;\n",
              "  }\n",
              "\n",
              "  .colab-df-quickchart:hover {\n",
              "    background-color: var(--hover-bg-color);\n",
              "    box-shadow: 0 1px 2px rgba(60, 64, 67, 0.3), 0 1px 3px 1px rgba(60, 64, 67, 0.15);\n",
              "    fill: var(--button-hover-fill-color);\n",
              "  }\n",
              "\n",
              "  .colab-df-quickchart-complete:disabled,\n",
              "  .colab-df-quickchart-complete:disabled:hover {\n",
              "    background-color: var(--disabled-bg-color);\n",
              "    fill: var(--disabled-fill-color);\n",
              "    box-shadow: none;\n",
              "  }\n",
              "\n",
              "  .colab-df-spinner {\n",
              "    border: 2px solid var(--fill-color);\n",
              "    border-color: transparent;\n",
              "    border-bottom-color: var(--fill-color);\n",
              "    animation:\n",
              "      spin 1s steps(1) infinite;\n",
              "  }\n",
              "\n",
              "  @keyframes spin {\n",
              "    0% {\n",
              "      border-color: transparent;\n",
              "      border-bottom-color: var(--fill-color);\n",
              "      border-left-color: var(--fill-color);\n",
              "    }\n",
              "    20% {\n",
              "      border-color: transparent;\n",
              "      border-left-color: var(--fill-color);\n",
              "      border-top-color: var(--fill-color);\n",
              "    }\n",
              "    30% {\n",
              "      border-color: transparent;\n",
              "      border-left-color: var(--fill-color);\n",
              "      border-top-color: var(--fill-color);\n",
              "      border-right-color: var(--fill-color);\n",
              "    }\n",
              "    40% {\n",
              "      border-color: transparent;\n",
              "      border-right-color: var(--fill-color);\n",
              "      border-top-color: var(--fill-color);\n",
              "    }\n",
              "    60% {\n",
              "      border-color: transparent;\n",
              "      border-right-color: var(--fill-color);\n",
              "    }\n",
              "    80% {\n",
              "      border-color: transparent;\n",
              "      border-right-color: var(--fill-color);\n",
              "      border-bottom-color: var(--fill-color);\n",
              "    }\n",
              "    90% {\n",
              "      border-color: transparent;\n",
              "      border-bottom-color: var(--fill-color);\n",
              "    }\n",
              "  }\n",
              "</style>\n",
              "\n",
              "  <script>\n",
              "    async function quickchart(key) {\n",
              "      const quickchartButtonEl =\n",
              "        document.querySelector('#' + key + ' button');\n",
              "      quickchartButtonEl.disabled = true;  // To prevent multiple clicks.\n",
              "      quickchartButtonEl.classList.add('colab-df-spinner');\n",
              "      try {\n",
              "        const charts = await google.colab.kernel.invokeFunction(\n",
              "            'suggestCharts', [key], {});\n",
              "      } catch (error) {\n",
              "        console.error('Error during call to suggestCharts:', error);\n",
              "      }\n",
              "      quickchartButtonEl.classList.remove('colab-df-spinner');\n",
              "      quickchartButtonEl.classList.add('colab-df-quickchart-complete');\n",
              "    }\n",
              "    (() => {\n",
              "      let quickchartButtonEl =\n",
              "        document.querySelector('#df-ff68760f-00a8-456f-88ea-ee53ef69e067 button');\n",
              "      quickchartButtonEl.style.display =\n",
              "        google.colab.kernel.accessAllowed ? 'block' : 'none';\n",
              "    })();\n",
              "  </script>\n",
              "</div>\n",
              "\n",
              "    </div>\n",
              "  </div>\n"
            ],
            "application/vnd.google.colaboratory.intrinsic+json": {
              "type": "dataframe",
              "variable_name": "df",
              "summary": "{\n  \"name\": \"df\",\n  \"rows\": 10094,\n  \"fields\": [\n    {\n      \"column\": \"file\",\n      \"properties\": {\n        \"dtype\": \"string\",\n        \"num_unique_values\": 10094,\n        \"samples\": [\n          \"lwvm7fbcc095cf42e2dfe95db29b4b58ff6fe41e54ffddfdfdb7f2f7592912yzf.jpg\",\n          \"ouvdd4073c850482e0ecce39349a75198eb999e887faf3e449f83f277cb13nvjg.jpg\",\n          \"7d12b0e7aeddf739d5815fce28344e0b44596fd2172e4cad84f3878ecb9604413020201207175742010004.jpg\"\n        ],\n        \"semantic_type\": \"\",\n        \"description\": \"\"\n      }\n    },\n    {\n      \"column\": \"name\",\n      \"properties\": {\n        \"dtype\": \"category\",\n        \"num_unique_values\": 5,\n        \"samples\": [\n          \"\\ub2f9\\ud669\",\n          \"\\uc911\\ub9bd\",\n          \"\\ubd84\\ub178\"\n        ],\n        \"semantic_type\": \"\",\n        \"description\": \"\"\n      }\n    },\n    {\n      \"column\": \"xmin\",\n      \"properties\": {\n        \"dtype\": \"number\",\n        \"std\": 470.5377615843213,\n        \"min\": -511.51757188498414,\n        \"max\": 4368.234906,\n        \"num_unique_values\": 10069,\n        \"samples\": [\n          1348.1129677287265,\n          1755.7790410958905,\n          2254.4194\n        ],\n        \"semantic_type\": \"\",\n        \"description\": \"\"\n      }\n    },\n    {\n      \"column\": \"ymin\",\n      \"properties\": {\n        \"dtype\": \"number\",\n        \"std\": 227.765430245225,\n        \"min\": -219.04761904761907,\n        \"max\": 2370.4430000000007,\n        \"num_unique_values\": 10024,\n        \"samples\": [\n          509.91913,\n          431.02432,\n          251.08657999999997\n        ],\n        \"semantic_type\": \"\",\n        \"description\": \"\"\n      }\n    },\n    {\n      \"column\": \"xmax\",\n      \"properties\": {\n        \"dtype\": \"number\",\n        \"std\": 562.3222788427114,\n        \"min\": -511.51757188498414,\n        \"max\": 6391.445306,\n        \"num_unique_values\": 10073,\n        \"samples\": [\n          2076.1007261889167,\n          2676.8424410958905,\n          2805.5588\n        ],\n        \"semantic_type\": \"\",\n        \"description\": \"\"\n      }\n    },\n    {\n      \"column\": \"ymax\",\n      \"properties\": {\n        \"dtype\": \"number\",\n        \"std\": 366.4686406395736,\n        \"min\": -196.4856230031949,\n        \"max\": 4521.969700000001,\n        \"num_unique_values\": 10057,\n        \"samples\": [\n          1647.3517,\n          1526.6211675436427,\n          2093.6616\n        ],\n        \"semantic_type\": \"\",\n        \"description\": \"\"\n      }\n    },\n    {\n      \"column\": \"class\",\n      \"properties\": {\n        \"dtype\": \"number\",\n        \"std\": 1,\n        \"min\": 0,\n        \"max\": 4,\n        \"num_unique_values\": 5,\n        \"samples\": [\n          2,\n          4,\n          0\n        ],\n        \"semantic_type\": \"\",\n        \"description\": \"\"\n      }\n    },\n    {\n      \"column\": \"width\",\n      \"properties\": {\n        \"dtype\": \"number\",\n        \"std\": 679,\n        \"min\": 750,\n        \"max\": 9248,\n        \"num_unique_values\": 83,\n        \"samples\": [\n          1600,\n          3264,\n          7296\n        ],\n        \"semantic_type\": \"\",\n        \"description\": \"\"\n      }\n    },\n    {\n      \"column\": \"height\",\n      \"properties\": {\n        \"dtype\": \"number\",\n        \"std\": 521,\n        \"min\": 540,\n        \"max\": 6936,\n        \"num_unique_values\": 125,\n        \"samples\": [\n          2469,\n          1124,\n          1288\n        ],\n        \"semantic_type\": \"\",\n        \"description\": \"\"\n      }\n    }\n  ]\n}"
            }
          },
          "metadata": {},
          "execution_count": 55
        }
      ]
    },
    {
      "cell_type": "code",
      "source": [
        "import os\n",
        "\n",
        "input_data_train = \"/content/drive/MyDrive/yolo_output/train/images/\"\n",
        "input_data_test = \"/content/drive/MyDrive/yolo_output/test/images/\"\n",
        "input_data_val = \"/content/drive/MyDrive/yolo_output/val/images/\"\n",
        "\n",
        "# train 폴더에 있는 이미지 파일 이름 리스트 가져오기\n",
        "train = os.listdir(input_data_train)\n",
        "test = os.listdir(input_data_test)\n",
        "val = os.listdir(input_data_val)"
      ],
      "metadata": {
        "id": "Yt-n79P88cQE"
      },
      "execution_count": null,
      "outputs": []
    },
    {
      "cell_type": "code",
      "source": [
        "df['xmax'] = (640/df['width'])*df['xmax']\n",
        "df['ymax'] = (480/df['height'])*df['ymax']\n",
        "df['xmin'] = (640/df['width'])*df['xmin']\n",
        "df['ymin'] = (480/df['height'])*df['ymin']\n",
        "\n",
        "df[['xmax', 'ymax', 'xmin', 'ymin']] = df[['xmax', 'ymax', 'xmin', 'ymin']].astype('int64')\n",
        "\n",
        "df['x_center'] = (df['xmax']+df['xmin'])/(2*640)\n",
        "df['y_center'] = (df['ymax']+df['ymin'])/(2*480)\n",
        "df['box_height'] = (df['xmax']-df['xmin'])/(640)\n",
        "df['box_width'] = (df['ymax']-df['ymin'])/(480)\n",
        "\n",
        "df = df.astype('string')"
      ],
      "metadata": {
        "id": "0iexdBwF9hvc"
      },
      "execution_count": null,
      "outputs": []
    },
    {
      "cell_type": "code",
      "source": [
        "df.tail()"
      ],
      "metadata": {
        "colab": {
          "base_uri": "https://localhost:8080/",
          "height": 206
        },
        "id": "SlwbSIp79k-8",
        "outputId": "48631202-577e-4555-b8a9-75fecfb7bf20"
      },
      "execution_count": null,
      "outputs": [
        {
          "output_type": "execute_result",
          "data": {
            "text/plain": [
              "                                                    file name xmin ymin xmax  \\\n",
              "10089  afb0bb7094b1a1bced33f5b35a9b8675dde843a3358d44...   중립  272  195  444   \n",
              "10090  b6af6124fe0c7522957914b8b55fb51ff7a4e3fe2257f5...   중립  295  146  494   \n",
              "10091  b9fe721b4af0b2a0ef71b53caa7016f9e8501deb2c3f7d...   중립  226   31  403   \n",
              "10092  ba6ade7a8efcab543807ee3abfc5673d085194867c1ed8...   중립  266   57  472   \n",
              "10093  b462163957ee601cee362b66f62b26ce4eb5dc7f3b9db8...   중립  105   18  268   \n",
              "\n",
              "      ymax class width height    x_center             y_center box_height  \\\n",
              "10089  425     4  3264   2448    0.559375   0.6458333333333334    0.26875   \n",
              "10090  410     4  2640   1980  0.61640625   0.5791666666666667  0.3109375   \n",
              "10091  447     4  3264   1472  0.49140625   0.4979166666666667  0.2765625   \n",
              "10092  328     4  2640   1980   0.5765625   0.4010416666666667   0.321875   \n",
              "10093  271     4  2640   1488  0.29140625  0.30104166666666665  0.2546875   \n",
              "\n",
              "                box_width  \n",
              "10089  0.4791666666666667  \n",
              "10090                0.55  \n",
              "10091  0.8666666666666667  \n",
              "10092  0.5645833333333333  \n",
              "10093  0.5270833333333333  "
            ],
            "text/html": [
              "\n",
              "  <div id=\"df-86629a8a-e32b-40a4-b7b0-907daa86ccc9\" class=\"colab-df-container\">\n",
              "    <div>\n",
              "<style scoped>\n",
              "    .dataframe tbody tr th:only-of-type {\n",
              "        vertical-align: middle;\n",
              "    }\n",
              "\n",
              "    .dataframe tbody tr th {\n",
              "        vertical-align: top;\n",
              "    }\n",
              "\n",
              "    .dataframe thead th {\n",
              "        text-align: right;\n",
              "    }\n",
              "</style>\n",
              "<table border=\"1\" class=\"dataframe\">\n",
              "  <thead>\n",
              "    <tr style=\"text-align: right;\">\n",
              "      <th></th>\n",
              "      <th>file</th>\n",
              "      <th>name</th>\n",
              "      <th>xmin</th>\n",
              "      <th>ymin</th>\n",
              "      <th>xmax</th>\n",
              "      <th>ymax</th>\n",
              "      <th>class</th>\n",
              "      <th>width</th>\n",
              "      <th>height</th>\n",
              "      <th>x_center</th>\n",
              "      <th>y_center</th>\n",
              "      <th>box_height</th>\n",
              "      <th>box_width</th>\n",
              "    </tr>\n",
              "  </thead>\n",
              "  <tbody>\n",
              "    <tr>\n",
              "      <th>10089</th>\n",
              "      <td>afb0bb7094b1a1bced33f5b35a9b8675dde843a3358d44...</td>\n",
              "      <td>중립</td>\n",
              "      <td>272</td>\n",
              "      <td>195</td>\n",
              "      <td>444</td>\n",
              "      <td>425</td>\n",
              "      <td>4</td>\n",
              "      <td>3264</td>\n",
              "      <td>2448</td>\n",
              "      <td>0.559375</td>\n",
              "      <td>0.6458333333333334</td>\n",
              "      <td>0.26875</td>\n",
              "      <td>0.4791666666666667</td>\n",
              "    </tr>\n",
              "    <tr>\n",
              "      <th>10090</th>\n",
              "      <td>b6af6124fe0c7522957914b8b55fb51ff7a4e3fe2257f5...</td>\n",
              "      <td>중립</td>\n",
              "      <td>295</td>\n",
              "      <td>146</td>\n",
              "      <td>494</td>\n",
              "      <td>410</td>\n",
              "      <td>4</td>\n",
              "      <td>2640</td>\n",
              "      <td>1980</td>\n",
              "      <td>0.61640625</td>\n",
              "      <td>0.5791666666666667</td>\n",
              "      <td>0.3109375</td>\n",
              "      <td>0.55</td>\n",
              "    </tr>\n",
              "    <tr>\n",
              "      <th>10091</th>\n",
              "      <td>b9fe721b4af0b2a0ef71b53caa7016f9e8501deb2c3f7d...</td>\n",
              "      <td>중립</td>\n",
              "      <td>226</td>\n",
              "      <td>31</td>\n",
              "      <td>403</td>\n",
              "      <td>447</td>\n",
              "      <td>4</td>\n",
              "      <td>3264</td>\n",
              "      <td>1472</td>\n",
              "      <td>0.49140625</td>\n",
              "      <td>0.4979166666666667</td>\n",
              "      <td>0.2765625</td>\n",
              "      <td>0.8666666666666667</td>\n",
              "    </tr>\n",
              "    <tr>\n",
              "      <th>10092</th>\n",
              "      <td>ba6ade7a8efcab543807ee3abfc5673d085194867c1ed8...</td>\n",
              "      <td>중립</td>\n",
              "      <td>266</td>\n",
              "      <td>57</td>\n",
              "      <td>472</td>\n",
              "      <td>328</td>\n",
              "      <td>4</td>\n",
              "      <td>2640</td>\n",
              "      <td>1980</td>\n",
              "      <td>0.5765625</td>\n",
              "      <td>0.4010416666666667</td>\n",
              "      <td>0.321875</td>\n",
              "      <td>0.5645833333333333</td>\n",
              "    </tr>\n",
              "    <tr>\n",
              "      <th>10093</th>\n",
              "      <td>b462163957ee601cee362b66f62b26ce4eb5dc7f3b9db8...</td>\n",
              "      <td>중립</td>\n",
              "      <td>105</td>\n",
              "      <td>18</td>\n",
              "      <td>268</td>\n",
              "      <td>271</td>\n",
              "      <td>4</td>\n",
              "      <td>2640</td>\n",
              "      <td>1488</td>\n",
              "      <td>0.29140625</td>\n",
              "      <td>0.30104166666666665</td>\n",
              "      <td>0.2546875</td>\n",
              "      <td>0.5270833333333333</td>\n",
              "    </tr>\n",
              "  </tbody>\n",
              "</table>\n",
              "</div>\n",
              "    <div class=\"colab-df-buttons\">\n",
              "\n",
              "  <div class=\"colab-df-container\">\n",
              "    <button class=\"colab-df-convert\" onclick=\"convertToInteractive('df-86629a8a-e32b-40a4-b7b0-907daa86ccc9')\"\n",
              "            title=\"Convert this dataframe to an interactive table.\"\n",
              "            style=\"display:none;\">\n",
              "\n",
              "  <svg xmlns=\"http://www.w3.org/2000/svg\" height=\"24px\" viewBox=\"0 -960 960 960\">\n",
              "    <path d=\"M120-120v-720h720v720H120Zm60-500h600v-160H180v160Zm220 220h160v-160H400v160Zm0 220h160v-160H400v160ZM180-400h160v-160H180v160Zm440 0h160v-160H620v160ZM180-180h160v-160H180v160Zm440 0h160v-160H620v160Z\"/>\n",
              "  </svg>\n",
              "    </button>\n",
              "\n",
              "  <style>\n",
              "    .colab-df-container {\n",
              "      display:flex;\n",
              "      gap: 12px;\n",
              "    }\n",
              "\n",
              "    .colab-df-convert {\n",
              "      background-color: #E8F0FE;\n",
              "      border: none;\n",
              "      border-radius: 50%;\n",
              "      cursor: pointer;\n",
              "      display: none;\n",
              "      fill: #1967D2;\n",
              "      height: 32px;\n",
              "      padding: 0 0 0 0;\n",
              "      width: 32px;\n",
              "    }\n",
              "\n",
              "    .colab-df-convert:hover {\n",
              "      background-color: #E2EBFA;\n",
              "      box-shadow: 0px 1px 2px rgba(60, 64, 67, 0.3), 0px 1px 3px 1px rgba(60, 64, 67, 0.15);\n",
              "      fill: #174EA6;\n",
              "    }\n",
              "\n",
              "    .colab-df-buttons div {\n",
              "      margin-bottom: 4px;\n",
              "    }\n",
              "\n",
              "    [theme=dark] .colab-df-convert {\n",
              "      background-color: #3B4455;\n",
              "      fill: #D2E3FC;\n",
              "    }\n",
              "\n",
              "    [theme=dark] .colab-df-convert:hover {\n",
              "      background-color: #434B5C;\n",
              "      box-shadow: 0px 1px 3px 1px rgba(0, 0, 0, 0.15);\n",
              "      filter: drop-shadow(0px 1px 2px rgba(0, 0, 0, 0.3));\n",
              "      fill: #FFFFFF;\n",
              "    }\n",
              "  </style>\n",
              "\n",
              "    <script>\n",
              "      const buttonEl =\n",
              "        document.querySelector('#df-86629a8a-e32b-40a4-b7b0-907daa86ccc9 button.colab-df-convert');\n",
              "      buttonEl.style.display =\n",
              "        google.colab.kernel.accessAllowed ? 'block' : 'none';\n",
              "\n",
              "      async function convertToInteractive(key) {\n",
              "        const element = document.querySelector('#df-86629a8a-e32b-40a4-b7b0-907daa86ccc9');\n",
              "        const dataTable =\n",
              "          await google.colab.kernel.invokeFunction('convertToInteractive',\n",
              "                                                    [key], {});\n",
              "        if (!dataTable) return;\n",
              "\n",
              "        const docLinkHtml = 'Like what you see? Visit the ' +\n",
              "          '<a target=\"_blank\" href=https://colab.research.google.com/notebooks/data_table.ipynb>data table notebook</a>'\n",
              "          + ' to learn more about interactive tables.';\n",
              "        element.innerHTML = '';\n",
              "        dataTable['output_type'] = 'display_data';\n",
              "        await google.colab.output.renderOutput(dataTable, element);\n",
              "        const docLink = document.createElement('div');\n",
              "        docLink.innerHTML = docLinkHtml;\n",
              "        element.appendChild(docLink);\n",
              "      }\n",
              "    </script>\n",
              "  </div>\n",
              "\n",
              "\n",
              "<div id=\"df-87c52ca9-d179-4fe0-831e-9e58e44c42c8\">\n",
              "  <button class=\"colab-df-quickchart\" onclick=\"quickchart('df-87c52ca9-d179-4fe0-831e-9e58e44c42c8')\"\n",
              "            title=\"Suggest charts\"\n",
              "            style=\"display:none;\">\n",
              "\n",
              "<svg xmlns=\"http://www.w3.org/2000/svg\" height=\"24px\"viewBox=\"0 0 24 24\"\n",
              "     width=\"24px\">\n",
              "    <g>\n",
              "        <path d=\"M19 3H5c-1.1 0-2 .9-2 2v14c0 1.1.9 2 2 2h14c1.1 0 2-.9 2-2V5c0-1.1-.9-2-2-2zM9 17H7v-7h2v7zm4 0h-2V7h2v10zm4 0h-2v-4h2v4z\"/>\n",
              "    </g>\n",
              "</svg>\n",
              "  </button>\n",
              "\n",
              "<style>\n",
              "  .colab-df-quickchart {\n",
              "      --bg-color: #E8F0FE;\n",
              "      --fill-color: #1967D2;\n",
              "      --hover-bg-color: #E2EBFA;\n",
              "      --hover-fill-color: #174EA6;\n",
              "      --disabled-fill-color: #AAA;\n",
              "      --disabled-bg-color: #DDD;\n",
              "  }\n",
              "\n",
              "  [theme=dark] .colab-df-quickchart {\n",
              "      --bg-color: #3B4455;\n",
              "      --fill-color: #D2E3FC;\n",
              "      --hover-bg-color: #434B5C;\n",
              "      --hover-fill-color: #FFFFFF;\n",
              "      --disabled-bg-color: #3B4455;\n",
              "      --disabled-fill-color: #666;\n",
              "  }\n",
              "\n",
              "  .colab-df-quickchart {\n",
              "    background-color: var(--bg-color);\n",
              "    border: none;\n",
              "    border-radius: 50%;\n",
              "    cursor: pointer;\n",
              "    display: none;\n",
              "    fill: var(--fill-color);\n",
              "    height: 32px;\n",
              "    padding: 0;\n",
              "    width: 32px;\n",
              "  }\n",
              "\n",
              "  .colab-df-quickchart:hover {\n",
              "    background-color: var(--hover-bg-color);\n",
              "    box-shadow: 0 1px 2px rgba(60, 64, 67, 0.3), 0 1px 3px 1px rgba(60, 64, 67, 0.15);\n",
              "    fill: var(--button-hover-fill-color);\n",
              "  }\n",
              "\n",
              "  .colab-df-quickchart-complete:disabled,\n",
              "  .colab-df-quickchart-complete:disabled:hover {\n",
              "    background-color: var(--disabled-bg-color);\n",
              "    fill: var(--disabled-fill-color);\n",
              "    box-shadow: none;\n",
              "  }\n",
              "\n",
              "  .colab-df-spinner {\n",
              "    border: 2px solid var(--fill-color);\n",
              "    border-color: transparent;\n",
              "    border-bottom-color: var(--fill-color);\n",
              "    animation:\n",
              "      spin 1s steps(1) infinite;\n",
              "  }\n",
              "\n",
              "  @keyframes spin {\n",
              "    0% {\n",
              "      border-color: transparent;\n",
              "      border-bottom-color: var(--fill-color);\n",
              "      border-left-color: var(--fill-color);\n",
              "    }\n",
              "    20% {\n",
              "      border-color: transparent;\n",
              "      border-left-color: var(--fill-color);\n",
              "      border-top-color: var(--fill-color);\n",
              "    }\n",
              "    30% {\n",
              "      border-color: transparent;\n",
              "      border-left-color: var(--fill-color);\n",
              "      border-top-color: var(--fill-color);\n",
              "      border-right-color: var(--fill-color);\n",
              "    }\n",
              "    40% {\n",
              "      border-color: transparent;\n",
              "      border-right-color: var(--fill-color);\n",
              "      border-top-color: var(--fill-color);\n",
              "    }\n",
              "    60% {\n",
              "      border-color: transparent;\n",
              "      border-right-color: var(--fill-color);\n",
              "    }\n",
              "    80% {\n",
              "      border-color: transparent;\n",
              "      border-right-color: var(--fill-color);\n",
              "      border-bottom-color: var(--fill-color);\n",
              "    }\n",
              "    90% {\n",
              "      border-color: transparent;\n",
              "      border-bottom-color: var(--fill-color);\n",
              "    }\n",
              "  }\n",
              "</style>\n",
              "\n",
              "  <script>\n",
              "    async function quickchart(key) {\n",
              "      const quickchartButtonEl =\n",
              "        document.querySelector('#' + key + ' button');\n",
              "      quickchartButtonEl.disabled = true;  // To prevent multiple clicks.\n",
              "      quickchartButtonEl.classList.add('colab-df-spinner');\n",
              "      try {\n",
              "        const charts = await google.colab.kernel.invokeFunction(\n",
              "            'suggestCharts', [key], {});\n",
              "      } catch (error) {\n",
              "        console.error('Error during call to suggestCharts:', error);\n",
              "      }\n",
              "      quickchartButtonEl.classList.remove('colab-df-spinner');\n",
              "      quickchartButtonEl.classList.add('colab-df-quickchart-complete');\n",
              "    }\n",
              "    (() => {\n",
              "      let quickchartButtonEl =\n",
              "        document.querySelector('#df-87c52ca9-d179-4fe0-831e-9e58e44c42c8 button');\n",
              "      quickchartButtonEl.style.display =\n",
              "        google.colab.kernel.accessAllowed ? 'block' : 'none';\n",
              "    })();\n",
              "  </script>\n",
              "</div>\n",
              "\n",
              "    </div>\n",
              "  </div>\n"
            ],
            "application/vnd.google.colaboratory.intrinsic+json": {
              "type": "dataframe",
              "summary": "{\n  \"name\": \"df\",\n  \"rows\": 5,\n  \"fields\": [\n    {\n      \"column\": \"file\",\n      \"properties\": {\n        \"dtype\": \"string\",\n        \"num_unique_values\": 5,\n        \"samples\": [\n          \"b6af6124fe0c7522957914b8b55fb51ff7a4e3fe2257f513dd7de1ffc34707a03020201207172308004018.jpg\",\n          \"b462163957ee601cee362b66f62b26ce4eb5dc7f3b9db836bbda96ded1eccb293020210118143939003010.jpg\",\n          \"b9fe721b4af0b2a0ef71b53caa7016f9e8501deb2c3f7d8d94e41d69717f0e072020210202224439003012.jpg\"\n        ],\n        \"semantic_type\": \"\",\n        \"description\": \"\"\n      }\n    },\n    {\n      \"column\": \"name\",\n      \"properties\": {\n        \"dtype\": \"string\",\n        \"num_unique_values\": 1,\n        \"samples\": [\n          \"\\uc911\\ub9bd\"\n        ],\n        \"semantic_type\": \"\",\n        \"description\": \"\"\n      }\n    },\n    {\n      \"column\": \"xmin\",\n      \"properties\": {\n        \"dtype\": \"string\",\n        \"num_unique_values\": 5,\n        \"samples\": [\n          \"295\"\n        ],\n        \"semantic_type\": \"\",\n        \"description\": \"\"\n      }\n    },\n    {\n      \"column\": \"ymin\",\n      \"properties\": {\n        \"dtype\": \"string\",\n        \"num_unique_values\": 5,\n        \"samples\": [\n          \"146\"\n        ],\n        \"semantic_type\": \"\",\n        \"description\": \"\"\n      }\n    },\n    {\n      \"column\": \"xmax\",\n      \"properties\": {\n        \"dtype\": \"string\",\n        \"num_unique_values\": 5,\n        \"samples\": [\n          \"494\"\n        ],\n        \"semantic_type\": \"\",\n        \"description\": \"\"\n      }\n    },\n    {\n      \"column\": \"ymax\",\n      \"properties\": {\n        \"dtype\": \"string\",\n        \"num_unique_values\": 5,\n        \"samples\": [\n          \"410\"\n        ],\n        \"semantic_type\": \"\",\n        \"description\": \"\"\n      }\n    },\n    {\n      \"column\": \"class\",\n      \"properties\": {\n        \"dtype\": \"string\",\n        \"num_unique_values\": 1,\n        \"samples\": [\n          \"4\"\n        ],\n        \"semantic_type\": \"\",\n        \"description\": \"\"\n      }\n    },\n    {\n      \"column\": \"width\",\n      \"properties\": {\n        \"dtype\": \"string\",\n        \"num_unique_values\": 2,\n        \"samples\": [\n          \"2640\"\n        ],\n        \"semantic_type\": \"\",\n        \"description\": \"\"\n      }\n    },\n    {\n      \"column\": \"height\",\n      \"properties\": {\n        \"dtype\": \"string\",\n        \"num_unique_values\": 4,\n        \"samples\": [\n          \"1980\"\n        ],\n        \"semantic_type\": \"\",\n        \"description\": \"\"\n      }\n    },\n    {\n      \"column\": \"x_center\",\n      \"properties\": {\n        \"dtype\": \"string\",\n        \"num_unique_values\": 5,\n        \"samples\": [\n          \"0.61640625\"\n        ],\n        \"semantic_type\": \"\",\n        \"description\": \"\"\n      }\n    },\n    {\n      \"column\": \"y_center\",\n      \"properties\": {\n        \"dtype\": \"string\",\n        \"num_unique_values\": 5,\n        \"samples\": [\n          \"0.5791666666666667\"\n        ],\n        \"semantic_type\": \"\",\n        \"description\": \"\"\n      }\n    },\n    {\n      \"column\": \"box_height\",\n      \"properties\": {\n        \"dtype\": \"string\",\n        \"num_unique_values\": 5,\n        \"samples\": [\n          \"0.3109375\"\n        ],\n        \"semantic_type\": \"\",\n        \"description\": \"\"\n      }\n    },\n    {\n      \"column\": \"box_width\",\n      \"properties\": {\n        \"dtype\": \"string\",\n        \"num_unique_values\": 5,\n        \"samples\": [\n          \"0.55\"\n        ],\n        \"semantic_type\": \"\",\n        \"description\": \"\"\n      }\n    }\n  ]\n}"
            }
          },
          "metadata": {},
          "execution_count": 59
        }
      ]
    },
    {
      "cell_type": "code",
      "source": [
        "output_data = \"/content/drive/MyDrive/yolo_output\""
      ],
      "metadata": {
        "id": "kaA8ybAx9rjU"
      },
      "execution_count": null,
      "outputs": []
    },
    {
      "cell_type": "code",
      "source": [
        "def create_labels(image_list, data_name):\n",
        "    fileNames = [x.split(\",\")[0] for x in image_list]\n",
        "    for name in fileNames:\n",
        "        data = df[df.file==name]\n",
        "        box_list = []\n",
        "\n",
        "        for index in range(len(data)):\n",
        "            row = data.iloc[index]\n",
        "            box_list.append(row['class']+\" \"+row[\"x_center\"]+\" \"+row[\"y_center\"]\\\n",
        "                        +\" \"+row[\"box_height\"]+\" \"+row[\"box_width\"])\n",
        "\n",
        "        text = \"\\n\".join(box_list)\n",
        "        file_name_without_extension = os.path.splitext(name)[0]\n",
        "        with open(output_data+\"/\"+data_name+\"/labels/\"+file_name_without_extension+\".txt\", \"w\") as file:\n",
        "            file.write(text)\n",
        "\n",
        "\n",
        "create_labels(train, \"train\")\n",
        "create_labels(val, \"val\")\n",
        "create_labels(test, \"test\")"
      ],
      "metadata": {
        "id": "ogpI3vzZ911k"
      },
      "execution_count": null,
      "outputs": []
    },
    {
      "cell_type": "code",
      "source": [
        "# 파일이 저장된 디렉토리 경로\n",
        "label_dir = output_data + \"/train/labels\"\n",
        "\n",
        "# 디렉토리 내의 파일 목록 가져오기\n",
        "file_list = os.listdir(label_dir)\n",
        "\n",
        "# 처음 5개 파일의 이름 출력\n",
        "print(\"처음 5개의 Label 파일 목록:\")\n",
        "for file_name in file_list[:5]:\n",
        "    print(file_name)"
      ],
      "metadata": {
        "colab": {
          "base_uri": "https://localhost:8080/"
        },
        "id": "oVh4k1zJ_Eql",
        "outputId": "5fc8cf2a-56d7-462b-b105-89eadfd8e2fe"
      },
      "execution_count": null,
      "outputs": [
        {
          "output_type": "stream",
          "name": "stdout",
          "text": [
            "처음 5개의 Label 파일 목록:\n",
            "e7d03573a4ef0f455e412779fe03127267f8674ef9e99e851cba2a0d75a134c43020201205122746003005.txt\n",
            "e7d03573a4ef0f455e412779fe03127267f8674ef9e99e851cba2a0d75a134c43020201205122751004005.txt\n",
            "e7d03573a4ef0f455e412779fe03127267f8674ef9e99e851cba2a0d75a134c43020201205122756005003.txt\n",
            "e7d03573a4ef0f455e412779fe03127267f8674ef9e99e851cba2a0d75a134c43020201205122800006002.txt\n",
            "e7d03573a4ef0f455e412779fe03127267f8674ef9e99e851cba2a0d75a134c43020201205122800006007.txt\n"
          ]
        }
      ]
    },
    {
      "cell_type": "code",
      "source": [
        "!pip install ultralytics"
      ],
      "metadata": {
        "colab": {
          "base_uri": "https://localhost:8080/"
        },
        "id": "3Px0rGu0_h97",
        "outputId": "64a03c45-6ca4-4541-f7c6-25ee27933458"
      },
      "execution_count": null,
      "outputs": [
        {
          "output_type": "stream",
          "name": "stdout",
          "text": [
            "Collecting ultralytics\n",
            "  Downloading ultralytics-8.2.27-py3-none-any.whl (779 kB)\n",
            "\u001b[?25l     \u001b[90m━━━━━━━━━━━━━━━━━━━━━━━━━━━━━━━━━━━━━━━━\u001b[0m \u001b[32m0.0/779.6 kB\u001b[0m \u001b[31m?\u001b[0m eta \u001b[36m-:--:--\u001b[0m\r\u001b[2K     \u001b[91m━━━━━━━━\u001b[0m\u001b[91m╸\u001b[0m\u001b[90m━━━━━━━━━━━━━━━━━━━━━━━━━━━━━━━\u001b[0m \u001b[32m174.1/779.6 kB\u001b[0m \u001b[31m5.1 MB/s\u001b[0m eta \u001b[36m0:00:01\u001b[0m\r\u001b[2K     \u001b[91m━━━━━━━━━━━━━━━━━━━━━━━━\u001b[0m\u001b[91m╸\u001b[0m\u001b[90m━━━━━━━━━━━━━━━\u001b[0m \u001b[32m481.3/779.6 kB\u001b[0m \u001b[31m7.1 MB/s\u001b[0m eta \u001b[36m0:00:01\u001b[0m\r\u001b[2K     \u001b[90m━━━━━━━━━━━━━━━━━━━━━━━━━━━━━━━━━━━━━━━━\u001b[0m \u001b[32m779.6/779.6 kB\u001b[0m \u001b[31m7.5 MB/s\u001b[0m eta \u001b[36m0:00:00\u001b[0m\n",
            "\u001b[?25hRequirement already satisfied: matplotlib>=3.3.0 in /usr/local/lib/python3.10/dist-packages (from ultralytics) (3.7.1)\n",
            "Requirement already satisfied: opencv-python>=4.6.0 in /usr/local/lib/python3.10/dist-packages (from ultralytics) (4.8.0.76)\n",
            "Requirement already satisfied: pillow>=7.1.2 in /usr/local/lib/python3.10/dist-packages (from ultralytics) (9.4.0)\n",
            "Requirement already satisfied: pyyaml>=5.3.1 in /usr/local/lib/python3.10/dist-packages (from ultralytics) (6.0.1)\n",
            "Requirement already satisfied: requests>=2.23.0 in /usr/local/lib/python3.10/dist-packages (from ultralytics) (2.31.0)\n",
            "Requirement already satisfied: scipy>=1.4.1 in /usr/local/lib/python3.10/dist-packages (from ultralytics) (1.11.4)\n",
            "Requirement already satisfied: torch>=1.8.0 in /usr/local/lib/python3.10/dist-packages (from ultralytics) (2.3.0+cu121)\n",
            "Requirement already satisfied: torchvision>=0.9.0 in /usr/local/lib/python3.10/dist-packages (from ultralytics) (0.18.0+cu121)\n",
            "Requirement already satisfied: tqdm>=4.64.0 in /usr/local/lib/python3.10/dist-packages (from ultralytics) (4.66.4)\n",
            "Requirement already satisfied: psutil in /usr/local/lib/python3.10/dist-packages (from ultralytics) (5.9.5)\n",
            "Requirement already satisfied: py-cpuinfo in /usr/local/lib/python3.10/dist-packages (from ultralytics) (9.0.0)\n",
            "Collecting thop>=0.1.1 (from ultralytics)\n",
            "  Downloading thop-0.1.1.post2209072238-py3-none-any.whl (15 kB)\n",
            "Requirement already satisfied: pandas>=1.1.4 in /usr/local/lib/python3.10/dist-packages (from ultralytics) (2.0.3)\n",
            "Requirement already satisfied: seaborn>=0.11.0 in /usr/local/lib/python3.10/dist-packages (from ultralytics) (0.13.1)\n",
            "Requirement already satisfied: contourpy>=1.0.1 in /usr/local/lib/python3.10/dist-packages (from matplotlib>=3.3.0->ultralytics) (1.2.1)\n",
            "Requirement already satisfied: cycler>=0.10 in /usr/local/lib/python3.10/dist-packages (from matplotlib>=3.3.0->ultralytics) (0.12.1)\n",
            "Requirement already satisfied: fonttools>=4.22.0 in /usr/local/lib/python3.10/dist-packages (from matplotlib>=3.3.0->ultralytics) (4.51.0)\n",
            "Requirement already satisfied: kiwisolver>=1.0.1 in /usr/local/lib/python3.10/dist-packages (from matplotlib>=3.3.0->ultralytics) (1.4.5)\n",
            "Requirement already satisfied: numpy>=1.20 in /usr/local/lib/python3.10/dist-packages (from matplotlib>=3.3.0->ultralytics) (1.25.2)\n",
            "Requirement already satisfied: packaging>=20.0 in /usr/local/lib/python3.10/dist-packages (from matplotlib>=3.3.0->ultralytics) (24.0)\n",
            "Requirement already satisfied: pyparsing>=2.3.1 in /usr/local/lib/python3.10/dist-packages (from matplotlib>=3.3.0->ultralytics) (3.1.2)\n",
            "Requirement already satisfied: python-dateutil>=2.7 in /usr/local/lib/python3.10/dist-packages (from matplotlib>=3.3.0->ultralytics) (2.8.2)\n",
            "Requirement already satisfied: pytz>=2020.1 in /usr/local/lib/python3.10/dist-packages (from pandas>=1.1.4->ultralytics) (2023.4)\n",
            "Requirement already satisfied: tzdata>=2022.1 in /usr/local/lib/python3.10/dist-packages (from pandas>=1.1.4->ultralytics) (2024.1)\n",
            "Requirement already satisfied: charset-normalizer<4,>=2 in /usr/local/lib/python3.10/dist-packages (from requests>=2.23.0->ultralytics) (3.3.2)\n",
            "Requirement already satisfied: idna<4,>=2.5 in /usr/local/lib/python3.10/dist-packages (from requests>=2.23.0->ultralytics) (3.7)\n",
            "Requirement already satisfied: urllib3<3,>=1.21.1 in /usr/local/lib/python3.10/dist-packages (from requests>=2.23.0->ultralytics) (2.0.7)\n",
            "Requirement already satisfied: certifi>=2017.4.17 in /usr/local/lib/python3.10/dist-packages (from requests>=2.23.0->ultralytics) (2024.2.2)\n",
            "Requirement already satisfied: filelock in /usr/local/lib/python3.10/dist-packages (from torch>=1.8.0->ultralytics) (3.14.0)\n",
            "Requirement already satisfied: typing-extensions>=4.8.0 in /usr/local/lib/python3.10/dist-packages (from torch>=1.8.0->ultralytics) (4.11.0)\n",
            "Requirement already satisfied: sympy in /usr/local/lib/python3.10/dist-packages (from torch>=1.8.0->ultralytics) (1.12)\n",
            "Requirement already satisfied: networkx in /usr/local/lib/python3.10/dist-packages (from torch>=1.8.0->ultralytics) (3.3)\n",
            "Requirement already satisfied: jinja2 in /usr/local/lib/python3.10/dist-packages (from torch>=1.8.0->ultralytics) (3.1.4)\n",
            "Requirement already satisfied: fsspec in /usr/local/lib/python3.10/dist-packages (from torch>=1.8.0->ultralytics) (2023.6.0)\n",
            "Collecting nvidia-cuda-nvrtc-cu12==12.1.105 (from torch>=1.8.0->ultralytics)\n",
            "  Using cached nvidia_cuda_nvrtc_cu12-12.1.105-py3-none-manylinux1_x86_64.whl (23.7 MB)\n",
            "Collecting nvidia-cuda-runtime-cu12==12.1.105 (from torch>=1.8.0->ultralytics)\n",
            "  Using cached nvidia_cuda_runtime_cu12-12.1.105-py3-none-manylinux1_x86_64.whl (823 kB)\n",
            "Collecting nvidia-cuda-cupti-cu12==12.1.105 (from torch>=1.8.0->ultralytics)\n",
            "  Using cached nvidia_cuda_cupti_cu12-12.1.105-py3-none-manylinux1_x86_64.whl (14.1 MB)\n",
            "Collecting nvidia-cudnn-cu12==8.9.2.26 (from torch>=1.8.0->ultralytics)\n",
            "  Using cached nvidia_cudnn_cu12-8.9.2.26-py3-none-manylinux1_x86_64.whl (731.7 MB)\n",
            "Collecting nvidia-cublas-cu12==12.1.3.1 (from torch>=1.8.0->ultralytics)\n",
            "  Using cached nvidia_cublas_cu12-12.1.3.1-py3-none-manylinux1_x86_64.whl (410.6 MB)\n",
            "Collecting nvidia-cufft-cu12==11.0.2.54 (from torch>=1.8.0->ultralytics)\n",
            "  Using cached nvidia_cufft_cu12-11.0.2.54-py3-none-manylinux1_x86_64.whl (121.6 MB)\n",
            "Collecting nvidia-curand-cu12==10.3.2.106 (from torch>=1.8.0->ultralytics)\n",
            "  Using cached nvidia_curand_cu12-10.3.2.106-py3-none-manylinux1_x86_64.whl (56.5 MB)\n",
            "Collecting nvidia-cusolver-cu12==11.4.5.107 (from torch>=1.8.0->ultralytics)\n",
            "  Using cached nvidia_cusolver_cu12-11.4.5.107-py3-none-manylinux1_x86_64.whl (124.2 MB)\n",
            "Collecting nvidia-cusparse-cu12==12.1.0.106 (from torch>=1.8.0->ultralytics)\n",
            "  Using cached nvidia_cusparse_cu12-12.1.0.106-py3-none-manylinux1_x86_64.whl (196.0 MB)\n",
            "Collecting nvidia-nccl-cu12==2.20.5 (from torch>=1.8.0->ultralytics)\n",
            "  Using cached nvidia_nccl_cu12-2.20.5-py3-none-manylinux2014_x86_64.whl (176.2 MB)\n",
            "Collecting nvidia-nvtx-cu12==12.1.105 (from torch>=1.8.0->ultralytics)\n",
            "  Using cached nvidia_nvtx_cu12-12.1.105-py3-none-manylinux1_x86_64.whl (99 kB)\n",
            "Requirement already satisfied: triton==2.3.0 in /usr/local/lib/python3.10/dist-packages (from torch>=1.8.0->ultralytics) (2.3.0)\n",
            "Collecting nvidia-nvjitlink-cu12 (from nvidia-cusolver-cu12==11.4.5.107->torch>=1.8.0->ultralytics)\n",
            "  Downloading nvidia_nvjitlink_cu12-12.5.40-py3-none-manylinux2014_x86_64.whl (21.3 MB)\n",
            "\u001b[2K     \u001b[90m━━━━━━━━━━━━━━━━━━━━━━━━━━━━━━━━━━━━━━━━\u001b[0m \u001b[32m21.3/21.3 MB\u001b[0m \u001b[31m54.5 MB/s\u001b[0m eta \u001b[36m0:00:00\u001b[0m\n",
            "\u001b[?25hRequirement already satisfied: six>=1.5 in /usr/local/lib/python3.10/dist-packages (from python-dateutil>=2.7->matplotlib>=3.3.0->ultralytics) (1.16.0)\n",
            "Requirement already satisfied: MarkupSafe>=2.0 in /usr/local/lib/python3.10/dist-packages (from jinja2->torch>=1.8.0->ultralytics) (2.1.5)\n",
            "Requirement already satisfied: mpmath>=0.19 in /usr/local/lib/python3.10/dist-packages (from sympy->torch>=1.8.0->ultralytics) (1.3.0)\n",
            "Installing collected packages: nvidia-nvtx-cu12, nvidia-nvjitlink-cu12, nvidia-nccl-cu12, nvidia-curand-cu12, nvidia-cufft-cu12, nvidia-cuda-runtime-cu12, nvidia-cuda-nvrtc-cu12, nvidia-cuda-cupti-cu12, nvidia-cublas-cu12, nvidia-cusparse-cu12, nvidia-cudnn-cu12, nvidia-cusolver-cu12, thop, ultralytics\n",
            "Successfully installed nvidia-cublas-cu12-12.1.3.1 nvidia-cuda-cupti-cu12-12.1.105 nvidia-cuda-nvrtc-cu12-12.1.105 nvidia-cuda-runtime-cu12-12.1.105 nvidia-cudnn-cu12-8.9.2.26 nvidia-cufft-cu12-11.0.2.54 nvidia-curand-cu12-10.3.2.106 nvidia-cusolver-cu12-11.4.5.107 nvidia-cusparse-cu12-12.1.0.106 nvidia-nccl-cu12-2.20.5 nvidia-nvjitlink-cu12-12.5.40 nvidia-nvtx-cu12-12.1.105 thop-0.1.1.post2209072238 ultralytics-8.2.27\n"
          ]
        }
      ]
    },
    {
      "cell_type": "code",
      "source": [
        "text = \"\"\"\n",
        "train: /content/drive/MyDrive/yolo_output/train\n",
        "val: /content/drive/MyDrive/yolo_output/val\n",
        "test: /content/drive/MyDrive/yolo_output/test\n",
        "\n",
        "# number of classes\n",
        "nc: 5\n",
        "\n",
        "# class names\n",
        "names: [ 0 : 'anger', 1 : 'happy', 2 : 'panic', 3 : 'sadness', 4 : 'neutral']\n",
        "\"\"\""
      ],
      "metadata": {
        "id": "hkdWGRIw_lpr"
      },
      "execution_count": null,
      "outputs": []
    },
    {
      "cell_type": "code",
      "source": [
        "with open(\"data.yaml\", 'w') as file:\n",
        "    file.write(text)"
      ],
      "metadata": {
        "id": "-N0QHrsDAKCr"
      },
      "execution_count": null,
      "outputs": []
    },
    {
      "cell_type": "code",
      "source": [
        "from ultralytics import YOLO\n",
        "\n",
        "model = YOLO(\"yolov8s.pt\")"
      ],
      "metadata": {
        "colab": {
          "base_uri": "https://localhost:8080/"
        },
        "id": "btRwdSd9AEzM",
        "outputId": "5acb2b99-d0b5-44b8-a6e4-7ba09c2ed3d5"
      },
      "execution_count": null,
      "outputs": [
        {
          "output_type": "stream",
          "name": "stdout",
          "text": [
            "Downloading https://github.com/ultralytics/assets/releases/download/v8.2.0/yolov8s.pt to 'yolov8s.pt'...\n"
          ]
        },
        {
          "output_type": "stream",
          "name": "stderr",
          "text": [
            "100%|██████████| 21.5M/21.5M [00:00<00:00, 245MB/s]\n"
          ]
        }
      ]
    },
    {
      "cell_type": "code",
      "source": [
        "model.train(data='data.yaml',epochs=50)"
      ],
      "metadata": {
        "colab": {
          "base_uri": "https://localhost:8080/"
        },
        "id": "zk7V4JOXAOBb",
        "outputId": "43c3bd38-d00e-40b3-bbfb-99e2bc8cb856"
      },
      "execution_count": null,
      "outputs": [
        {
          "metadata": {
            "tags": null
          },
          "name": "stdout",
          "output_type": "stream",
          "text": [
            "Ultralytics YOLOv8.2.27 🚀 Python-3.10.12 torch-2.3.0+cu121 CUDA:0 (NVIDIA L4, 22700MiB)\n",
            "\u001b[34m\u001b[1mengine/trainer: \u001b[0mtask=detect, mode=train, model=yolov8s.pt, data=data.yaml, epochs=50, time=None, patience=100, batch=16, imgsz=640, save=True, save_period=-1, cache=False, device=None, workers=8, project=None, name=train, exist_ok=False, pretrained=True, optimizer=auto, verbose=True, seed=0, deterministic=True, single_cls=False, rect=False, cos_lr=False, close_mosaic=10, resume=False, amp=True, fraction=1.0, profile=False, freeze=None, multi_scale=False, overlap_mask=True, mask_ratio=4, dropout=0.0, val=True, split=val, save_json=False, save_hybrid=False, conf=None, iou=0.7, max_det=300, half=False, dnn=False, plots=True, source=None, vid_stride=1, stream_buffer=False, visualize=False, augment=False, agnostic_nms=False, classes=None, retina_masks=False, embed=None, show=False, save_frames=False, save_txt=False, save_conf=False, save_crop=False, show_labels=True, show_conf=True, show_boxes=True, line_width=None, format=torchscript, keras=False, optimize=False, int8=False, dynamic=False, simplify=False, opset=None, workspace=4, nms=False, lr0=0.01, lrf=0.01, momentum=0.937, weight_decay=0.0005, warmup_epochs=3.0, warmup_momentum=0.8, warmup_bias_lr=0.1, box=7.5, cls=0.5, dfl=1.5, pose=12.0, kobj=1.0, label_smoothing=0.0, nbs=64, hsv_h=0.015, hsv_s=0.7, hsv_v=0.4, degrees=0.0, translate=0.1, scale=0.5, shear=0.0, perspective=0.0, flipud=0.0, fliplr=0.5, bgr=0.0, mosaic=1.0, mixup=0.0, copy_paste=0.0, auto_augment=randaugment, erasing=0.4, crop_fraction=1.0, cfg=None, tracker=botsort.yaml, save_dir=runs/detect/train\n",
            "Downloading https://ultralytics.com/assets/Arial.ttf to '/root/.config/Ultralytics/Arial.ttf'...\n"
          ]
        },
        {
          "metadata": {
            "tags": null
          },
          "name": "stderr",
          "output_type": "stream",
          "text": [
            "100%|██████████| 755k/755k [00:00<00:00, 19.3MB/s]\n"
          ]
        },
        {
          "metadata": {
            "tags": null
          },
          "name": "stdout",
          "output_type": "stream",
          "text": [
            "Overriding model.yaml nc=80 with nc=5\n",
            "\n",
            "                   from  n    params  module                                       arguments                     \n",
            "  0                  -1  1       928  ultralytics.nn.modules.conv.Conv             [3, 32, 3, 2]                 \n",
            "  1                  -1  1     18560  ultralytics.nn.modules.conv.Conv             [32, 64, 3, 2]                \n",
            "  2                  -1  1     29056  ultralytics.nn.modules.block.C2f             [64, 64, 1, True]             \n",
            "  3                  -1  1     73984  ultralytics.nn.modules.conv.Conv             [64, 128, 3, 2]               \n",
            "  4                  -1  2    197632  ultralytics.nn.modules.block.C2f             [128, 128, 2, True]           \n",
            "  5                  -1  1    295424  ultralytics.nn.modules.conv.Conv             [128, 256, 3, 2]              \n",
            "  6                  -1  2    788480  ultralytics.nn.modules.block.C2f             [256, 256, 2, True]           \n",
            "  7                  -1  1   1180672  ultralytics.nn.modules.conv.Conv             [256, 512, 3, 2]              \n",
            "  8                  -1  1   1838080  ultralytics.nn.modules.block.C2f             [512, 512, 1, True]           \n",
            "  9                  -1  1    656896  ultralytics.nn.modules.block.SPPF            [512, 512, 5]                 \n",
            " 10                  -1  1         0  torch.nn.modules.upsampling.Upsample         [None, 2, 'nearest']          \n",
            " 11             [-1, 6]  1         0  ultralytics.nn.modules.conv.Concat           [1]                           \n",
            " 12                  -1  1    591360  ultralytics.nn.modules.block.C2f             [768, 256, 1]                 \n",
            " 13                  -1  1         0  torch.nn.modules.upsampling.Upsample         [None, 2, 'nearest']          \n",
            " 14             [-1, 4]  1         0  ultralytics.nn.modules.conv.Concat           [1]                           \n",
            " 15                  -1  1    148224  ultralytics.nn.modules.block.C2f             [384, 128, 1]                 \n",
            " 16                  -1  1    147712  ultralytics.nn.modules.conv.Conv             [128, 128, 3, 2]              \n",
            " 17            [-1, 12]  1         0  ultralytics.nn.modules.conv.Concat           [1]                           \n",
            " 18                  -1  1    493056  ultralytics.nn.modules.block.C2f             [384, 256, 1]                 \n",
            " 19                  -1  1    590336  ultralytics.nn.modules.conv.Conv             [256, 256, 3, 2]              \n",
            " 20             [-1, 9]  1         0  ultralytics.nn.modules.conv.Concat           [1]                           \n",
            " 21                  -1  1   1969152  ultralytics.nn.modules.block.C2f             [768, 512, 1]                 \n",
            " 22        [15, 18, 21]  1   2117983  ultralytics.nn.modules.head.Detect           [5, [128, 256, 512]]          \n",
            "Model summary: 225 layers, 11137535 parameters, 11137519 gradients, 28.7 GFLOPs\n",
            "\n",
            "Transferred 349/355 items from pretrained weights\n",
            "\u001b[34m\u001b[1mTensorBoard: \u001b[0mStart with 'tensorboard --logdir runs/detect/train', view at http://localhost:6006/\n",
            "Freezing layer 'model.22.dfl.conv.weight'\n",
            "\u001b[34m\u001b[1mAMP: \u001b[0mrunning Automatic Mixed Precision (AMP) checks with YOLOv8n...\n",
            "Downloading https://github.com/ultralytics/assets/releases/download/v8.2.0/yolov8n.pt to 'yolov8n.pt'...\n"
          ]
        },
        {
          "metadata": {
            "tags": null
          },
          "name": "stderr",
          "output_type": "stream",
          "text": [
            "100%|██████████| 6.23M/6.23M [00:00<00:00, 98.1MB/s]\n"
          ]
        },
        {
          "metadata": {
            "tags": null
          },
          "name": "stdout",
          "output_type": "stream",
          "text": [
            "\u001b[34m\u001b[1mAMP: \u001b[0mchecks passed ✅\n"
          ]
        },
        {
          "metadata": {
            "tags": null
          },
          "name": "stderr",
          "output_type": "stream",
          "text": [
            "\u001b[34m\u001b[1mtrain: \u001b[0mScanning /content/drive/MyDrive/yolo_output/train/labels... 7252 images, 0 backgrounds, 16 corrupt: 100%|██████████| 7252/7252 [04:24<00:00, 27.45it/s] "
          ]
        },
        {
          "metadata": {
            "tags": null
          },
          "name": "stdout",
          "output_type": "stream",
          "text": [
            "\u001b[34m\u001b[1mtrain: \u001b[0mWARNING ⚠️ /content/drive/MyDrive/yolo_output/train/images/0xah1dfff2988dd0bb1002299e49a2e81221721df2086792404682f191894jnl2.jpg: ignoring corrupt image/label: negative label values [    -0.0375   -0.048958]\n",
            "\u001b[34m\u001b[1mtrain: \u001b[0mWARNING ⚠️ /content/drive/MyDrive/yolo_output/train/images/23wu7abccde2e17cabec7b9eee7cdaacae3cddb0a2369cb1fa7b7c1b6402c8wdv.jpg: ignoring corrupt image/label: non-normalized or out of bounds coordinates [     1.0539]\n",
            "\u001b[34m\u001b[1mtrain: \u001b[0mWARNING ⚠️ /content/drive/MyDrive/yolo_output/train/images/2tyq2a9227556df5df1c049f899cecbbbb9c2abcd0298f6d2cbcc2eeb725a530h.jpg: ignoring corrupt image/label: non-normalized or out of bounds coordinates [     1.0016]\n",
            "\u001b[34m\u001b[1mtrain: \u001b[0mWARNING ⚠️ /content/drive/MyDrive/yolo_output/train/images/9mygb9e7e13ceaae90b7b987a93257b32a9c737afbcc827b7877cc862cbcacz03.jpg: ignoring corrupt image/label: non-normalized or out of bounds coordinates [     1.0898]\n",
            "\u001b[34m\u001b[1mtrain: \u001b[0mWARNING ⚠️ /content/drive/MyDrive/yolo_output/train/images/d46ddbfacc8e394085628ad657808f6e1861d73a9b379f250afa9db3b7e894fa2020210205151019002002.jpg: ignoring corrupt image/label: non-normalized or out of bounds coordinates [     1.2094]\n",
            "\u001b[34m\u001b[1mtrain: \u001b[0mWARNING ⚠️ /content/drive/MyDrive/yolo_output/train/images/eg9e62a9cfcd9eabbe75c79dd12d99e99cdd9960ba9dafdb798c9776fec77ukjn.jpg: ignoring corrupt image/label: non-normalized or out of bounds coordinates [     1.0305]\n",
            "\u001b[34m\u001b[1mtrain: \u001b[0mWARNING ⚠️ /content/drive/MyDrive/yolo_output/train/images/eikx7523d6dfab616e27c4dd9c1973e7a2ac2c66b97ccbedb2bcddb1efde78vxg.jpg: ignoring corrupt image/label: non-normalized or out of bounds coordinates [     1.0523]\n",
            "\u001b[34m\u001b[1mtrain: \u001b[0mWARNING ⚠️ /content/drive/MyDrive/yolo_output/train/images/ht73e2d92b0b7e7cd79e79d8eb2c74f7a6abc9e99a5b8feacd85462d9a9fbp8vq.jpg: ignoring corrupt image/label: non-normalized or out of bounds coordinates [     1.0398]\n",
            "\u001b[34m\u001b[1mtrain: \u001b[0mWARNING ⚠️ /content/drive/MyDrive/yolo_output/train/images/lxdh1767c148799687727be7dec8d779ad2b6beccd2ee4a6aa4c9b5aab9f7dwta.jpg: ignoring corrupt image/label: non-normalized or out of bounds coordinates [     1.0852]\n",
            "\u001b[34m\u001b[1mtrain: \u001b[0mWARNING ⚠️ /content/drive/MyDrive/yolo_output/train/images/pulp51ad01a61c1670b7b203bcc926ab2cae1ca19029d92aa9db6c42aa6f0pe1n.jpg: ignoring corrupt image/label: non-normalized or out of bounds coordinates [     1.0148]\n",
            "\u001b[34m\u001b[1mtrain: \u001b[0mWARNING ⚠️ /content/drive/MyDrive/yolo_output/train/images/qjs8bfed919c09fa9ce7a472aae7a446c9add6ebbacaadabde5178e227bbe1dg0.jpg: ignoring corrupt image/label: non-normalized or out of bounds coordinates [     1.0352]\n",
            "\u001b[34m\u001b[1mtrain: \u001b[0mWARNING ⚠️ /content/drive/MyDrive/yolo_output/train/images/urkw8c1671dce7ed46ae7d8338258740ed0769eb77dc61b6be78c0d8b6d72vwwq.jpg: ignoring corrupt image/label: non-normalized or out of bounds coordinates [     1.0063]\n",
            "\u001b[34m\u001b[1mtrain: \u001b[0mWARNING ⚠️ /content/drive/MyDrive/yolo_output/train/images/x3ks7bdceaeeadce76bea3fbcec77cc7e2d9a8dcdae8a2b67ec769e37798bv5cl.jpg: ignoring corrupt image/label: non-normalized or out of bounds coordinates [     1.1602]\n",
            "\u001b[34m\u001b[1mtrain: \u001b[0mWARNING ⚠️ /content/drive/MyDrive/yolo_output/train/images/xllzdedb9ea2b2aaeaa8c576caea2deaccadac49ce7fbe2eb7c67837a9726ujtv.jpg: ignoring corrupt image/label: non-normalized or out of bounds coordinates [     1.0352]\n",
            "\u001b[34m\u001b[1mtrain: \u001b[0mWARNING ⚠️ /content/drive/MyDrive/yolo_output/train/images/xuiz83a96877b841898d16f32a9276e7a8d779d8d68f458e2816e296d6558w6em.jpg: ignoring corrupt image/label: negative label values [  -0.079167]\n",
            "\u001b[34m\u001b[1mtrain: \u001b[0mWARNING ⚠️ /content/drive/MyDrive/yolo_output/train/images/zxum204e0778e08c767771d2e4dcd822a1e64dd416d5b87e3e3c9d42dba70wxz5.jpg: ignoring corrupt image/label: non-normalized or out of bounds coordinates [     1.0227]\n"
          ]
        },
        {
          "metadata": {
            "tags": null
          },
          "name": "stderr",
          "output_type": "stream",
          "text": [
            "\n"
          ]
        },
        {
          "metadata": {
            "tags": null
          },
          "name": "stdout",
          "output_type": "stream",
          "text": [
            "\u001b[34m\u001b[1mtrain: \u001b[0mNew cache created: /content/drive/MyDrive/yolo_output/train/labels.cache\n",
            "\u001b[34m\u001b[1malbumentations: \u001b[0mBlur(p=0.01, blur_limit=(3, 7)), MedianBlur(p=0.01, blur_limit=(3, 7)), ToGray(p=0.01), CLAHE(p=0.01, clip_limit=(1, 4.0), tile_grid_size=(8, 8))\n"
          ]
        },
        {
          "metadata": {
            "tags": null
          },
          "name": "stderr",
          "output_type": "stream",
          "text": [
            "\u001b[34m\u001b[1mval: \u001b[0mScanning /content/drive/MyDrive/yolo_output/val/labels... 1461 images, 0 backgrounds, 2 corrupt: 100%|██████████| 1461/1461 [00:43<00:00, 33.39it/s] "
          ]
        },
        {
          "metadata": {
            "tags": null
          },
          "name": "stdout",
          "output_type": "stream",
          "text": [
            "\u001b[34m\u001b[1mval: \u001b[0mWARNING ⚠️ /content/drive/MyDrive/yolo_output/val/images/f2tiec0c60e99a3ebf72cec60bb22bac18ce947cd0c5e96602c7e8ca777c2cy5g.jpg: ignoring corrupt image/label: non-normalized or out of bounds coordinates [     1.0414]\n",
            "\u001b[34m\u001b[1mval: \u001b[0mWARNING ⚠️ /content/drive/MyDrive/yolo_output/val/images/fsb9ee9a797a7d9c0a74987dba3d9a517de02e1f9cc7bb999b2aaccb177a0fhlk.jpg: ignoring corrupt image/label: non-normalized or out of bounds coordinates [     1.0438]\n"
          ]
        },
        {
          "metadata": {
            "tags": null
          },
          "name": "stderr",
          "output_type": "stream",
          "text": [
            "\n"
          ]
        },
        {
          "metadata": {
            "tags": null
          },
          "name": "stdout",
          "output_type": "stream",
          "text": [
            "\u001b[34m\u001b[1mval: \u001b[0mNew cache created: /content/drive/MyDrive/yolo_output/val/labels.cache\n",
            "Plotting labels to runs/detect/train/labels.jpg... \n",
            "\u001b[34m\u001b[1moptimizer:\u001b[0m 'optimizer=auto' found, ignoring 'lr0=0.01' and 'momentum=0.937' and determining best 'optimizer', 'lr0' and 'momentum' automatically... \n",
            "\u001b[34m\u001b[1moptimizer:\u001b[0m AdamW(lr=0.001111, momentum=0.9) with parameter groups 57 weight(decay=0.0), 64 weight(decay=0.0005), 63 bias(decay=0.0)\n",
            "\u001b[34m\u001b[1mTensorBoard: \u001b[0mmodel graph visualization added ✅\n",
            "Image sizes 640 train, 640 val\n",
            "Using 8 dataloader workers\n",
            "Logging results to \u001b[1mruns/detect/train\u001b[0m\n",
            "Starting training for 50 epochs...\n",
            "\n",
            "      Epoch    GPU_mem   box_loss   cls_loss   dfl_loss  Instances       Size\n"
          ]
        },
        {
          "metadata": {
            "tags": null
          },
          "name": "stderr",
          "output_type": "stream",
          "text": [
            "       1/50       4.2G     0.8085      1.685      1.156          8        640: 100%|██████████| 453/453 [01:18<00:00,  5.80it/s]\n",
            "                 Class     Images  Instances      Box(P          R      mAP50  mAP50-95): 100%|██████████| 46/46 [00:09<00:00,  4.85it/s]"
          ]
        },
        {
          "metadata": {
            "tags": null
          },
          "name": "stdout",
          "output_type": "stream",
          "text": [
            "                   all       1459       1459      0.635      0.721       0.74      0.593\n"
          ]
        },
        {
          "metadata": {
            "tags": null
          },
          "name": "stderr",
          "output_type": "stream",
          "text": [
            "\n"
          ]
        },
        {
          "metadata": {
            "tags": null
          },
          "name": "stdout",
          "output_type": "stream",
          "text": [
            "\n",
            "      Epoch    GPU_mem   box_loss   cls_loss   dfl_loss  Instances       Size\n"
          ]
        },
        {
          "metadata": {
            "tags": null
          },
          "name": "stderr",
          "output_type": "stream",
          "text": [
            "       2/50       4.1G     0.7577      1.071      1.064          7        640: 100%|██████████| 453/453 [01:12<00:00,  6.28it/s]\n",
            "                 Class     Images  Instances      Box(P          R      mAP50  mAP50-95): 100%|██████████| 46/46 [00:07<00:00,  5.76it/s]"
          ]
        },
        {
          "metadata": {
            "tags": null
          },
          "name": "stdout",
          "output_type": "stream",
          "text": [
            "                   all       1459       1459      0.659      0.715      0.719      0.588\n"
          ]
        },
        {
          "metadata": {
            "tags": null
          },
          "name": "stderr",
          "output_type": "stream",
          "text": [
            "\n"
          ]
        },
        {
          "metadata": {
            "tags": null
          },
          "name": "stdout",
          "output_type": "stream",
          "text": [
            "\n",
            "      Epoch    GPU_mem   box_loss   cls_loss   dfl_loss  Instances       Size\n"
          ]
        },
        {
          "metadata": {
            "tags": null
          },
          "name": "stderr",
          "output_type": "stream",
          "text": [
            "       3/50      4.12G     0.7571      1.018       1.05         11        640: 100%|██████████| 453/453 [01:11<00:00,  6.36it/s]\n",
            "                 Class     Images  Instances      Box(P          R      mAP50  mAP50-95): 100%|██████████| 46/46 [00:07<00:00,  5.85it/s]"
          ]
        },
        {
          "metadata": {
            "tags": null
          },
          "name": "stdout",
          "output_type": "stream",
          "text": [
            "                   all       1459       1459      0.734      0.745      0.782       0.65\n"
          ]
        },
        {
          "metadata": {
            "tags": null
          },
          "name": "stderr",
          "output_type": "stream",
          "text": [
            "\n"
          ]
        },
        {
          "metadata": {
            "tags": null
          },
          "name": "stdout",
          "output_type": "stream",
          "text": [
            "\n",
            "      Epoch    GPU_mem   box_loss   cls_loss   dfl_loss  Instances       Size\n"
          ]
        },
        {
          "metadata": {
            "tags": null
          },
          "name": "stderr",
          "output_type": "stream",
          "text": [
            "       4/50      4.12G     0.7345     0.9465      1.035         12        640: 100%|██████████| 453/453 [01:10<00:00,  6.40it/s]\n",
            "                 Class     Images  Instances      Box(P          R      mAP50  mAP50-95): 100%|██████████| 46/46 [00:07<00:00,  5.95it/s]"
          ]
        },
        {
          "metadata": {
            "tags": null
          },
          "name": "stdout",
          "output_type": "stream",
          "text": [
            "                   all       1459       1459      0.834      0.718      0.833      0.697\n"
          ]
        },
        {
          "metadata": {
            "tags": null
          },
          "name": "stderr",
          "output_type": "stream",
          "text": [
            "\n"
          ]
        },
        {
          "metadata": {
            "tags": null
          },
          "name": "stdout",
          "output_type": "stream",
          "text": [
            "\n",
            "      Epoch    GPU_mem   box_loss   cls_loss   dfl_loss  Instances       Size\n"
          ]
        },
        {
          "metadata": {
            "tags": null
          },
          "name": "stderr",
          "output_type": "stream",
          "text": [
            "       5/50      4.07G     0.7231     0.8742      1.028         11        640: 100%|██████████| 453/453 [01:10<00:00,  6.40it/s]\n",
            "                 Class     Images  Instances      Box(P          R      mAP50  mAP50-95): 100%|██████████| 46/46 [00:08<00:00,  5.68it/s]"
          ]
        },
        {
          "metadata": {
            "tags": null
          },
          "name": "stdout",
          "output_type": "stream",
          "text": [
            "                   all       1459       1459      0.812      0.761      0.852      0.717\n"
          ]
        },
        {
          "metadata": {
            "tags": null
          },
          "name": "stderr",
          "output_type": "stream",
          "text": [
            "\n"
          ]
        },
        {
          "metadata": {
            "tags": null
          },
          "name": "stdout",
          "output_type": "stream",
          "text": [
            "\n",
            "      Epoch    GPU_mem   box_loss   cls_loss   dfl_loss  Instances       Size\n"
          ]
        },
        {
          "metadata": {
            "tags": null
          },
          "name": "stderr",
          "output_type": "stream",
          "text": [
            "       6/50      4.13G     0.7083      0.852      1.017          8        640: 100%|██████████| 453/453 [01:10<00:00,  6.40it/s]\n",
            "                 Class     Images  Instances      Box(P          R      mAP50  mAP50-95): 100%|██████████| 46/46 [00:08<00:00,  5.61it/s]"
          ]
        },
        {
          "metadata": {
            "tags": null
          },
          "name": "stdout",
          "output_type": "stream",
          "text": [
            "                   all       1459       1459      0.783      0.808      0.865      0.729\n"
          ]
        },
        {
          "metadata": {
            "tags": null
          },
          "name": "stderr",
          "output_type": "stream",
          "text": [
            "\n"
          ]
        },
        {
          "metadata": {
            "tags": null
          },
          "name": "stdout",
          "output_type": "stream",
          "text": [
            "\n",
            "      Epoch    GPU_mem   box_loss   cls_loss   dfl_loss  Instances       Size\n"
          ]
        },
        {
          "metadata": {
            "tags": null
          },
          "name": "stderr",
          "output_type": "stream",
          "text": [
            "       7/50      4.12G     0.7007     0.8125      1.014          5        640: 100%|██████████| 453/453 [01:10<00:00,  6.40it/s]\n",
            "                 Class     Images  Instances      Box(P          R      mAP50  mAP50-95): 100%|██████████| 46/46 [00:08<00:00,  5.70it/s]"
          ]
        },
        {
          "metadata": {
            "tags": null
          },
          "name": "stdout",
          "output_type": "stream",
          "text": [
            "                   all       1459       1459      0.817       0.77      0.866      0.731\n"
          ]
        },
        {
          "metadata": {
            "tags": null
          },
          "name": "stderr",
          "output_type": "stream",
          "text": [
            "\n"
          ]
        },
        {
          "metadata": {
            "tags": null
          },
          "name": "stdout",
          "output_type": "stream",
          "text": [
            "\n",
            "      Epoch    GPU_mem   box_loss   cls_loss   dfl_loss  Instances       Size\n"
          ]
        },
        {
          "metadata": {
            "tags": null
          },
          "name": "stderr",
          "output_type": "stream",
          "text": [
            "       8/50      4.12G     0.6902     0.7884      1.006          8        640: 100%|██████████| 453/453 [01:10<00:00,  6.38it/s]\n",
            "                 Class     Images  Instances      Box(P          R      mAP50  mAP50-95): 100%|██████████| 46/46 [00:08<00:00,  5.74it/s]"
          ]
        },
        {
          "metadata": {
            "tags": null
          },
          "name": "stdout",
          "output_type": "stream",
          "text": [
            "                   all       1459       1459        0.8      0.842       0.89      0.762\n"
          ]
        },
        {
          "metadata": {
            "tags": null
          },
          "name": "stderr",
          "output_type": "stream",
          "text": [
            "\n"
          ]
        },
        {
          "metadata": {
            "tags": null
          },
          "name": "stdout",
          "output_type": "stream",
          "text": [
            "\n",
            "      Epoch    GPU_mem   box_loss   cls_loss   dfl_loss  Instances       Size\n"
          ]
        },
        {
          "metadata": {
            "tags": null
          },
          "name": "stderr",
          "output_type": "stream",
          "text": [
            "       9/50      4.08G      0.687     0.7723     0.9982         10        640: 100%|██████████| 453/453 [01:10<00:00,  6.39it/s]\n",
            "                 Class     Images  Instances      Box(P          R      mAP50  mAP50-95): 100%|██████████| 46/46 [00:07<00:00,  5.93it/s]"
          ]
        },
        {
          "metadata": {
            "tags": null
          },
          "name": "stdout",
          "output_type": "stream",
          "text": [
            "                   all       1459       1459       0.82      0.813      0.885      0.752\n"
          ]
        },
        {
          "metadata": {
            "tags": null
          },
          "name": "stderr",
          "output_type": "stream",
          "text": [
            "\n"
          ]
        },
        {
          "metadata": {
            "tags": null
          },
          "name": "stdout",
          "output_type": "stream",
          "text": [
            "\n",
            "      Epoch    GPU_mem   box_loss   cls_loss   dfl_loss  Instances       Size\n"
          ]
        },
        {
          "metadata": {
            "tags": null
          },
          "name": "stderr",
          "output_type": "stream",
          "text": [
            "      10/50      4.13G      0.687     0.7587      1.005         10        640: 100%|██████████| 453/453 [01:11<00:00,  6.38it/s]\n",
            "                 Class     Images  Instances      Box(P          R      mAP50  mAP50-95): 100%|██████████| 46/46 [00:07<00:00,  5.78it/s]"
          ]
        },
        {
          "metadata": {
            "tags": null
          },
          "name": "stdout",
          "output_type": "stream",
          "text": [
            "                   all       1459       1459      0.834      0.827      0.891      0.761\n"
          ]
        },
        {
          "metadata": {
            "tags": null
          },
          "name": "stderr",
          "output_type": "stream",
          "text": [
            "\n"
          ]
        },
        {
          "metadata": {
            "tags": null
          },
          "name": "stdout",
          "output_type": "stream",
          "text": [
            "\n",
            "      Epoch    GPU_mem   box_loss   cls_loss   dfl_loss  Instances       Size\n"
          ]
        },
        {
          "metadata": {
            "tags": null
          },
          "name": "stderr",
          "output_type": "stream",
          "text": [
            "      11/50      4.12G     0.6747     0.7291     0.9951          6        640: 100%|██████████| 453/453 [01:10<00:00,  6.41it/s]\n",
            "                 Class     Images  Instances      Box(P          R      mAP50  mAP50-95): 100%|██████████| 46/46 [00:08<00:00,  5.65it/s]"
          ]
        },
        {
          "metadata": {
            "tags": null
          },
          "name": "stdout",
          "output_type": "stream",
          "text": [
            "                   all       1459       1459      0.832        0.8       0.88      0.756\n"
          ]
        },
        {
          "metadata": {
            "tags": null
          },
          "name": "stderr",
          "output_type": "stream",
          "text": [
            "\n"
          ]
        },
        {
          "metadata": {
            "tags": null
          },
          "name": "stdout",
          "output_type": "stream",
          "text": [
            "\n",
            "      Epoch    GPU_mem   box_loss   cls_loss   dfl_loss  Instances       Size\n"
          ]
        },
        {
          "metadata": {
            "tags": null
          },
          "name": "stderr",
          "output_type": "stream",
          "text": [
            "      12/50      4.11G     0.6733     0.7154     0.9933          7        640: 100%|██████████| 453/453 [01:10<00:00,  6.39it/s]\n",
            "                 Class     Images  Instances      Box(P          R      mAP50  mAP50-95): 100%|██████████| 46/46 [00:08<00:00,  5.63it/s]"
          ]
        },
        {
          "metadata": {
            "tags": null
          },
          "name": "stdout",
          "output_type": "stream",
          "text": [
            "                   all       1459       1459      0.876      0.803       0.89      0.764\n"
          ]
        },
        {
          "metadata": {
            "tags": null
          },
          "name": "stderr",
          "output_type": "stream",
          "text": [
            "\n"
          ]
        },
        {
          "metadata": {
            "tags": null
          },
          "name": "stdout",
          "output_type": "stream",
          "text": [
            "\n",
            "      Epoch    GPU_mem   box_loss   cls_loss   dfl_loss  Instances       Size\n"
          ]
        },
        {
          "metadata": {
            "tags": null
          },
          "name": "stderr",
          "output_type": "stream",
          "text": [
            "      13/50      4.24G      0.669     0.7209     0.9927          6        640: 100%|██████████| 453/453 [01:10<00:00,  6.40it/s]\n",
            "                 Class     Images  Instances      Box(P          R      mAP50  mAP50-95): 100%|██████████| 46/46 [00:07<00:00,  5.75it/s]"
          ]
        },
        {
          "metadata": {
            "tags": null
          },
          "name": "stdout",
          "output_type": "stream",
          "text": [
            "                   all       1459       1459      0.848       0.83      0.896      0.765\n"
          ]
        },
        {
          "metadata": {
            "tags": null
          },
          "name": "stderr",
          "output_type": "stream",
          "text": [
            "\n"
          ]
        },
        {
          "metadata": {
            "tags": null
          },
          "name": "stdout",
          "output_type": "stream",
          "text": [
            "\n",
            "      Epoch    GPU_mem   box_loss   cls_loss   dfl_loss  Instances       Size\n"
          ]
        },
        {
          "metadata": {
            "tags": null
          },
          "name": "stderr",
          "output_type": "stream",
          "text": [
            "      14/50      4.12G     0.6602     0.6936     0.9856         12        640: 100%|██████████| 453/453 [01:11<00:00,  6.37it/s]\n",
            "                 Class     Images  Instances      Box(P          R      mAP50  mAP50-95): 100%|██████████| 46/46 [00:07<00:00,  5.91it/s]"
          ]
        },
        {
          "metadata": {
            "tags": null
          },
          "name": "stdout",
          "output_type": "stream",
          "text": [
            "                   all       1459       1459       0.86       0.82      0.897      0.769\n"
          ]
        },
        {
          "metadata": {
            "tags": null
          },
          "name": "stderr",
          "output_type": "stream",
          "text": [
            "\n"
          ]
        },
        {
          "metadata": {
            "tags": null
          },
          "name": "stdout",
          "output_type": "stream",
          "text": [
            "\n",
            "      Epoch    GPU_mem   box_loss   cls_loss   dfl_loss  Instances       Size\n"
          ]
        },
        {
          "metadata": {
            "tags": null
          },
          "name": "stderr",
          "output_type": "stream",
          "text": [
            "      15/50      4.12G      0.664     0.6825     0.9876          5        640: 100%|██████████| 453/453 [01:10<00:00,  6.40it/s]\n",
            "                 Class     Images  Instances      Box(P          R      mAP50  mAP50-95): 100%|██████████| 46/46 [00:07<00:00,  5.85it/s]"
          ]
        },
        {
          "metadata": {
            "tags": null
          },
          "name": "stdout",
          "output_type": "stream",
          "text": [
            "                   all       1459       1459      0.848      0.814      0.896      0.771\n"
          ]
        },
        {
          "metadata": {
            "tags": null
          },
          "name": "stderr",
          "output_type": "stream",
          "text": [
            "\n"
          ]
        },
        {
          "metadata": {
            "tags": null
          },
          "name": "stdout",
          "output_type": "stream",
          "text": [
            "\n",
            "      Epoch    GPU_mem   box_loss   cls_loss   dfl_loss  Instances       Size\n"
          ]
        },
        {
          "metadata": {
            "tags": null
          },
          "name": "stderr",
          "output_type": "stream",
          "text": [
            "      16/50       4.1G     0.6554     0.6705     0.9839          9        640: 100%|██████████| 453/453 [01:10<00:00,  6.39it/s]\n",
            "                 Class     Images  Instances      Box(P          R      mAP50  mAP50-95): 100%|██████████| 46/46 [00:08<00:00,  5.61it/s]"
          ]
        },
        {
          "metadata": {
            "tags": null
          },
          "name": "stdout",
          "output_type": "stream",
          "text": [
            "                   all       1459       1459      0.827      0.831      0.898      0.769\n"
          ]
        },
        {
          "metadata": {
            "tags": null
          },
          "name": "stderr",
          "output_type": "stream",
          "text": [
            "\n"
          ]
        },
        {
          "metadata": {
            "tags": null
          },
          "name": "stdout",
          "output_type": "stream",
          "text": [
            "\n",
            "      Epoch    GPU_mem   box_loss   cls_loss   dfl_loss  Instances       Size\n"
          ]
        },
        {
          "output_type": "stream",
          "name": "stderr",
          "text": [
            "      17/50      4.23G      0.659     0.6636     0.9875          8        640: 100%|██████████| 453/453 [01:10<00:00,  6.41it/s]\n",
            "                 Class     Images  Instances      Box(P          R      mAP50  mAP50-95): 100%|██████████| 46/46 [00:08<00:00,  5.70it/s]"
          ]
        },
        {
          "output_type": "stream",
          "name": "stdout",
          "text": [
            "                   all       1459       1459      0.852      0.836      0.905      0.778\n"
          ]
        },
        {
          "output_type": "stream",
          "name": "stderr",
          "text": [
            "\n"
          ]
        },
        {
          "output_type": "stream",
          "name": "stdout",
          "text": [
            "\n",
            "      Epoch    GPU_mem   box_loss   cls_loss   dfl_loss  Instances       Size\n"
          ]
        },
        {
          "output_type": "stream",
          "name": "stderr",
          "text": [
            "      18/50      4.11G     0.6457     0.6515     0.9816         11        640: 100%|██████████| 453/453 [01:10<00:00,  6.40it/s]\n",
            "                 Class     Images  Instances      Box(P          R      mAP50  mAP50-95): 100%|██████████| 46/46 [00:07<00:00,  5.76it/s]"
          ]
        },
        {
          "output_type": "stream",
          "name": "stdout",
          "text": [
            "                   all       1459       1459      0.874      0.825      0.906      0.779\n"
          ]
        },
        {
          "output_type": "stream",
          "name": "stderr",
          "text": [
            "\n"
          ]
        },
        {
          "output_type": "stream",
          "name": "stdout",
          "text": [
            "\n",
            "      Epoch    GPU_mem   box_loss   cls_loss   dfl_loss  Instances       Size\n"
          ]
        },
        {
          "output_type": "stream",
          "name": "stderr",
          "text": [
            "      19/50      4.12G     0.6524     0.6438     0.9799          8        640: 100%|██████████| 453/453 [01:10<00:00,  6.40it/s]\n",
            "                 Class     Images  Instances      Box(P          R      mAP50  mAP50-95): 100%|██████████| 46/46 [00:07<00:00,  5.89it/s]"
          ]
        },
        {
          "output_type": "stream",
          "name": "stdout",
          "text": [
            "                   all       1459       1459      0.877      0.821      0.906      0.777\n"
          ]
        },
        {
          "output_type": "stream",
          "name": "stderr",
          "text": [
            "\n"
          ]
        },
        {
          "output_type": "stream",
          "name": "stdout",
          "text": [
            "\n",
            "      Epoch    GPU_mem   box_loss   cls_loss   dfl_loss  Instances       Size\n"
          ]
        },
        {
          "output_type": "stream",
          "name": "stderr",
          "text": [
            "      20/50      4.12G     0.6482     0.6428     0.9748          7        640: 100%|██████████| 453/453 [01:10<00:00,  6.41it/s]\n",
            "                 Class     Images  Instances      Box(P          R      mAP50  mAP50-95): 100%|██████████| 46/46 [00:07<00:00,  5.81it/s]"
          ]
        },
        {
          "output_type": "stream",
          "name": "stdout",
          "text": [
            "                   all       1459       1459      0.874      0.834      0.913      0.785\n"
          ]
        },
        {
          "output_type": "stream",
          "name": "stderr",
          "text": [
            "\n"
          ]
        },
        {
          "output_type": "stream",
          "name": "stdout",
          "text": [
            "\n",
            "      Epoch    GPU_mem   box_loss   cls_loss   dfl_loss  Instances       Size\n"
          ]
        },
        {
          "output_type": "stream",
          "name": "stderr",
          "text": [
            "      21/50      4.24G     0.6425      0.622     0.9766          6        640: 100%|██████████| 453/453 [01:10<00:00,  6.39it/s]\n",
            "                 Class     Images  Instances      Box(P          R      mAP50  mAP50-95): 100%|██████████| 46/46 [00:08<00:00,  5.64it/s]"
          ]
        },
        {
          "output_type": "stream",
          "name": "stdout",
          "text": [
            "                   all       1459       1459      0.886      0.824      0.911      0.787\n"
          ]
        },
        {
          "output_type": "stream",
          "name": "stderr",
          "text": [
            "\n"
          ]
        },
        {
          "output_type": "stream",
          "name": "stdout",
          "text": [
            "\n",
            "      Epoch    GPU_mem   box_loss   cls_loss   dfl_loss  Instances       Size\n"
          ]
        },
        {
          "output_type": "stream",
          "name": "stderr",
          "text": [
            "      22/50      4.14G      0.647     0.6398     0.9815         11        640: 100%|██████████| 453/453 [01:10<00:00,  6.41it/s]\n",
            "                 Class     Images  Instances      Box(P          R      mAP50  mAP50-95): 100%|██████████| 46/46 [00:08<00:00,  5.70it/s]"
          ]
        },
        {
          "output_type": "stream",
          "name": "stdout",
          "text": [
            "                   all       1459       1459      0.867      0.822      0.909      0.784\n"
          ]
        },
        {
          "output_type": "stream",
          "name": "stderr",
          "text": [
            "\n"
          ]
        },
        {
          "output_type": "stream",
          "name": "stdout",
          "text": [
            "\n",
            "      Epoch    GPU_mem   box_loss   cls_loss   dfl_loss  Instances       Size\n"
          ]
        },
        {
          "output_type": "stream",
          "name": "stderr",
          "text": [
            "      23/50      4.13G     0.6381     0.6128     0.9724          8        640: 100%|██████████| 453/453 [01:10<00:00,  6.39it/s]\n",
            "                 Class     Images  Instances      Box(P          R      mAP50  mAP50-95): 100%|██████████| 46/46 [00:07<00:00,  5.82it/s]"
          ]
        },
        {
          "output_type": "stream",
          "name": "stdout",
          "text": [
            "                   all       1459       1459       0.84      0.844      0.904      0.783\n"
          ]
        },
        {
          "output_type": "stream",
          "name": "stderr",
          "text": [
            "\n"
          ]
        },
        {
          "output_type": "stream",
          "name": "stdout",
          "text": [
            "\n",
            "      Epoch    GPU_mem   box_loss   cls_loss   dfl_loss  Instances       Size\n"
          ]
        },
        {
          "output_type": "stream",
          "name": "stderr",
          "text": [
            "      24/50      4.11G     0.6366      0.599     0.9748          4        640: 100%|██████████| 453/453 [01:10<00:00,  6.40it/s]\n",
            "                 Class     Images  Instances      Box(P          R      mAP50  mAP50-95): 100%|██████████| 46/46 [00:07<00:00,  5.91it/s]"
          ]
        },
        {
          "output_type": "stream",
          "name": "stdout",
          "text": [
            "                   all       1459       1459      0.871      0.837        0.9      0.776\n"
          ]
        },
        {
          "output_type": "stream",
          "name": "stderr",
          "text": [
            "\n"
          ]
        },
        {
          "output_type": "stream",
          "name": "stdout",
          "text": [
            "\n",
            "      Epoch    GPU_mem   box_loss   cls_loss   dfl_loss  Instances       Size\n"
          ]
        },
        {
          "output_type": "stream",
          "name": "stderr",
          "text": [
            "      25/50      4.24G     0.6334     0.5928     0.9726          7        640: 100%|██████████| 453/453 [01:10<00:00,  6.38it/s]\n",
            "                 Class     Images  Instances      Box(P          R      mAP50  mAP50-95): 100%|██████████| 46/46 [00:07<00:00,  5.98it/s]"
          ]
        },
        {
          "output_type": "stream",
          "name": "stdout",
          "text": [
            "                   all       1459       1459      0.839      0.844      0.903      0.779\n"
          ]
        },
        {
          "output_type": "stream",
          "name": "stderr",
          "text": [
            "\n"
          ]
        },
        {
          "output_type": "stream",
          "name": "stdout",
          "text": [
            "\n",
            "      Epoch    GPU_mem   box_loss   cls_loss   dfl_loss  Instances       Size\n"
          ]
        },
        {
          "output_type": "stream",
          "name": "stderr",
          "text": [
            "      26/50      4.11G     0.6299     0.5871     0.9696          7        640: 100%|██████████| 453/453 [01:10<00:00,  6.39it/s]\n",
            "                 Class     Images  Instances      Box(P          R      mAP50  mAP50-95): 100%|██████████| 46/46 [00:08<00:00,  5.75it/s]"
          ]
        },
        {
          "output_type": "stream",
          "name": "stdout",
          "text": [
            "                   all       1459       1459      0.848       0.85      0.905      0.783\n"
          ]
        },
        {
          "output_type": "stream",
          "name": "stderr",
          "text": [
            "\n"
          ]
        },
        {
          "output_type": "stream",
          "name": "stdout",
          "text": [
            "\n",
            "      Epoch    GPU_mem   box_loss   cls_loss   dfl_loss  Instances       Size\n"
          ]
        },
        {
          "output_type": "stream",
          "name": "stderr",
          "text": [
            "      27/50      4.11G     0.6315     0.5787     0.9698          8        640: 100%|██████████| 453/453 [01:10<00:00,  6.39it/s]\n",
            "                 Class     Images  Instances      Box(P          R      mAP50  mAP50-95): 100%|██████████| 46/46 [00:08<00:00,  5.65it/s]"
          ]
        },
        {
          "output_type": "stream",
          "name": "stdout",
          "text": [
            "                   all       1459       1459      0.843      0.874      0.916      0.793\n"
          ]
        },
        {
          "output_type": "stream",
          "name": "stderr",
          "text": [
            "\n"
          ]
        },
        {
          "output_type": "stream",
          "name": "stdout",
          "text": [
            "\n",
            "      Epoch    GPU_mem   box_loss   cls_loss   dfl_loss  Instances       Size\n"
          ]
        },
        {
          "output_type": "stream",
          "name": "stderr",
          "text": [
            "      28/50      4.11G     0.6216     0.5779     0.9699         10        640: 100%|██████████| 453/453 [01:10<00:00,  6.39it/s]\n",
            "                 Class     Images  Instances      Box(P          R      mAP50  mAP50-95): 100%|██████████| 46/46 [00:07<00:00,  5.81it/s]"
          ]
        },
        {
          "output_type": "stream",
          "name": "stdout",
          "text": [
            "                   all       1459       1459      0.852      0.849      0.911      0.788\n"
          ]
        },
        {
          "output_type": "stream",
          "name": "stderr",
          "text": [
            "\n"
          ]
        },
        {
          "output_type": "stream",
          "name": "stdout",
          "text": [
            "\n",
            "      Epoch    GPU_mem   box_loss   cls_loss   dfl_loss  Instances       Size\n"
          ]
        },
        {
          "output_type": "stream",
          "name": "stderr",
          "text": [
            "      29/50      4.24G     0.6214     0.5597     0.9669         10        640: 100%|██████████| 453/453 [01:10<00:00,  6.40it/s]\n",
            "                 Class     Images  Instances      Box(P          R      mAP50  mAP50-95): 100%|██████████| 46/46 [00:07<00:00,  5.99it/s]"
          ]
        },
        {
          "output_type": "stream",
          "name": "stdout",
          "text": [
            "                   all       1459       1459      0.888      0.847      0.916      0.792\n"
          ]
        },
        {
          "output_type": "stream",
          "name": "stderr",
          "text": [
            "\n"
          ]
        },
        {
          "output_type": "stream",
          "name": "stdout",
          "text": [
            "\n",
            "      Epoch    GPU_mem   box_loss   cls_loss   dfl_loss  Instances       Size\n"
          ]
        },
        {
          "output_type": "stream",
          "name": "stderr",
          "text": [
            "      30/50      4.11G     0.6221     0.5561     0.9679          8        640: 100%|██████████| 453/453 [01:10<00:00,  6.39it/s]\n",
            "                 Class     Images  Instances      Box(P          R      mAP50  mAP50-95): 100%|██████████| 46/46 [00:08<00:00,  5.74it/s]"
          ]
        },
        {
          "output_type": "stream",
          "name": "stdout",
          "text": [
            "                   all       1459       1459      0.829      0.844      0.899      0.776\n"
          ]
        },
        {
          "output_type": "stream",
          "name": "stderr",
          "text": [
            "\n"
          ]
        },
        {
          "output_type": "stream",
          "name": "stdout",
          "text": [
            "\n",
            "      Epoch    GPU_mem   box_loss   cls_loss   dfl_loss  Instances       Size\n"
          ]
        },
        {
          "output_type": "stream",
          "name": "stderr",
          "text": [
            "      31/50      4.11G     0.6154     0.5467     0.9653         11        640: 100%|██████████| 453/453 [01:10<00:00,  6.40it/s]\n",
            "                 Class     Images  Instances      Box(P          R      mAP50  mAP50-95): 100%|██████████| 46/46 [00:07<00:00,  5.78it/s]"
          ]
        },
        {
          "output_type": "stream",
          "name": "stdout",
          "text": [
            "                   all       1459       1459      0.866      0.853      0.907      0.783\n"
          ]
        },
        {
          "output_type": "stream",
          "name": "stderr",
          "text": [
            "\n"
          ]
        },
        {
          "output_type": "stream",
          "name": "stdout",
          "text": [
            "\n",
            "      Epoch    GPU_mem   box_loss   cls_loss   dfl_loss  Instances       Size\n"
          ]
        },
        {
          "output_type": "stream",
          "name": "stderr",
          "text": [
            "      32/50      4.11G     0.6118     0.5376     0.9607          5        640: 100%|██████████| 453/453 [01:10<00:00,  6.39it/s]\n",
            "                 Class     Images  Instances      Box(P          R      mAP50  mAP50-95): 100%|██████████| 46/46 [00:08<00:00,  5.69it/s]"
          ]
        },
        {
          "output_type": "stream",
          "name": "stdout",
          "text": [
            "                   all       1459       1459      0.877       0.84      0.915      0.793\n"
          ]
        },
        {
          "output_type": "stream",
          "name": "stderr",
          "text": [
            "\n"
          ]
        },
        {
          "output_type": "stream",
          "name": "stdout",
          "text": [
            "\n",
            "      Epoch    GPU_mem   box_loss   cls_loss   dfl_loss  Instances       Size\n"
          ]
        },
        {
          "output_type": "stream",
          "name": "stderr",
          "text": [
            "      33/50      4.24G     0.6112     0.5383     0.9642         13        640: 100%|██████████| 453/453 [01:10<00:00,  6.40it/s]\n",
            "                 Class     Images  Instances      Box(P          R      mAP50  mAP50-95): 100%|██████████| 46/46 [00:07<00:00,  5.77it/s]"
          ]
        },
        {
          "output_type": "stream",
          "name": "stdout",
          "text": [
            "                   all       1459       1459      0.869      0.853      0.915      0.794\n"
          ]
        },
        {
          "output_type": "stream",
          "name": "stderr",
          "text": [
            "\n"
          ]
        },
        {
          "output_type": "stream",
          "name": "stdout",
          "text": [
            "\n",
            "      Epoch    GPU_mem   box_loss   cls_loss   dfl_loss  Instances       Size\n"
          ]
        },
        {
          "output_type": "stream",
          "name": "stderr",
          "text": [
            "      34/50      4.11G     0.6074     0.5314     0.9623          9        640: 100%|██████████| 453/453 [01:10<00:00,  6.39it/s]\n",
            "                 Class     Images  Instances      Box(P          R      mAP50  mAP50-95): 100%|██████████| 46/46 [00:07<00:00,  6.00it/s]"
          ]
        },
        {
          "output_type": "stream",
          "name": "stdout",
          "text": [
            "                   all       1459       1459      0.882      0.839       0.91       0.79\n"
          ]
        },
        {
          "output_type": "stream",
          "name": "stderr",
          "text": [
            "\n"
          ]
        },
        {
          "output_type": "stream",
          "name": "stdout",
          "text": [
            "\n",
            "      Epoch    GPU_mem   box_loss   cls_loss   dfl_loss  Instances       Size\n"
          ]
        },
        {
          "output_type": "stream",
          "name": "stderr",
          "text": [
            "      35/50      4.11G     0.6092     0.5171     0.9598          6        640: 100%|██████████| 453/453 [01:10<00:00,  6.39it/s]\n",
            "                 Class     Images  Instances      Box(P          R      mAP50  mAP50-95): 100%|██████████| 46/46 [00:08<00:00,  5.74it/s]"
          ]
        },
        {
          "output_type": "stream",
          "name": "stdout",
          "text": [
            "                   all       1459       1459      0.869       0.86      0.909      0.791\n"
          ]
        },
        {
          "output_type": "stream",
          "name": "stderr",
          "text": [
            "\n"
          ]
        },
        {
          "output_type": "stream",
          "name": "stdout",
          "text": [
            "\n",
            "      Epoch    GPU_mem   box_loss   cls_loss   dfl_loss  Instances       Size\n"
          ]
        },
        {
          "output_type": "stream",
          "name": "stderr",
          "text": [
            "      36/50      4.11G     0.5991     0.5057      0.958          8        640: 100%|██████████| 453/453 [01:10<00:00,  6.38it/s]\n",
            "                 Class     Images  Instances      Box(P          R      mAP50  mAP50-95): 100%|██████████| 46/46 [00:08<00:00,  5.57it/s]"
          ]
        },
        {
          "output_type": "stream",
          "name": "stdout",
          "text": [
            "                   all       1459       1459      0.863      0.857      0.908      0.787\n"
          ]
        },
        {
          "output_type": "stream",
          "name": "stderr",
          "text": [
            "\n"
          ]
        },
        {
          "output_type": "stream",
          "name": "stdout",
          "text": [
            "\n",
            "      Epoch    GPU_mem   box_loss   cls_loss   dfl_loss  Instances       Size\n"
          ]
        },
        {
          "output_type": "stream",
          "name": "stderr",
          "text": [
            "      37/50      4.24G      0.596     0.5032     0.9537         11        640: 100%|██████████| 453/453 [01:10<00:00,  6.41it/s]\n",
            "                 Class     Images  Instances      Box(P          R      mAP50  mAP50-95): 100%|██████████| 46/46 [00:08<00:00,  5.72it/s]"
          ]
        },
        {
          "output_type": "stream",
          "name": "stdout",
          "text": [
            "                   all       1459       1459      0.873      0.831      0.909       0.79\n"
          ]
        },
        {
          "output_type": "stream",
          "name": "stderr",
          "text": [
            "\n"
          ]
        },
        {
          "output_type": "stream",
          "name": "stdout",
          "text": [
            "\n",
            "      Epoch    GPU_mem   box_loss   cls_loss   dfl_loss  Instances       Size\n"
          ]
        },
        {
          "output_type": "stream",
          "name": "stderr",
          "text": [
            "      38/50      4.11G     0.6037     0.5064     0.9621         12        640: 100%|██████████| 453/453 [01:10<00:00,  6.39it/s]\n",
            "                 Class     Images  Instances      Box(P          R      mAP50  mAP50-95): 100%|██████████| 46/46 [00:08<00:00,  5.65it/s]"
          ]
        },
        {
          "output_type": "stream",
          "name": "stdout",
          "text": [
            "                   all       1459       1459      0.847      0.866      0.911      0.789\n"
          ]
        },
        {
          "output_type": "stream",
          "name": "stderr",
          "text": [
            "\n"
          ]
        },
        {
          "output_type": "stream",
          "name": "stdout",
          "text": [
            "\n",
            "      Epoch    GPU_mem   box_loss   cls_loss   dfl_loss  Instances       Size\n"
          ]
        },
        {
          "output_type": "stream",
          "name": "stderr",
          "text": [
            "      39/50      4.11G     0.5997     0.4898     0.9575          7        640: 100%|██████████| 453/453 [01:10<00:00,  6.40it/s]\n",
            "                 Class     Images  Instances      Box(P          R      mAP50  mAP50-95): 100%|██████████| 46/46 [00:07<00:00,  5.95it/s]"
          ]
        },
        {
          "output_type": "stream",
          "name": "stdout",
          "text": [
            "                   all       1459       1459      0.868      0.865      0.915      0.793\n"
          ]
        },
        {
          "output_type": "stream",
          "name": "stderr",
          "text": [
            "\n"
          ]
        },
        {
          "output_type": "stream",
          "name": "stdout",
          "text": [
            "\n",
            "      Epoch    GPU_mem   box_loss   cls_loss   dfl_loss  Instances       Size\n"
          ]
        },
        {
          "output_type": "stream",
          "name": "stderr",
          "text": [
            "      40/50      4.11G     0.5927     0.4841     0.9539         11        640: 100%|██████████| 453/453 [01:10<00:00,  6.39it/s]\n",
            "                 Class     Images  Instances      Box(P          R      mAP50  mAP50-95): 100%|██████████| 46/46 [00:07<00:00,  5.81it/s]"
          ]
        },
        {
          "output_type": "stream",
          "name": "stdout",
          "text": [
            "                   all       1459       1459      0.872      0.861      0.912      0.789\n"
          ]
        },
        {
          "output_type": "stream",
          "name": "stderr",
          "text": [
            "\n"
          ]
        },
        {
          "output_type": "stream",
          "name": "stdout",
          "text": [
            "Closing dataloader mosaic\n",
            "\u001b[34m\u001b[1malbumentations: \u001b[0mBlur(p=0.01, blur_limit=(3, 7)), MedianBlur(p=0.01, blur_limit=(3, 7)), ToGray(p=0.01), CLAHE(p=0.01, clip_limit=(1, 4.0), tile_grid_size=(8, 8))\n",
            "\n",
            "      Epoch    GPU_mem   box_loss   cls_loss   dfl_loss  Instances       Size\n"
          ]
        },
        {
          "output_type": "stream",
          "name": "stderr",
          "text": [
            "      41/50      4.08G     0.5588     0.3216     0.9285          4        640: 100%|██████████| 453/453 [01:12<00:00,  6.28it/s]\n",
            "                 Class     Images  Instances      Box(P          R      mAP50  mAP50-95): 100%|██████████| 46/46 [00:08<00:00,  5.62it/s]"
          ]
        },
        {
          "output_type": "stream",
          "name": "stdout",
          "text": [
            "                   all       1459       1459      0.856      0.868       0.91      0.789\n"
          ]
        },
        {
          "output_type": "stream",
          "name": "stderr",
          "text": [
            "\n"
          ]
        },
        {
          "output_type": "stream",
          "name": "stdout",
          "text": [
            "\n",
            "      Epoch    GPU_mem   box_loss   cls_loss   dfl_loss  Instances       Size\n"
          ]
        },
        {
          "output_type": "stream",
          "name": "stderr",
          "text": [
            "      42/50      4.11G     0.5565     0.3171     0.9246          4        640: 100%|██████████| 453/453 [01:10<00:00,  6.43it/s]\n",
            "                 Class     Images  Instances      Box(P          R      mAP50  mAP50-95): 100%|██████████| 46/46 [00:07<00:00,  5.81it/s]"
          ]
        },
        {
          "output_type": "stream",
          "name": "stdout",
          "text": [
            "                   all       1459       1459      0.868      0.854      0.904      0.784\n"
          ]
        },
        {
          "output_type": "stream",
          "name": "stderr",
          "text": [
            "\n"
          ]
        },
        {
          "output_type": "stream",
          "name": "stdout",
          "text": [
            "\n",
            "      Epoch    GPU_mem   box_loss   cls_loss   dfl_loss  Instances       Size\n"
          ]
        },
        {
          "output_type": "stream",
          "name": "stderr",
          "text": [
            "      43/50      4.13G     0.5507     0.3015      0.918          4        640: 100%|██████████| 453/453 [01:10<00:00,  6.41it/s]\n",
            "                 Class     Images  Instances      Box(P          R      mAP50  mAP50-95): 100%|██████████| 46/46 [00:07<00:00,  5.88it/s]"
          ]
        },
        {
          "output_type": "stream",
          "name": "stdout",
          "text": [
            "                   all       1459       1459      0.887      0.839      0.907      0.787\n"
          ]
        },
        {
          "output_type": "stream",
          "name": "stderr",
          "text": [
            "\n"
          ]
        },
        {
          "output_type": "stream",
          "name": "stdout",
          "text": [
            "\n",
            "      Epoch    GPU_mem   box_loss   cls_loss   dfl_loss  Instances       Size\n"
          ]
        },
        {
          "output_type": "stream",
          "name": "stderr",
          "text": [
            "      44/50      4.12G     0.5477     0.2975     0.9216          4        640: 100%|██████████| 453/453 [01:10<00:00,  6.43it/s]\n",
            "                 Class     Images  Instances      Box(P          R      mAP50  mAP50-95): 100%|██████████| 46/46 [00:07<00:00,  5.84it/s]"
          ]
        },
        {
          "output_type": "stream",
          "name": "stdout",
          "text": [
            "                   all       1459       1459      0.865      0.847      0.904      0.785\n"
          ]
        },
        {
          "output_type": "stream",
          "name": "stderr",
          "text": [
            "\n"
          ]
        },
        {
          "output_type": "stream",
          "name": "stdout",
          "text": [
            "\n",
            "      Epoch    GPU_mem   box_loss   cls_loss   dfl_loss  Instances       Size\n"
          ]
        },
        {
          "output_type": "stream",
          "name": "stderr",
          "text": [
            "      45/50      4.08G     0.5449      0.293     0.9176          4        640: 100%|██████████| 453/453 [01:10<00:00,  6.41it/s]\n",
            "                 Class     Images  Instances      Box(P          R      mAP50  mAP50-95): 100%|██████████| 46/46 [00:08<00:00,  5.70it/s]"
          ]
        },
        {
          "output_type": "stream",
          "name": "stdout",
          "text": [
            "                   all       1459       1459       0.86      0.868      0.898       0.78\n"
          ]
        },
        {
          "output_type": "stream",
          "name": "stderr",
          "text": [
            "\n"
          ]
        },
        {
          "output_type": "stream",
          "name": "stdout",
          "text": [
            "\n",
            "      Epoch    GPU_mem   box_loss   cls_loss   dfl_loss  Instances       Size\n"
          ]
        },
        {
          "output_type": "stream",
          "name": "stderr",
          "text": [
            "      46/50      4.11G     0.5401     0.2752     0.9179          4        640: 100%|██████████| 453/453 [01:10<00:00,  6.44it/s]\n",
            "                 Class     Images  Instances      Box(P          R      mAP50  mAP50-95): 100%|██████████| 46/46 [00:08<00:00,  5.53it/s]"
          ]
        },
        {
          "output_type": "stream",
          "name": "stdout",
          "text": [
            "                   all       1459       1459      0.866      0.851      0.897      0.778\n"
          ]
        },
        {
          "output_type": "stream",
          "name": "stderr",
          "text": [
            "\n"
          ]
        },
        {
          "output_type": "stream",
          "name": "stdout",
          "text": [
            "\n",
            "      Epoch    GPU_mem   box_loss   cls_loss   dfl_loss  Instances       Size\n"
          ]
        },
        {
          "output_type": "stream",
          "name": "stderr",
          "text": [
            "      47/50      4.13G     0.5358      0.272     0.9127          4        640: 100%|██████████| 453/453 [01:10<00:00,  6.45it/s]\n",
            "                 Class     Images  Instances      Box(P          R      mAP50  mAP50-95): 100%|██████████| 46/46 [00:08<00:00,  5.62it/s]"
          ]
        },
        {
          "output_type": "stream",
          "name": "stdout",
          "text": [
            "                   all       1459       1459      0.855      0.864      0.899      0.781\n"
          ]
        },
        {
          "output_type": "stream",
          "name": "stderr",
          "text": [
            "\n"
          ]
        },
        {
          "output_type": "stream",
          "name": "stdout",
          "text": [
            "\n",
            "      Epoch    GPU_mem   box_loss   cls_loss   dfl_loss  Instances       Size\n"
          ]
        },
        {
          "output_type": "stream",
          "name": "stderr",
          "text": [
            "      48/50      4.12G     0.5302      0.261     0.9104          4        640: 100%|██████████| 453/453 [01:10<00:00,  6.42it/s]\n",
            "                 Class     Images  Instances      Box(P          R      mAP50  mAP50-95): 100%|██████████| 46/46 [00:07<00:00,  5.91it/s]"
          ]
        },
        {
          "output_type": "stream",
          "name": "stdout",
          "text": [
            "                   all       1459       1459      0.867      0.846      0.894      0.777\n"
          ]
        },
        {
          "output_type": "stream",
          "name": "stderr",
          "text": [
            "\n"
          ]
        },
        {
          "output_type": "stream",
          "name": "stdout",
          "text": [
            "\n",
            "      Epoch    GPU_mem   box_loss   cls_loss   dfl_loss  Instances       Size\n"
          ]
        },
        {
          "output_type": "stream",
          "name": "stderr",
          "text": [
            "      49/50      4.24G     0.5266     0.2557     0.9091          4        640: 100%|██████████| 453/453 [01:10<00:00,  6.43it/s]\n",
            "                 Class     Images  Instances      Box(P          R      mAP50  mAP50-95): 100%|██████████| 46/46 [00:07<00:00,  5.77it/s]"
          ]
        },
        {
          "output_type": "stream",
          "name": "stdout",
          "text": [
            "                   all       1459       1459      0.865      0.851      0.885       0.77\n"
          ]
        },
        {
          "output_type": "stream",
          "name": "stderr",
          "text": [
            "\n"
          ]
        },
        {
          "output_type": "stream",
          "name": "stdout",
          "text": [
            "\n",
            "      Epoch    GPU_mem   box_loss   cls_loss   dfl_loss  Instances       Size\n"
          ]
        },
        {
          "output_type": "stream",
          "name": "stderr",
          "text": [
            "      50/50      4.11G     0.5241     0.2503     0.9045          4        640: 100%|██████████| 453/453 [01:10<00:00,  6.42it/s]\n",
            "                 Class     Images  Instances      Box(P          R      mAP50  mAP50-95): 100%|██████████| 46/46 [00:08<00:00,  5.60it/s]"
          ]
        },
        {
          "output_type": "stream",
          "name": "stdout",
          "text": [
            "                   all       1459       1459       0.86      0.853       0.89      0.773\n"
          ]
        },
        {
          "output_type": "stream",
          "name": "stderr",
          "text": [
            "\n"
          ]
        },
        {
          "output_type": "stream",
          "name": "stdout",
          "text": [
            "\n",
            "50 epochs completed in 1.111 hours.\n",
            "Optimizer stripped from runs/detect/train/weights/last.pt, 22.5MB\n",
            "Optimizer stripped from runs/detect/train/weights/best.pt, 22.5MB\n",
            "\n",
            "Validating runs/detect/train/weights/best.pt...\n",
            "Ultralytics YOLOv8.2.27 🚀 Python-3.10.12 torch-2.3.0+cu121 CUDA:0 (NVIDIA L4, 22700MiB)\n",
            "Model summary (fused): 168 layers, 11127519 parameters, 0 gradients, 28.4 GFLOPs\n"
          ]
        },
        {
          "output_type": "stream",
          "name": "stderr",
          "text": [
            "                 Class     Images  Instances      Box(P          R      mAP50  mAP50-95): 100%|██████████| 46/46 [00:09<00:00,  4.86it/s]\n"
          ]
        },
        {
          "output_type": "stream",
          "name": "stdout",
          "text": [
            "                   all       1459       1459      0.869      0.852      0.914      0.794\n",
            "          {0: 'anger'}        271        271      0.813      0.737      0.828      0.723\n",
            "          {1: 'happy'}        303        303      0.966      0.967       0.99      0.877\n",
            "          {2: 'panic'}        257        257      0.857      0.866      0.918      0.791\n",
            "        {3: 'sadness'}        216        216      0.783      0.856      0.901      0.773\n",
            "        {4: 'neutral'}        412        412      0.926      0.835      0.935      0.804\n",
            "Speed: 0.1ms preprocess, 1.7ms inference, 0.0ms loss, 1.8ms postprocess per image\n",
            "Results saved to \u001b[1mruns/detect/train\u001b[0m\n"
          ]
        },
        {
          "output_type": "execute_result",
          "data": {
            "text/plain": [
              "ultralytics.utils.metrics.DetMetrics object with attributes:\n",
              "\n",
              "ap_class_index: array([0, 1, 2, 3, 4])\n",
              "box: ultralytics.utils.metrics.Metric object\n",
              "confusion_matrix: <ultralytics.utils.metrics.ConfusionMatrix object at 0x7b4f268c6800>\n",
              "curves: ['Precision-Recall(B)', 'F1-Confidence(B)', 'Precision-Confidence(B)', 'Recall-Confidence(B)']\n",
              "curves_results: [[array([          0,    0.001001,    0.002002,    0.003003,    0.004004,    0.005005,    0.006006,    0.007007,    0.008008,    0.009009,     0.01001,    0.011011,    0.012012,    0.013013,    0.014014,    0.015015,    0.016016,    0.017017,    0.018018,    0.019019,     0.02002,    0.021021,    0.022022,    0.023023,\n",
              "          0.024024,    0.025025,    0.026026,    0.027027,    0.028028,    0.029029,     0.03003,    0.031031,    0.032032,    0.033033,    0.034034,    0.035035,    0.036036,    0.037037,    0.038038,    0.039039,     0.04004,    0.041041,    0.042042,    0.043043,    0.044044,    0.045045,    0.046046,    0.047047,\n",
              "          0.048048,    0.049049,     0.05005,    0.051051,    0.052052,    0.053053,    0.054054,    0.055055,    0.056056,    0.057057,    0.058058,    0.059059,     0.06006,    0.061061,    0.062062,    0.063063,    0.064064,    0.065065,    0.066066,    0.067067,    0.068068,    0.069069,     0.07007,    0.071071,\n",
              "          0.072072,    0.073073,    0.074074,    0.075075,    0.076076,    0.077077,    0.078078,    0.079079,     0.08008,    0.081081,    0.082082,    0.083083,    0.084084,    0.085085,    0.086086,    0.087087,    0.088088,    0.089089,     0.09009,    0.091091,    0.092092,    0.093093,    0.094094,    0.095095,\n",
              "          0.096096,    0.097097,    0.098098,    0.099099,      0.1001,      0.1011,      0.1021,      0.1031,      0.1041,     0.10511,     0.10611,     0.10711,     0.10811,     0.10911,     0.11011,     0.11111,     0.11211,     0.11311,     0.11411,     0.11512,     0.11612,     0.11712,     0.11812,     0.11912,\n",
              "           0.12012,     0.12112,     0.12212,     0.12312,     0.12412,     0.12513,     0.12613,     0.12713,     0.12813,     0.12913,     0.13013,     0.13113,     0.13213,     0.13313,     0.13413,     0.13514,     0.13614,     0.13714,     0.13814,     0.13914,     0.14014,     0.14114,     0.14214,     0.14314,\n",
              "           0.14414,     0.14515,     0.14615,     0.14715,     0.14815,     0.14915,     0.15015,     0.15115,     0.15215,     0.15315,     0.15415,     0.15516,     0.15616,     0.15716,     0.15816,     0.15916,     0.16016,     0.16116,     0.16216,     0.16316,     0.16416,     0.16517,     0.16617,     0.16717,\n",
              "           0.16817,     0.16917,     0.17017,     0.17117,     0.17217,     0.17317,     0.17417,     0.17518,     0.17618,     0.17718,     0.17818,     0.17918,     0.18018,     0.18118,     0.18218,     0.18318,     0.18418,     0.18519,     0.18619,     0.18719,     0.18819,     0.18919,     0.19019,     0.19119,\n",
              "           0.19219,     0.19319,     0.19419,      0.1952,      0.1962,      0.1972,      0.1982,      0.1992,      0.2002,      0.2012,      0.2022,      0.2032,      0.2042,     0.20521,     0.20621,     0.20721,     0.20821,     0.20921,     0.21021,     0.21121,     0.21221,     0.21321,     0.21421,     0.21522,\n",
              "           0.21622,     0.21722,     0.21822,     0.21922,     0.22022,     0.22122,     0.22222,     0.22322,     0.22422,     0.22523,     0.22623,     0.22723,     0.22823,     0.22923,     0.23023,     0.23123,     0.23223,     0.23323,     0.23423,     0.23524,     0.23624,     0.23724,     0.23824,     0.23924,\n",
              "           0.24024,     0.24124,     0.24224,     0.24324,     0.24424,     0.24525,     0.24625,     0.24725,     0.24825,     0.24925,     0.25025,     0.25125,     0.25225,     0.25325,     0.25425,     0.25526,     0.25626,     0.25726,     0.25826,     0.25926,     0.26026,     0.26126,     0.26226,     0.26326,\n",
              "           0.26426,     0.26527,     0.26627,     0.26727,     0.26827,     0.26927,     0.27027,     0.27127,     0.27227,     0.27327,     0.27427,     0.27528,     0.27628,     0.27728,     0.27828,     0.27928,     0.28028,     0.28128,     0.28228,     0.28328,     0.28428,     0.28529,     0.28629,     0.28729,\n",
              "           0.28829,     0.28929,     0.29029,     0.29129,     0.29229,     0.29329,     0.29429,      0.2953,      0.2963,      0.2973,      0.2983,      0.2993,      0.3003,      0.3013,      0.3023,      0.3033,      0.3043,     0.30531,     0.30631,     0.30731,     0.30831,     0.30931,     0.31031,     0.31131,\n",
              "           0.31231,     0.31331,     0.31431,     0.31532,     0.31632,     0.31732,     0.31832,     0.31932,     0.32032,     0.32132,     0.32232,     0.32332,     0.32432,     0.32533,     0.32633,     0.32733,     0.32833,     0.32933,     0.33033,     0.33133,     0.33233,     0.33333,     0.33433,     0.33534,\n",
              "           0.33634,     0.33734,     0.33834,     0.33934,     0.34034,     0.34134,     0.34234,     0.34334,     0.34434,     0.34535,     0.34635,     0.34735,     0.34835,     0.34935,     0.35035,     0.35135,     0.35235,     0.35335,     0.35435,     0.35536,     0.35636,     0.35736,     0.35836,     0.35936,\n",
              "           0.36036,     0.36136,     0.36236,     0.36336,     0.36436,     0.36537,     0.36637,     0.36737,     0.36837,     0.36937,     0.37037,     0.37137,     0.37237,     0.37337,     0.37437,     0.37538,     0.37638,     0.37738,     0.37838,     0.37938,     0.38038,     0.38138,     0.38238,     0.38338,\n",
              "           0.38438,     0.38539,     0.38639,     0.38739,     0.38839,     0.38939,     0.39039,     0.39139,     0.39239,     0.39339,     0.39439,      0.3954,      0.3964,      0.3974,      0.3984,      0.3994,      0.4004,      0.4014,      0.4024,      0.4034,      0.4044,     0.40541,     0.40641,     0.40741,\n",
              "           0.40841,     0.40941,     0.41041,     0.41141,     0.41241,     0.41341,     0.41441,     0.41542,     0.41642,     0.41742,     0.41842,     0.41942,     0.42042,     0.42142,     0.42242,     0.42342,     0.42442,     0.42543,     0.42643,     0.42743,     0.42843,     0.42943,     0.43043,     0.43143,\n",
              "           0.43243,     0.43343,     0.43443,     0.43544,     0.43644,     0.43744,     0.43844,     0.43944,     0.44044,     0.44144,     0.44244,     0.44344,     0.44444,     0.44545,     0.44645,     0.44745,     0.44845,     0.44945,     0.45045,     0.45145,     0.45245,     0.45345,     0.45445,     0.45546,\n",
              "           0.45646,     0.45746,     0.45846,     0.45946,     0.46046,     0.46146,     0.46246,     0.46346,     0.46446,     0.46547,     0.46647,     0.46747,     0.46847,     0.46947,     0.47047,     0.47147,     0.47247,     0.47347,     0.47447,     0.47548,     0.47648,     0.47748,     0.47848,     0.47948,\n",
              "           0.48048,     0.48148,     0.48248,     0.48348,     0.48448,     0.48549,     0.48649,     0.48749,     0.48849,     0.48949,     0.49049,     0.49149,     0.49249,     0.49349,     0.49449,      0.4955,      0.4965,      0.4975,      0.4985,      0.4995,      0.5005,      0.5015,      0.5025,      0.5035,\n",
              "            0.5045,     0.50551,     0.50651,     0.50751,     0.50851,     0.50951,     0.51051,     0.51151,     0.51251,     0.51351,     0.51451,     0.51552,     0.51652,     0.51752,     0.51852,     0.51952,     0.52052,     0.52152,     0.52252,     0.52352,     0.52452,     0.52553,     0.52653,     0.52753,\n",
              "           0.52853,     0.52953,     0.53053,     0.53153,     0.53253,     0.53353,     0.53453,     0.53554,     0.53654,     0.53754,     0.53854,     0.53954,     0.54054,     0.54154,     0.54254,     0.54354,     0.54454,     0.54555,     0.54655,     0.54755,     0.54855,     0.54955,     0.55055,     0.55155,\n",
              "           0.55255,     0.55355,     0.55455,     0.55556,     0.55656,     0.55756,     0.55856,     0.55956,     0.56056,     0.56156,     0.56256,     0.56356,     0.56456,     0.56557,     0.56657,     0.56757,     0.56857,     0.56957,     0.57057,     0.57157,     0.57257,     0.57357,     0.57457,     0.57558,\n",
              "           0.57658,     0.57758,     0.57858,     0.57958,     0.58058,     0.58158,     0.58258,     0.58358,     0.58458,     0.58559,     0.58659,     0.58759,     0.58859,     0.58959,     0.59059,     0.59159,     0.59259,     0.59359,     0.59459,      0.5956,      0.5966,      0.5976,      0.5986,      0.5996,\n",
              "            0.6006,      0.6016,      0.6026,      0.6036,      0.6046,     0.60561,     0.60661,     0.60761,     0.60861,     0.60961,     0.61061,     0.61161,     0.61261,     0.61361,     0.61461,     0.61562,     0.61662,     0.61762,     0.61862,     0.61962,     0.62062,     0.62162,     0.62262,     0.62362,\n",
              "           0.62462,     0.62563,     0.62663,     0.62763,     0.62863,     0.62963,     0.63063,     0.63163,     0.63263,     0.63363,     0.63463,     0.63564,     0.63664,     0.63764,     0.63864,     0.63964,     0.64064,     0.64164,     0.64264,     0.64364,     0.64464,     0.64565,     0.64665,     0.64765,\n",
              "           0.64865,     0.64965,     0.65065,     0.65165,     0.65265,     0.65365,     0.65465,     0.65566,     0.65666,     0.65766,     0.65866,     0.65966,     0.66066,     0.66166,     0.66266,     0.66366,     0.66466,     0.66567,     0.66667,     0.66767,     0.66867,     0.66967,     0.67067,     0.67167,\n",
              "           0.67267,     0.67367,     0.67467,     0.67568,     0.67668,     0.67768,     0.67868,     0.67968,     0.68068,     0.68168,     0.68268,     0.68368,     0.68468,     0.68569,     0.68669,     0.68769,     0.68869,     0.68969,     0.69069,     0.69169,     0.69269,     0.69369,     0.69469,      0.6957,\n",
              "            0.6967,      0.6977,      0.6987,      0.6997,      0.7007,      0.7017,      0.7027,      0.7037,      0.7047,     0.70571,     0.70671,     0.70771,     0.70871,     0.70971,     0.71071,     0.71171,     0.71271,     0.71371,     0.71471,     0.71572,     0.71672,     0.71772,     0.71872,     0.71972,\n",
              "           0.72072,     0.72172,     0.72272,     0.72372,     0.72472,     0.72573,     0.72673,     0.72773,     0.72873,     0.72973,     0.73073,     0.73173,     0.73273,     0.73373,     0.73473,     0.73574,     0.73674,     0.73774,     0.73874,     0.73974,     0.74074,     0.74174,     0.74274,     0.74374,\n",
              "           0.74474,     0.74575,     0.74675,     0.74775,     0.74875,     0.74975,     0.75075,     0.75175,     0.75275,     0.75375,     0.75475,     0.75576,     0.75676,     0.75776,     0.75876,     0.75976,     0.76076,     0.76176,     0.76276,     0.76376,     0.76476,     0.76577,     0.76677,     0.76777,\n",
              "           0.76877,     0.76977,     0.77077,     0.77177,     0.77277,     0.77377,     0.77477,     0.77578,     0.77678,     0.77778,     0.77878,     0.77978,     0.78078,     0.78178,     0.78278,     0.78378,     0.78478,     0.78579,     0.78679,     0.78779,     0.78879,     0.78979,     0.79079,     0.79179,\n",
              "           0.79279,     0.79379,     0.79479,      0.7958,      0.7968,      0.7978,      0.7988,      0.7998,      0.8008,      0.8018,      0.8028,      0.8038,      0.8048,     0.80581,     0.80681,     0.80781,     0.80881,     0.80981,     0.81081,     0.81181,     0.81281,     0.81381,     0.81481,     0.81582,\n",
              "           0.81682,     0.81782,     0.81882,     0.81982,     0.82082,     0.82182,     0.82282,     0.82382,     0.82482,     0.82583,     0.82683,     0.82783,     0.82883,     0.82983,     0.83083,     0.83183,     0.83283,     0.83383,     0.83483,     0.83584,     0.83684,     0.83784,     0.83884,     0.83984,\n",
              "           0.84084,     0.84184,     0.84284,     0.84384,     0.84484,     0.84585,     0.84685,     0.84785,     0.84885,     0.84985,     0.85085,     0.85185,     0.85285,     0.85385,     0.85485,     0.85586,     0.85686,     0.85786,     0.85886,     0.85986,     0.86086,     0.86186,     0.86286,     0.86386,\n",
              "           0.86486,     0.86587,     0.86687,     0.86787,     0.86887,     0.86987,     0.87087,     0.87187,     0.87287,     0.87387,     0.87487,     0.87588,     0.87688,     0.87788,     0.87888,     0.87988,     0.88088,     0.88188,     0.88288,     0.88388,     0.88488,     0.88589,     0.88689,     0.88789,\n",
              "           0.88889,     0.88989,     0.89089,     0.89189,     0.89289,     0.89389,     0.89489,      0.8959,      0.8969,      0.8979,      0.8989,      0.8999,      0.9009,      0.9019,      0.9029,      0.9039,      0.9049,     0.90591,     0.90691,     0.90791,     0.90891,     0.90991,     0.91091,     0.91191,\n",
              "           0.91291,     0.91391,     0.91491,     0.91592,     0.91692,     0.91792,     0.91892,     0.91992,     0.92092,     0.92192,     0.92292,     0.92392,     0.92492,     0.92593,     0.92693,     0.92793,     0.92893,     0.92993,     0.93093,     0.93193,     0.93293,     0.93393,     0.93493,     0.93594,\n",
              "           0.93694,     0.93794,     0.93894,     0.93994,     0.94094,     0.94194,     0.94294,     0.94394,     0.94494,     0.94595,     0.94695,     0.94795,     0.94895,     0.94995,     0.95095,     0.95195,     0.95295,     0.95395,     0.95495,     0.95596,     0.95696,     0.95796,     0.95896,     0.95996,\n",
              "           0.96096,     0.96196,     0.96296,     0.96396,     0.96496,     0.96597,     0.96697,     0.96797,     0.96897,     0.96997,     0.97097,     0.97197,     0.97297,     0.97397,     0.97497,     0.97598,     0.97698,     0.97798,     0.97898,     0.97998,     0.98098,     0.98198,     0.98298,     0.98398,\n",
              "           0.98498,     0.98599,     0.98699,     0.98799,     0.98899,     0.98999,     0.99099,     0.99199,     0.99299,     0.99399,     0.99499,       0.996,       0.997,       0.998,       0.999,           1]), array([[          1,           1,           1, ...,   0.0097827,   0.0048913,           0],\n",
              "       [          1,           1,           1, ...,     0.23517,     0.11758,           0],\n",
              "       [          1,           1,           1, ...,    0.043781,    0.021891,           0],\n",
              "       [          1,           1,           1, ...,    0.025822,    0.012911,           0],\n",
              "       [    0.99099,     0.99099,     0.99099, ...,    0.017999,   0.0089995,           0]]), 'Recall', 'Precision'], [array([          0,    0.001001,    0.002002,    0.003003,    0.004004,    0.005005,    0.006006,    0.007007,    0.008008,    0.009009,     0.01001,    0.011011,    0.012012,    0.013013,    0.014014,    0.015015,    0.016016,    0.017017,    0.018018,    0.019019,     0.02002,    0.021021,    0.022022,    0.023023,\n",
              "          0.024024,    0.025025,    0.026026,    0.027027,    0.028028,    0.029029,     0.03003,    0.031031,    0.032032,    0.033033,    0.034034,    0.035035,    0.036036,    0.037037,    0.038038,    0.039039,     0.04004,    0.041041,    0.042042,    0.043043,    0.044044,    0.045045,    0.046046,    0.047047,\n",
              "          0.048048,    0.049049,     0.05005,    0.051051,    0.052052,    0.053053,    0.054054,    0.055055,    0.056056,    0.057057,    0.058058,    0.059059,     0.06006,    0.061061,    0.062062,    0.063063,    0.064064,    0.065065,    0.066066,    0.067067,    0.068068,    0.069069,     0.07007,    0.071071,\n",
              "          0.072072,    0.073073,    0.074074,    0.075075,    0.076076,    0.077077,    0.078078,    0.079079,     0.08008,    0.081081,    0.082082,    0.083083,    0.084084,    0.085085,    0.086086,    0.087087,    0.088088,    0.089089,     0.09009,    0.091091,    0.092092,    0.093093,    0.094094,    0.095095,\n",
              "          0.096096,    0.097097,    0.098098,    0.099099,      0.1001,      0.1011,      0.1021,      0.1031,      0.1041,     0.10511,     0.10611,     0.10711,     0.10811,     0.10911,     0.11011,     0.11111,     0.11211,     0.11311,     0.11411,     0.11512,     0.11612,     0.11712,     0.11812,     0.11912,\n",
              "           0.12012,     0.12112,     0.12212,     0.12312,     0.12412,     0.12513,     0.12613,     0.12713,     0.12813,     0.12913,     0.13013,     0.13113,     0.13213,     0.13313,     0.13413,     0.13514,     0.13614,     0.13714,     0.13814,     0.13914,     0.14014,     0.14114,     0.14214,     0.14314,\n",
              "           0.14414,     0.14515,     0.14615,     0.14715,     0.14815,     0.14915,     0.15015,     0.15115,     0.15215,     0.15315,     0.15415,     0.15516,     0.15616,     0.15716,     0.15816,     0.15916,     0.16016,     0.16116,     0.16216,     0.16316,     0.16416,     0.16517,     0.16617,     0.16717,\n",
              "           0.16817,     0.16917,     0.17017,     0.17117,     0.17217,     0.17317,     0.17417,     0.17518,     0.17618,     0.17718,     0.17818,     0.17918,     0.18018,     0.18118,     0.18218,     0.18318,     0.18418,     0.18519,     0.18619,     0.18719,     0.18819,     0.18919,     0.19019,     0.19119,\n",
              "           0.19219,     0.19319,     0.19419,      0.1952,      0.1962,      0.1972,      0.1982,      0.1992,      0.2002,      0.2012,      0.2022,      0.2032,      0.2042,     0.20521,     0.20621,     0.20721,     0.20821,     0.20921,     0.21021,     0.21121,     0.21221,     0.21321,     0.21421,     0.21522,\n",
              "           0.21622,     0.21722,     0.21822,     0.21922,     0.22022,     0.22122,     0.22222,     0.22322,     0.22422,     0.22523,     0.22623,     0.22723,     0.22823,     0.22923,     0.23023,     0.23123,     0.23223,     0.23323,     0.23423,     0.23524,     0.23624,     0.23724,     0.23824,     0.23924,\n",
              "           0.24024,     0.24124,     0.24224,     0.24324,     0.24424,     0.24525,     0.24625,     0.24725,     0.24825,     0.24925,     0.25025,     0.25125,     0.25225,     0.25325,     0.25425,     0.25526,     0.25626,     0.25726,     0.25826,     0.25926,     0.26026,     0.26126,     0.26226,     0.26326,\n",
              "           0.26426,     0.26527,     0.26627,     0.26727,     0.26827,     0.26927,     0.27027,     0.27127,     0.27227,     0.27327,     0.27427,     0.27528,     0.27628,     0.27728,     0.27828,     0.27928,     0.28028,     0.28128,     0.28228,     0.28328,     0.28428,     0.28529,     0.28629,     0.28729,\n",
              "           0.28829,     0.28929,     0.29029,     0.29129,     0.29229,     0.29329,     0.29429,      0.2953,      0.2963,      0.2973,      0.2983,      0.2993,      0.3003,      0.3013,      0.3023,      0.3033,      0.3043,     0.30531,     0.30631,     0.30731,     0.30831,     0.30931,     0.31031,     0.31131,\n",
              "           0.31231,     0.31331,     0.31431,     0.31532,     0.31632,     0.31732,     0.31832,     0.31932,     0.32032,     0.32132,     0.32232,     0.32332,     0.32432,     0.32533,     0.32633,     0.32733,     0.32833,     0.32933,     0.33033,     0.33133,     0.33233,     0.33333,     0.33433,     0.33534,\n",
              "           0.33634,     0.33734,     0.33834,     0.33934,     0.34034,     0.34134,     0.34234,     0.34334,     0.34434,     0.34535,     0.34635,     0.34735,     0.34835,     0.34935,     0.35035,     0.35135,     0.35235,     0.35335,     0.35435,     0.35536,     0.35636,     0.35736,     0.35836,     0.35936,\n",
              "           0.36036,     0.36136,     0.36236,     0.36336,     0.36436,     0.36537,     0.36637,     0.36737,     0.36837,     0.36937,     0.37037,     0.37137,     0.37237,     0.37337,     0.37437,     0.37538,     0.37638,     0.37738,     0.37838,     0.37938,     0.38038,     0.38138,     0.38238,     0.38338,\n",
              "           0.38438,     0.38539,     0.38639,     0.38739,     0.38839,     0.38939,     0.39039,     0.39139,     0.39239,     0.39339,     0.39439,      0.3954,      0.3964,      0.3974,      0.3984,      0.3994,      0.4004,      0.4014,      0.4024,      0.4034,      0.4044,     0.40541,     0.40641,     0.40741,\n",
              "           0.40841,     0.40941,     0.41041,     0.41141,     0.41241,     0.41341,     0.41441,     0.41542,     0.41642,     0.41742,     0.41842,     0.41942,     0.42042,     0.42142,     0.42242,     0.42342,     0.42442,     0.42543,     0.42643,     0.42743,     0.42843,     0.42943,     0.43043,     0.43143,\n",
              "           0.43243,     0.43343,     0.43443,     0.43544,     0.43644,     0.43744,     0.43844,     0.43944,     0.44044,     0.44144,     0.44244,     0.44344,     0.44444,     0.44545,     0.44645,     0.44745,     0.44845,     0.44945,     0.45045,     0.45145,     0.45245,     0.45345,     0.45445,     0.45546,\n",
              "           0.45646,     0.45746,     0.45846,     0.45946,     0.46046,     0.46146,     0.46246,     0.46346,     0.46446,     0.46547,     0.46647,     0.46747,     0.46847,     0.46947,     0.47047,     0.47147,     0.47247,     0.47347,     0.47447,     0.47548,     0.47648,     0.47748,     0.47848,     0.47948,\n",
              "           0.48048,     0.48148,     0.48248,     0.48348,     0.48448,     0.48549,     0.48649,     0.48749,     0.48849,     0.48949,     0.49049,     0.49149,     0.49249,     0.49349,     0.49449,      0.4955,      0.4965,      0.4975,      0.4985,      0.4995,      0.5005,      0.5015,      0.5025,      0.5035,\n",
              "            0.5045,     0.50551,     0.50651,     0.50751,     0.50851,     0.50951,     0.51051,     0.51151,     0.51251,     0.51351,     0.51451,     0.51552,     0.51652,     0.51752,     0.51852,     0.51952,     0.52052,     0.52152,     0.52252,     0.52352,     0.52452,     0.52553,     0.52653,     0.52753,\n",
              "           0.52853,     0.52953,     0.53053,     0.53153,     0.53253,     0.53353,     0.53453,     0.53554,     0.53654,     0.53754,     0.53854,     0.53954,     0.54054,     0.54154,     0.54254,     0.54354,     0.54454,     0.54555,     0.54655,     0.54755,     0.54855,     0.54955,     0.55055,     0.55155,\n",
              "           0.55255,     0.55355,     0.55455,     0.55556,     0.55656,     0.55756,     0.55856,     0.55956,     0.56056,     0.56156,     0.56256,     0.56356,     0.56456,     0.56557,     0.56657,     0.56757,     0.56857,     0.56957,     0.57057,     0.57157,     0.57257,     0.57357,     0.57457,     0.57558,\n",
              "           0.57658,     0.57758,     0.57858,     0.57958,     0.58058,     0.58158,     0.58258,     0.58358,     0.58458,     0.58559,     0.58659,     0.58759,     0.58859,     0.58959,     0.59059,     0.59159,     0.59259,     0.59359,     0.59459,      0.5956,      0.5966,      0.5976,      0.5986,      0.5996,\n",
              "            0.6006,      0.6016,      0.6026,      0.6036,      0.6046,     0.60561,     0.60661,     0.60761,     0.60861,     0.60961,     0.61061,     0.61161,     0.61261,     0.61361,     0.61461,     0.61562,     0.61662,     0.61762,     0.61862,     0.61962,     0.62062,     0.62162,     0.62262,     0.62362,\n",
              "           0.62462,     0.62563,     0.62663,     0.62763,     0.62863,     0.62963,     0.63063,     0.63163,     0.63263,     0.63363,     0.63463,     0.63564,     0.63664,     0.63764,     0.63864,     0.63964,     0.64064,     0.64164,     0.64264,     0.64364,     0.64464,     0.64565,     0.64665,     0.64765,\n",
              "           0.64865,     0.64965,     0.65065,     0.65165,     0.65265,     0.65365,     0.65465,     0.65566,     0.65666,     0.65766,     0.65866,     0.65966,     0.66066,     0.66166,     0.66266,     0.66366,     0.66466,     0.66567,     0.66667,     0.66767,     0.66867,     0.66967,     0.67067,     0.67167,\n",
              "           0.67267,     0.67367,     0.67467,     0.67568,     0.67668,     0.67768,     0.67868,     0.67968,     0.68068,     0.68168,     0.68268,     0.68368,     0.68468,     0.68569,     0.68669,     0.68769,     0.68869,     0.68969,     0.69069,     0.69169,     0.69269,     0.69369,     0.69469,      0.6957,\n",
              "            0.6967,      0.6977,      0.6987,      0.6997,      0.7007,      0.7017,      0.7027,      0.7037,      0.7047,     0.70571,     0.70671,     0.70771,     0.70871,     0.70971,     0.71071,     0.71171,     0.71271,     0.71371,     0.71471,     0.71572,     0.71672,     0.71772,     0.71872,     0.71972,\n",
              "           0.72072,     0.72172,     0.72272,     0.72372,     0.72472,     0.72573,     0.72673,     0.72773,     0.72873,     0.72973,     0.73073,     0.73173,     0.73273,     0.73373,     0.73473,     0.73574,     0.73674,     0.73774,     0.73874,     0.73974,     0.74074,     0.74174,     0.74274,     0.74374,\n",
              "           0.74474,     0.74575,     0.74675,     0.74775,     0.74875,     0.74975,     0.75075,     0.75175,     0.75275,     0.75375,     0.75475,     0.75576,     0.75676,     0.75776,     0.75876,     0.75976,     0.76076,     0.76176,     0.76276,     0.76376,     0.76476,     0.76577,     0.76677,     0.76777,\n",
              "           0.76877,     0.76977,     0.77077,     0.77177,     0.77277,     0.77377,     0.77477,     0.77578,     0.77678,     0.77778,     0.77878,     0.77978,     0.78078,     0.78178,     0.78278,     0.78378,     0.78478,     0.78579,     0.78679,     0.78779,     0.78879,     0.78979,     0.79079,     0.79179,\n",
              "           0.79279,     0.79379,     0.79479,      0.7958,      0.7968,      0.7978,      0.7988,      0.7998,      0.8008,      0.8018,      0.8028,      0.8038,      0.8048,     0.80581,     0.80681,     0.80781,     0.80881,     0.80981,     0.81081,     0.81181,     0.81281,     0.81381,     0.81481,     0.81582,\n",
              "           0.81682,     0.81782,     0.81882,     0.81982,     0.82082,     0.82182,     0.82282,     0.82382,     0.82482,     0.82583,     0.82683,     0.82783,     0.82883,     0.82983,     0.83083,     0.83183,     0.83283,     0.83383,     0.83483,     0.83584,     0.83684,     0.83784,     0.83884,     0.83984,\n",
              "           0.84084,     0.84184,     0.84284,     0.84384,     0.84484,     0.84585,     0.84685,     0.84785,     0.84885,     0.84985,     0.85085,     0.85185,     0.85285,     0.85385,     0.85485,     0.85586,     0.85686,     0.85786,     0.85886,     0.85986,     0.86086,     0.86186,     0.86286,     0.86386,\n",
              "           0.86486,     0.86587,     0.86687,     0.86787,     0.86887,     0.86987,     0.87087,     0.87187,     0.87287,     0.87387,     0.87487,     0.87588,     0.87688,     0.87788,     0.87888,     0.87988,     0.88088,     0.88188,     0.88288,     0.88388,     0.88488,     0.88589,     0.88689,     0.88789,\n",
              "           0.88889,     0.88989,     0.89089,     0.89189,     0.89289,     0.89389,     0.89489,      0.8959,      0.8969,      0.8979,      0.8989,      0.8999,      0.9009,      0.9019,      0.9029,      0.9039,      0.9049,     0.90591,     0.90691,     0.90791,     0.90891,     0.90991,     0.91091,     0.91191,\n",
              "           0.91291,     0.91391,     0.91491,     0.91592,     0.91692,     0.91792,     0.91892,     0.91992,     0.92092,     0.92192,     0.92292,     0.92392,     0.92492,     0.92593,     0.92693,     0.92793,     0.92893,     0.92993,     0.93093,     0.93193,     0.93293,     0.93393,     0.93493,     0.93594,\n",
              "           0.93694,     0.93794,     0.93894,     0.93994,     0.94094,     0.94194,     0.94294,     0.94394,     0.94494,     0.94595,     0.94695,     0.94795,     0.94895,     0.94995,     0.95095,     0.95195,     0.95295,     0.95395,     0.95495,     0.95596,     0.95696,     0.95796,     0.95896,     0.95996,\n",
              "           0.96096,     0.96196,     0.96296,     0.96396,     0.96496,     0.96597,     0.96697,     0.96797,     0.96897,     0.96997,     0.97097,     0.97197,     0.97297,     0.97397,     0.97497,     0.97598,     0.97698,     0.97798,     0.97898,     0.97998,     0.98098,     0.98198,     0.98298,     0.98398,\n",
              "           0.98498,     0.98599,     0.98699,     0.98799,     0.98899,     0.98999,     0.99099,     0.99199,     0.99299,     0.99399,     0.99499,       0.996,       0.997,       0.998,       0.999,           1]), array([[    0.35286,     0.35286,     0.39677, ...,           0,           0,           0],\n",
              "       [    0.55823,     0.55823,     0.68322, ...,           0,           0,           0],\n",
              "       [    0.40575,     0.40575,     0.46549, ...,           0,           0,           0],\n",
              "       [     0.3032,      0.3032,      0.3666, ...,           0,           0,           0],\n",
              "       [    0.32711,     0.32711,     0.45283, ...,           0,           0,           0]]), 'Confidence', 'F1'], [array([          0,    0.001001,    0.002002,    0.003003,    0.004004,    0.005005,    0.006006,    0.007007,    0.008008,    0.009009,     0.01001,    0.011011,    0.012012,    0.013013,    0.014014,    0.015015,    0.016016,    0.017017,    0.018018,    0.019019,     0.02002,    0.021021,    0.022022,    0.023023,\n",
              "          0.024024,    0.025025,    0.026026,    0.027027,    0.028028,    0.029029,     0.03003,    0.031031,    0.032032,    0.033033,    0.034034,    0.035035,    0.036036,    0.037037,    0.038038,    0.039039,     0.04004,    0.041041,    0.042042,    0.043043,    0.044044,    0.045045,    0.046046,    0.047047,\n",
              "          0.048048,    0.049049,     0.05005,    0.051051,    0.052052,    0.053053,    0.054054,    0.055055,    0.056056,    0.057057,    0.058058,    0.059059,     0.06006,    0.061061,    0.062062,    0.063063,    0.064064,    0.065065,    0.066066,    0.067067,    0.068068,    0.069069,     0.07007,    0.071071,\n",
              "          0.072072,    0.073073,    0.074074,    0.075075,    0.076076,    0.077077,    0.078078,    0.079079,     0.08008,    0.081081,    0.082082,    0.083083,    0.084084,    0.085085,    0.086086,    0.087087,    0.088088,    0.089089,     0.09009,    0.091091,    0.092092,    0.093093,    0.094094,    0.095095,\n",
              "          0.096096,    0.097097,    0.098098,    0.099099,      0.1001,      0.1011,      0.1021,      0.1031,      0.1041,     0.10511,     0.10611,     0.10711,     0.10811,     0.10911,     0.11011,     0.11111,     0.11211,     0.11311,     0.11411,     0.11512,     0.11612,     0.11712,     0.11812,     0.11912,\n",
              "           0.12012,     0.12112,     0.12212,     0.12312,     0.12412,     0.12513,     0.12613,     0.12713,     0.12813,     0.12913,     0.13013,     0.13113,     0.13213,     0.13313,     0.13413,     0.13514,     0.13614,     0.13714,     0.13814,     0.13914,     0.14014,     0.14114,     0.14214,     0.14314,\n",
              "           0.14414,     0.14515,     0.14615,     0.14715,     0.14815,     0.14915,     0.15015,     0.15115,     0.15215,     0.15315,     0.15415,     0.15516,     0.15616,     0.15716,     0.15816,     0.15916,     0.16016,     0.16116,     0.16216,     0.16316,     0.16416,     0.16517,     0.16617,     0.16717,\n",
              "           0.16817,     0.16917,     0.17017,     0.17117,     0.17217,     0.17317,     0.17417,     0.17518,     0.17618,     0.17718,     0.17818,     0.17918,     0.18018,     0.18118,     0.18218,     0.18318,     0.18418,     0.18519,     0.18619,     0.18719,     0.18819,     0.18919,     0.19019,     0.19119,\n",
              "           0.19219,     0.19319,     0.19419,      0.1952,      0.1962,      0.1972,      0.1982,      0.1992,      0.2002,      0.2012,      0.2022,      0.2032,      0.2042,     0.20521,     0.20621,     0.20721,     0.20821,     0.20921,     0.21021,     0.21121,     0.21221,     0.21321,     0.21421,     0.21522,\n",
              "           0.21622,     0.21722,     0.21822,     0.21922,     0.22022,     0.22122,     0.22222,     0.22322,     0.22422,     0.22523,     0.22623,     0.22723,     0.22823,     0.22923,     0.23023,     0.23123,     0.23223,     0.23323,     0.23423,     0.23524,     0.23624,     0.23724,     0.23824,     0.23924,\n",
              "           0.24024,     0.24124,     0.24224,     0.24324,     0.24424,     0.24525,     0.24625,     0.24725,     0.24825,     0.24925,     0.25025,     0.25125,     0.25225,     0.25325,     0.25425,     0.25526,     0.25626,     0.25726,     0.25826,     0.25926,     0.26026,     0.26126,     0.26226,     0.26326,\n",
              "           0.26426,     0.26527,     0.26627,     0.26727,     0.26827,     0.26927,     0.27027,     0.27127,     0.27227,     0.27327,     0.27427,     0.27528,     0.27628,     0.27728,     0.27828,     0.27928,     0.28028,     0.28128,     0.28228,     0.28328,     0.28428,     0.28529,     0.28629,     0.28729,\n",
              "           0.28829,     0.28929,     0.29029,     0.29129,     0.29229,     0.29329,     0.29429,      0.2953,      0.2963,      0.2973,      0.2983,      0.2993,      0.3003,      0.3013,      0.3023,      0.3033,      0.3043,     0.30531,     0.30631,     0.30731,     0.30831,     0.30931,     0.31031,     0.31131,\n",
              "           0.31231,     0.31331,     0.31431,     0.31532,     0.31632,     0.31732,     0.31832,     0.31932,     0.32032,     0.32132,     0.32232,     0.32332,     0.32432,     0.32533,     0.32633,     0.32733,     0.32833,     0.32933,     0.33033,     0.33133,     0.33233,     0.33333,     0.33433,     0.33534,\n",
              "           0.33634,     0.33734,     0.33834,     0.33934,     0.34034,     0.34134,     0.34234,     0.34334,     0.34434,     0.34535,     0.34635,     0.34735,     0.34835,     0.34935,     0.35035,     0.35135,     0.35235,     0.35335,     0.35435,     0.35536,     0.35636,     0.35736,     0.35836,     0.35936,\n",
              "           0.36036,     0.36136,     0.36236,     0.36336,     0.36436,     0.36537,     0.36637,     0.36737,     0.36837,     0.36937,     0.37037,     0.37137,     0.37237,     0.37337,     0.37437,     0.37538,     0.37638,     0.37738,     0.37838,     0.37938,     0.38038,     0.38138,     0.38238,     0.38338,\n",
              "           0.38438,     0.38539,     0.38639,     0.38739,     0.38839,     0.38939,     0.39039,     0.39139,     0.39239,     0.39339,     0.39439,      0.3954,      0.3964,      0.3974,      0.3984,      0.3994,      0.4004,      0.4014,      0.4024,      0.4034,      0.4044,     0.40541,     0.40641,     0.40741,\n",
              "           0.40841,     0.40941,     0.41041,     0.41141,     0.41241,     0.41341,     0.41441,     0.41542,     0.41642,     0.41742,     0.41842,     0.41942,     0.42042,     0.42142,     0.42242,     0.42342,     0.42442,     0.42543,     0.42643,     0.42743,     0.42843,     0.42943,     0.43043,     0.43143,\n",
              "           0.43243,     0.43343,     0.43443,     0.43544,     0.43644,     0.43744,     0.43844,     0.43944,     0.44044,     0.44144,     0.44244,     0.44344,     0.44444,     0.44545,     0.44645,     0.44745,     0.44845,     0.44945,     0.45045,     0.45145,     0.45245,     0.45345,     0.45445,     0.45546,\n",
              "           0.45646,     0.45746,     0.45846,     0.45946,     0.46046,     0.46146,     0.46246,     0.46346,     0.46446,     0.46547,     0.46647,     0.46747,     0.46847,     0.46947,     0.47047,     0.47147,     0.47247,     0.47347,     0.47447,     0.47548,     0.47648,     0.47748,     0.47848,     0.47948,\n",
              "           0.48048,     0.48148,     0.48248,     0.48348,     0.48448,     0.48549,     0.48649,     0.48749,     0.48849,     0.48949,     0.49049,     0.49149,     0.49249,     0.49349,     0.49449,      0.4955,      0.4965,      0.4975,      0.4985,      0.4995,      0.5005,      0.5015,      0.5025,      0.5035,\n",
              "            0.5045,     0.50551,     0.50651,     0.50751,     0.50851,     0.50951,     0.51051,     0.51151,     0.51251,     0.51351,     0.51451,     0.51552,     0.51652,     0.51752,     0.51852,     0.51952,     0.52052,     0.52152,     0.52252,     0.52352,     0.52452,     0.52553,     0.52653,     0.52753,\n",
              "           0.52853,     0.52953,     0.53053,     0.53153,     0.53253,     0.53353,     0.53453,     0.53554,     0.53654,     0.53754,     0.53854,     0.53954,     0.54054,     0.54154,     0.54254,     0.54354,     0.54454,     0.54555,     0.54655,     0.54755,     0.54855,     0.54955,     0.55055,     0.55155,\n",
              "           0.55255,     0.55355,     0.55455,     0.55556,     0.55656,     0.55756,     0.55856,     0.55956,     0.56056,     0.56156,     0.56256,     0.56356,     0.56456,     0.56557,     0.56657,     0.56757,     0.56857,     0.56957,     0.57057,     0.57157,     0.57257,     0.57357,     0.57457,     0.57558,\n",
              "           0.57658,     0.57758,     0.57858,     0.57958,     0.58058,     0.58158,     0.58258,     0.58358,     0.58458,     0.58559,     0.58659,     0.58759,     0.58859,     0.58959,     0.59059,     0.59159,     0.59259,     0.59359,     0.59459,      0.5956,      0.5966,      0.5976,      0.5986,      0.5996,\n",
              "            0.6006,      0.6016,      0.6026,      0.6036,      0.6046,     0.60561,     0.60661,     0.60761,     0.60861,     0.60961,     0.61061,     0.61161,     0.61261,     0.61361,     0.61461,     0.61562,     0.61662,     0.61762,     0.61862,     0.61962,     0.62062,     0.62162,     0.62262,     0.62362,\n",
              "           0.62462,     0.62563,     0.62663,     0.62763,     0.62863,     0.62963,     0.63063,     0.63163,     0.63263,     0.63363,     0.63463,     0.63564,     0.63664,     0.63764,     0.63864,     0.63964,     0.64064,     0.64164,     0.64264,     0.64364,     0.64464,     0.64565,     0.64665,     0.64765,\n",
              "           0.64865,     0.64965,     0.65065,     0.65165,     0.65265,     0.65365,     0.65465,     0.65566,     0.65666,     0.65766,     0.65866,     0.65966,     0.66066,     0.66166,     0.66266,     0.66366,     0.66466,     0.66567,     0.66667,     0.66767,     0.66867,     0.66967,     0.67067,     0.67167,\n",
              "           0.67267,     0.67367,     0.67467,     0.67568,     0.67668,     0.67768,     0.67868,     0.67968,     0.68068,     0.68168,     0.68268,     0.68368,     0.68468,     0.68569,     0.68669,     0.68769,     0.68869,     0.68969,     0.69069,     0.69169,     0.69269,     0.69369,     0.69469,      0.6957,\n",
              "            0.6967,      0.6977,      0.6987,      0.6997,      0.7007,      0.7017,      0.7027,      0.7037,      0.7047,     0.70571,     0.70671,     0.70771,     0.70871,     0.70971,     0.71071,     0.71171,     0.71271,     0.71371,     0.71471,     0.71572,     0.71672,     0.71772,     0.71872,     0.71972,\n",
              "           0.72072,     0.72172,     0.72272,     0.72372,     0.72472,     0.72573,     0.72673,     0.72773,     0.72873,     0.72973,     0.73073,     0.73173,     0.73273,     0.73373,     0.73473,     0.73574,     0.73674,     0.73774,     0.73874,     0.73974,     0.74074,     0.74174,     0.74274,     0.74374,\n",
              "           0.74474,     0.74575,     0.74675,     0.74775,     0.74875,     0.74975,     0.75075,     0.75175,     0.75275,     0.75375,     0.75475,     0.75576,     0.75676,     0.75776,     0.75876,     0.75976,     0.76076,     0.76176,     0.76276,     0.76376,     0.76476,     0.76577,     0.76677,     0.76777,\n",
              "           0.76877,     0.76977,     0.77077,     0.77177,     0.77277,     0.77377,     0.77477,     0.77578,     0.77678,     0.77778,     0.77878,     0.77978,     0.78078,     0.78178,     0.78278,     0.78378,     0.78478,     0.78579,     0.78679,     0.78779,     0.78879,     0.78979,     0.79079,     0.79179,\n",
              "           0.79279,     0.79379,     0.79479,      0.7958,      0.7968,      0.7978,      0.7988,      0.7998,      0.8008,      0.8018,      0.8028,      0.8038,      0.8048,     0.80581,     0.80681,     0.80781,     0.80881,     0.80981,     0.81081,     0.81181,     0.81281,     0.81381,     0.81481,     0.81582,\n",
              "           0.81682,     0.81782,     0.81882,     0.81982,     0.82082,     0.82182,     0.82282,     0.82382,     0.82482,     0.82583,     0.82683,     0.82783,     0.82883,     0.82983,     0.83083,     0.83183,     0.83283,     0.83383,     0.83483,     0.83584,     0.83684,     0.83784,     0.83884,     0.83984,\n",
              "           0.84084,     0.84184,     0.84284,     0.84384,     0.84484,     0.84585,     0.84685,     0.84785,     0.84885,     0.84985,     0.85085,     0.85185,     0.85285,     0.85385,     0.85485,     0.85586,     0.85686,     0.85786,     0.85886,     0.85986,     0.86086,     0.86186,     0.86286,     0.86386,\n",
              "           0.86486,     0.86587,     0.86687,     0.86787,     0.86887,     0.86987,     0.87087,     0.87187,     0.87287,     0.87387,     0.87487,     0.87588,     0.87688,     0.87788,     0.87888,     0.87988,     0.88088,     0.88188,     0.88288,     0.88388,     0.88488,     0.88589,     0.88689,     0.88789,\n",
              "           0.88889,     0.88989,     0.89089,     0.89189,     0.89289,     0.89389,     0.89489,      0.8959,      0.8969,      0.8979,      0.8989,      0.8999,      0.9009,      0.9019,      0.9029,      0.9039,      0.9049,     0.90591,     0.90691,     0.90791,     0.90891,     0.90991,     0.91091,     0.91191,\n",
              "           0.91291,     0.91391,     0.91491,     0.91592,     0.91692,     0.91792,     0.91892,     0.91992,     0.92092,     0.92192,     0.92292,     0.92392,     0.92492,     0.92593,     0.92693,     0.92793,     0.92893,     0.92993,     0.93093,     0.93193,     0.93293,     0.93393,     0.93493,     0.93594,\n",
              "           0.93694,     0.93794,     0.93894,     0.93994,     0.94094,     0.94194,     0.94294,     0.94394,     0.94494,     0.94595,     0.94695,     0.94795,     0.94895,     0.94995,     0.95095,     0.95195,     0.95295,     0.95395,     0.95495,     0.95596,     0.95696,     0.95796,     0.95896,     0.95996,\n",
              "           0.96096,     0.96196,     0.96296,     0.96396,     0.96496,     0.96597,     0.96697,     0.96797,     0.96897,     0.96997,     0.97097,     0.97197,     0.97297,     0.97397,     0.97497,     0.97598,     0.97698,     0.97798,     0.97898,     0.97998,     0.98098,     0.98198,     0.98298,     0.98398,\n",
              "           0.98498,     0.98599,     0.98699,     0.98799,     0.98899,     0.98999,     0.99099,     0.99199,     0.99299,     0.99399,     0.99499,       0.996,       0.997,       0.998,       0.999,           1]), array([[    0.21637,     0.21637,     0.25035, ...,           1,           1,           1],\n",
              "       [    0.38768,     0.38768,     0.51975, ...,           1,           1,           1],\n",
              "       [    0.25528,     0.25528,     0.30481, ...,           1,           1,           1],\n",
              "       [    0.17914,     0.17914,     0.22515, ...,           1,           1,           1],\n",
              "       [    0.19639,     0.19639,     0.29505, ...,           1,           1,           1]]), 'Confidence', 'Precision'], [array([          0,    0.001001,    0.002002,    0.003003,    0.004004,    0.005005,    0.006006,    0.007007,    0.008008,    0.009009,     0.01001,    0.011011,    0.012012,    0.013013,    0.014014,    0.015015,    0.016016,    0.017017,    0.018018,    0.019019,     0.02002,    0.021021,    0.022022,    0.023023,\n",
              "          0.024024,    0.025025,    0.026026,    0.027027,    0.028028,    0.029029,     0.03003,    0.031031,    0.032032,    0.033033,    0.034034,    0.035035,    0.036036,    0.037037,    0.038038,    0.039039,     0.04004,    0.041041,    0.042042,    0.043043,    0.044044,    0.045045,    0.046046,    0.047047,\n",
              "          0.048048,    0.049049,     0.05005,    0.051051,    0.052052,    0.053053,    0.054054,    0.055055,    0.056056,    0.057057,    0.058058,    0.059059,     0.06006,    0.061061,    0.062062,    0.063063,    0.064064,    0.065065,    0.066066,    0.067067,    0.068068,    0.069069,     0.07007,    0.071071,\n",
              "          0.072072,    0.073073,    0.074074,    0.075075,    0.076076,    0.077077,    0.078078,    0.079079,     0.08008,    0.081081,    0.082082,    0.083083,    0.084084,    0.085085,    0.086086,    0.087087,    0.088088,    0.089089,     0.09009,    0.091091,    0.092092,    0.093093,    0.094094,    0.095095,\n",
              "          0.096096,    0.097097,    0.098098,    0.099099,      0.1001,      0.1011,      0.1021,      0.1031,      0.1041,     0.10511,     0.10611,     0.10711,     0.10811,     0.10911,     0.11011,     0.11111,     0.11211,     0.11311,     0.11411,     0.11512,     0.11612,     0.11712,     0.11812,     0.11912,\n",
              "           0.12012,     0.12112,     0.12212,     0.12312,     0.12412,     0.12513,     0.12613,     0.12713,     0.12813,     0.12913,     0.13013,     0.13113,     0.13213,     0.13313,     0.13413,     0.13514,     0.13614,     0.13714,     0.13814,     0.13914,     0.14014,     0.14114,     0.14214,     0.14314,\n",
              "           0.14414,     0.14515,     0.14615,     0.14715,     0.14815,     0.14915,     0.15015,     0.15115,     0.15215,     0.15315,     0.15415,     0.15516,     0.15616,     0.15716,     0.15816,     0.15916,     0.16016,     0.16116,     0.16216,     0.16316,     0.16416,     0.16517,     0.16617,     0.16717,\n",
              "           0.16817,     0.16917,     0.17017,     0.17117,     0.17217,     0.17317,     0.17417,     0.17518,     0.17618,     0.17718,     0.17818,     0.17918,     0.18018,     0.18118,     0.18218,     0.18318,     0.18418,     0.18519,     0.18619,     0.18719,     0.18819,     0.18919,     0.19019,     0.19119,\n",
              "           0.19219,     0.19319,     0.19419,      0.1952,      0.1962,      0.1972,      0.1982,      0.1992,      0.2002,      0.2012,      0.2022,      0.2032,      0.2042,     0.20521,     0.20621,     0.20721,     0.20821,     0.20921,     0.21021,     0.21121,     0.21221,     0.21321,     0.21421,     0.21522,\n",
              "           0.21622,     0.21722,     0.21822,     0.21922,     0.22022,     0.22122,     0.22222,     0.22322,     0.22422,     0.22523,     0.22623,     0.22723,     0.22823,     0.22923,     0.23023,     0.23123,     0.23223,     0.23323,     0.23423,     0.23524,     0.23624,     0.23724,     0.23824,     0.23924,\n",
              "           0.24024,     0.24124,     0.24224,     0.24324,     0.24424,     0.24525,     0.24625,     0.24725,     0.24825,     0.24925,     0.25025,     0.25125,     0.25225,     0.25325,     0.25425,     0.25526,     0.25626,     0.25726,     0.25826,     0.25926,     0.26026,     0.26126,     0.26226,     0.26326,\n",
              "           0.26426,     0.26527,     0.26627,     0.26727,     0.26827,     0.26927,     0.27027,     0.27127,     0.27227,     0.27327,     0.27427,     0.27528,     0.27628,     0.27728,     0.27828,     0.27928,     0.28028,     0.28128,     0.28228,     0.28328,     0.28428,     0.28529,     0.28629,     0.28729,\n",
              "           0.28829,     0.28929,     0.29029,     0.29129,     0.29229,     0.29329,     0.29429,      0.2953,      0.2963,      0.2973,      0.2983,      0.2993,      0.3003,      0.3013,      0.3023,      0.3033,      0.3043,     0.30531,     0.30631,     0.30731,     0.30831,     0.30931,     0.31031,     0.31131,\n",
              "           0.31231,     0.31331,     0.31431,     0.31532,     0.31632,     0.31732,     0.31832,     0.31932,     0.32032,     0.32132,     0.32232,     0.32332,     0.32432,     0.32533,     0.32633,     0.32733,     0.32833,     0.32933,     0.33033,     0.33133,     0.33233,     0.33333,     0.33433,     0.33534,\n",
              "           0.33634,     0.33734,     0.33834,     0.33934,     0.34034,     0.34134,     0.34234,     0.34334,     0.34434,     0.34535,     0.34635,     0.34735,     0.34835,     0.34935,     0.35035,     0.35135,     0.35235,     0.35335,     0.35435,     0.35536,     0.35636,     0.35736,     0.35836,     0.35936,\n",
              "           0.36036,     0.36136,     0.36236,     0.36336,     0.36436,     0.36537,     0.36637,     0.36737,     0.36837,     0.36937,     0.37037,     0.37137,     0.37237,     0.37337,     0.37437,     0.37538,     0.37638,     0.37738,     0.37838,     0.37938,     0.38038,     0.38138,     0.38238,     0.38338,\n",
              "           0.38438,     0.38539,     0.38639,     0.38739,     0.38839,     0.38939,     0.39039,     0.39139,     0.39239,     0.39339,     0.39439,      0.3954,      0.3964,      0.3974,      0.3984,      0.3994,      0.4004,      0.4014,      0.4024,      0.4034,      0.4044,     0.40541,     0.40641,     0.40741,\n",
              "           0.40841,     0.40941,     0.41041,     0.41141,     0.41241,     0.41341,     0.41441,     0.41542,     0.41642,     0.41742,     0.41842,     0.41942,     0.42042,     0.42142,     0.42242,     0.42342,     0.42442,     0.42543,     0.42643,     0.42743,     0.42843,     0.42943,     0.43043,     0.43143,\n",
              "           0.43243,     0.43343,     0.43443,     0.43544,     0.43644,     0.43744,     0.43844,     0.43944,     0.44044,     0.44144,     0.44244,     0.44344,     0.44444,     0.44545,     0.44645,     0.44745,     0.44845,     0.44945,     0.45045,     0.45145,     0.45245,     0.45345,     0.45445,     0.45546,\n",
              "           0.45646,     0.45746,     0.45846,     0.45946,     0.46046,     0.46146,     0.46246,     0.46346,     0.46446,     0.46547,     0.46647,     0.46747,     0.46847,     0.46947,     0.47047,     0.47147,     0.47247,     0.47347,     0.47447,     0.47548,     0.47648,     0.47748,     0.47848,     0.47948,\n",
              "           0.48048,     0.48148,     0.48248,     0.48348,     0.48448,     0.48549,     0.48649,     0.48749,     0.48849,     0.48949,     0.49049,     0.49149,     0.49249,     0.49349,     0.49449,      0.4955,      0.4965,      0.4975,      0.4985,      0.4995,      0.5005,      0.5015,      0.5025,      0.5035,\n",
              "            0.5045,     0.50551,     0.50651,     0.50751,     0.50851,     0.50951,     0.51051,     0.51151,     0.51251,     0.51351,     0.51451,     0.51552,     0.51652,     0.51752,     0.51852,     0.51952,     0.52052,     0.52152,     0.52252,     0.52352,     0.52452,     0.52553,     0.52653,     0.52753,\n",
              "           0.52853,     0.52953,     0.53053,     0.53153,     0.53253,     0.53353,     0.53453,     0.53554,     0.53654,     0.53754,     0.53854,     0.53954,     0.54054,     0.54154,     0.54254,     0.54354,     0.54454,     0.54555,     0.54655,     0.54755,     0.54855,     0.54955,     0.55055,     0.55155,\n",
              "           0.55255,     0.55355,     0.55455,     0.55556,     0.55656,     0.55756,     0.55856,     0.55956,     0.56056,     0.56156,     0.56256,     0.56356,     0.56456,     0.56557,     0.56657,     0.56757,     0.56857,     0.56957,     0.57057,     0.57157,     0.57257,     0.57357,     0.57457,     0.57558,\n",
              "           0.57658,     0.57758,     0.57858,     0.57958,     0.58058,     0.58158,     0.58258,     0.58358,     0.58458,     0.58559,     0.58659,     0.58759,     0.58859,     0.58959,     0.59059,     0.59159,     0.59259,     0.59359,     0.59459,      0.5956,      0.5966,      0.5976,      0.5986,      0.5996,\n",
              "            0.6006,      0.6016,      0.6026,      0.6036,      0.6046,     0.60561,     0.60661,     0.60761,     0.60861,     0.60961,     0.61061,     0.61161,     0.61261,     0.61361,     0.61461,     0.61562,     0.61662,     0.61762,     0.61862,     0.61962,     0.62062,     0.62162,     0.62262,     0.62362,\n",
              "           0.62462,     0.62563,     0.62663,     0.62763,     0.62863,     0.62963,     0.63063,     0.63163,     0.63263,     0.63363,     0.63463,     0.63564,     0.63664,     0.63764,     0.63864,     0.63964,     0.64064,     0.64164,     0.64264,     0.64364,     0.64464,     0.64565,     0.64665,     0.64765,\n",
              "           0.64865,     0.64965,     0.65065,     0.65165,     0.65265,     0.65365,     0.65465,     0.65566,     0.65666,     0.65766,     0.65866,     0.65966,     0.66066,     0.66166,     0.66266,     0.66366,     0.66466,     0.66567,     0.66667,     0.66767,     0.66867,     0.66967,     0.67067,     0.67167,\n",
              "           0.67267,     0.67367,     0.67467,     0.67568,     0.67668,     0.67768,     0.67868,     0.67968,     0.68068,     0.68168,     0.68268,     0.68368,     0.68468,     0.68569,     0.68669,     0.68769,     0.68869,     0.68969,     0.69069,     0.69169,     0.69269,     0.69369,     0.69469,      0.6957,\n",
              "            0.6967,      0.6977,      0.6987,      0.6997,      0.7007,      0.7017,      0.7027,      0.7037,      0.7047,     0.70571,     0.70671,     0.70771,     0.70871,     0.70971,     0.71071,     0.71171,     0.71271,     0.71371,     0.71471,     0.71572,     0.71672,     0.71772,     0.71872,     0.71972,\n",
              "           0.72072,     0.72172,     0.72272,     0.72372,     0.72472,     0.72573,     0.72673,     0.72773,     0.72873,     0.72973,     0.73073,     0.73173,     0.73273,     0.73373,     0.73473,     0.73574,     0.73674,     0.73774,     0.73874,     0.73974,     0.74074,     0.74174,     0.74274,     0.74374,\n",
              "           0.74474,     0.74575,     0.74675,     0.74775,     0.74875,     0.74975,     0.75075,     0.75175,     0.75275,     0.75375,     0.75475,     0.75576,     0.75676,     0.75776,     0.75876,     0.75976,     0.76076,     0.76176,     0.76276,     0.76376,     0.76476,     0.76577,     0.76677,     0.76777,\n",
              "           0.76877,     0.76977,     0.77077,     0.77177,     0.77277,     0.77377,     0.77477,     0.77578,     0.77678,     0.77778,     0.77878,     0.77978,     0.78078,     0.78178,     0.78278,     0.78378,     0.78478,     0.78579,     0.78679,     0.78779,     0.78879,     0.78979,     0.79079,     0.79179,\n",
              "           0.79279,     0.79379,     0.79479,      0.7958,      0.7968,      0.7978,      0.7988,      0.7998,      0.8008,      0.8018,      0.8028,      0.8038,      0.8048,     0.80581,     0.80681,     0.80781,     0.80881,     0.80981,     0.81081,     0.81181,     0.81281,     0.81381,     0.81481,     0.81582,\n",
              "           0.81682,     0.81782,     0.81882,     0.81982,     0.82082,     0.82182,     0.82282,     0.82382,     0.82482,     0.82583,     0.82683,     0.82783,     0.82883,     0.82983,     0.83083,     0.83183,     0.83283,     0.83383,     0.83483,     0.83584,     0.83684,     0.83784,     0.83884,     0.83984,\n",
              "           0.84084,     0.84184,     0.84284,     0.84384,     0.84484,     0.84585,     0.84685,     0.84785,     0.84885,     0.84985,     0.85085,     0.85185,     0.85285,     0.85385,     0.85485,     0.85586,     0.85686,     0.85786,     0.85886,     0.85986,     0.86086,     0.86186,     0.86286,     0.86386,\n",
              "           0.86486,     0.86587,     0.86687,     0.86787,     0.86887,     0.86987,     0.87087,     0.87187,     0.87287,     0.87387,     0.87487,     0.87588,     0.87688,     0.87788,     0.87888,     0.87988,     0.88088,     0.88188,     0.88288,     0.88388,     0.88488,     0.88589,     0.88689,     0.88789,\n",
              "           0.88889,     0.88989,     0.89089,     0.89189,     0.89289,     0.89389,     0.89489,      0.8959,      0.8969,      0.8979,      0.8989,      0.8999,      0.9009,      0.9019,      0.9029,      0.9039,      0.9049,     0.90591,     0.90691,     0.90791,     0.90891,     0.90991,     0.91091,     0.91191,\n",
              "           0.91291,     0.91391,     0.91491,     0.91592,     0.91692,     0.91792,     0.91892,     0.91992,     0.92092,     0.92192,     0.92292,     0.92392,     0.92492,     0.92593,     0.92693,     0.92793,     0.92893,     0.92993,     0.93093,     0.93193,     0.93293,     0.93393,     0.93493,     0.93594,\n",
              "           0.93694,     0.93794,     0.93894,     0.93994,     0.94094,     0.94194,     0.94294,     0.94394,     0.94494,     0.94595,     0.94695,     0.94795,     0.94895,     0.94995,     0.95095,     0.95195,     0.95295,     0.95395,     0.95495,     0.95596,     0.95696,     0.95796,     0.95896,     0.95996,\n",
              "           0.96096,     0.96196,     0.96296,     0.96396,     0.96496,     0.96597,     0.96697,     0.96797,     0.96897,     0.96997,     0.97097,     0.97197,     0.97297,     0.97397,     0.97497,     0.97598,     0.97698,     0.97798,     0.97898,     0.97998,     0.98098,     0.98198,     0.98298,     0.98398,\n",
              "           0.98498,     0.98599,     0.98699,     0.98799,     0.98899,     0.98999,     0.99099,     0.99199,     0.99299,     0.99399,     0.99499,       0.996,       0.997,       0.998,       0.999,           1]), array([[    0.95572,     0.95572,     0.95572, ...,           0,           0,           0],\n",
              "       [     0.9967,      0.9967,      0.9967, ...,           0,           0,           0],\n",
              "       [    0.98833,     0.98833,     0.98444, ...,           0,           0,           0],\n",
              "       [    0.98611,     0.98611,     0.98611, ...,           0,           0,           0],\n",
              "       [    0.97816,     0.97816,      0.9733, ...,           0,           0,           0]]), 'Confidence', 'Recall']]\n",
              "fitness: 0.8058356788903412\n",
              "keys: ['metrics/precision(B)', 'metrics/recall(B)', 'metrics/mAP50(B)', 'metrics/mAP50-95(B)']\n",
              "maps: array([    0.72276,     0.87725,     0.79142,     0.77348,     0.80398])\n",
              "names: {0: \"{0: 'anger'}\", 1: \"{1: 'happy'}\", 2: \"{2: 'panic'}\", 3: \"{3: 'sadness'}\", 4: \"{4: 'neutral'}\"}\n",
              "plot: True\n",
              "results_dict: {'metrics/precision(B)': 0.8691509374755585, 'metrics/recall(B)': 0.8523667757244325, 'metrics/mAP50(B)': 0.9143523822522349, 'metrics/mAP50-95(B)': 0.7937782674056864, 'fitness': 0.8058356788903412}\n",
              "save_dir: PosixPath('runs/detect/train')\n",
              "speed: {'preprocess': 0.1326448873267589, 'inference': 1.669777510017463, 'loss': 0.00042585251346036456, 'postprocess': 1.8238848084207264}\n",
              "task: 'detect'"
            ]
          },
          "metadata": {},
          "execution_count": 67
        }
      ]
    },
    {
      "cell_type": "code",
      "source": [
        "results = model.predict(\"/content/123.jpg\")\n",
        "res_plotted = results[0].plot()"
      ],
      "metadata": {
        "colab": {
          "base_uri": "https://localhost:8080/"
        },
        "id": "fhos6ptoAb4j",
        "outputId": "d5c736b5-25aa-43b8-bb22-d87f07c4adc3"
      },
      "execution_count": null,
      "outputs": [
        {
          "output_type": "stream",
          "name": "stdout",
          "text": [
            "\n",
            "image 1/1 /content/123.jpg: 480x640 5 {1: 'happy'}s, 157.1ms\n",
            "Speed: 5.0ms preprocess, 157.1ms inference, 2.6ms postprocess per image at shape (1, 3, 480, 640)\n"
          ]
        }
      ]
    },
    {
      "cell_type": "code",
      "source": [
        "res_plotted"
      ],
      "metadata": {
        "colab": {
          "base_uri": "https://localhost:8080/",
          "height": 518
        },
        "id": "fazyrsfNWEBa",
        "outputId": "595003b2-9e61-4ff5-9fc4-6d06a2cf46c2"
      },
      "execution_count": null,
      "outputs": [
        {
          "output_type": "execute_result",
          "data": {
            "text/plain": [
              "array([[[178, 209, 232],\n",
              "        [152, 183, 206],\n",
              "        [197, 224, 250],\n",
              "        ...,\n",
              "        [205, 226, 248],\n",
              "        [205, 226, 248],\n",
              "        [205, 225, 250]],\n",
              "\n",
              "       [[172, 203, 226],\n",
              "        [157, 188, 211],\n",
              "        [190, 217, 243],\n",
              "        ...,\n",
              "        [204, 225, 247],\n",
              "        [204, 225, 247],\n",
              "        [204, 224, 249]],\n",
              "\n",
              "       [[188, 216, 240],\n",
              "        [169, 197, 221],\n",
              "        [167, 195, 219],\n",
              "        ...,\n",
              "        [202, 223, 245],\n",
              "        [202, 223, 245],\n",
              "        [203, 223, 248]],\n",
              "\n",
              "       ...,\n",
              "\n",
              "       [[230, 229, 233],\n",
              "        [230, 229, 233],\n",
              "        [231, 230, 234],\n",
              "        ...,\n",
              "        [ 58,  82, 136],\n",
              "        [ 37,  61, 115],\n",
              "        [ 44,  68, 122]],\n",
              "\n",
              "       [[229, 228, 232],\n",
              "        [229, 228, 232],\n",
              "        [230, 229, 231],\n",
              "        ...,\n",
              "        [ 43,  66, 122],\n",
              "        [ 68,  91, 147],\n",
              "        [ 65,  89, 143]],\n",
              "\n",
              "       [[228, 227, 231],\n",
              "        [229, 228, 232],\n",
              "        [229, 228, 230],\n",
              "        ...,\n",
              "        [ 48,  70, 128],\n",
              "        [ 59,  82, 138],\n",
              "        [ 48,  71, 127]]], dtype=uint8)"
            ],
            "text/html": [
              "<style>\n",
              "      .ndarray_repr .ndarray_raw_data {\n",
              "        display: none;\n",
              "      }\n",
              "      .ndarray_repr.show_array .ndarray_raw_data {\n",
              "        display: block;\n",
              "      }\n",
              "      .ndarray_repr.show_array .ndarray_image_preview {\n",
              "        display: none;\n",
              "      }\n",
              "      </style>\n",
              "      <div id=\"id-f0dfbdf7-95ec-4feb-bc82-fe380117dbd3\" class=\"ndarray_repr\"><pre>ndarray (478, 641, 3) <button style=\"padding: 0 2px;\">show data</button></pre><img src=\"data:image/png;base64,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\" class=\"ndarray_image_preview\" /><pre class=\"ndarray_raw_data\">array([[[178, 209, 232],\n",
              "        [152, 183, 206],\n",
              "        [197, 224, 250],\n",
              "        ...,\n",
              "        [205, 226, 248],\n",
              "        [205, 226, 248],\n",
              "        [205, 225, 250]],\n",
              "\n",
              "       [[172, 203, 226],\n",
              "        [157, 188, 211],\n",
              "        [190, 217, 243],\n",
              "        ...,\n",
              "        [204, 225, 247],\n",
              "        [204, 225, 247],\n",
              "        [204, 224, 249]],\n",
              "\n",
              "       [[188, 216, 240],\n",
              "        [169, 197, 221],\n",
              "        [167, 195, 219],\n",
              "        ...,\n",
              "        [202, 223, 245],\n",
              "        [202, 223, 245],\n",
              "        [203, 223, 248]],\n",
              "\n",
              "       ...,\n",
              "\n",
              "       [[230, 229, 233],\n",
              "        [230, 229, 233],\n",
              "        [231, 230, 234],\n",
              "        ...,\n",
              "        [ 58,  82, 136],\n",
              "        [ 37,  61, 115],\n",
              "        [ 44,  68, 122]],\n",
              "\n",
              "       [[229, 228, 232],\n",
              "        [229, 228, 232],\n",
              "        [230, 229, 231],\n",
              "        ...,\n",
              "        [ 43,  66, 122],\n",
              "        [ 68,  91, 147],\n",
              "        [ 65,  89, 143]],\n",
              "\n",
              "       [[228, 227, 231],\n",
              "        [229, 228, 232],\n",
              "        [229, 228, 230],\n",
              "        ...,\n",
              "        [ 48,  70, 128],\n",
              "        [ 59,  82, 138],\n",
              "        [ 48,  71, 127]]], dtype=uint8)</pre></div><script>\n",
              "      (() => {\n",
              "      const titles = ['show data', 'hide data'];\n",
              "      let index = 0\n",
              "      document.querySelector('#id-f0dfbdf7-95ec-4feb-bc82-fe380117dbd3 button').onclick = (e) => {\n",
              "        document.querySelector('#id-f0dfbdf7-95ec-4feb-bc82-fe380117dbd3').classList.toggle('show_array');\n",
              "        index = (++index) % 2;\n",
              "        document.querySelector('#id-f0dfbdf7-95ec-4feb-bc82-fe380117dbd3 button').textContent = titles[index];\n",
              "        e.preventDefault();\n",
              "        e.stopPropagation();\n",
              "      }\n",
              "      })();\n",
              "    </script>"
            ]
          },
          "metadata": {},
          "execution_count": 71
        }
      ]
    },
    {
      "cell_type": "code",
      "source": [
        "import locale\n",
        "locale.getpreferredencoding = lambda: \"UTF-8\""
      ],
      "metadata": {
        "id": "yePHgH6zXP1q"
      },
      "execution_count": null,
      "outputs": []
    },
    {
      "cell_type": "code",
      "source": [
        "!yolo val model='/content/runs/detect/train/weights/best.pt' data='/content/data.yaml' split=test"
      ],
      "metadata": {
        "colab": {
          "base_uri": "https://localhost:8080/"
        },
        "id": "_VWuQaGnWLvS",
        "outputId": "ac4db9bc-3ad5-49c3-dad2-8fa268d3878e"
      },
      "execution_count": null,
      "outputs": [
        {
          "output_type": "stream",
          "name": "stdout",
          "text": [
            "Ultralytics YOLOv8.2.27 🚀 Python-3.10.12 torch-2.3.0+cu121 CUDA:0 (NVIDIA L4, 22700MiB)\n",
            "Model summary (fused): 168 layers, 11127519 parameters, 0 gradients, 28.4 GFLOPs\n",
            "\u001b[34m\u001b[1mval: \u001b[0mScanning /content/drive/MyDrive/yolo_output/test/labels... 1505 images, 124 backgrounds, 1 corrupt: 100% 1505/1505 [00:32<00:00, 46.29it/s] \n",
            "\u001b[34m\u001b[1mval: \u001b[0mWARNING ⚠️ /content/drive/MyDrive/yolo_output/test/images/8bj909c3084349a3804abb06e89e69b3305a51b298beb50639d51dd020389jqpq.jpg: ignoring corrupt image/label: negative label values [   -0.15469   -0.079167]\n",
            "\u001b[34m\u001b[1mval: \u001b[0mNew cache created: /content/drive/MyDrive/yolo_output/test/labels.cache\n",
            "                 Class     Images  Instances      Box(P          R      mAP50  mAP50-95): 100% 94/94 [00:13<00:00,  6.91it/s]\n",
            "                   all       1504       1380      0.757       0.85      0.821      0.704\n",
            "          {0: 'anger'}        280        280        0.8      0.744       0.85      0.715\n",
            "          {1: 'happy'}        298        298      0.896       0.96      0.961      0.846\n",
            "          {2: 'panic'}        274        274      0.778      0.883      0.906      0.773\n",
            "        {3: 'sadness'}        160        160      0.497       0.85      0.535      0.449\n",
            "        {4: 'neutral'}        368        368      0.813      0.815      0.852      0.734\n",
            "Speed: 0.2ms preprocess, 2.9ms inference, 0.0ms loss, 2.3ms postprocess per image\n",
            "Results saved to \u001b[1mruns/detect/val\u001b[0m\n",
            "💡 Learn more at https://docs.ultralytics.com/modes/val\n"
          ]
        }
      ]
    },
    {
      "cell_type": "code",
      "source": [],
      "metadata": {
        "id": "KdkBSBaxXEB6"
      },
      "execution_count": null,
      "outputs": []
    }
  ]
}