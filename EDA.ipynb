{
 "cells": [
  {
   "cell_type": "code",
   "execution_count": 1,
   "metadata": {},
   "outputs": [],
   "source": [
    "import os, json, glob, requests, torch, cv2\n",
    "import numpy as np\n",
    "import seaborn as sns\n",
    "import pandas as pd\n",
    "import matplotlib.pyplot as plt"
   ]
  },
  {
   "cell_type": "code",
   "execution_count": 6,
   "metadata": {},
   "outputs": [],
   "source": [
    "#set default path\n",
    "TRAIN_JSON_PATH = r'C:\\Users\\User\\Desktop\\Code\\Github\\Final_project\\eda\\train'\n",
    "VALID_JSON_PATH = r'C:\\Users\\User\\Desktop\\Code\\Github\\Final_project\\eda\\val'\n",
    "TEST_JSON_PATH = r'C:\\Users\\User\\Desktop\\Code\\Github\\Final_project\\eda\\test'\n"
   ]
  },
  {
   "cell_type": "code",
   "execution_count": 7,
   "metadata": {},
   "outputs": [],
   "source": [
    "def get_json_list_1d(json_folder_path): #returns a 1 dim array\n",
    "    temp_loader = []\n",
    "    json_train = []\n",
    "    emotion_list_json = os.listdir(json_folder_path)\n",
    "\n",
    "    for emotion in emotion_list_json:\n",
    "        if 'neutral' not in emotion:\n",
    "            with open (json_folder_path + \"\\\\\" + emotion, \"r\", encoding='euc-kr') as f:\n",
    "                temp_loader.append(json.load(f))     \n",
    "        else:\n",
    "            with open(json_folder_path + \"\\\\\" + emotion, \"r\", encoding='utf-8') as f:\n",
    "                temp_loader.append(json.load(f)) \n",
    "\n",
    "    for i in range(len(temp_loader)):\n",
    "        json_train += temp_loader[i]     \n",
    "\n",
    "    return json_train"
   ]
  },
  {
   "cell_type": "code",
   "execution_count": 8,
   "metadata": {},
   "outputs": [],
   "source": [
    "#call for the functions\n",
    "json_train = get_json_list_1d(TRAIN_JSON_PATH)\n",
    "json_val = get_json_list_1d(VALID_JSON_PATH)\n",
    "json_test = get_json_list_1d(TEST_JSON_PATH)\n"
   ]
  },
  {
   "cell_type": "code",
   "execution_count": 12,
   "metadata": {},
   "outputs": [
    {
     "name": "stdout",
     "output_type": "stream",
     "text": [
      "dict_keys(['filename', 'gender', 'age', 'isProf', 'faceExp_uploader', 'bg_uploader', 'annot_A', 'annot_B', 'annot_C'])\n",
      "5994\n",
      "1200\n",
      "<class 'dict'>\n"
     ]
    }
   ],
   "source": [
    "print(json_train[0].keys()) #see what keys are available\n",
    "print(len(json_train))\n",
    "print(len(json_val))\n",
    "print(type(json_train[0]))"
   ]
  },
  {
   "cell_type": "code",
   "execution_count": 17,
   "metadata": {},
   "outputs": [
    {
     "data": {
      "text/html": [
       "<div>\n",
       "<style scoped>\n",
       "    .dataframe tbody tr th:only-of-type {\n",
       "        vertical-align: middle;\n",
       "    }\n",
       "\n",
       "    .dataframe tbody tr th {\n",
       "        vertical-align: top;\n",
       "    }\n",
       "\n",
       "    .dataframe thead th {\n",
       "        text-align: right;\n",
       "    }\n",
       "</style>\n",
       "<table border=\"1\" class=\"dataframe\">\n",
       "  <thead>\n",
       "    <tr style=\"text-align: right;\">\n",
       "      <th></th>\n",
       "      <th>gender</th>\n",
       "      <th>age</th>\n",
       "      <th>isProf</th>\n",
       "      <th>faceExp_uploader</th>\n",
       "      <th>bg_uploader</th>\n",
       "    </tr>\n",
       "  </thead>\n",
       "  <tbody>\n",
       "    <tr>\n",
       "      <th>0</th>\n",
       "      <td>남</td>\n",
       "      <td>30</td>\n",
       "      <td>일반인</td>\n",
       "      <td>분노</td>\n",
       "      <td>교통/이동수단(엘리베이터 포함)</td>\n",
       "    </tr>\n",
       "    <tr>\n",
       "      <th>1</th>\n",
       "      <td>남</td>\n",
       "      <td>40</td>\n",
       "      <td>전문인</td>\n",
       "      <td>분노</td>\n",
       "      <td>문화재 및 유적지</td>\n",
       "    </tr>\n",
       "    <tr>\n",
       "      <th>2</th>\n",
       "      <td>여</td>\n",
       "      <td>20</td>\n",
       "      <td>전문인</td>\n",
       "      <td>분노</td>\n",
       "      <td>오락/공연시설</td>\n",
       "    </tr>\n",
       "    <tr>\n",
       "      <th>3</th>\n",
       "      <td>여</td>\n",
       "      <td>50</td>\n",
       "      <td>일반인</td>\n",
       "      <td>분노</td>\n",
       "      <td>공공시설/종교/의료시설</td>\n",
       "    </tr>\n",
       "    <tr>\n",
       "      <th>4</th>\n",
       "      <td>여</td>\n",
       "      <td>30</td>\n",
       "      <td>일반인</td>\n",
       "      <td>분노</td>\n",
       "      <td>상업시설/점포/시장</td>\n",
       "    </tr>\n",
       "    <tr>\n",
       "      <th>...</th>\n",
       "      <td>...</td>\n",
       "      <td>...</td>\n",
       "      <td>...</td>\n",
       "      <td>...</td>\n",
       "      <td>...</td>\n",
       "    </tr>\n",
       "    <tr>\n",
       "      <th>5989</th>\n",
       "      <td>여</td>\n",
       "      <td>50</td>\n",
       "      <td>일반인</td>\n",
       "      <td>슬픔</td>\n",
       "      <td>실외 자연환경</td>\n",
       "    </tr>\n",
       "    <tr>\n",
       "      <th>5990</th>\n",
       "      <td>남</td>\n",
       "      <td>40</td>\n",
       "      <td>전문인</td>\n",
       "      <td>슬픔</td>\n",
       "      <td>도심 환경</td>\n",
       "    </tr>\n",
       "    <tr>\n",
       "      <th>5991</th>\n",
       "      <td>여</td>\n",
       "      <td>20</td>\n",
       "      <td>전문인</td>\n",
       "      <td>슬픔</td>\n",
       "      <td>상업시설/점포/시장</td>\n",
       "    </tr>\n",
       "    <tr>\n",
       "      <th>5992</th>\n",
       "      <td>여</td>\n",
       "      <td>30</td>\n",
       "      <td>일반인</td>\n",
       "      <td>슬픔</td>\n",
       "      <td>숙박 및 거주공간</td>\n",
       "    </tr>\n",
       "    <tr>\n",
       "      <th>5993</th>\n",
       "      <td>남</td>\n",
       "      <td>20</td>\n",
       "      <td>전문인</td>\n",
       "      <td>슬픔</td>\n",
       "      <td>상업시설/점포/시장</td>\n",
       "    </tr>\n",
       "  </tbody>\n",
       "</table>\n",
       "<p>5994 rows × 5 columns</p>\n",
       "</div>"
      ],
      "text/plain": [
       "     gender  age isProf faceExp_uploader        bg_uploader\n",
       "0         남   30    일반인               분노  교통/이동수단(엘리베이터 포함)\n",
       "1         남   40    전문인               분노          문화재 및 유적지\n",
       "2         여   20    전문인               분노            오락/공연시설\n",
       "3         여   50    일반인               분노       공공시설/종교/의료시설\n",
       "4         여   30    일반인               분노         상업시설/점포/시장\n",
       "...     ...  ...    ...              ...                ...\n",
       "5989      여   50    일반인               슬픔            실외 자연환경\n",
       "5990      남   40    전문인               슬픔              도심 환경\n",
       "5991      여   20    전문인               슬픔         상업시설/점포/시장\n",
       "5992      여   30    일반인               슬픔          숙박 및 거주공간\n",
       "5993      남   20    전문인               슬픔         상업시설/점포/시장\n",
       "\n",
       "[5994 rows x 5 columns]"
      ]
     },
     "execution_count": 17,
     "metadata": {},
     "output_type": "execute_result"
    }
   ],
   "source": [
    "train_df = pd.DataFrame(json_train, columns=['gender', 'age', 'isProf', 'faceExp_uploader', 'bg_uploader' ])\n",
    "val_df = pd.DataFrame(json_val, columns=['gender', 'age', 'isProf', 'faceExp_uploader', 'bg_uploader' ])\n",
    "test_df = pd.DataFrame(json_test, columns=['gender', 'age', 'isProf', 'faceExp_uploader', 'bg_uploader' ])\n",
    "train_df"
   ]
  },
  {
   "cell_type": "code",
   "execution_count": 25,
   "metadata": {},
   "outputs": [
    {
     "data": {
      "text/plain": [
       "<Axes: ylabel='count'>"
      ]
     },
     "execution_count": 25,
     "metadata": {},
     "output_type": "execute_result"
    },
    {
     "data": {
      "image/png": "[encoded data removed]",
      "text/plain": [
       "<Figure size 640x480 with 1 Axes>"
      ]
     },
     "metadata": {},
     "output_type": "display_data"
    }
   ],
   "source": [
    "train_df.value_counts('isProf').plot.pie(explode=[0, 0.08],\n",
    "                                          shadow=True,\n",
    "                                          autopct='%1.1f%%',\n",
    "                                          labels=['Non-professional', 'Professional'])"
   ]
  },
  {
   "cell_type": "code",
   "execution_count": null,
   "metadata": {},
   "outputs": [],
   "source": []
  }
 ],
 "metadata": {
  "kernelspec": {
   "display_name": "my_env_py311",
   "language": "python",
   "name": "python3"
  },
  "language_info": {
   "codemirror_mode": {
    "name": "ipython",
    "version": 3
   },
   "file_extension": ".py",
   "mimetype": "text/x-python",
   "name": "python",
   "nbconvert_exporter": "python",
   "pygments_lexer": "ipython3",
   "version": "3.11.8"
  }
 },
 "nbformat": 4,
 "nbformat_minor": 2
}
