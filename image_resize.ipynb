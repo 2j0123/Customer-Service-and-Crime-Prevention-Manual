{
 "cells": [
  {
   "cell_type": "code",
   "execution_count": 6,
   "metadata": {},
   "outputs": [],
   "source": [
    "import numpy as np\n",
    "import json\n",
    "import os\n",
    "import cv2"
   ]
  },
  {
   "cell_type": "code",
   "execution_count": 2,
   "metadata": {},
   "outputs": [],
   "source": [
    "TRAIN_JSON_PATH = r'C:\\Users\\User\\Desktop\\Code\\Github\\Final_project\\data\\label\\train'\n",
    "VALID_JSON_PATH = r'C:\\Users\\User\\Desktop\\Code\\Github\\Final_project\\data\\label\\val'\n",
    "TEST_JSON_PATH = r'C:\\Users\\User\\Desktop\\Code\\Github\\Final_project\\data\\label\\test'\n",
    "\n",
    "TRAIN_IMG_PATH = r'C:\\Users\\User\\Desktop\\Code\\Github\\Final_project\\data\\train'\n",
    "VALID_IMG_PATH = r'C:\\Users\\User\\Desktop\\Code\\Github\\Final_project\\data\\val'\n",
    "TEST_IMG_PATH = r'C:\\Users\\User\\Desktop\\Code\\Github\\Final_project\\data\\test'\n",
    "\n",
    "TRAIN_SEGMENT_PATH = r'C:\\Users\\User\\Desktop\\Code\\Github\\Final_project\\data\\segmentation\\train'\n",
    "VALID_SEGMENT_PATH = r'C:\\Users\\User\\Desktop\\Code\\Github\\Final_project\\data\\segmentation\\val'\n",
    "\n",
    "\n",
    "\n",
    "\n",
    "\n",
    "IMG_ROWS = 640\n",
    "IMG_COLS = 480"
   ]
  },
  {
   "cell_type": "code",
   "execution_count": 3,
   "metadata": {},
   "outputs": [],
   "source": [
    "def get_json_list_1d(json_folder_path):\n",
    "    temp_loader = []\n",
    "    json_train = []\n",
    "    emotion_list_json = os.listdir(json_folder_path)\n",
    "\n",
    "    for emotion in emotion_list_json:\n",
    "        with open (json_folder_path + '\\\\' + emotion, \"r\", encoding='euc-kr') as f:\n",
    "            temp_loader.append(json.load(f))\n",
    "\n",
    "    for i in range(len(temp_loader)):\n",
    "        json_train += temp_loader[i]\n",
    "\n",
    "    return json_train"
   ]
  },
  {
   "cell_type": "code",
   "execution_count": 9,
   "metadata": {},
   "outputs": [],
   "source": [
    "#call for the functions\n",
    "json_train = get_json_list_1d(TRAIN_JSON_PATH)\n",
    "json_val = get_json_list_1d(VALID_JSON_PATH)\n",
    "json_test = get_json_list_1d(TEST_JSON_PATH)"
   ]
  },
  {
   "cell_type": "code",
   "execution_count": 5,
   "metadata": {},
   "outputs": [],
   "source": [
    "save_folder_train = r'C:\\Users\\User\\Desktop\\Code\\Github\\Final_project\\data\\resize\\train'\n",
    "save_folder_val = r'C:\\Users\\User\\Desktop\\Code\\Github\\Final_project\\data\\resize\\val'\n",
    "save_folder_test = r'C:\\Users\\User\\Desktop\\Code\\Github\\Final_project\\data\\resize\\test'"
   ]
  },
  {
   "cell_type": "code",
   "execution_count": 7,
   "metadata": {},
   "outputs": [],
   "source": [
    "def load_and_save_resized_img(json_list, img_path, save_path):\n",
    "\n",
    "    kr_to_en = { '분노'    : 'anger',\n",
    "                 '기쁨'   : 'happy',\n",
    "                 '당황'   : 'panic',\n",
    "                 '슬픔'   : 'sadness'\n",
    "                 }\n",
    "\n",
    "\n",
    "    for entry in range(len(json_list)):\n",
    "        try:\n",
    "            file_name = json_list[entry]['filename']\n",
    "            label = json_list[entry]['faceExp_uploader']\n",
    "            img_dir = img_path +  '/' + kr_to_en[label] + '/' + file_name\n",
    "            img = cv2.imread(img_dir)\n",
    "            if not os.path.exists(save_path):\n",
    "                os.makedirs(save_path)\n",
    "            img = cv2.resize(img, (IMG_ROWS, IMG_COLS))\n",
    "            cv2.imwrite((os.path.join(save_path, kr_to_en[label] + '/' + file_name )), img)\n",
    "\n",
    "\n",
    "        except Exception:\n",
    "            print(\"Emotion \" + label + \" \" + json_list[entry]['filename'] + \" Not available\")\n",
    "            pass\n",
    "\n",
    "    "
   ]
  },
  {
   "cell_type": "code",
   "execution_count": 8,
   "metadata": {},
   "outputs": [],
   "source": [
    "load_and_save_resized_img(json_val, VALID_IMG_PATH, save_folder_val)"
   ]
  },
  {
   "cell_type": "code",
   "execution_count": 11,
   "metadata": {},
   "outputs": [
    {
     "name": "stdout",
     "output_type": "stream",
     "text": [
      "Emotion 당황 twdva8d723865fa1005873a6967797c75f3dd83197f13f7daa3e3926947071al6.jpg Not available\n",
      "Emotion 당황 5yid6d7ae32bf14b1343da46cfdb3fdffc8e1c64baf4fb1b175690f648a870v69.jpg Not available\n",
      "Emotion 당황 bpv531e5cebdb1c00085158bb0677c5596ccabf1c8a5cb0007991571bf306wcd4.jpg Not available\n",
      "Emotion 당황 s1q397a38900c1e1f950496109900e7c01f0630459790d8590010655c4090vlh0.jpg Not available\n",
      "Emotion 당황 7m2k46c05803855399ea1ee1911875ee59e05640c93135c0bc91b5660456cdo8k.jpg Not available\n",
      "Emotion 당황 n55yc741f09701506c7eb5ba30533db35c905ab5bf0597b5652ece03c5950ozv1.jpg Not available\n",
      "Emotion 당황 bid7b3c93409e1d83514689337f6d3d63a338339d71c9ce7fded153d3576fk2ml.jpg Not available\n",
      "Emotion 당황 if0lfc4b517c6597e3656dbea350e406e1b5ae4e175e460597064875909d9t40p.jpg Not available\n",
      "Emotion 당황 58w153f3f5ade2ad20ec19e6744ff2ff0a54ba3520ffbef36f3f3a47af75fxuf5.jpg Not available\n",
      "Emotion 당황 lhyp01dff4faf13d1b4319722dc31bb3a104a3878ab3816a03bb8acdfa3d3eomk.jpg Not available\n",
      "Emotion 당황 vba0d31d23b44711180462388c8aba4424a0aa2951153a6b0d233d3f28041kzff.jpg Not available\n",
      "Emotion 당황 mj9mb18295a54da298a5a537dfa99a0172259a1af9ba2eaaefafdab9d47adrc83.jpg Not available\n",
      "Emotion 당황 bxx7a068c1eeb2032eaa0483940042ace8a00ea64ff23ce002b502aa3cafbo5kx.jpg Not available\n",
      "Emotion 당황 8p5p37951df3a18686dd10da624176ca7197b6778c877278d89f6331ada7bpjcq.jpg Not available\n",
      "Emotion 당황 67q29f539b5a2e59c55a703be25dfae0a68c6b8ccb8a2962ac8aaea799af22gm2.jpg Not available\n",
      "Emotion 당황 i5r0dc94151cdc9be669fc2d29221a29d8b2d6af2baf287360d36cf38b949clxw.jpg Not available\n",
      "Emotion 당황 140c3185430750e85cc0c7c38055b5abf5b06fc6ed34a60043506bd08af29llt0.jpg Not available\n",
      "Emotion 당황 ja43b19979da8e776e43e550068c7ae667eb695ab11144913697e014366110d6d.jpg Not available\n"
     ]
    }
   ],
   "source": [
    "load_and_save_resized_img(json_train, TRAIN_IMG_PATH, save_folder_train)"
   ]
  },
  {
   "cell_type": "code",
   "execution_count": 12,
   "metadata": {},
   "outputs": [],
   "source": [
    "load_and_save_resized_img(json_test, TEST_IMG_PATH, save_folder_test)"
   ]
  }
 ],
 "metadata": {
  "kernelspec": {
   "display_name": "my_env_py311",
   "language": "python",
   "name": "python3"
  },
  "language_info": {
   "codemirror_mode": {
    "name": "ipython",
    "version": 3
   },
   "file_extension": ".py",
   "mimetype": "text/x-python",
   "name": "python",
   "nbconvert_exporter": "python",
   "pygments_lexer": "ipython3",
   "version": "3.11.8"
  }
 },
 "nbformat": 4,
 "nbformat_minor": 2
}
