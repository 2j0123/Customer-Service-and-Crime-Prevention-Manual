{
  "nbformat": 4,
  "nbformat_minor": 0,
  "metadata": {
    "colab": {
      "provenance": [],
      "authorship_tag": "ABX9TyPqY4bXuOZNfCrOM5Ip9ysN"
    },
    "kernelspec": {
      "name": "python3",
      "display_name": "Python 3"
    },
    "language_info": {
      "name": "python"
    }
  },
  "cells": [
    {
      "cell_type": "code",
      "source": [
        "import os\n",
        "import tensorflow as tf\n",
        "from tensorflow.keras.preprocessing.image import ImageDataGenerator"
      ],
      "metadata": {
        "id": "OJNq8TxdfR02"
      },
      "execution_count": null,
      "outputs": []
    },
    {
      "cell_type": "code",
      "execution_count": null,
      "metadata": {
        "id": "k7HwMg34d1kf"
      },
      "outputs": [],
      "source": [
        "#데이터 경로 설정\n",
        "base_dir = '/content/drive/MyDrive/감정따뜻쟁이/train'"
      ]
    },
    {
      "cell_type": "markdown",
      "source": [
        "**이미지 데이터 생성기 설정**"
      ],
      "metadata": {
        "id": "sj9fPxdDe3T1"
      }
    },
    {
      "cell_type": "code",
      "source": [
        "train_datagen = ImageDataGenerator(\n",
        "    rescale=1./255,\n",
        "    rotation_range=20,\n",
        "    width_shift_range=0.2,\n",
        "    height_shift_range=0.2,\n",
        "    shear_range=0.2,\n",
        "    zoom_range=0.2,\n",
        "    horizontal_flip=True,\n",
        "    fill_mode='nearest'\n",
        ")"
      ],
      "metadata": {
        "id": "ALm1Wb6feAOU"
      },
      "execution_count": null,
      "outputs": []
    },
    {
      "cell_type": "markdown",
      "source": [
        "**flow : 넘파이 배열로 된 데이터들 받을 경우  \n",
        "flow_from_dataframe : 판다스 데이터프레임으로 된 데이터 받을 경우  \n",
        "flow_from_directory : 경로 내의 파일 데이터 받을 경우**"
      ],
      "metadata": {
        "id": "TVgZX_R6ejM9"
      }
    },
    {
      "cell_type": "code",
      "source": [
        "# 이미지 데이터 로드\n",
        "train_generator = train_datagen.flow_from_directory(\n",
        "    base_dir,\n",
        "    target_size=(299, 299),\n",
        "    batch_size=32,\n",
        "    class_mode='categorical'\n",
        ")"
      ],
      "metadata": {
        "id": "p-dMeaREeCy0"
      },
      "execution_count": null,
      "outputs": []
    }
  ]
}