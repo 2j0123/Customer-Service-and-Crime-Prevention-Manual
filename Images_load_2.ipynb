{
  "nbformat": 4,
  "nbformat_minor": 0,
  "metadata": {
    "colab": {
      "provenance": [],
      "authorship_tag": "ABX9TyNpm3NqOEPiWIDZniTcBCAr"
    },
    "kernelspec": {
      "name": "python3",
      "display_name": "Python 3"
    },
    "language_info": {
      "name": "python"
    }
  },
  "cells": [
    {
      "cell_type": "code",
      "source": [
        "import numpy as np\n",
        "import json\n",
        "import os"
      ],
      "metadata": {
        "id": "6UzJB1zEhOsE"
      },
      "execution_count": null,
      "outputs": []
    },
    {
      "cell_type": "markdown",
      "source": [
        "**경로 및 이미지 사이즈 정의**"
      ],
      "metadata": {
        "id": "d4_86QrcgHZm"
      }
    },
    {
      "cell_type": "code",
      "execution_count": null,
      "metadata": {
        "id": "NEn7jbWDfnj3"
      },
      "outputs": [],
      "source": [
        "TRAIN_JSON_PATH = '/content/drive/MyDrive/감정따뜻쟁이/label/train/'\n",
        "VALID_JSON_PATH = '/content/drive/MyDrive/감정따뜻쟁이/label/val/'\n",
        "TEST_JSON_PATH = '/content/drive/MyDrive/감정따뜻쟁이/TEST_DATA_SET/label/'\n",
        "\n",
        "TRAIN_IMG_PATH = '/content/drive/MyDrive/감정따뜻쟁이/img/train/'\n",
        "VALID_IMG_PATH = '/content/drive/MyDrive/감정따뜻쟁이/img/val/'\n",
        "TEST_IMG_PATH = '/content/drive/MyDrive/감정따뜻쟁이/TEST_DATA_SET/TEST_DATA_SET/'\n",
        "\n",
        "TRAIN_SEGMENT_PATH = 'data/segmentation/train/'\n",
        "VALID_SEGMENT_PATH = 'data/segmentation/val/'\n",
        "\n",
        "#Resize 크기\n",
        "IMG_ROWS = 224\n",
        "IMG_COLS = 224"
      ]
    },
    {
      "cell_type": "markdown",
      "source": [
        "**JSON파일 READ함수 정의**"
      ],
      "metadata": {
        "id": "YPMJ4uSRgTTE"
      }
    },
    {
      "cell_type": "code",
      "source": [
        "def get_json_list_1d(json_folder_path):\n",
        "    temp_loader = []\n",
        "    json_train = []\n",
        "    emotion_list_json = os.listdir(json_folder_path)\n",
        "\n",
        "    for emotion in emotion_list_json:\n",
        "        with open (json_folder_path + emotion, \"r\", encoding='euc-kr') as f:\n",
        "            temp_loader.append(json.load(f))\n",
        "\n",
        "    for i in range(len(temp_loader)):\n",
        "        json_train += temp_loader[i]\n",
        "\n",
        "    return json_train"
      ],
      "metadata": {
        "id": "ZqZ32SVZf5lc"
      },
      "execution_count": null,
      "outputs": []
    },
    {
      "cell_type": "markdown",
      "source": [
        "**이미지 파일 LOAD함수 정의**"
      ],
      "metadata": {
        "id": "KVAAS9m2glY0"
      }
    },
    {
      "cell_type": "code",
      "source": [
        "def load_image_and_label_1D(json_list, img_path):\n",
        "    img_file = []\n",
        "    label_list = []\n",
        "\n",
        "    eng_to_num = { '분노'   : '0',\n",
        "                   '기쁨'   : '1',\n",
        "                   '당황'   : '2',\n",
        "                   '슬픔'   : '3'\n",
        "                 }\n",
        "    kr_to_en = { '분노'    : 'anger',\n",
        "                 '기쁨'   : 'happy',\n",
        "                 '당황'   : 'panic',\n",
        "                 '슬픔'   : 'sadness'\n",
        "                 }\n",
        "\n",
        "\n",
        "    for entry in range(len(json_list)):\n",
        "        try:\n",
        "            label = json_list[entry]['faceExp_uploader']\n",
        "            img_dir = img_path + kr_to_en[label] + '/' + json_list[entry]['filename']\n",
        "            img = image.load_img(img_dir, target_size=(IMG_ROWS, IMG_COLS))\n",
        "            img_file.append(img)\n",
        "            label_list.append(int(eng_to_num[label]))\n",
        "        except Exception:\n",
        "            print(\"Emotion \" + label + \" \" + json_list[entry]['filename'] + \" Not available\")\n",
        "            pass\n",
        "\n",
        "    return img_file, label_list"
      ],
      "metadata": {
        "id": "5mAtV004f770"
      },
      "execution_count": null,
      "outputs": []
    },
    {
      "cell_type": "markdown",
      "source": [
        "**JSON READ, IMAGE LOAD 함수 실행**"
      ],
      "metadata": {
        "id": "bv9WVg76g3gd"
      }
    },
    {
      "cell_type": "code",
      "source": [
        "json_train = get_json_list_1d(TRAIN_JSON_PATH)\n",
        "json_val = get_json_list_1d(VALID_JSON_PATH)\n",
        "json_test = get_json_list_1d(TEST_JSON_PATH)"
      ],
      "metadata": {
        "id": "zo3YD8DUf_nM"
      },
      "execution_count": null,
      "outputs": []
    },
    {
      "cell_type": "code",
      "source": [
        "train_img, train_label = load_image_and_label_1D(json_train, TRAIN_IMG_PATH)"
      ],
      "metadata": {
        "id": "eARCoXJFgAQU"
      },
      "execution_count": null,
      "outputs": []
    },
    {
      "cell_type": "code",
      "source": [
        "test_img, test_label = load_image_and_label_1D(json_test, TEST_IMG_PATH)"
      ],
      "metadata": {
        "id": "YxOe3RfQgBrc"
      },
      "execution_count": null,
      "outputs": []
    },
    {
      "cell_type": "code",
      "source": [
        "val_img, val_label = load_image_and_label_1D(json_val, VALID_IMG_PATH)"
      ],
      "metadata": {
        "id": "gZ5Xs4C3gDmM"
      },
      "execution_count": null,
      "outputs": []
    },
    {
      "cell_type": "markdown",
      "source": [
        "**IMAGE, LABEL 배열화**"
      ],
      "metadata": {
        "id": "2B8dz1Z4g-1k"
      }
    },
    {
      "cell_type": "code",
      "source": [
        "train_images = np.array(train_img)\n",
        "train_labels = np.array(train_label)\n",
        "\n",
        "val_images = np.array(val_img)\n",
        "val_labels = np.array(val_label)\n",
        "\n",
        "test_images = np.array(test_img)\n",
        "test_labels = np.array(test_label)"
      ],
      "metadata": {
        "id": "BGtzZ8JzgE0M"
      },
      "execution_count": null,
      "outputs": []
    },
    {
      "cell_type": "markdown",
      "source": [
        "**정규화 진행 => 모델 Input값에 따라 실행**"
      ],
      "metadata": {
        "id": "k7xlr3-3hFDb"
      }
    },
    {
      "cell_type": "code",
      "source": [
        "train_images = train_images / 255.0\n",
        "val_images = val_images / 255.0\n",
        "test_images = test_images / 255.0"
      ],
      "metadata": {
        "id": "qUP4PNhtgFvN"
      },
      "execution_count": null,
      "outputs": []
    }
  ]
}