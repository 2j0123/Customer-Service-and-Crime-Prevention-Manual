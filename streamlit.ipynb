{
 "cells": [
  {
   "cell_type": "code",
   "execution_count": 9,
   "metadata": {},
   "outputs": [],
   "source": [
    "from distutils.command.install_egg_info import to_filename\n",
    "import numpy as np\n",
    "import streamlit as st\n",
    "import cv2 \n",
    "import tensorflow as tf\n",
    "from tensorflow import keras\n",
    "from tensorflow.keras.models import load_model"
   ]
  },
  {
   "cell_type": "code",
   "execution_count": 15,
   "metadata": {},
   "outputs": [],
   "source": [
    "from transformers import AutoModelForImageClassification, AutoImageProcessor\n",
    "\n",
    "# pretrain_path = r\"C:\\Users\\User\\Desktop\\Code\\Github\\Final_project\\WASSUP_EST_FINAL_Team4\\swinv2-tiny-patch4-window8-256-finetuned-emotions\\checkpoint-1509\"\n",
    "pretrain_path = r'C:\\Users\\User\\Desktop\\Code\\Github\\Final_project\\swinv2-tiny-patch4-window8-256-finetuned-eurosat\\checkpoint-2516'\n",
    "model_trained = AutoModelForImageClassification.from_pretrained(pretrain_path)\n",
    "test_img_processor = AutoImageProcessor.from_pretrained(pretrain_path)"
   ]
  },
  {
   "cell_type": "code",
   "execution_count": 16,
   "metadata": {},
   "outputs": [],
   "source": [
    "from PIL import Image, ImageFont, ImageDraw\n",
    "\n"
   ]
  },
  {
   "cell_type": "code",
   "execution_count": 17,
   "metadata": {},
   "outputs": [],
   "source": [
    "from transformers import pipeline\n",
    "\n",
    "pipe = pipeline(\"image-classification\", pretrain_path)\n",
    "\n",
    "def img_with_text_results(img):\n",
    "    \n",
    "    #결과\n",
    "    results = str(next(iter(pipe(Image.fromarray(img)))))\n",
    "    \n",
    "    # 폰트 색상 지정\n",
    "    blue = (255, 0, 0)\n",
    "\n",
    "    #한국 폰트\n",
    "    kor_font = ImageFont.truetype('MaruBuri-Light.ttf', 20)\n",
    "    img_pil = Image.fromarray(img)\n",
    "    draw = ImageDraw.Draw(img_pil)\n",
    "    draw.text((30,40), results, blue, font=kor_font)\n",
    "\n",
    "    img = np.array(img_pil)\n",
    "    # 폰트 지정\n",
    "    # font = cv2.FONT_HERSHEY_PLAIN\n",
    "    # 이미지에 글자 합성하기\n",
    "    # img = cv2.putText(img, results, (30, 40), font, 2, blue, 1, cv2.LINE_AA)\n",
    "    # img = cv2.putText(img, 'test', (100, 40), font, 2, blue, 1, cv2.LINE_AA)\n",
    "\n",
    "    return img\n"
   ]
  },
  {
   "cell_type": "code",
   "execution_count": 18,
   "metadata": {},
   "outputs": [],
   "source": [
    "# 비디오 캡처 객체 생성\n",
    "cap = cv2.VideoCapture(0)\n",
    "\n",
    "while True:\n",
    "    \n",
    "    # 프레임들 읽기\n",
    "    ret, frame = cap.read()\n",
    "\n",
    "    \n",
    "    # 영상 처리 코드 작성\n",
    "    # gray = cv2.cvtColor(frame, cv2.COLOR_BGR2GRAY)\n",
    "    # for img in frame:\n",
    "    #     enc = test_img_processor(img.convert(\"RGB\"), return_tensors=\"pt\")\n",
    "\n",
    "    # enc = test_img_processor(frame, return_tensors=\"pt\")\n",
    "    \n",
    "    # with torch.no_grad():\n",
    "    #     outputs = model_trained(**enc)\n",
    "    #     logits = outputs.logits\n",
    "    #     predicted_class_idx = logits.argmax(-1).item()\n",
    "        \n",
    "        # predictions.append(model_trained.config.id2label[predicted_class_idx])\n",
    "    # results = next(iter(pipe(frame)))\n",
    "\n",
    "    img = img_with_text_results(frame)\n",
    "\n",
    "    # 영상 출력\n",
    "    \n",
    "    cv2.imshow('Real-time Video', img)\n",
    "\n",
    "    # 'q' 키를 누르면 종\n",
    "    if cv2.waitKey(1) & 0xFF == ord('q'):\n",
    "        break\n",
    "\n",
    "# 객체 해제\n",
    "cap.release()\n",
    "cv2.destroyAllWindows()"
   ]
  },
  {
   "cell_type": "code",
   "execution_count": 2,
   "metadata": {},
   "outputs": [],
   "source": [
    "from ultralytics import YOLO\n",
    "import torch\n",
    "\n",
    "model_path = r\"C:\\Users\\User\\Desktop\\Code\\Github\\Final_project\\WASSUP_EST_FINAL_Team4\\model.pt\"\n",
    "model = YOLO(model_path)"
   ]
  },
  {
   "cell_type": "code",
   "execution_count": 3,
   "metadata": {},
   "outputs": [
    {
     "name": "stdout",
     "output_type": "stream",
     "text": [
      "\n",
      "0: 480x640 1 {2: 'panic'}, 94.1ms\n",
      "Speed: 3.5ms preprocess, 94.1ms inference, 911.7ms postprocess per image at shape (1, 3, 480, 640)\n"
     ]
    }
   ],
   "source": [
    "# results = model.predict(r'C:\\Users\\User\\Desktop\\Code\\Github\\Final_project\\data\\test\\anger\\0h5sfbee84a3ee8e7efdd0f578f83e4df7e491dbcdab482a480a7add89daegs3z.jpg', save=False, imgsz=320, conf=0.5)\n",
    "img_path = r'C:\\Users\\User\\Desktop\\Code\\Github\\Final_project\\data\\test\\anger\\0h5sfbee84a3ee8e7efdd0f578f83e4df7e491dbcdab482a480a7add89daegs3z.jpg'\n",
    "results = model([img_path])"
   ]
  },
  {
   "cell_type": "code",
   "execution_count": 5,
   "metadata": {},
   "outputs": [],
   "source": [
    "# print(type(results))\n",
    "# # print(results)\n",
    "# print(results[0])\n",
    "res_plotted = results[0].plot()\n",
    "# print(results[0].boxes)"
   ]
  },
  {
   "cell_type": "code",
   "execution_count": 7,
   "metadata": {},
   "outputs": [
    {
     "data": {
      "text/plain": [
       "numpy.ndarray"
      ]
     },
     "execution_count": 7,
     "metadata": {},
     "output_type": "execute_result"
    }
   ],
   "source": [
    "type(res_plotted)"
   ]
  },
  {
   "cell_type": "code",
   "execution_count": 12,
   "metadata": {},
   "outputs": [
    {
     "ename": "AttributeError",
     "evalue": "'numpy.ndarray' object has no attribute 'to_image'",
     "output_type": "error",
     "traceback": [
      "\u001b[1;31m---------------------------------------------------------------------------\u001b[0m",
      "\u001b[1;31mAttributeError\u001b[0m                            Traceback (most recent call last)",
      "Cell \u001b[1;32mIn[12], line 33\u001b[0m\n\u001b[0;32m     27\u001b[0m \u001b[38;5;28;01mwhile\u001b[39;00m \u001b[38;5;28;01mTrue\u001b[39;00m:\n\u001b[0;32m     28\u001b[0m     \n\u001b[0;32m     29\u001b[0m     \u001b[38;5;66;03m# 프레임들 읽기\u001b[39;00m\n\u001b[0;32m     30\u001b[0m     ret, frame \u001b[38;5;241m=\u001b[39m cap\u001b[38;5;241m.\u001b[39mread()\n\u001b[1;32m---> 33\u001b[0m     img \u001b[38;5;241m=\u001b[39m \u001b[43mimg_with_text_results\u001b[49m\u001b[43m(\u001b[49m\u001b[43mframe\u001b[49m\u001b[43m)\u001b[49m\n\u001b[0;32m     35\u001b[0m     \u001b[38;5;66;03m# 영상 출력\u001b[39;00m\n\u001b[0;32m     37\u001b[0m     cv2\u001b[38;5;241m.\u001b[39mimshow(\u001b[38;5;124m'\u001b[39m\u001b[38;5;124mReal-time Video\u001b[39m\u001b[38;5;124m'\u001b[39m, img)\n",
      "Cell \u001b[1;32mIn[12], line 12\u001b[0m, in \u001b[0;36mimg_with_text_results\u001b[1;34m(img)\u001b[0m\n\u001b[0;32m      6\u001b[0m img \u001b[38;5;241m=\u001b[39m cv2\u001b[38;5;241m.\u001b[39mresize(img, (\u001b[38;5;241m720\u001b[39m, \u001b[38;5;28mint\u001b[39m(\u001b[38;5;241m720\u001b[39m \u001b[38;5;241m*\u001b[39m (\u001b[38;5;241m9\u001b[39m \u001b[38;5;241m/\u001b[39m \u001b[38;5;241m16\u001b[39m))))\n\u001b[0;32m      9\u001b[0m \u001b[38;5;66;03m# res = model.predict(img, 0.5)\u001b[39;00m\n\u001b[0;32m     10\u001b[0m \u001b[38;5;66;03m# res_plotted = res[0].plot()\u001b[39;00m\n\u001b[1;32m---> 12\u001b[0m results \u001b[38;5;241m=\u001b[39m model\u001b[38;5;241m.\u001b[39mtrack(source\u001b[38;5;241m=\u001b[39m\u001b[43mframe\u001b[49m\u001b[38;5;241;43m.\u001b[39;49m\u001b[43mto_image\u001b[49m(), verbose\u001b[38;5;241m=\u001b[39m\u001b[38;5;28;01mFalse\u001b[39;00m, stream\u001b[38;5;241m=\u001b[39m\u001b[38;5;28;01mTrue\u001b[39;00m, persist\u001b[38;5;241m=\u001b[39m\u001b[38;5;28;01mTrue\u001b[39;00m)\n\u001b[0;32m     13\u001b[0m \u001b[38;5;28;01mfor\u001b[39;00m res \u001b[38;5;129;01min\u001b[39;00m results:\n\u001b[0;32m     14\u001b[0m     annotated_frame \u001b[38;5;241m=\u001b[39m res\u001b[38;5;241m.\u001b[39mplot()\n",
      "\u001b[1;31mAttributeError\u001b[0m: 'numpy.ndarray' object has no attribute 'to_image'"
     ]
    }
   ],
   "source": [
    "def img_with_text_results(img):\n",
    "\n",
    "    \n",
    "    model_path = r\"C:\\Users\\User\\Desktop\\Code\\Github\\Final_project\\WASSUP_EST_FINAL_Team4\\model.pt\"\n",
    "    model = YOLO(model_path)\n",
    "    img = cv2.resize(img, (720, int(720 * (9 / 16))))\n",
    "    \n",
    "\n",
    "    # res = model.predict(img, 0.5)\n",
    "    # res_plotted = res[0].plot()\n",
    "\n",
    "    results = model.track(source=frame.to_image(), verbose=False, stream=True, persist=True)\n",
    "    for res in results:\n",
    "        annotated_frame = res.plot()\n",
    "\n",
    "    # st_frame.image(res_plotted,\n",
    "    #               caption='Detected Video',\n",
    "    #               channels=\"BGR\",\n",
    "    #               use_column_width=True\n",
    "    #               )\n",
    "    \n",
    "    return res_plotted\n",
    "\n",
    "# 비디오 캡처 객체 생성\n",
    "cap = cv2.VideoCapture(0)\n",
    "\n",
    "while True:\n",
    "    \n",
    "    # 프레임들 읽기\n",
    "    ret, frame = cap.read()\n",
    "\n",
    "    \n",
    "    img = img_with_text_results(frame)\n",
    "\n",
    "    # 영상 출력\n",
    "    \n",
    "    cv2.imshow('Real-time Video', img)\n",
    "\n",
    "    # 'q' 키를 누르면 종\n",
    "    if cv2.waitKey(1) & 0xFF == ord('q'):\n",
    "        break\n",
    "\n",
    "# 객체 해제\n",
    "cap.release()\n",
    "cv2.destroyAllWindows()"
   ]
  },
  {
   "cell_type": "code",
   "execution_count": 13,
   "metadata": {},
   "outputs": [
    {
     "ename": "ValueError",
     "evalue": "setting an array element with a sequence. The requested array would exceed the maximum number of dimension of 32.",
     "output_type": "error",
     "traceback": [
      "\u001b[1;31m---------------------------------------------------------------------------\u001b[0m",
      "\u001b[1;31mValueError\u001b[0m                                Traceback (most recent call last)",
      "Cell \u001b[1;32mIn[13], line 9\u001b[0m\n\u001b[0;32m      7\u001b[0m     obb \u001b[38;5;241m=\u001b[39m result\u001b[38;5;241m.\u001b[39mobb\n\u001b[0;32m      8\u001b[0m     \u001b[38;5;66;03m# result.show()\u001b[39;00m\n\u001b[1;32m----> 9\u001b[0m     \u001b[38;5;28mprint\u001b[39m(\u001b[43mnp\u001b[49m\u001b[38;5;241;43m.\u001b[39;49m\u001b[43marray\u001b[49m\u001b[43m(\u001b[49m\u001b[43mboxes\u001b[49m\u001b[43m)\u001b[49m)\n\u001b[0;32m     10\u001b[0m \u001b[38;5;66;03m# boxes\u001b[39;00m\n",
      "\u001b[1;31mValueError\u001b[0m: setting an array element with a sequence. The requested array would exceed the maximum number of dimension of 32."
     ]
    },
    {
     "ename": "",
     "evalue": "",
     "output_type": "error",
     "traceback": [
      "\u001b[1;31mThe Kernel crashed while executing code in the current cell or a previous cell. \n",
      "\u001b[1;31mPlease review the code in the cell(s) to identify a possible cause of the failure. \n",
      "\u001b[1;31mClick <a href='https://aka.ms/vscodeJupyterKernelCrash'>here</a> for more info. \n",
      "\u001b[1;31mView Jupyter <a href='command:jupyter.viewOutput'>log</a> for further details."
     ]
    }
   ],
   "source": [
    "for result in results:\n",
    "    boxes = result.boxes\n",
    "    masks = result.masks\n",
    "    keypoints = result.keypoints\n",
    "    # print(keypoints)\n",
    "    probs = result.probs\n",
    "    obb = result.obb\n",
    "    # result.show()\n",
    "# boxes"
   ]
  },
  {
   "cell_type": "code",
   "execution_count": null,
   "metadata": {},
   "outputs": [],
   "source": []
  }
 ],
 "metadata": {
  "kernelspec": {
   "display_name": "my_env_py311",
   "language": "python",
   "name": "python3"
  },
  "language_info": {
   "codemirror_mode": {
    "name": "ipython",
    "version": 3
   },
   "file_extension": ".py",
   "mimetype": "text/x-python",
   "name": "python",
   "nbconvert_exporter": "python",
   "pygments_lexer": "ipython3",
   "version": "3.11.8"
  }
 },
 "nbformat": 4,
 "nbformat_minor": 2
}
