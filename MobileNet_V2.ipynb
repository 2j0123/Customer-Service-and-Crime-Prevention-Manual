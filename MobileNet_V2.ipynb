{
  "nbformat": 4,
  "nbformat_minor": 0,
  "metadata": {
    "colab": {
      "provenance": [],
      "mount_file_id": "1NMB232EPVsdW5EBzTGxOwwuBUl9htJwQ",
      "authorship_tag": "ABX9TyPq7uotSQ/WfhJnkQUoiGbq",
      "include_colab_link": true
    },
    "kernelspec": {
      "name": "python3",
      "display_name": "Python 3"
    },
    "language_info": {
      "name": "python"
    }
  },
  "cells": [
    {
      "cell_type": "markdown",
      "metadata": {
        "id": "view-in-github",
        "colab_type": "text"
      },
      "source": [
        "<a href=\"https://colab.research.google.com/github/2j0123/WASSUP_EST_FINAL_Team4/blob/SW/MobileNet_V2.ipynb\" target=\"_parent\"><img src=\"https://colab.research.google.com/assets/colab-badge.svg\" alt=\"Open In Colab\"/></a>"
      ]
    },
    {
      "cell_type": "code",
      "source": [
        "pip install --upgrade nbformat nbconvert\n"
      ],
      "metadata": {
        "colab": {
          "base_uri": "https://localhost:8080/"
        },
        "id": "i9jsphLzan1r",
        "outputId": "a1be79e0-219e-4285-dd34-ac3ec6072679"
      },
      "execution_count": 6,
      "outputs": [
        {
          "output_type": "stream",
          "name": "stdout",
          "text": [
            "Requirement already satisfied: nbformat in /usr/local/lib/python3.10/dist-packages (5.10.4)\n",
            "Requirement already satisfied: nbconvert in /usr/local/lib/python3.10/dist-packages (6.5.4)\n",
            "Collecting nbconvert\n",
            "  Downloading nbconvert-7.16.4-py3-none-any.whl (257 kB)\n",
            "\u001b[2K     \u001b[90m━━━━━━━━━━━━━━━━━━━━━━━━━━━━━━━━━━━━━━━━\u001b[0m \u001b[32m257.4/257.4 kB\u001b[0m \u001b[31m4.2 MB/s\u001b[0m eta \u001b[36m0:00:00\u001b[0m\n",
            "\u001b[?25hRequirement already satisfied: fastjsonschema>=2.15 in /usr/local/lib/python3.10/dist-packages (from nbformat) (2.19.1)\n",
            "Requirement already satisfied: jsonschema>=2.6 in /usr/local/lib/python3.10/dist-packages (from nbformat) (4.19.2)\n",
            "Requirement already satisfied: jupyter-core!=5.0.*,>=4.12 in /usr/local/lib/python3.10/dist-packages (from nbformat) (5.7.2)\n",
            "Requirement already satisfied: traitlets>=5.1 in /usr/local/lib/python3.10/dist-packages (from nbformat) (5.7.1)\n",
            "Requirement already satisfied: beautifulsoup4 in /usr/local/lib/python3.10/dist-packages (from nbconvert) (4.12.3)\n",
            "Requirement already satisfied: bleach!=5.0.0 in /usr/local/lib/python3.10/dist-packages (from nbconvert) (6.1.0)\n",
            "Requirement already satisfied: defusedxml in /usr/local/lib/python3.10/dist-packages (from nbconvert) (0.7.1)\n",
            "Requirement already satisfied: jinja2>=3.0 in /usr/local/lib/python3.10/dist-packages (from nbconvert) (3.1.4)\n",
            "Requirement already satisfied: jupyterlab-pygments in /usr/local/lib/python3.10/dist-packages (from nbconvert) (0.3.0)\n",
            "Requirement already satisfied: markupsafe>=2.0 in /usr/local/lib/python3.10/dist-packages (from nbconvert) (2.1.5)\n",
            "Collecting mistune<4,>=2.0.3 (from nbconvert)\n",
            "  Downloading mistune-3.0.2-py3-none-any.whl (47 kB)\n",
            "\u001b[2K     \u001b[90m━━━━━━━━━━━━━━━━━━━━━━━━━━━━━━━━━━━━━━━━\u001b[0m \u001b[32m48.0/48.0 kB\u001b[0m \u001b[31m4.8 MB/s\u001b[0m eta \u001b[36m0:00:00\u001b[0m\n",
            "\u001b[?25hRequirement already satisfied: nbclient>=0.5.0 in /usr/local/lib/python3.10/dist-packages (from nbconvert) (0.10.0)\n",
            "Requirement already satisfied: packaging in /usr/local/lib/python3.10/dist-packages (from nbconvert) (24.0)\n",
            "Requirement already satisfied: pandocfilters>=1.4.1 in /usr/local/lib/python3.10/dist-packages (from nbconvert) (1.5.1)\n",
            "Requirement already satisfied: pygments>=2.4.1 in /usr/local/lib/python3.10/dist-packages (from nbconvert) (2.16.1)\n",
            "Requirement already satisfied: tinycss2 in /usr/local/lib/python3.10/dist-packages (from nbconvert) (1.3.0)\n",
            "Requirement already satisfied: six>=1.9.0 in /usr/local/lib/python3.10/dist-packages (from bleach!=5.0.0->nbconvert) (1.16.0)\n",
            "Requirement already satisfied: webencodings in /usr/local/lib/python3.10/dist-packages (from bleach!=5.0.0->nbconvert) (0.5.1)\n",
            "Requirement already satisfied: attrs>=22.2.0 in /usr/local/lib/python3.10/dist-packages (from jsonschema>=2.6->nbformat) (23.2.0)\n",
            "Requirement already satisfied: jsonschema-specifications>=2023.03.6 in /usr/local/lib/python3.10/dist-packages (from jsonschema>=2.6->nbformat) (2023.12.1)\n",
            "Requirement already satisfied: referencing>=0.28.4 in /usr/local/lib/python3.10/dist-packages (from jsonschema>=2.6->nbformat) (0.35.1)\n",
            "Requirement already satisfied: rpds-py>=0.7.1 in /usr/local/lib/python3.10/dist-packages (from jsonschema>=2.6->nbformat) (0.18.1)\n",
            "Requirement already satisfied: platformdirs>=2.5 in /usr/local/lib/python3.10/dist-packages (from jupyter-core!=5.0.*,>=4.12->nbformat) (4.2.1)\n",
            "Requirement already satisfied: jupyter-client>=6.1.12 in /usr/local/lib/python3.10/dist-packages (from nbclient>=0.5.0->nbconvert) (6.1.12)\n",
            "Requirement already satisfied: soupsieve>1.2 in /usr/local/lib/python3.10/dist-packages (from beautifulsoup4->nbconvert) (2.5)\n",
            "Requirement already satisfied: pyzmq>=13 in /usr/local/lib/python3.10/dist-packages (from jupyter-client>=6.1.12->nbclient>=0.5.0->nbconvert) (24.0.1)\n",
            "Requirement already satisfied: python-dateutil>=2.1 in /usr/local/lib/python3.10/dist-packages (from jupyter-client>=6.1.12->nbclient>=0.5.0->nbconvert) (2.8.2)\n",
            "Requirement already satisfied: tornado>=4.1 in /usr/local/lib/python3.10/dist-packages (from jupyter-client>=6.1.12->nbclient>=0.5.0->nbconvert) (6.3.3)\n",
            "Installing collected packages: mistune, nbconvert\n",
            "  Attempting uninstall: mistune\n",
            "    Found existing installation: mistune 0.8.4\n",
            "    Uninstalling mistune-0.8.4:\n",
            "      Successfully uninstalled mistune-0.8.4\n",
            "  Attempting uninstall: nbconvert\n",
            "    Found existing installation: nbconvert 6.5.4\n",
            "    Uninstalling nbconvert-6.5.4:\n",
            "      Successfully uninstalled nbconvert-6.5.4\n",
            "Successfully installed mistune-3.0.2 nbconvert-7.16.4\n"
          ]
        }
      ]
    },
    {
      "cell_type": "code",
      "source": [
        "!apt-get install git\n"
      ],
      "metadata": {
        "colab": {
          "base_uri": "https://localhost:8080/"
        },
        "id": "cNBFmE5sWxO6",
        "outputId": "04736ce3-9426-42d8-ff5e-d5f40831310a"
      },
      "execution_count": 5,
      "outputs": [
        {
          "output_type": "stream",
          "name": "stdout",
          "text": [
            "Reading package lists... Done\n",
            "Building dependency tree... Done\n",
            "Reading state information... Done\n",
            "git is already the newest version (1:2.34.1-1ubuntu1.10).\n",
            "0 upgraded, 0 newly installed, 0 to remove and 45 not upgraded.\n"
          ]
        }
      ]
    },
    {
      "cell_type": "code",
      "source": [
        "!git config --global user.name \"Woogie0123\"\n",
        "!git config --global user.email \"junircello@gmail.com\""
      ],
      "metadata": {
        "id": "Mub9JYEHWXtj"
      },
      "execution_count": 4,
      "outputs": []
    },
    {
      "cell_type": "code",
      "source": [
        "from google.colab import drive\n",
        "drive.mount('/content/drive')"
      ],
      "metadata": {
        "colab": {
          "base_uri": "https://localhost:8080/"
        },
        "id": "HPE4g33Ri48E",
        "outputId": "b36017f4-977a-4f92-dbf2-d15392ad88fe"
      },
      "execution_count": 2,
      "outputs": [
        {
          "output_type": "stream",
          "name": "stdout",
          "text": [
            "Mounted at /content/drive\n"
          ]
        }
      ]
    },
    {
      "cell_type": "code",
      "execution_count": 3,
      "metadata": {
        "colab": {
          "base_uri": "https://localhost:8080/"
        },
        "id": "mCXLiYn2i1ZG",
        "outputId": "1f04b3e8-580c-48e2-f444-54b75a8b2dcb"
      },
      "outputs": [
        {
          "output_type": "stream",
          "name": "stdout",
          "text": [
            "Found 5366 images belonging to 4 classes.\n",
            "Found 1049 images belonging to 4 classes.\n",
            "Found 1013 images belonging to 4 classes.\n"
          ]
        },
        {
          "output_type": "stream",
          "name": "stderr",
          "text": [
            "WARNING:tensorflow:`input_shape` is undefined or non-square, or `rows` is not in [96, 128, 160, 192, 224]. Weights for input shape (224, 224) will be loaded as the default.\n"
          ]
        },
        {
          "output_type": "stream",
          "name": "stdout",
          "text": [
            "Downloading data from https://storage.googleapis.com/tensorflow/keras-applications/mobilenet_v2/mobilenet_v2_weights_tf_dim_ordering_tf_kernels_1.0_224_no_top.h5\n",
            "9406464/9406464 [==============================] - 0s 0us/step\n",
            "Epoch 1/30\n",
            "168/168 [==============================] - 3166s 19s/step - loss: 1.4563 - accuracy: 0.3377 - val_loss: 1.3762 - val_accuracy: 0.3089\n",
            "Epoch 2/30\n",
            "168/168 [==============================] - 869s 5s/step - loss: 1.2646 - accuracy: 0.4117 - val_loss: 1.3311 - val_accuracy: 0.3861\n",
            "Epoch 3/30\n",
            "168/168 [==============================] - 832s 5s/step - loss: 1.2401 - accuracy: 0.4419 - val_loss: 1.3820 - val_accuracy: 0.3460\n",
            "Epoch 4/30\n",
            "168/168 [==============================] - 866s 5s/step - loss: 1.2317 - accuracy: 0.4385 - val_loss: 1.3290 - val_accuracy: 0.3899\n",
            "Epoch 5/30\n",
            "168/168 [==============================] - 851s 5s/step - loss: 1.1895 - accuracy: 0.4607 - val_loss: 1.3200 - val_accuracy: 0.4252\n",
            "Epoch 6/30\n",
            "168/168 [==============================] - 827s 5s/step - loss: 1.1827 - accuracy: 0.4734 - val_loss: 1.2976 - val_accuracy: 0.4128\n",
            "Epoch 7/30\n",
            "168/168 [==============================] - 834s 5s/step - loss: 1.1677 - accuracy: 0.4838 - val_loss: 1.3104 - val_accuracy: 0.4080\n",
            "Epoch 8/30\n",
            "168/168 [==============================] - 827s 5s/step - loss: 1.1658 - accuracy: 0.4711 - val_loss: 1.3122 - val_accuracy: 0.4080\n",
            "Epoch 9/30\n",
            "168/168 [==============================] - 851s 5s/step - loss: 1.1369 - accuracy: 0.5002 - val_loss: 1.3224 - val_accuracy: 0.4175\n",
            "Epoch 10/30\n",
            "168/168 [==============================] - 864s 5s/step - loss: 1.1281 - accuracy: 0.4994 - val_loss: 1.4086 - val_accuracy: 0.3899\n",
            "Epoch 11/30\n",
            "168/168 [==============================] - 856s 5s/step - loss: 1.1167 - accuracy: 0.5140 - val_loss: 1.3346 - val_accuracy: 0.4204\n",
            "Epoch 12/30\n",
            "168/168 [==============================] - 842s 5s/step - loss: 1.1093 - accuracy: 0.5082 - val_loss: 1.3298 - val_accuracy: 0.4071\n",
            "Epoch 13/30\n",
            "168/168 [==============================] - 860s 5s/step - loss: 1.0900 - accuracy: 0.5198 - val_loss: 1.3236 - val_accuracy: 0.4204\n",
            "Epoch 14/30\n",
            "168/168 [==============================] - 850s 5s/step - loss: 1.0865 - accuracy: 0.5246 - val_loss: 1.3300 - val_accuracy: 0.3908\n",
            "Epoch 15/30\n",
            "168/168 [==============================] - 853s 5s/step - loss: 1.0656 - accuracy: 0.5417 - val_loss: 1.4000 - val_accuracy: 0.3861\n",
            "Epoch 16/30\n",
            "168/168 [==============================] - 843s 5s/step - loss: 1.0509 - accuracy: 0.5447 - val_loss: 1.3490 - val_accuracy: 0.4261\n",
            "Epoch 17/30\n",
            "168/168 [==============================] - 860s 5s/step - loss: 1.0443 - accuracy: 0.5518 - val_loss: 1.4373 - val_accuracy: 0.3565\n",
            "Epoch 18/30\n",
            "168/168 [==============================] - 859s 5s/step - loss: 1.0333 - accuracy: 0.5594 - val_loss: 1.3969 - val_accuracy: 0.3928\n",
            "Epoch 19/30\n",
            "168/168 [==============================] - 846s 5s/step - loss: 1.0283 - accuracy: 0.5639 - val_loss: 1.3855 - val_accuracy: 0.4118\n",
            "Epoch 20/30\n",
            "168/168 [==============================] - 830s 5s/step - loss: 1.0049 - accuracy: 0.5697 - val_loss: 1.3823 - val_accuracy: 0.3832\n",
            "Epoch 21/30\n",
            "168/168 [==============================] - 856s 5s/step - loss: 1.0084 - accuracy: 0.5699 - val_loss: 1.4063 - val_accuracy: 0.3689\n",
            "Epoch 22/30\n",
            "168/168 [==============================] - 859s 5s/step - loss: 0.9930 - accuracy: 0.5781 - val_loss: 1.4029 - val_accuracy: 0.3880\n",
            "Epoch 23/30\n",
            "168/168 [==============================] - 826s 5s/step - loss: 0.9770 - accuracy: 0.5895 - val_loss: 1.4766 - val_accuracy: 0.4061\n",
            "Epoch 24/30\n",
            "168/168 [==============================] - 835s 5s/step - loss: 0.9529 - accuracy: 0.6029 - val_loss: 1.4900 - val_accuracy: 0.3928\n",
            "Epoch 25/30\n",
            "168/168 [==============================] - 856s 5s/step - loss: 0.9504 - accuracy: 0.6057 - val_loss: 1.4885 - val_accuracy: 0.4109\n",
            "Epoch 26/30\n",
            "168/168 [==============================] - 865s 5s/step - loss: 0.9413 - accuracy: 0.6036 - val_loss: 1.4928 - val_accuracy: 0.3756\n",
            "Epoch 27/30\n",
            "168/168 [==============================] - 852s 5s/step - loss: 0.9321 - accuracy: 0.6141 - val_loss: 1.4652 - val_accuracy: 0.3928\n",
            "Epoch 28/30\n",
            "168/168 [==============================] - 841s 5s/step - loss: 0.9057 - accuracy: 0.6209 - val_loss: 1.5184 - val_accuracy: 0.3899\n",
            "Epoch 29/30\n",
            "168/168 [==============================] - 846s 5s/step - loss: 0.9045 - accuracy: 0.6250 - val_loss: 1.5176 - val_accuracy: 0.3928\n",
            "Epoch 30/30\n",
            "168/168 [==============================] - 862s 5s/step - loss: 0.9041 - accuracy: 0.6249 - val_loss: 1.5764 - val_accuracy: 0.3985\n",
            "33/33 [==============================] - 125s 4s/step\n",
            "Validation Data Performance:\n",
            "              precision    recall  f1-score   support\n",
            "\n",
            "       anger       0.30      0.11      0.16       273\n",
            "       happy       0.47      0.53      0.49       303\n",
            "       panic       0.40      0.66      0.50       257\n",
            "     sadness       0.32      0.28      0.30       216\n",
            "\n",
            "    accuracy                           0.40      1049\n",
            "   macro avg       0.37      0.39      0.36      1049\n",
            "weighted avg       0.38      0.40      0.37      1049\n",
            "\n",
            "[[ 29  75 113  56]\n",
            " [ 18 160  80  45]\n",
            " [ 30  31 169  27]\n",
            " [ 20  78  58  60]]\n",
            "32/32 [==============================] - 616s 20s/step\n",
            "Test Data Performance:\n",
            "              precision    recall  f1-score   support\n",
            "\n",
            "       anger       0.40      0.16      0.23       280\n",
            "       happy       0.46      0.53      0.50       298\n",
            "       panic       0.44      0.64      0.53       275\n",
            "     sadness       0.25      0.25      0.25       160\n",
            "\n",
            "    accuracy                           0.42      1013\n",
            "   macro avg       0.39      0.40      0.38      1013\n",
            "weighted avg       0.41      0.42      0.39      1013\n",
            "\n",
            "[[ 46  86  96  52]\n",
            " [ 25 159  72  42]\n",
            " [ 25  48 177  25]\n",
            " [ 18  49  53  40]]\n"
          ]
        }
      ],
      "source": [
        "# 필요한 라이브러리 import\n",
        "import numpy as np\n",
        "import tensorflow as tf\n",
        "from sklearn.metrics import classification_report, confusion_matrix\n",
        "from tensorflow.keras.preprocessing.image import ImageDataGenerator\n",
        "from tensorflow.keras.applications import MobileNetV2\n",
        "from tensorflow.keras.layers import Dense, GlobalAveragePooling2D\n",
        "from tensorflow.keras.models import Model\n",
        "import os\n",
        "\n",
        "# 데이터 경로 설정 (훈련 및 검증 데이터)\n",
        "base_dir = '/content/drive/MyDrive/감정따뜻쟁이/img/train'\n",
        "validation_dir = '/content/drive/MyDrive/감정따뜻쟁이/img/val'\n",
        "test_dir = '/content/drive/MyDrive/감정따뜻쟁이/TEST_DATA_SET/TEST_DATA_SET'\n",
        "\n",
        "# 이미지 데이터 생성기 설정 (훈련 및 검증 데이터)\n",
        "train_datagen = ImageDataGenerator(\n",
        "    rescale=1./255,\n",
        "    rotation_range=20,\n",
        "    width_shift_range=0.2,\n",
        "    height_shift_range=0.2,\n",
        "    shear_range=0.2,\n",
        "    zoom_range=0.2,\n",
        "    horizontal_flip=True,\n",
        "    fill_mode='nearest'\n",
        ")\n",
        "\n",
        "validation_datagen = ImageDataGenerator(rescale=1./255)\n",
        "test_datagen = ImageDataGenerator(rescale=1./255)\n",
        "\n",
        "# 이미지 데이터 로드 (훈련 및 검증 데이터)\n",
        "train_generator = train_datagen.flow_from_directory(\n",
        "    base_dir,\n",
        "    target_size=(224, 224),\n",
        "    batch_size=32,\n",
        "    class_mode='categorical'\n",
        ")\n",
        "\n",
        "validation_generator = validation_datagen.flow_from_directory(\n",
        "    validation_dir,\n",
        "    target_size=(224, 224),\n",
        "    batch_size=32,\n",
        "    class_mode='categorical',\n",
        "    shuffle=False\n",
        ")\n",
        "\n",
        "test_generator = test_datagen.flow_from_directory(\n",
        "    test_dir,\n",
        "    target_size=(224, 224),\n",
        "    batch_size=32,\n",
        "    class_mode='categorical',\n",
        "    shuffle=False\n",
        ")\n",
        "\n",
        "# MobileNetV2 모델 불러오기 (사전 훈련된 가중치 포함)\n",
        "base_model = MobileNetV2(weights='imagenet', include_top=False)\n",
        "\n",
        "# 분류기 추가\n",
        "x = base_model.output\n",
        "x = GlobalAveragePooling2D()(x)\n",
        "x = Dense(1024, activation='relu')(x)\n",
        "predictions = Dense(4, activation='softmax')(x)\n",
        "\n",
        "# 새로운 모델 정의 (기존의 MobileNetV2 모델과 분류기를 결합)\n",
        "model = Model(inputs=base_model.input, outputs=predictions)\n",
        "\n",
        "# 모든 레이어를 동결하여 기존의 가중치를 고정\n",
        "for layer in base_model.layers:\n",
        "    layer.trainable = False\n",
        "\n",
        "# 모델 컴파일\n",
        "model.compile(optimizer='adam', loss='categorical_crossentropy', metrics=['accuracy'])\n",
        "\n",
        "# 모델 훈련\n",
        "model.fit(train_generator, epochs=30, validation_data=validation_generator)\n",
        "\n",
        "# 검증 데이터에 대한 예측\n",
        "validation_generator.reset()\n",
        "y_val_pred = model.predict(validation_generator)\n",
        "y_val_pred_classes = np.argmax(y_val_pred, axis=1)\n",
        "y_val_true = validation_generator.classes\n",
        "\n",
        "# 성능 지표 출력 (검증 데이터)\n",
        "val_target_names = list(validation_generator.class_indices.keys())\n",
        "print(\"Validation Data Performance:\")\n",
        "print(classification_report(y_val_true, y_val_pred_classes, target_names=val_target_names))\n",
        "print(confusion_matrix(y_val_true, y_val_pred_classes))\n",
        "\n",
        "# 테스트 데이터에 대한 예측\n",
        "test_generator.reset()\n",
        "y_test_pred = model.predict(test_generator)\n",
        "y_test_pred_classes = np.argmax(y_test_pred, axis=1)\n",
        "y_test_true = test_generator.classes\n",
        "\n",
        "# 성능 지표 출력 (테스트 데이터)\n",
        "test_target_names = list(test_generator.class_indices.keys())\n",
        "print(\"Test Data Performance:\")\n",
        "print(classification_report(y_test_true, y_test_pred_classes, target_names=test_target_names))\n",
        "print(confusion_matrix(y_test_true, y_test_pred_classes))"
      ]
    }
  ]
}