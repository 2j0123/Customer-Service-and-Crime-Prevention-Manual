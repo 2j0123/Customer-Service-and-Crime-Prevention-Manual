{
 "cells": [
  {
   "cell_type": "code",
   "execution_count": 1,
   "metadata": {},
   "outputs": [],
   "source": [
    "from transformers import Swinv2Config, Swinv2Model, AutoFeatureExtractor\n",
    "import transformers\n",
    "import os, json, glob, requests, torch, cv2\n",
    "import numpy as np\n",
    "from PIL import Image\n",
    "from torch.utils.data import DataLoader, Dataset\n",
    "import pandas as pd\n",
    "import torch.nn as nn\n",
    "import torch.optim as optim\n",
    "import matplotlib.pyplot as plt\n",
    "import torchvision.transforms as transforms\n",
    "from sklearn.metrics import accuracy_score\n",
    "from tensorflow.keras.preprocessing import image\n",
    "from transformers import Swinv2ForImageClassification"
   ]
  },
  {
   "cell_type": "code",
   "execution_count": 2,
   "metadata": {},
   "outputs": [],
   "source": [
    "#set default path\n",
    "TRAIN_JSON_PATH = r'C:\\Users\\User\\Desktop\\Code\\Github\\Final_project\\data\\label\\train'\n",
    "VALID_JSON_PATH = r'C:\\Users\\User\\Desktop\\Code\\Github\\Final_project\\data\\label\\val'\n",
    "TEST_JSON_PATH = r'C:\\Users\\User\\Desktop\\Code\\Github\\Final_project\\data\\label\\test'\n",
    "\n",
    "TRAIN_IMG_PATH = r'C:\\Users\\User\\Desktop\\Code\\Github\\Final_project\\data\\train'\n",
    "VALID_IMG_PATH = r'C:\\Users\\User\\Desktop\\Code\\Github\\Final_project\\data\\val'\n",
    "TEST_IMG_PATH = r'C:\\Users\\User\\Desktop\\Code\\Github\\Final_project\\data\\test'\n",
    "\n",
    "TRAIN_SEGMENT_PATH = r'C:\\Users\\User\\Desktop\\Code\\Github\\Final_project\\data\\segmentation\\train'\n",
    "VALID_SEGMENT_PATH = r'C:\\Users\\User\\Desktop\\Code\\Github\\Final_project\\data\\segmentation\\val'\n",
    "\n",
    "MASKED_TRAIN_PATH = r'C:\\Users\\User\\Desktop\\Code\\Github\\Final_project\\data\\masked_train'\n",
    "MASKED_VAL_PATH = r'C:\\Users\\User\\Desktop\\Code\\Github\\Final_project\\data\\masked_val'\n",
    "\n",
    "\n",
    "\n",
    "IMG_ROWS = 256\n",
    "IMG_COLS = 256"
   ]
  },
  {
   "cell_type": "code",
   "execution_count": 3,
   "metadata": {},
   "outputs": [],
   "source": [
    "def get_json_list_1d(json_folder_path):\n",
    "    temp_loader = []\n",
    "    json_train = []\n",
    "    emotion_list_json = os.listdir(json_folder_path)\n",
    "\n",
    "    for emotion in emotion_list_json:\n",
    "        with open (json_folder_path + '\\\\' + emotion, \"r\", encoding='euc-kr') as f:\n",
    "            temp_loader.append(json.load(f))\n",
    "\n",
    "    for i in range(len(temp_loader)):\n",
    "        json_train += temp_loader[i]\n",
    "\n",
    "    return json_train"
   ]
  },
  {
   "cell_type": "code",
   "execution_count": 4,
   "metadata": {},
   "outputs": [],
   "source": [
    "def get_json_list_1d(json_folder_path): #returns a 1 dim array\n",
    "    temp_loader = []\n",
    "    json_train = []\n",
    "    emotion_list_json = os.listdir(json_folder_path)\n",
    "\n",
    "    for emotion in emotion_list_json:\n",
    "        if 'neutral' not in emotion:\n",
    "            with open (json_folder_path + \"\\\\\" + emotion, \"r\", encoding='euc-kr') as f:\n",
    "                temp_loader.append(json.load(f))     \n",
    "        else:\n",
    "            with open(json_folder_path + \"\\\\\" + emotion, \"r\", encoding='utf-8') as f:\n",
    "                temp_loader.append(json.load(f)) \n",
    "\n",
    "    for i in range(len(temp_loader)):\n",
    "        json_train += temp_loader[i]     \n",
    "\n",
    "    return json_train"
   ]
  },
  {
   "cell_type": "code",
   "execution_count": 5,
   "metadata": {},
   "outputs": [
    {
     "name": "stdout",
     "output_type": "stream",
     "text": [
      "dict_keys(['filename', 'gender', 'age', 'isProf', 'faceExp_uploader', 'bg_uploader', 'annot_A', 'annot_B', 'annot_C'])\n",
      "6780\n",
      "1461\n",
      "['anger', 'happy', 'neutral', 'panic', 'sadness']\n"
     ]
    }
   ],
   "source": [
    "#call for the functions\n",
    "json_train = get_json_list_1d(TRAIN_JSON_PATH)\n",
    "json_val = get_json_list_1d(VALID_JSON_PATH)\n",
    "\n",
    "\n",
    "\n",
    "\n",
    "print(json_train[0].keys()) #see what keys are available\n",
    "print(len(json_train))\n",
    "print(len(json_val))\n",
    "print(os.listdir(TRAIN_IMG_PATH))\n",
    "\n",
    "#5 emotion\n",
    "#0 = 분노, 1 = 기쁨, 2 = 중립, 3 = 당황, 4 = 슬픔\n",
    "\n",
    "\n",
    "#4 emotion\n",
    "#0 = 분노, 1 = 기쁨, 2 = 당황, 3 = 슬픔\n",
    "#0 = anger, 1 = happy, 2 = panic, 3 = sadness\n"
   ]
  },
  {
   "cell_type": "code",
   "execution_count": 6,
   "metadata": {},
   "outputs": [
    {
     "name": "stdout",
     "output_type": "stream",
     "text": [
      "[2073.254605 1486.204442]\n",
      "[1338.220105  539.506642]\n"
     ]
    }
   ],
   "source": [
    "start_point , end_point = np.array_split(list(json_train[0]['annot_A']['boxes'].values()), 2)\n",
    "print(start_point)\n",
    "print(end_point)"
   ]
  },
  {
   "cell_type": "code",
   "execution_count": 7,
   "metadata": {},
   "outputs": [],
   "source": [
    "df = pd.read_csv(r'C:\\Users\\User\\Desktop\\Code\\Github\\Final_project\\data\\filesize2.csv')"
   ]
  },
  {
   "cell_type": "code",
   "execution_count": 8,
   "metadata": {},
   "outputs": [],
   "source": [
    "def load_image_and_label_1D(json_list, img_path):\n",
    "    img_file = []\n",
    "    label_list = []\n",
    "    \n",
    "    # 5 emotions\n",
    "    kr_to_num = { '분노'   : '0',\n",
    "                   '기쁨'   : '1',\n",
    "                   '중립'   : '2',\n",
    "                   '당황'   : '3',\n",
    "                   '슬픔'   : '4'             \n",
    "                 }\n",
    "    kr_to_en = { '분노'    : 'anger',\n",
    "                 '기쁨'   : 'happy',\n",
    "                 '중립'    : 'neutral',\n",
    "                 '당황'   : 'panic',\n",
    "                 '슬픔'   : 'sadness'             \n",
    "                 }\n",
    "    \n",
    "\n",
    "    \n",
    "    for entry in range(len(json_list)):\n",
    "        try:\n",
    "            label = json_list[entry]['faceExp_uploader']\n",
    "            img_dir = img_path + '/' + kr_to_en[label] + '/' + json_list[entry]['filename']\n",
    "\n",
    "            if label != '중립' :\n",
    "                start_point , end_point = np.array_split(list(json_list[entry]['annot_A']['boxes'].values()), 2)\n",
    "                img = cv2.imread(img_dir)  # Load the full image\n",
    "                roi = img[int(end_point[1]):int(start_point[1]), int(end_point[0]):int(start_point[0])] \n",
    "                roi = cv2.resize(roi, (IMG_ROWS, IMG_COLS))\n",
    "                im_pil = Image.fromarray(roi)\n",
    "                \n",
    "            else:\n",
    "                start_point , end_point = np.array_split(list(json_list[entry]['annot_A']['boxes'].values()), 2)\n",
    "                height = df.loc[df['file'] == json_list[entry]['filename'], 'height'].values[0]\n",
    "                length = df.loc[df['file'] == json_list[entry]['filename'], 'width'].values[0]\n",
    "                h_ratio = 640 / height\n",
    "                l_ratio = 480 / length\n",
    "                start_point[0] = start_point[0]*l_ratio\n",
    "                start_point[1]  = start_point[1]*h_ratio\n",
    "                end_point[0]    = end_point[0]*l_ratio\n",
    "                end_point[1]    = end_point[1]*h_ratio\n",
    "                img = cv2.imread(img_dir)  # Load the full image\n",
    "                roi = img[int(end_point[1]):int(start_point[1]), int(end_point[0]):int(start_point[0])] \n",
    "                roi = cv2.resize(roi, (IMG_ROWS, IMG_COLS))\n",
    "                im_pil = Image.fromarray(roi)\n",
    "                \n",
    "\n",
    "                \n",
    "            # img_dir = img_path + kr_to_en[label] + '/' + json_list[entry]['filename']\n",
    "            # img = np.array(image.load_img(img_dir, target_size=(IMG_ROWS, IMG_COLS)))/255\n",
    "            # img = image.load_img(img_dir, target_size=(IMG_ROWS, IMG_COLS))\n",
    "            img_file.append(im_pil)\n",
    "            label_list.append(int(kr_to_num[label]))\n",
    "        except Exception:\n",
    "            print(\"Emotion \" + label + \" \" + json_list[entry]['filename'] + \" Not available\")\n",
    "            pass\n",
    "\n",
    "    return img_file, label_list"
   ]
  },
  {
   "cell_type": "code",
   "execution_count": 9,
   "metadata": {},
   "outputs": [
    {
     "name": "stdout",
     "output_type": "stream",
     "text": [
      "Emotion 분노 br810daccfda5c78d9119189c2767db0d19290f2a6166af257307a1fa7b6bflyz.jpg Not available\n",
      "Emotion 기쁨 341zcc976a81d9d8391dbdc967042a4977d9c594b924adacd11d0b3b0b611z22y.jpg Not available\n",
      "Emotion 중립 7d316d614dbd22b33df44768199cffa8212ad676673c6bf02b50e1834f8cf2cb2020210210134642010001.jpg Not available\n",
      "Emotion 중립 7d316d614dbd22b33df44768199cffa8212ad676673c6bf02b50e1834f8cf2cb2020210210134417004002.jpg Not available\n",
      "Emotion 당황 twdva8d723865fa1005873a6967797c75f3dd83197f13f7daa3e3926947071al6.jpg Not available\n",
      "Emotion 당황 5yid6d7ae32bf14b1343da46cfdb3fdffc8e1c64baf4fb1b175690f648a870v69.jpg Not available\n",
      "Emotion 당황 bpv531e5cebdb1c00085158bb0677c5596ccabf1c8a5cb0007991571bf306wcd4.jpg Not available\n",
      "Emotion 당황 s1q397a38900c1e1f950496109900e7c01f0630459790d8590010655c4090vlh0.jpg Not available\n",
      "Emotion 당황 4hym2e606d89fcf887b29e7b8b3ebfcc626c8fcf821782f6e5ffee5416c75qzrf.jpg Not available\n",
      "Emotion 당황 7m2k46c05803855399ea1ee1911875ee59e05640c93135c0bc91b5660456cdo8k.jpg Not available\n",
      "Emotion 당황 xuiz83a96877b841898d16f32a9276e7a8d779d8d68f458e2816e296d6558w6em.jpg Not available\n",
      "Emotion 당황 n55yc741f09701506c7eb5ba30533db35c905ab5bf0597b5652ece03c5950ozv1.jpg Not available\n",
      "Emotion 당황 bid7b3c93409e1d83514689337f6d3d63a338339d71c9ce7fded153d3576fk2ml.jpg Not available\n",
      "Emotion 당황 if0lfc4b517c6597e3656dbea350e406e1b5ae4e175e460597064875909d9t40p.jpg Not available\n",
      "Emotion 당황 58w153f3f5ade2ad20ec19e6744ff2ff0a54ba3520ffbef36f3f3a47af75fxuf5.jpg Not available\n",
      "Emotion 당황 lhyp01dff4faf13d1b4319722dc31bb3a104a3878ab3816a03bb8acdfa3d3eomk.jpg Not available\n",
      "Emotion 당황 vba0d31d23b44711180462388c8aba4424a0aa2951153a6b0d233d3f28041kzff.jpg Not available\n",
      "Emotion 당황 mj9mb18295a54da298a5a537dfa99a0172259a1af9ba2eaaefafdab9d47adrc83.jpg Not available\n",
      "Emotion 당황 bxx7a068c1eeb2032eaa0483940042ace8a00ea64ff23ce002b502aa3cafbo5kx.jpg Not available\n",
      "Emotion 당황 8p5p37951df3a18686dd10da624176ca7197b6778c877278d89f6331ada7bpjcq.jpg Not available\n",
      "Emotion 당황 67q29f539b5a2e59c55a703be25dfae0a68c6b8ccb8a2962ac8aaea799af22gm2.jpg Not available\n",
      "Emotion 당황 i5r0dc94151cdc9be669fc2d29221a29d8b2d6af2baf287360d36cf38b949clxw.jpg Not available\n",
      "Emotion 당황 140c3185430750e85cc0c7c38055b5abf5b06fc6ed34a60043506bd08af29llt0.jpg Not available\n",
      "Emotion 당황 ja43b19979da8e776e43e550068c7ae667eb695ab11144913697e014366110d6d.jpg Not available\n",
      "Emotion 슬픔 0xah1dfff2988dd0bb1002299e49a2e81221721df2086792404682f191894jnl2.jpg Not available\n",
      "Emotion 슬픔 vag7dfda5e3b9561fd12c1175d277b1d2c1f22dd2a5d37b3286dd4b3e2d45pili.jpg Not available\n"
     ]
    }
   ],
   "source": [
    "train_img, train_label = load_image_and_label_1D(json_train, TRAIN_IMG_PATH)"
   ]
  },
  {
   "cell_type": "code",
   "execution_count": 10,
   "metadata": {},
   "outputs": [
    {
     "name": "stdout",
     "output_type": "stream",
     "text": [
      "Emotion 중립 bd210c67f8f6d1d3b34e1f724f26a0460a5e683af5c500b8acacc8be9af35db02020210210223903003009.jpg Not available\n"
     ]
    }
   ],
   "source": [
    "val_img, val_label = load_image_and_label_1D(json_val, VALID_IMG_PATH)"
   ]
  },
  {
   "cell_type": "code",
   "execution_count": 11,
   "metadata": {},
   "outputs": [],
   "source": [
    "from transformers import Swinv2ForImageClassification, AutoFeatureExtractor\n",
    "model_name = \"microsoft/swinv2-tiny-patch4-window8-256\"\n",
    "train_df = pd.DataFrame(columns=['image', 'label'])\n",
    "train_df['image'] = train_img\n",
    "train_df['label'] = train_label\n",
    "\n",
    "val_df = pd.DataFrame(columns=['image', 'label'])\n",
    "val_df['image'] = val_img\n",
    "val_df['label'] = val_label\n",
    "\n"
   ]
  },
  {
   "cell_type": "code",
   "execution_count": 12,
   "metadata": {},
   "outputs": [],
   "source": [
    "train_dict = train_df.to_dict('records')\n",
    "val_dict = val_df.to_dict('records')"
   ]
  },
  {
   "cell_type": "code",
   "execution_count": 13,
   "metadata": {},
   "outputs": [],
   "source": [
    "from datasets import Dataset\n",
    "# train_ds = Dataset.from_pandas(pd.DataFrame(data=train_dict))\n",
    "train_ds = Dataset.from_list(train_dict)\n",
    "val_ds = Dataset.from_list(val_dict)"
   ]
  },
  {
   "cell_type": "code",
   "execution_count": 14,
   "metadata": {},
   "outputs": [
    {
     "data": {
      "text/plain": [
       "{'image': <PIL.PngImagePlugin.PngImageFile image mode=RGB size=256x256>,\n",
       " 'label': 0}"
      ]
     },
     "execution_count": 14,
     "metadata": {},
     "output_type": "execute_result"
    }
   ],
   "source": [
    "train_ds[0]"
   ]
  },
  {
   "cell_type": "code",
   "execution_count": 15,
   "metadata": {},
   "outputs": [],
   "source": [
    "# 5 emotions\n",
    "label2id = {       'Anger'     : '0',\n",
    "                   'Happy'     : '1',\n",
    "                   'Neutral'   :'2',\n",
    "                   'Panic'     : '3',\n",
    "                   'Sadness'   : '4'             \n",
    "                 }\n",
    "id2label = {\n",
    "    '0' : 'Anger',\n",
    "    '1' : 'Happy',\n",
    "    '2' : 'Neutral',\n",
    "    '3' : 'Panic',\n",
    "    '4' : 'Sadness'\n",
    "}"
   ]
  },
  {
   "cell_type": "code",
   "execution_count": 16,
   "metadata": {},
   "outputs": [
    {
     "name": "stderr",
     "output_type": "stream",
     "text": [
      "c:\\Users\\User\\anaconda3\\envs\\my_env_py311\\Lib\\site-packages\\huggingface_hub\\file_download.py:1132: FutureWarning: `resume_download` is deprecated and will be removed in version 1.0.0. Downloads always resume when possible. If you want to force a new download, use `force_download=True`.\n",
      "  warnings.warn(\n",
      "Could not find image processor class in the image processor config or the model config. Loading based on pattern matching with the model's feature extractor configuration. Please open a PR/issue to update `preprocessor_config.json` to use `image_processor_type` instead of `feature_extractor_type`. This warning will be removed in v4.40.\n"
     ]
    },
    {
     "data": {
      "text/plain": [
       "ViTImageProcessor {\n",
       "  \"_valid_processor_keys\": [\n",
       "    \"images\",\n",
       "    \"do_resize\",\n",
       "    \"size\",\n",
       "    \"resample\",\n",
       "    \"do_rescale\",\n",
       "    \"rescale_factor\",\n",
       "    \"do_normalize\",\n",
       "    \"image_mean\",\n",
       "    \"image_std\",\n",
       "    \"return_tensors\",\n",
       "    \"data_format\",\n",
       "    \"input_data_format\"\n",
       "  ],\n",
       "  \"do_normalize\": true,\n",
       "  \"do_rescale\": true,\n",
       "  \"do_resize\": true,\n",
       "  \"image_mean\": [\n",
       "    0.485,\n",
       "    0.456,\n",
       "    0.406\n",
       "  ],\n",
       "  \"image_processor_type\": \"ViTImageProcessor\",\n",
       "  \"image_std\": [\n",
       "    0.229,\n",
       "    0.224,\n",
       "    0.225\n",
       "  ],\n",
       "  \"resample\": 3,\n",
       "  \"rescale_factor\": 0.00392156862745098,\n",
       "  \"size\": {\n",
       "    \"height\": 256,\n",
       "    \"width\": 256\n",
       "  }\n",
       "}"
      ]
     },
     "execution_count": 16,
     "metadata": {},
     "output_type": "execute_result"
    }
   ],
   "source": [
    "from transformers import AutoImageProcessor\n",
    "\n",
    "image_processor  = AutoImageProcessor.from_pretrained(model_name)\n",
    "image_processor"
   ]
  },
  {
   "cell_type": "code",
   "execution_count": 17,
   "metadata": {},
   "outputs": [],
   "source": [
    "from torchvision.transforms import (\n",
    "    CenterCrop,\n",
    "    Compose,\n",
    "    Normalize,\n",
    "    RandomHorizontalFlip,\n",
    "    RandomRotation,\n",
    "    RandomResizedCrop,\n",
    "    Resize,\n",
    "    ToTensor,\n",
    ")\n",
    "\n",
    "normalize = Normalize(mean=image_processor.image_mean, std=image_processor.image_std)\n",
    "if \"height\" in image_processor.size:\n",
    "    size = (image_processor.size[\"height\"], image_processor.size[\"width\"])\n",
    "    crop_size = size\n",
    "    max_size = None\n",
    "elif \"shortest_edge\" in image_processor.size:\n",
    "    size = image_processor.size[\"shortest_edge\"]\n",
    "    crop_size = (size, size)\n",
    "    max_size = image_processor.size.get(\"longest_edge\")\n",
    "\n",
    "train_transforms = Compose(\n",
    "        [\n",
    "            RandomResizedCrop(crop_size),\n",
    "            RandomHorizontalFlip(),\n",
    "            RandomRotation(degrees=(0.0, 30.0)),\n",
    "            ToTensor(),\n",
    "            normalize,\n",
    "        ]\n",
    "    )\n",
    "\n",
    "val_transforms = Compose(\n",
    "        [\n",
    "            Resize(size),\n",
    "            CenterCrop(crop_size),\n",
    "            ToTensor(),\n",
    "            normalize,\n",
    "        ]\n",
    "    )\n",
    "\n",
    "def preprocess_train(example_batch):\n",
    "    \"\"\"Apply train_transforms across a batch.\"\"\"\n",
    "    example_batch[\"pixel_values\"] = [train_transforms(image.convert(\"RGB\")) for image in example_batch[\"image\"]]\n",
    "    return example_batch\n",
    "\n",
    "def preprocess_val(example_batch):\n",
    "    \"\"\"Apply val_transforms across a batch.\"\"\"\n",
    "    example_batch[\"pixel_values\"] = [val_transforms(image.convert(\"RGB\")) for image in example_batch[\"image\"]]\n",
    "    return example_batch"
   ]
  },
  {
   "cell_type": "code",
   "execution_count": 18,
   "metadata": {},
   "outputs": [],
   "source": [
    "train_ds.set_transform(preprocess_train)\n",
    "val_ds.set_transform(preprocess_val)\n"
   ]
  },
  {
   "cell_type": "code",
   "execution_count": 19,
   "metadata": {},
   "outputs": [
    {
     "name": "stderr",
     "output_type": "stream",
     "text": [
      "Some weights of Swinv2ForImageClassification were not initialized from the model checkpoint at microsoft/swinv2-tiny-patch4-window8-256 and are newly initialized because the shapes did not match:\n",
      "- classifier.weight: found shape torch.Size([1000, 768]) in the checkpoint and torch.Size([5, 768]) in the model instantiated\n",
      "- classifier.bias: found shape torch.Size([1000]) in the checkpoint and torch.Size([5]) in the model instantiated\n",
      "You should probably TRAIN this model on a down-stream task to be able to use it for predictions and inference.\n"
     ]
    }
   ],
   "source": [
    "model = Swinv2ForImageClassification.from_pretrained(\n",
    "    model_name, \n",
    "    label2id=label2id,\n",
    "    id2label=id2label,\n",
    "    ignore_mismatched_sizes = True, # provide this in case you're planning to fine-tune an already fine-tuned checkpoint\n",
    ")"
   ]
  },
  {
   "cell_type": "code",
   "execution_count": 20,
   "metadata": {},
   "outputs": [],
   "source": [
    "from transformers import TrainingArguments, Trainer\n",
    "\n",
    "batch_size = 8\n",
    "\n",
    "model_checkpoint = model_name.split(\"/\")[-1]\n",
    "\n",
    "args = TrainingArguments(\n",
    "    f\"{model_checkpoint}-finetuned-5emotions\",\n",
    "    remove_unused_columns=False,\n",
    "    evaluation_strategy = \"epoch\",\n",
    "    save_strategy = \"epoch\",\n",
    "    learning_rate=5e-5,\n",
    "    per_device_train_batch_size=batch_size,\n",
    "    gradient_accumulation_steps=4,\n",
    "    per_device_eval_batch_size=batch_size,\n",
    "    num_train_epochs=35,\n",
    "    warmup_ratio=0.1,\n",
    "    logging_steps=10,\n",
    "    load_best_model_at_end=True,\n",
    "    metric_for_best_model=\"accuracy\",\n",
    "    # push_to_hub=True,\n",
    ")"
   ]
  },
  {
   "cell_type": "code",
   "execution_count": 21,
   "metadata": {},
   "outputs": [],
   "source": [
    "import numpy as np\n",
    "\n",
    "# the compute_metrics function takes a Named Tuple as input:\n",
    "# predictions, which are the logits of the model as Numpy arrays,\n",
    "# and label_ids, which are the ground-truth labels as Numpy arrays.\n",
    "def compute_metrics(eval_pred):\n",
    "    \"\"\"Computes accuracy on a batch of predictions\"\"\"\n",
    "    predictions = np.argmax(eval_pred.predictions, axis=1)\n",
    "    return metric.compute(predictions=predictions, references=eval_pred.label_ids)\n",
    "\n",
    "import torch\n",
    "\n",
    "def collate_fn(examples):\n",
    "    pixel_values = torch.stack([example[\"pixel_values\"] for example in examples])\n",
    "    labels = torch.tensor([example[\"label\"] for example in examples])\n",
    "    return {\"pixel_values\": pixel_values, \"labels\": labels}\n",
    "\n"
   ]
  },
  {
   "cell_type": "code",
   "execution_count": 22,
   "metadata": {},
   "outputs": [
    {
     "data": {
      "application/vnd.jupyter.widget-view+json": {
       "model_id": "3123f27dc9cb4441bfbaeb95a2474b75",
       "version_major": 2,
       "version_minor": 0
      },
      "text/plain": [
       "VBox(children=(HTML(value='<center> <img\\nsrc=https://huggingface.co/front/assets/huggingface_logo-noborder.sv…"
      ]
     },
     "metadata": {},
     "output_type": "display_data"
    }
   ],
   "source": [
    "from huggingface_hub import login\n",
    "\n",
    "login()"
   ]
  },
  {
   "cell_type": "code",
   "execution_count": 23,
   "metadata": {},
   "outputs": [
    {
     "name": "stderr",
     "output_type": "stream",
     "text": [
      "C:\\Users\\User\\AppData\\Local\\Temp\\ipykernel_51540\\1780215247.py:3: FutureWarning: load_metric is deprecated and will be removed in the next major version of datasets. Use 'evaluate.load' instead, from the new library 🤗 Evaluate: https://huggingface.co/docs/evaluate\n",
      "  metric = load_metric(\"accuracy\")\n",
      "c:\\Users\\User\\anaconda3\\envs\\my_env_py311\\Lib\\site-packages\\datasets\\load.py:759: FutureWarning: The repository for accuracy contains custom code which must be executed to correctly load the metric. You can inspect the repository content at https://raw.githubusercontent.com/huggingface/datasets/2.19.1/metrics/accuracy/accuracy.py\n",
      "You can avoid this message in future by passing the argument `trust_remote_code=True`.\n",
      "Passing `trust_remote_code=True` will be mandatory to load this metric from the next major release of `datasets`.\n",
      "  warnings.warn(\n"
     ]
    }
   ],
   "source": [
    "from datasets import load_metric\n",
    "\n",
    "metric = load_metric(\"accuracy\")"
   ]
  },
  {
   "cell_type": "code",
   "execution_count": 24,
   "metadata": {},
   "outputs": [],
   "source": [
    "trainer = Trainer(\n",
    "    model,\n",
    "    args,\n",
    "    train_dataset=train_ds,\n",
    "    eval_dataset=val_ds,\n",
    "    tokenizer=image_processor,\n",
    "    compute_metrics=compute_metrics,\n",
    "    data_collator=collate_fn,\n",
    ")"
   ]
  },
  {
   "cell_type": "code",
   "execution_count": 25,
   "metadata": {},
   "outputs": [
    {
     "data": {
      "application/vnd.jupyter.widget-view+json": {
       "model_id": "99544b5f304d4757b1de79a1d1a9d85e",
       "version_major": 2,
       "version_minor": 0
      },
      "text/plain": [
       "  0%|          | 0/7385 [00:00<?, ?it/s]"
      ]
     },
     "metadata": {},
     "output_type": "display_data"
    },
    {
     "name": "stdout",
     "output_type": "stream",
     "text": [
      "{'loss': 1.691, 'grad_norm': 7.075885772705078, 'learning_rate': 6.765899864682003e-07, 'epoch': 0.05}\n",
      "{'loss': 1.6712, 'grad_norm': 9.890098571777344, 'learning_rate': 1.3531799729364006e-06, 'epoch': 0.09}\n",
      "{'loss': 1.6787, 'grad_norm': 7.415971755981445, 'learning_rate': 2.029769959404601e-06, 'epoch': 0.14}\n",
      "{'loss': 1.6685, 'grad_norm': 6.3063764572143555, 'learning_rate': 2.7063599458728013e-06, 'epoch': 0.19}\n",
      "{'loss': 1.6143, 'grad_norm': 8.763900756835938, 'learning_rate': 3.3829499323410016e-06, 'epoch': 0.24}\n",
      "{'loss': 1.5849, 'grad_norm': 6.661700248718262, 'learning_rate': 4.059539918809202e-06, 'epoch': 0.28}\n",
      "{'loss': 1.5502, 'grad_norm': 7.178672790527344, 'learning_rate': 4.736129905277402e-06, 'epoch': 0.33}\n",
      "{'loss': 1.5274, 'grad_norm': 5.857969284057617, 'learning_rate': 5.4127198917456026e-06, 'epoch': 0.38}\n",
      "{'loss': 1.4915, 'grad_norm': 6.652136325836182, 'learning_rate': 6.089309878213803e-06, 'epoch': 0.43}\n",
      "{'loss': 1.4063, 'grad_norm': 6.222568035125732, 'learning_rate': 6.765899864682003e-06, 'epoch': 0.47}\n",
      "{'loss': 1.3811, 'grad_norm': 6.365822792053223, 'learning_rate': 7.442489851150203e-06, 'epoch': 0.52}\n",
      "{'loss': 1.3026, 'grad_norm': 7.9343414306640625, 'learning_rate': 8.119079837618404e-06, 'epoch': 0.57}\n",
      "{'loss': 1.2516, 'grad_norm': 9.204723358154297, 'learning_rate': 8.795669824086604e-06, 'epoch': 0.62}\n",
      "{'loss': 1.1664, 'grad_norm': 7.836040496826172, 'learning_rate': 9.472259810554804e-06, 'epoch': 0.66}\n",
      "{'loss': 1.182, 'grad_norm': 10.82960319519043, 'learning_rate': 1.0148849797023005e-05, 'epoch': 0.71}\n",
      "{'loss': 1.0992, 'grad_norm': 13.981669425964355, 'learning_rate': 1.0825439783491205e-05, 'epoch': 0.76}\n",
      "{'loss': 1.036, 'grad_norm': 17.63448715209961, 'learning_rate': 1.1502029769959405e-05, 'epoch': 0.8}\n",
      "{'loss': 1.0372, 'grad_norm': 13.67409610748291, 'learning_rate': 1.2178619756427606e-05, 'epoch': 0.85}\n",
      "{'loss': 0.9888, 'grad_norm': 10.486079216003418, 'learning_rate': 1.2855209742895804e-05, 'epoch': 0.9}\n",
      "{'loss': 0.98, 'grad_norm': 10.388420104980469, 'learning_rate': 1.3531799729364006e-05, 'epoch': 0.95}\n",
      "{'loss': 0.9665, 'grad_norm': 11.530645370483398, 'learning_rate': 1.4208389715832207e-05, 'epoch': 0.99}\n"
     ]
    },
    {
     "data": {
      "application/vnd.jupyter.widget-view+json": {
       "model_id": "495a25d2283c4059be67df1d07a5aaca",
       "version_major": 2,
       "version_minor": 0
      },
      "text/plain": [
       "  0%|          | 0/183 [00:00<?, ?it/s]"
      ]
     },
     "metadata": {},
     "output_type": "display_data"
    },
    {
     "name": "stdout",
     "output_type": "stream",
     "text": [
      "{'eval_loss': 0.8002648949623108, 'eval_accuracy': 0.6835616438356165, 'eval_runtime': 6.3464, 'eval_samples_per_second': 230.051, 'eval_steps_per_second': 28.835, 'epoch': 1.0}\n",
      "{'loss': 0.9431, 'grad_norm': 14.492610931396484, 'learning_rate': 1.4884979702300405e-05, 'epoch': 1.04}\n",
      "{'loss': 0.8959, 'grad_norm': 11.852544784545898, 'learning_rate': 1.5561569688768607e-05, 'epoch': 1.09}\n",
      "{'loss': 0.9688, 'grad_norm': 11.708285331726074, 'learning_rate': 1.6238159675236808e-05, 'epoch': 1.14}\n",
      "{'loss': 0.8888, 'grad_norm': 14.45132827758789, 'learning_rate': 1.6914749661705008e-05, 'epoch': 1.18}\n",
      "{'loss': 0.846, 'grad_norm': 14.281059265136719, 'learning_rate': 1.759133964817321e-05, 'epoch': 1.23}\n",
      "{'loss': 0.8906, 'grad_norm': 14.860888481140137, 'learning_rate': 1.826792963464141e-05, 'epoch': 1.28}\n",
      "{'loss': 0.8169, 'grad_norm': 10.605212211608887, 'learning_rate': 1.894451962110961e-05, 'epoch': 1.33}\n",
      "{'loss': 0.836, 'grad_norm': 12.668191909790039, 'learning_rate': 1.962110960757781e-05, 'epoch': 1.37}\n",
      "{'loss': 0.7644, 'grad_norm': 10.248248100280762, 'learning_rate': 2.029769959404601e-05, 'epoch': 1.42}\n",
      "{'loss': 0.7755, 'grad_norm': 9.778542518615723, 'learning_rate': 2.097428958051421e-05, 'epoch': 1.47}\n",
      "{'loss': 0.7387, 'grad_norm': 9.64427661895752, 'learning_rate': 2.165087956698241e-05, 'epoch': 1.51}\n",
      "{'loss': 0.7605, 'grad_norm': 10.04445743560791, 'learning_rate': 2.232746955345061e-05, 'epoch': 1.56}\n",
      "{'loss': 0.6781, 'grad_norm': 13.125927925109863, 'learning_rate': 2.300405953991881e-05, 'epoch': 1.61}\n",
      "{'loss': 0.6551, 'grad_norm': 13.797953605651855, 'learning_rate': 2.368064952638701e-05, 'epoch': 1.66}\n",
      "{'loss': 0.7542, 'grad_norm': 14.754645347595215, 'learning_rate': 2.435723951285521e-05, 'epoch': 1.7}\n",
      "{'loss': 0.8104, 'grad_norm': 13.914559364318848, 'learning_rate': 2.5033829499323412e-05, 'epoch': 1.75}\n",
      "{'loss': 0.6945, 'grad_norm': 11.46696662902832, 'learning_rate': 2.571041948579161e-05, 'epoch': 1.8}\n",
      "{'loss': 0.6711, 'grad_norm': 10.812294960021973, 'learning_rate': 2.638700947225981e-05, 'epoch': 1.85}\n",
      "{'loss': 0.7345, 'grad_norm': 15.02450180053711, 'learning_rate': 2.7063599458728013e-05, 'epoch': 1.89}\n",
      "{'loss': 0.723, 'grad_norm': 11.53946590423584, 'learning_rate': 2.7740189445196213e-05, 'epoch': 1.94}\n",
      "{'loss': 0.6443, 'grad_norm': 8.337069511413574, 'learning_rate': 2.8416779431664413e-05, 'epoch': 1.99}\n"
     ]
    },
    {
     "data": {
      "application/vnd.jupyter.widget-view+json": {
       "model_id": "fface36743084652ac5e6485dee6e4b2",
       "version_major": 2,
       "version_minor": 0
      },
      "text/plain": [
       "  0%|          | 0/183 [00:00<?, ?it/s]"
      ]
     },
     "metadata": {},
     "output_type": "display_data"
    },
    {
     "name": "stdout",
     "output_type": "stream",
     "text": [
      "{'eval_loss': 0.4562951624393463, 'eval_accuracy': 0.8246575342465754, 'eval_runtime': 6.3186, 'eval_samples_per_second': 231.065, 'eval_steps_per_second': 28.962, 'epoch': 2.0}\n",
      "{'loss': 0.6256, 'grad_norm': 9.038360595703125, 'learning_rate': 2.9093369418132617e-05, 'epoch': 2.04}\n",
      "{'loss': 0.5998, 'grad_norm': 12.379063606262207, 'learning_rate': 2.976995940460081e-05, 'epoch': 2.08}\n",
      "{'loss': 0.6456, 'grad_norm': 12.626445770263672, 'learning_rate': 3.044654939106901e-05, 'epoch': 2.13}\n",
      "{'loss': 0.6145, 'grad_norm': 10.665410995483398, 'learning_rate': 3.1123139377537215e-05, 'epoch': 2.18}\n",
      "{'loss': 0.6494, 'grad_norm': 11.917645454406738, 'learning_rate': 3.1799729364005415e-05, 'epoch': 2.22}\n",
      "{'loss': 0.5967, 'grad_norm': 14.427268981933594, 'learning_rate': 3.2476319350473615e-05, 'epoch': 2.27}\n",
      "{'loss': 0.6356, 'grad_norm': 14.22167682647705, 'learning_rate': 3.3152909336941816e-05, 'epoch': 2.32}\n",
      "{'loss': 0.6583, 'grad_norm': 15.034667015075684, 'learning_rate': 3.3829499323410016e-05, 'epoch': 2.37}\n",
      "{'loss': 0.5703, 'grad_norm': 11.716626167297363, 'learning_rate': 3.4506089309878216e-05, 'epoch': 2.41}\n",
      "{'loss': 0.5495, 'grad_norm': 8.812618255615234, 'learning_rate': 3.518267929634642e-05, 'epoch': 2.46}\n",
      "{'loss': 0.7156, 'grad_norm': 19.886188507080078, 'learning_rate': 3.585926928281462e-05, 'epoch': 2.51}\n",
      "{'loss': 0.7279, 'grad_norm': 10.014534950256348, 'learning_rate': 3.653585926928282e-05, 'epoch': 2.56}\n",
      "{'loss': 0.6629, 'grad_norm': 8.2186861038208, 'learning_rate': 3.721244925575101e-05, 'epoch': 2.6}\n",
      "{'loss': 0.6031, 'grad_norm': 11.415748596191406, 'learning_rate': 3.788903924221922e-05, 'epoch': 2.65}\n",
      "{'loss': 0.5158, 'grad_norm': 6.490344047546387, 'learning_rate': 3.856562922868742e-05, 'epoch': 2.7}\n",
      "{'loss': 0.6533, 'grad_norm': 10.63316822052002, 'learning_rate': 3.924221921515562e-05, 'epoch': 2.75}\n",
      "{'loss': 0.5501, 'grad_norm': 9.291253089904785, 'learning_rate': 3.991880920162382e-05, 'epoch': 2.79}\n",
      "{'loss': 0.5719, 'grad_norm': 10.60273551940918, 'learning_rate': 4.059539918809202e-05, 'epoch': 2.84}\n",
      "{'loss': 0.4905, 'grad_norm': 10.603645324707031, 'learning_rate': 4.127198917456021e-05, 'epoch': 2.89}\n",
      "{'loss': 0.7037, 'grad_norm': 17.47416877746582, 'learning_rate': 4.194857916102842e-05, 'epoch': 2.93}\n",
      "{'loss': 0.5815, 'grad_norm': 9.434072494506836, 'learning_rate': 4.262516914749662e-05, 'epoch': 2.98}\n"
     ]
    },
    {
     "data": {
      "application/vnd.jupyter.widget-view+json": {
       "model_id": "f8f918768193419da7667199bed34a3a",
       "version_major": 2,
       "version_minor": 0
      },
      "text/plain": [
       "  0%|          | 0/183 [00:00<?, ?it/s]"
      ]
     },
     "metadata": {},
     "output_type": "display_data"
    },
    {
     "name": "stdout",
     "output_type": "stream",
     "text": [
      "{'eval_loss': 0.3556749224662781, 'eval_accuracy': 0.8568493150684932, 'eval_runtime': 6.2074, 'eval_samples_per_second': 235.204, 'eval_steps_per_second': 29.481, 'epoch': 3.0}\n",
      "{'loss': 0.5877, 'grad_norm': 13.81190299987793, 'learning_rate': 4.330175913396482e-05, 'epoch': 3.03}\n",
      "{'loss': 0.55, 'grad_norm': 8.872483253479004, 'learning_rate': 4.397834912043302e-05, 'epoch': 3.08}\n",
      "{'loss': 0.6155, 'grad_norm': 11.748785972595215, 'learning_rate': 4.465493910690122e-05, 'epoch': 3.12}\n",
      "{'loss': 0.5907, 'grad_norm': 13.621400833129883, 'learning_rate': 4.5331529093369415e-05, 'epoch': 3.17}\n",
      "{'loss': 0.6022, 'grad_norm': 10.422270774841309, 'learning_rate': 4.600811907983762e-05, 'epoch': 3.22}\n",
      "{'loss': 0.558, 'grad_norm': 12.192015647888184, 'learning_rate': 4.668470906630582e-05, 'epoch': 3.27}\n",
      "{'loss': 0.5257, 'grad_norm': 5.769958972930908, 'learning_rate': 4.736129905277402e-05, 'epoch': 3.31}\n",
      "{'loss': 0.6242, 'grad_norm': 11.664800643920898, 'learning_rate': 4.803788903924222e-05, 'epoch': 3.36}\n",
      "{'loss': 0.5789, 'grad_norm': 10.007041931152344, 'learning_rate': 4.871447902571042e-05, 'epoch': 3.41}\n",
      "{'loss': 0.4632, 'grad_norm': 18.98644256591797, 'learning_rate': 4.9391069012178623e-05, 'epoch': 3.46}\n",
      "{'loss': 0.5657, 'grad_norm': 9.949424743652344, 'learning_rate': 4.999247667770087e-05, 'epoch': 3.5}\n",
      "{'loss': 0.4076, 'grad_norm': 7.471621513366699, 'learning_rate': 4.99172434547096e-05, 'epoch': 3.55}\n",
      "{'loss': 0.532, 'grad_norm': 9.102510452270508, 'learning_rate': 4.9842010231718327e-05, 'epoch': 3.6}\n",
      "{'loss': 0.5685, 'grad_norm': 9.587445259094238, 'learning_rate': 4.976677700872706e-05, 'epoch': 3.64}\n",
      "{'loss': 0.5004, 'grad_norm': 10.277064323425293, 'learning_rate': 4.969154378573578e-05, 'epoch': 3.69}\n",
      "{'loss': 0.5571, 'grad_norm': 15.665764808654785, 'learning_rate': 4.9616310562744514e-05, 'epoch': 3.74}\n",
      "{'loss': 0.5235, 'grad_norm': 9.643716812133789, 'learning_rate': 4.954107733975324e-05, 'epoch': 3.79}\n",
      "{'loss': 0.5579, 'grad_norm': 12.600419044494629, 'learning_rate': 4.9465844116761964e-05, 'epoch': 3.83}\n",
      "{'loss': 0.4711, 'grad_norm': 9.6210298538208, 'learning_rate': 4.939061089377069e-05, 'epoch': 3.88}\n",
      "{'loss': 0.4848, 'grad_norm': 10.485040664672852, 'learning_rate': 4.9315377670779414e-05, 'epoch': 3.93}\n",
      "{'loss': 0.474, 'grad_norm': 7.453371524810791, 'learning_rate': 4.9240144447788145e-05, 'epoch': 3.98}\n"
     ]
    },
    {
     "data": {
      "application/vnd.jupyter.widget-view+json": {
       "model_id": "b3fa9212f6084dc08ad7b48f32fb6bc5",
       "version_major": 2,
       "version_minor": 0
      },
      "text/plain": [
       "  0%|          | 0/183 [00:00<?, ?it/s]"
      ]
     },
     "metadata": {},
     "output_type": "display_data"
    },
    {
     "name": "stdout",
     "output_type": "stream",
     "text": [
      "{'eval_loss': 0.35826006531715393, 'eval_accuracy': 0.8726027397260274, 'eval_runtime': 6.1388, 'eval_samples_per_second': 237.833, 'eval_steps_per_second': 29.811, 'epoch': 4.0}\n",
      "{'loss': 0.5093, 'grad_norm': 8.34096908569336, 'learning_rate': 4.916491122479687e-05, 'epoch': 4.02}\n",
      "{'loss': 0.4608, 'grad_norm': 7.713958263397217, 'learning_rate': 4.90896780018056e-05, 'epoch': 4.07}\n",
      "{'loss': 0.4247, 'grad_norm': 9.734159469604492, 'learning_rate': 4.9014444778814326e-05, 'epoch': 4.12}\n",
      "{'loss': 0.554, 'grad_norm': 7.637202739715576, 'learning_rate': 4.893921155582306e-05, 'epoch': 4.17}\n",
      "{'loss': 0.4859, 'grad_norm': 12.172405242919922, 'learning_rate': 4.886397833283178e-05, 'epoch': 4.21}\n",
      "{'loss': 0.5068, 'grad_norm': 9.40637493133545, 'learning_rate': 4.878874510984051e-05, 'epoch': 4.26}\n",
      "{'loss': 0.4318, 'grad_norm': 5.2307209968566895, 'learning_rate': 4.871351188684923e-05, 'epoch': 4.31}\n",
      "{'loss': 0.5231, 'grad_norm': 13.809428215026855, 'learning_rate': 4.8638278663857964e-05, 'epoch': 4.36}\n",
      "{'loss': 0.4441, 'grad_norm': 9.841399192810059, 'learning_rate': 4.856304544086669e-05, 'epoch': 4.4}\n",
      "{'loss': 0.5421, 'grad_norm': 7.034471035003662, 'learning_rate': 4.8487812217875414e-05, 'epoch': 4.45}\n",
      "{'loss': 0.5084, 'grad_norm': 6.35905122756958, 'learning_rate': 4.8412578994884145e-05, 'epoch': 4.5}\n",
      "{'loss': 0.4067, 'grad_norm': 8.407711029052734, 'learning_rate': 4.833734577189287e-05, 'epoch': 4.54}\n",
      "{'loss': 0.4881, 'grad_norm': 7.5561113357543945, 'learning_rate': 4.8262112548901595e-05, 'epoch': 4.59}\n",
      "{'loss': 0.4175, 'grad_norm': 7.843471050262451, 'learning_rate': 4.818687932591032e-05, 'epoch': 4.64}\n",
      "{'loss': 0.4423, 'grad_norm': 11.301685333251953, 'learning_rate': 4.811164610291905e-05, 'epoch': 4.69}\n",
      "{'loss': 0.4525, 'grad_norm': 7.472105503082275, 'learning_rate': 4.8036412879927776e-05, 'epoch': 4.73}\n",
      "{'loss': 0.5699, 'grad_norm': 9.092314720153809, 'learning_rate': 4.796117965693651e-05, 'epoch': 4.78}\n",
      "{'loss': 0.4524, 'grad_norm': 12.238302230834961, 'learning_rate': 4.788594643394523e-05, 'epoch': 4.83}\n",
      "{'loss': 0.3866, 'grad_norm': 5.100959777832031, 'learning_rate': 4.7810713210953964e-05, 'epoch': 4.88}\n",
      "{'loss': 0.3577, 'grad_norm': 9.616569519042969, 'learning_rate': 4.773547998796269e-05, 'epoch': 4.92}\n",
      "{'loss': 0.5819, 'grad_norm': 9.995213508605957, 'learning_rate': 4.7660246764971413e-05, 'epoch': 4.97}\n"
     ]
    },
    {
     "data": {
      "application/vnd.jupyter.widget-view+json": {
       "model_id": "717573ae6e05469385d1396ad7e07a38",
       "version_major": 2,
       "version_minor": 0
      },
      "text/plain": [
       "  0%|          | 0/183 [00:00<?, ?it/s]"
      ]
     },
     "metadata": {},
     "output_type": "display_data"
    },
    {
     "name": "stdout",
     "output_type": "stream",
     "text": [
      "{'eval_loss': 0.34042322635650635, 'eval_accuracy': 0.8671232876712329, 'eval_runtime': 6.4475, 'eval_samples_per_second': 226.444, 'eval_steps_per_second': 28.383, 'epoch': 5.0}\n",
      "{'loss': 0.4182, 'grad_norm': 6.531469345092773, 'learning_rate': 4.758501354198014e-05, 'epoch': 5.02}\n",
      "{'loss': 0.4458, 'grad_norm': 11.092623710632324, 'learning_rate': 4.750978031898887e-05, 'epoch': 5.07}\n",
      "{'loss': 0.5101, 'grad_norm': 12.276275634765625, 'learning_rate': 4.7434547095997595e-05, 'epoch': 5.11}\n",
      "{'loss': 0.4708, 'grad_norm': 10.82636833190918, 'learning_rate': 4.735931387300632e-05, 'epoch': 5.16}\n",
      "{'loss': 0.5191, 'grad_norm': 9.973958015441895, 'learning_rate': 4.728408065001505e-05, 'epoch': 5.21}\n",
      "{'loss': 0.4285, 'grad_norm': 9.460865020751953, 'learning_rate': 4.7208847427023776e-05, 'epoch': 5.25}\n",
      "{'loss': 0.4579, 'grad_norm': 15.347735404968262, 'learning_rate': 4.713361420403251e-05, 'epoch': 5.3}\n",
      "{'loss': 0.4787, 'grad_norm': 14.214599609375, 'learning_rate': 4.7058380981041225e-05, 'epoch': 5.35}\n",
      "{'loss': 0.4146, 'grad_norm': 9.042417526245117, 'learning_rate': 4.698314775804996e-05, 'epoch': 5.4}\n",
      "{'loss': 0.394, 'grad_norm': 8.627814292907715, 'learning_rate': 4.690791453505868e-05, 'epoch': 5.44}\n",
      "{'loss': 0.412, 'grad_norm': 8.060114860534668, 'learning_rate': 4.683268131206741e-05, 'epoch': 5.49}\n",
      "{'loss': 0.443, 'grad_norm': 8.569971084594727, 'learning_rate': 4.675744808907614e-05, 'epoch': 5.54}\n",
      "{'loss': 0.4424, 'grad_norm': 31.7719669342041, 'learning_rate': 4.668221486608487e-05, 'epoch': 5.59}\n",
      "{'loss': 0.4072, 'grad_norm': 10.994864463806152, 'learning_rate': 4.6606981643093595e-05, 'epoch': 5.63}\n",
      "{'loss': 0.4193, 'grad_norm': 12.489917755126953, 'learning_rate': 4.653174842010232e-05, 'epoch': 5.68}\n",
      "{'loss': 0.463, 'grad_norm': 6.0672760009765625, 'learning_rate': 4.6456515197111044e-05, 'epoch': 5.73}\n",
      "{'loss': 0.3863, 'grad_norm': 9.66230297088623, 'learning_rate': 4.6381281974119776e-05, 'epoch': 5.78}\n",
      "{'loss': 0.4471, 'grad_norm': 12.802431106567383, 'learning_rate': 4.63060487511285e-05, 'epoch': 5.82}\n",
      "{'loss': 0.5186, 'grad_norm': 10.842957496643066, 'learning_rate': 4.6230815528137225e-05, 'epoch': 5.87}\n",
      "{'loss': 0.4908, 'grad_norm': 8.612702369689941, 'learning_rate': 4.615558230514596e-05, 'epoch': 5.92}\n",
      "{'loss': 0.4557, 'grad_norm': 8.768792152404785, 'learning_rate': 4.608034908215468e-05, 'epoch': 5.96}\n"
     ]
    },
    {
     "data": {
      "application/vnd.jupyter.widget-view+json": {
       "model_id": "44290b51bc7e4e6c80238515748f1295",
       "version_major": 2,
       "version_minor": 0
      },
      "text/plain": [
       "  0%|          | 0/183 [00:00<?, ?it/s]"
      ]
     },
     "metadata": {},
     "output_type": "display_data"
    },
    {
     "name": "stdout",
     "output_type": "stream",
     "text": [
      "{'eval_loss': 0.2699526846408844, 'eval_accuracy': 0.8993150684931507, 'eval_runtime': 6.396, 'eval_samples_per_second': 228.266, 'eval_steps_per_second': 28.611, 'epoch': 6.0}\n",
      "{'loss': 0.4647, 'grad_norm': 6.778576374053955, 'learning_rate': 4.600511585916341e-05, 'epoch': 6.01}\n",
      "{'loss': 0.4053, 'grad_norm': 5.115172863006592, 'learning_rate': 4.592988263617213e-05, 'epoch': 6.06}\n",
      "{'loss': 0.4136, 'grad_norm': 7.163010120391846, 'learning_rate': 4.585464941318086e-05, 'epoch': 6.11}\n",
      "{'loss': 0.4233, 'grad_norm': 5.242615699768066, 'learning_rate': 4.577941619018959e-05, 'epoch': 6.15}\n",
      "{'loss': 0.3791, 'grad_norm': 7.148778915405273, 'learning_rate': 4.570418296719832e-05, 'epoch': 6.2}\n",
      "{'loss': 0.3933, 'grad_norm': 6.911210060119629, 'learning_rate': 4.5628949744207044e-05, 'epoch': 6.25}\n",
      "{'loss': 0.428, 'grad_norm': 7.753135681152344, 'learning_rate': 4.5553716521215776e-05, 'epoch': 6.3}\n",
      "{'loss': 0.4668, 'grad_norm': 5.933778762817383, 'learning_rate': 4.54784832982245e-05, 'epoch': 6.34}\n",
      "{'loss': 0.3272, 'grad_norm': 7.8352556228637695, 'learning_rate': 4.5403250075233225e-05, 'epoch': 6.39}\n",
      "{'loss': 0.3954, 'grad_norm': 11.419840812683105, 'learning_rate': 4.532801685224195e-05, 'epoch': 6.44}\n",
      "{'loss': 0.5153, 'grad_norm': 9.681208610534668, 'learning_rate': 4.5252783629250675e-05, 'epoch': 6.49}\n",
      "{'loss': 0.4247, 'grad_norm': 6.971587657928467, 'learning_rate': 4.5177550406259406e-05, 'epoch': 6.53}\n",
      "{'loss': 0.4618, 'grad_norm': 6.286644458770752, 'learning_rate': 4.510231718326813e-05, 'epoch': 6.58}\n",
      "{'loss': 0.4352, 'grad_norm': 11.171966552734375, 'learning_rate': 4.502708396027686e-05, 'epoch': 6.63}\n",
      "{'loss': 0.3841, 'grad_norm': 10.539188385009766, 'learning_rate': 4.495185073728559e-05, 'epoch': 6.67}\n",
      "{'loss': 0.3388, 'grad_norm': 5.127812385559082, 'learning_rate': 4.487661751429432e-05, 'epoch': 6.72}\n",
      "{'loss': 0.4024, 'grad_norm': 10.178089141845703, 'learning_rate': 4.480138429130304e-05, 'epoch': 6.77}\n",
      "{'loss': 0.4173, 'grad_norm': 5.93577766418457, 'learning_rate': 4.472615106831177e-05, 'epoch': 6.82}\n",
      "{'loss': 0.3462, 'grad_norm': 5.2099609375, 'learning_rate': 4.4650917845320493e-05, 'epoch': 6.86}\n",
      "{'loss': 0.4034, 'grad_norm': 7.551539897918701, 'learning_rate': 4.4575684622329225e-05, 'epoch': 6.91}\n",
      "{'loss': 0.4021, 'grad_norm': 10.478506088256836, 'learning_rate': 4.450045139933795e-05, 'epoch': 6.96}\n"
     ]
    },
    {
     "data": {
      "application/vnd.jupyter.widget-view+json": {
       "model_id": "192572c872e0465d84ca91d706313b98",
       "version_major": 2,
       "version_minor": 0
      },
      "text/plain": [
       "  0%|          | 0/183 [00:00<?, ?it/s]"
      ]
     },
     "metadata": {},
     "output_type": "display_data"
    },
    {
     "name": "stdout",
     "output_type": "stream",
     "text": [
      "{'eval_loss': 0.3158508837223053, 'eval_accuracy': 0.8917808219178082, 'eval_runtime': 6.1877, 'eval_samples_per_second': 235.95, 'eval_steps_per_second': 29.575, 'epoch': 7.0}\n",
      "{'loss': 0.3283, 'grad_norm': 10.892561912536621, 'learning_rate': 4.4425218176346675e-05, 'epoch': 7.01}\n",
      "{'loss': 0.4517, 'grad_norm': 8.013442993164062, 'learning_rate': 4.4349984953355406e-05, 'epoch': 7.05}\n",
      "{'loss': 0.4099, 'grad_norm': 6.160177230834961, 'learning_rate': 4.427475173036413e-05, 'epoch': 7.1}\n",
      "{'loss': 0.4019, 'grad_norm': 8.48135757446289, 'learning_rate': 4.4199518507372856e-05, 'epoch': 7.15}\n",
      "{'loss': 0.3329, 'grad_norm': 10.302865982055664, 'learning_rate': 4.412428528438158e-05, 'epoch': 7.2}\n",
      "{'loss': 0.394, 'grad_norm': 10.503307342529297, 'learning_rate': 4.404905206139031e-05, 'epoch': 7.24}\n",
      "{'loss': 0.4075, 'grad_norm': 7.577216148376465, 'learning_rate': 4.397381883839904e-05, 'epoch': 7.29}\n",
      "{'loss': 0.3919, 'grad_norm': 12.196857452392578, 'learning_rate': 4.389858561540777e-05, 'epoch': 7.34}\n",
      "{'loss': 0.3562, 'grad_norm': 6.480340003967285, 'learning_rate': 4.382335239241649e-05, 'epoch': 7.38}\n",
      "{'loss': 0.3232, 'grad_norm': 4.814269542694092, 'learning_rate': 4.3748119169425225e-05, 'epoch': 7.43}\n",
      "{'loss': 0.3947, 'grad_norm': 8.813551902770996, 'learning_rate': 4.367288594643394e-05, 'epoch': 7.48}\n",
      "{'loss': 0.4059, 'grad_norm': 10.225379943847656, 'learning_rate': 4.3597652723442675e-05, 'epoch': 7.53}\n",
      "{'loss': 0.3371, 'grad_norm': 9.415613174438477, 'learning_rate': 4.35224195004514e-05, 'epoch': 7.57}\n",
      "{'loss': 0.3652, 'grad_norm': 6.129647731781006, 'learning_rate': 4.344718627746013e-05, 'epoch': 7.62}\n",
      "{'loss': 0.3562, 'grad_norm': 9.19030475616455, 'learning_rate': 4.3371953054468856e-05, 'epoch': 7.67}\n",
      "{'loss': 0.3804, 'grad_norm': 12.973560333251953, 'learning_rate': 4.329671983147758e-05, 'epoch': 7.72}\n",
      "{'loss': 0.3808, 'grad_norm': 7.263617515563965, 'learning_rate': 4.322148660848631e-05, 'epoch': 7.76}\n",
      "{'loss': 0.468, 'grad_norm': 6.532052516937256, 'learning_rate': 4.314625338549504e-05, 'epoch': 7.81}\n",
      "{'loss': 0.4145, 'grad_norm': 8.766283988952637, 'learning_rate': 4.307102016250376e-05, 'epoch': 7.86}\n",
      "{'loss': 0.4047, 'grad_norm': 5.956889629364014, 'learning_rate': 4.2995786939512487e-05, 'epoch': 7.91}\n",
      "{'loss': 0.3396, 'grad_norm': 6.531178951263428, 'learning_rate': 4.292055371652122e-05, 'epoch': 7.95}\n",
      "{'loss': 0.3209, 'grad_norm': 8.662644386291504, 'learning_rate': 4.284532049352994e-05, 'epoch': 8.0}\n"
     ]
    },
    {
     "data": {
      "application/vnd.jupyter.widget-view+json": {
       "model_id": "cce740be90a74e5db3340370b5a43e31",
       "version_major": 2,
       "version_minor": 0
      },
      "text/plain": [
       "  0%|          | 0/183 [00:00<?, ?it/s]"
      ]
     },
     "metadata": {},
     "output_type": "display_data"
    },
    {
     "name": "stdout",
     "output_type": "stream",
     "text": [
      "{'eval_loss': 0.3082219660282135, 'eval_accuracy': 0.8972602739726028, 'eval_runtime': 6.2922, 'eval_samples_per_second': 232.034, 'eval_steps_per_second': 29.084, 'epoch': 8.0}\n",
      "{'loss': 0.3262, 'grad_norm': 12.477700233459473, 'learning_rate': 4.2770087270538674e-05, 'epoch': 8.05}\n",
      "{'loss': 0.3579, 'grad_norm': 6.367954730987549, 'learning_rate': 4.26948540475474e-05, 'epoch': 8.09}\n",
      "{'loss': 0.3993, 'grad_norm': 7.339391708374023, 'learning_rate': 4.261962082455613e-05, 'epoch': 8.14}\n",
      "{'loss': 0.3702, 'grad_norm': 7.060799598693848, 'learning_rate': 4.2544387601564856e-05, 'epoch': 8.19}\n",
      "{'loss': 0.4548, 'grad_norm': 7.423877239227295, 'learning_rate': 4.246915437857358e-05, 'epoch': 8.24}\n",
      "{'loss': 0.3914, 'grad_norm': 7.742123603820801, 'learning_rate': 4.2393921155582305e-05, 'epoch': 8.28}\n",
      "{'loss': 0.3953, 'grad_norm': 3.941162109375, 'learning_rate': 4.231868793259104e-05, 'epoch': 8.33}\n",
      "{'loss': 0.3871, 'grad_norm': 7.15812349319458, 'learning_rate': 4.224345470959976e-05, 'epoch': 8.38}\n",
      "{'loss': 0.3919, 'grad_norm': 11.954395294189453, 'learning_rate': 4.2168221486608486e-05, 'epoch': 8.43}\n",
      "{'loss': 0.3539, 'grad_norm': 7.049565315246582, 'learning_rate': 4.209298826361722e-05, 'epoch': 8.47}\n",
      "{'loss': 0.3883, 'grad_norm': 8.527347564697266, 'learning_rate': 4.201775504062594e-05, 'epoch': 8.52}\n",
      "{'loss': 0.4226, 'grad_norm': 9.178783416748047, 'learning_rate': 4.194252181763467e-05, 'epoch': 8.57}\n",
      "{'loss': 0.3773, 'grad_norm': 10.065650939941406, 'learning_rate': 4.186728859464339e-05, 'epoch': 8.62}\n",
      "{'loss': 0.3921, 'grad_norm': 5.588104724884033, 'learning_rate': 4.1792055371652124e-05, 'epoch': 8.66}\n",
      "{'loss': 0.3483, 'grad_norm': 4.505855083465576, 'learning_rate': 4.171682214866085e-05, 'epoch': 8.71}\n",
      "{'loss': 0.3312, 'grad_norm': 10.081398963928223, 'learning_rate': 4.164158892566958e-05, 'epoch': 8.76}\n",
      "{'loss': 0.2838, 'grad_norm': 7.667760848999023, 'learning_rate': 4.1566355702678305e-05, 'epoch': 8.8}\n",
      "{'loss': 0.4328, 'grad_norm': 11.876665115356445, 'learning_rate': 4.149112247968704e-05, 'epoch': 8.85}\n",
      "{'loss': 0.4616, 'grad_norm': 7.79551887512207, 'learning_rate': 4.141588925669576e-05, 'epoch': 8.9}\n",
      "{'loss': 0.3389, 'grad_norm': 6.006857395172119, 'learning_rate': 4.1340656033704486e-05, 'epoch': 8.95}\n",
      "{'loss': 0.3479, 'grad_norm': 9.194988250732422, 'learning_rate': 4.126542281071321e-05, 'epoch': 8.99}\n"
     ]
    },
    {
     "data": {
      "application/vnd.jupyter.widget-view+json": {
       "model_id": "503a79ee153c472299d8a2e4371bbe0d",
       "version_major": 2,
       "version_minor": 0
      },
      "text/plain": [
       "  0%|          | 0/183 [00:00<?, ?it/s]"
      ]
     },
     "metadata": {},
     "output_type": "display_data"
    },
    {
     "name": "stdout",
     "output_type": "stream",
     "text": [
      "{'eval_loss': 0.28129294514656067, 'eval_accuracy': 0.9027397260273973, 'eval_runtime': 6.217, 'eval_samples_per_second': 234.84, 'eval_steps_per_second': 29.435, 'epoch': 9.0}\n",
      "{'loss': 0.3223, 'grad_norm': 7.2297163009643555, 'learning_rate': 4.1190189587721936e-05, 'epoch': 9.04}\n",
      "{'loss': 0.3681, 'grad_norm': 9.67817211151123, 'learning_rate': 4.111495636473067e-05, 'epoch': 9.09}\n",
      "{'loss': 0.351, 'grad_norm': 6.748856544494629, 'learning_rate': 4.103972314173939e-05, 'epoch': 9.14}\n",
      "{'loss': 0.39, 'grad_norm': 3.9139935970306396, 'learning_rate': 4.0964489918748124e-05, 'epoch': 9.18}\n",
      "{'loss': 0.3132, 'grad_norm': 5.222900390625, 'learning_rate': 4.088925669575685e-05, 'epoch': 9.23}\n",
      "{'loss': 0.3373, 'grad_norm': 11.637986183166504, 'learning_rate': 4.081402347276558e-05, 'epoch': 9.28}\n",
      "{'loss': 0.3424, 'grad_norm': 10.712813377380371, 'learning_rate': 4.07387902497743e-05, 'epoch': 9.33}\n",
      "{'loss': 0.3709, 'grad_norm': 7.3563947677612305, 'learning_rate': 4.066355702678303e-05, 'epoch': 9.37}\n",
      "{'loss': 0.3398, 'grad_norm': 8.500737190246582, 'learning_rate': 4.0588323803791755e-05, 'epoch': 9.42}\n",
      "{'loss': 0.308, 'grad_norm': 10.802979469299316, 'learning_rate': 4.0513090580800486e-05, 'epoch': 9.47}\n",
      "{'loss': 0.3193, 'grad_norm': 7.362417697906494, 'learning_rate': 4.043785735780921e-05, 'epoch': 9.51}\n",
      "{'loss': 0.3028, 'grad_norm': 5.569155693054199, 'learning_rate': 4.0362624134817936e-05, 'epoch': 9.56}\n",
      "{'loss': 0.4206, 'grad_norm': 8.995447158813477, 'learning_rate': 4.028739091182667e-05, 'epoch': 9.61}\n",
      "{'loss': 0.2987, 'grad_norm': 5.864706993103027, 'learning_rate': 4.021215768883539e-05, 'epoch': 9.66}\n",
      "{'loss': 0.4161, 'grad_norm': 8.34255313873291, 'learning_rate': 4.013692446584412e-05, 'epoch': 9.7}\n",
      "{'loss': 0.4073, 'grad_norm': 8.392521858215332, 'learning_rate': 4.006169124285284e-05, 'epoch': 9.75}\n",
      "{'loss': 0.3513, 'grad_norm': 6.388725280761719, 'learning_rate': 3.998645801986157e-05, 'epoch': 9.8}\n",
      "{'loss': 0.3219, 'grad_norm': 5.696859836578369, 'learning_rate': 3.99112247968703e-05, 'epoch': 9.85}\n",
      "{'loss': 0.394, 'grad_norm': 8.325499534606934, 'learning_rate': 3.983599157387903e-05, 'epoch': 9.89}\n",
      "{'loss': 0.4085, 'grad_norm': 11.819910049438477, 'learning_rate': 3.9760758350887755e-05, 'epoch': 9.94}\n",
      "{'loss': 0.3429, 'grad_norm': 6.419707298278809, 'learning_rate': 3.9685525127896486e-05, 'epoch': 9.99}\n"
     ]
    },
    {
     "data": {
      "application/vnd.jupyter.widget-view+json": {
       "model_id": "0cafbc4186eb4cbfb3b4c8c2dcc55296",
       "version_major": 2,
       "version_minor": 0
      },
      "text/plain": [
       "  0%|          | 0/183 [00:00<?, ?it/s]"
      ]
     },
     "metadata": {},
     "output_type": "display_data"
    },
    {
     "name": "stdout",
     "output_type": "stream",
     "text": [
      "{'eval_loss': 0.3318786323070526, 'eval_accuracy': 0.8924657534246575, 'eval_runtime': 6.1733, 'eval_samples_per_second': 236.501, 'eval_steps_per_second': 29.644, 'epoch': 10.0}\n",
      "{'loss': 0.2607, 'grad_norm': 4.879507064819336, 'learning_rate': 3.9610291904905204e-05, 'epoch': 10.04}\n",
      "{'loss': 0.3887, 'grad_norm': 10.089688301086426, 'learning_rate': 3.9535058681913936e-05, 'epoch': 10.08}\n",
      "{'loss': 0.3926, 'grad_norm': 6.6358819007873535, 'learning_rate': 3.945982545892266e-05, 'epoch': 10.13}\n",
      "{'loss': 0.2977, 'grad_norm': 4.718569755554199, 'learning_rate': 3.938459223593139e-05, 'epoch': 10.18}\n",
      "{'loss': 0.3167, 'grad_norm': 4.798628807067871, 'learning_rate': 3.930935901294012e-05, 'epoch': 10.22}\n",
      "{'loss': 0.3498, 'grad_norm': 12.527241706848145, 'learning_rate': 3.923412578994884e-05, 'epoch': 10.27}\n",
      "{'loss': 0.3791, 'grad_norm': 19.981807708740234, 'learning_rate': 3.915889256695757e-05, 'epoch': 10.32}\n",
      "{'loss': 0.3635, 'grad_norm': 5.31036901473999, 'learning_rate': 3.90836593439663e-05, 'epoch': 10.37}\n",
      "{'loss': 0.2612, 'grad_norm': 7.329598426818848, 'learning_rate': 3.900842612097502e-05, 'epoch': 10.41}\n",
      "{'loss': 0.3508, 'grad_norm': 10.241847038269043, 'learning_rate': 3.893319289798375e-05, 'epoch': 10.46}\n",
      "{'loss': 0.4113, 'grad_norm': 9.222640991210938, 'learning_rate': 3.885795967499248e-05, 'epoch': 10.51}\n",
      "{'loss': 0.312, 'grad_norm': 5.4523115158081055, 'learning_rate': 3.8782726452001204e-05, 'epoch': 10.56}\n",
      "{'loss': 0.382, 'grad_norm': 25.376020431518555, 'learning_rate': 3.8707493229009936e-05, 'epoch': 10.6}\n",
      "{'loss': 0.3078, 'grad_norm': 7.494572162628174, 'learning_rate': 3.863226000601866e-05, 'epoch': 10.65}\n",
      "{'loss': 0.3368, 'grad_norm': 9.24726390838623, 'learning_rate': 3.855702678302739e-05, 'epoch': 10.7}\n",
      "{'loss': 0.2912, 'grad_norm': 7.74558162689209, 'learning_rate': 3.848179356003611e-05, 'epoch': 10.75}\n",
      "{'loss': 0.3268, 'grad_norm': 7.557544708251953, 'learning_rate': 3.840656033704484e-05, 'epoch': 10.79}\n",
      "{'loss': 0.4372, 'grad_norm': 9.215229988098145, 'learning_rate': 3.8331327114053566e-05, 'epoch': 10.84}\n",
      "{'loss': 0.3564, 'grad_norm': 9.268451690673828, 'learning_rate': 3.82560938910623e-05, 'epoch': 10.89}\n",
      "{'loss': 0.3003, 'grad_norm': 4.07456111907959, 'learning_rate': 3.818086066807102e-05, 'epoch': 10.93}\n",
      "{'loss': 0.3341, 'grad_norm': 8.930679321289062, 'learning_rate': 3.810562744507975e-05, 'epoch': 10.98}\n"
     ]
    },
    {
     "data": {
      "application/vnd.jupyter.widget-view+json": {
       "model_id": "d4c30c1f29e04fb99dd09bcde8f99341",
       "version_major": 2,
       "version_minor": 0
      },
      "text/plain": [
       "  0%|          | 0/183 [00:00<?, ?it/s]"
      ]
     },
     "metadata": {},
     "output_type": "display_data"
    },
    {
     "name": "stdout",
     "output_type": "stream",
     "text": [
      "{'eval_loss': 0.2900165021419525, 'eval_accuracy': 0.8972602739726028, 'eval_runtime': 6.2027, 'eval_samples_per_second': 235.379, 'eval_steps_per_second': 29.503, 'epoch': 11.0}\n",
      "{'loss': 0.3134, 'grad_norm': 7.869425296783447, 'learning_rate': 3.803039422208848e-05, 'epoch': 11.03}\n",
      "{'loss': 0.3465, 'grad_norm': 8.941612243652344, 'learning_rate': 3.7955160999097204e-05, 'epoch': 11.08}\n",
      "{'loss': 0.2489, 'grad_norm': 8.30190372467041, 'learning_rate': 3.787992777610593e-05, 'epoch': 11.12}\n",
      "{'loss': 0.326, 'grad_norm': 8.490402221679688, 'learning_rate': 3.7804694553114653e-05, 'epoch': 11.17}\n",
      "{'loss': 0.3444, 'grad_norm': 19.662193298339844, 'learning_rate': 3.7729461330123385e-05, 'epoch': 11.22}\n",
      "{'loss': 0.3185, 'grad_norm': 9.445649147033691, 'learning_rate': 3.765422810713211e-05, 'epoch': 11.27}\n",
      "{'loss': 0.3665, 'grad_norm': 4.701760292053223, 'learning_rate': 3.757899488414084e-05, 'epoch': 11.31}\n",
      "{'loss': 0.2736, 'grad_norm': 5.095606327056885, 'learning_rate': 3.7503761661149566e-05, 'epoch': 11.36}\n",
      "{'loss': 0.2966, 'grad_norm': 10.870713233947754, 'learning_rate': 3.74285284381583e-05, 'epoch': 11.41}\n",
      "{'loss': 0.2624, 'grad_norm': 6.850511074066162, 'learning_rate': 3.7353295215167016e-05, 'epoch': 11.46}\n",
      "{'loss': 0.3767, 'grad_norm': 10.627695083618164, 'learning_rate': 3.727806199217575e-05, 'epoch': 11.5}\n",
      "{'loss': 0.3127, 'grad_norm': 8.704399108886719, 'learning_rate': 3.720282876918447e-05, 'epoch': 11.55}\n",
      "{'loss': 0.3015, 'grad_norm': 7.4766716957092285, 'learning_rate': 3.71275955461932e-05, 'epoch': 11.6}\n",
      "{'loss': 0.3406, 'grad_norm': 8.510762214660645, 'learning_rate': 3.705236232320193e-05, 'epoch': 11.64}\n",
      "{'loss': 0.3085, 'grad_norm': 9.42719841003418, 'learning_rate': 3.697712910021065e-05, 'epoch': 11.69}\n",
      "{'loss': 0.3426, 'grad_norm': 6.386455535888672, 'learning_rate': 3.6901895877219385e-05, 'epoch': 11.74}\n",
      "{'loss': 0.3567, 'grad_norm': 7.612992286682129, 'learning_rate': 3.682666265422811e-05, 'epoch': 11.79}\n",
      "{'loss': 0.3288, 'grad_norm': 8.440069198608398, 'learning_rate': 3.6751429431236835e-05, 'epoch': 11.83}\n",
      "{'loss': 0.3253, 'grad_norm': 7.730615615844727, 'learning_rate': 3.667619620824556e-05, 'epoch': 11.88}\n",
      "{'loss': 0.306, 'grad_norm': 7.29069185256958, 'learning_rate': 3.660096298525429e-05, 'epoch': 11.93}\n",
      "{'loss': 0.2937, 'grad_norm': 8.983368873596191, 'learning_rate': 3.6525729762263016e-05, 'epoch': 11.98}\n"
     ]
    },
    {
     "data": {
      "application/vnd.jupyter.widget-view+json": {
       "model_id": "ff3ce67fa7064b3ba5c69d785c86abc3",
       "version_major": 2,
       "version_minor": 0
      },
      "text/plain": [
       "  0%|          | 0/183 [00:00<?, ?it/s]"
      ]
     },
     "metadata": {},
     "output_type": "display_data"
    },
    {
     "name": "stdout",
     "output_type": "stream",
     "text": [
      "{'eval_loss': 0.3500230312347412, 'eval_accuracy': 0.8993150684931507, 'eval_runtime': 6.3178, 'eval_samples_per_second': 231.093, 'eval_steps_per_second': 28.966, 'epoch': 12.0}\n",
      "{'loss': 0.3998, 'grad_norm': 6.368637561798096, 'learning_rate': 3.645049653927175e-05, 'epoch': 12.02}\n",
      "{'loss': 0.324, 'grad_norm': 14.744524955749512, 'learning_rate': 3.637526331628047e-05, 'epoch': 12.07}\n",
      "{'loss': 0.3538, 'grad_norm': 4.304303169250488, 'learning_rate': 3.63000300932892e-05, 'epoch': 12.12}\n",
      "{'loss': 0.3422, 'grad_norm': 11.705492973327637, 'learning_rate': 3.622479687029793e-05, 'epoch': 12.17}\n",
      "{'loss': 0.2732, 'grad_norm': 9.357977867126465, 'learning_rate': 3.614956364730665e-05, 'epoch': 12.21}\n",
      "{'loss': 0.4473, 'grad_norm': 12.46599006652832, 'learning_rate': 3.607433042431538e-05, 'epoch': 12.26}\n",
      "{'loss': 0.2837, 'grad_norm': 20.074487686157227, 'learning_rate': 3.59990972013241e-05, 'epoch': 12.31}\n",
      "{'loss': 0.3035, 'grad_norm': 4.281162738800049, 'learning_rate': 3.5923863978332834e-05, 'epoch': 12.36}\n",
      "{'loss': 0.2636, 'grad_norm': 10.390352249145508, 'learning_rate': 3.584863075534156e-05, 'epoch': 12.4}\n",
      "{'loss': 0.3388, 'grad_norm': 3.76784348487854, 'learning_rate': 3.577339753235029e-05, 'epoch': 12.45}\n",
      "{'loss': 0.2947, 'grad_norm': 9.673295021057129, 'learning_rate': 3.5698164309359016e-05, 'epoch': 12.5}\n",
      "{'loss': 0.3453, 'grad_norm': 6.6694722175598145, 'learning_rate': 3.562293108636774e-05, 'epoch': 12.54}\n",
      "{'loss': 0.3383, 'grad_norm': 7.178610324859619, 'learning_rate': 3.5547697863376465e-05, 'epoch': 12.59}\n",
      "{'loss': 0.3222, 'grad_norm': 10.715120315551758, 'learning_rate': 3.54724646403852e-05, 'epoch': 12.64}\n",
      "{'loss': 0.3521, 'grad_norm': 6.3047285079956055, 'learning_rate': 3.539723141739392e-05, 'epoch': 12.69}\n",
      "{'loss': 0.2904, 'grad_norm': 6.073225021362305, 'learning_rate': 3.532199819440265e-05, 'epoch': 12.73}\n",
      "{'loss': 0.3764, 'grad_norm': 9.05847454071045, 'learning_rate': 3.524676497141138e-05, 'epoch': 12.78}\n",
      "{'loss': 0.3159, 'grad_norm': 6.264795303344727, 'learning_rate': 3.51715317484201e-05, 'epoch': 12.83}\n",
      "{'loss': 0.2996, 'grad_norm': 7.125365257263184, 'learning_rate': 3.5096298525428834e-05, 'epoch': 12.88}\n",
      "{'loss': 0.3283, 'grad_norm': 9.880492210388184, 'learning_rate': 3.502106530243755e-05, 'epoch': 12.92}\n",
      "{'loss': 0.3478, 'grad_norm': 14.802063941955566, 'learning_rate': 3.4945832079446284e-05, 'epoch': 12.97}\n"
     ]
    },
    {
     "data": {
      "application/vnd.jupyter.widget-view+json": {
       "model_id": "3d3a2d00055947629988288d7d56e7d5",
       "version_major": 2,
       "version_minor": 0
      },
      "text/plain": [
       "  0%|          | 0/183 [00:00<?, ?it/s]"
      ]
     },
     "metadata": {},
     "output_type": "display_data"
    },
    {
     "name": "stdout",
     "output_type": "stream",
     "text": [
      "{'eval_loss': 0.3168272078037262, 'eval_accuracy': 0.9013698630136986, 'eval_runtime': 6.174, 'eval_samples_per_second': 236.475, 'eval_steps_per_second': 29.64, 'epoch': 13.0}\n",
      "{'loss': 0.2884, 'grad_norm': 9.61425495147705, 'learning_rate': 3.487059885645501e-05, 'epoch': 13.02}\n",
      "{'loss': 0.3732, 'grad_norm': 7.737671375274658, 'learning_rate': 3.479536563346374e-05, 'epoch': 13.07}\n",
      "{'loss': 0.2859, 'grad_norm': 7.558273792266846, 'learning_rate': 3.4720132410472465e-05, 'epoch': 13.11}\n",
      "{'loss': 0.2986, 'grad_norm': 7.560544013977051, 'learning_rate': 3.46448991874812e-05, 'epoch': 13.16}\n",
      "{'loss': 0.291, 'grad_norm': 7.7973480224609375, 'learning_rate': 3.456966596448992e-05, 'epoch': 13.21}\n",
      "{'loss': 0.3669, 'grad_norm': 9.302266120910645, 'learning_rate': 3.449443274149865e-05, 'epoch': 13.25}\n",
      "{'loss': 0.293, 'grad_norm': 5.183737277984619, 'learning_rate': 3.441919951850737e-05, 'epoch': 13.3}\n",
      "{'loss': 0.2944, 'grad_norm': 6.064436912536621, 'learning_rate': 3.43439662955161e-05, 'epoch': 13.35}\n",
      "{'loss': 0.3103, 'grad_norm': 9.409137725830078, 'learning_rate': 3.426873307252483e-05, 'epoch': 13.4}\n",
      "{'loss': 0.2879, 'grad_norm': 20.371089935302734, 'learning_rate': 3.419349984953356e-05, 'epoch': 13.44}\n",
      "{'loss': 0.2959, 'grad_norm': 9.97218132019043, 'learning_rate': 3.4118266626542284e-05, 'epoch': 13.49}\n",
      "{'loss': 0.2929, 'grad_norm': 7.915639400482178, 'learning_rate': 3.404303340355101e-05, 'epoch': 13.54}\n",
      "{'loss': 0.2773, 'grad_norm': 6.3162641525268555, 'learning_rate': 3.396780018055974e-05, 'epoch': 13.59}\n",
      "{'loss': 0.2795, 'grad_norm': 7.813812732696533, 'learning_rate': 3.389256695756846e-05, 'epoch': 13.63}\n",
      "{'loss': 0.3648, 'grad_norm': 13.80722427368164, 'learning_rate': 3.381733373457719e-05, 'epoch': 13.68}\n",
      "{'loss': 0.2952, 'grad_norm': 9.83273696899414, 'learning_rate': 3.3742100511585915e-05, 'epoch': 13.73}\n",
      "{'loss': 0.269, 'grad_norm': 10.903112411499023, 'learning_rate': 3.3666867288594646e-05, 'epoch': 13.78}\n",
      "{'loss': 0.3689, 'grad_norm': 4.992847919464111, 'learning_rate': 3.359163406560337e-05, 'epoch': 13.82}\n",
      "{'loss': 0.3296, 'grad_norm': 7.029762268066406, 'learning_rate': 3.35164008426121e-05, 'epoch': 13.87}\n",
      "{'loss': 0.2764, 'grad_norm': 15.533370018005371, 'learning_rate': 3.344116761962083e-05, 'epoch': 13.92}\n",
      "{'loss': 0.3148, 'grad_norm': 14.553123474121094, 'learning_rate': 3.336593439662956e-05, 'epoch': 13.96}\n"
     ]
    },
    {
     "data": {
      "application/vnd.jupyter.widget-view+json": {
       "model_id": "fab98bc86d27411886a9bf3334686474",
       "version_major": 2,
       "version_minor": 0
      },
      "text/plain": [
       "  0%|          | 0/183 [00:00<?, ?it/s]"
      ]
     },
     "metadata": {},
     "output_type": "display_data"
    },
    {
     "name": "stdout",
     "output_type": "stream",
     "text": [
      "{'eval_loss': 0.3071611225605011, 'eval_accuracy': 0.9054794520547945, 'eval_runtime': 6.0563, 'eval_samples_per_second': 241.071, 'eval_steps_per_second': 30.216, 'epoch': 14.0}\n",
      "{'loss': 0.3318, 'grad_norm': 6.9089035987854, 'learning_rate': 3.329070117363828e-05, 'epoch': 14.01}\n",
      "{'loss': 0.2537, 'grad_norm': 7.897435665130615, 'learning_rate': 3.321546795064701e-05, 'epoch': 14.06}\n",
      "{'loss': 0.2685, 'grad_norm': 12.082826614379883, 'learning_rate': 3.314023472765573e-05, 'epoch': 14.11}\n",
      "{'loss': 0.3849, 'grad_norm': 8.465901374816895, 'learning_rate': 3.306500150466446e-05, 'epoch': 14.15}\n",
      "{'loss': 0.3219, 'grad_norm': 9.606731414794922, 'learning_rate': 3.298976828167319e-05, 'epoch': 14.2}\n",
      "{'loss': 0.2798, 'grad_norm': 5.763510704040527, 'learning_rate': 3.2914535058681914e-05, 'epoch': 14.25}\n",
      "{'loss': 0.353, 'grad_norm': 7.898010730743408, 'learning_rate': 3.2839301835690646e-05, 'epoch': 14.3}\n",
      "{'loss': 0.3145, 'grad_norm': 4.139184951782227, 'learning_rate': 3.276406861269937e-05, 'epoch': 14.34}\n",
      "{'loss': 0.2997, 'grad_norm': 10.472068786621094, 'learning_rate': 3.2688835389708096e-05, 'epoch': 14.39}\n",
      "{'loss': 0.2931, 'grad_norm': 6.952048301696777, 'learning_rate': 3.261360216671682e-05, 'epoch': 14.44}\n",
      "{'loss': 0.2891, 'grad_norm': 11.008207321166992, 'learning_rate': 3.253836894372555e-05, 'epoch': 14.49}\n",
      "{'loss': 0.2922, 'grad_norm': 4.314377784729004, 'learning_rate': 3.246313572073428e-05, 'epoch': 14.53}\n",
      "{'loss': 0.2226, 'grad_norm': 6.738071441650391, 'learning_rate': 3.238790249774301e-05, 'epoch': 14.58}\n",
      "{'loss': 0.2366, 'grad_norm': 5.609333038330078, 'learning_rate': 3.231266927475173e-05, 'epoch': 14.63}\n",
      "{'loss': 0.32, 'grad_norm': 5.399454116821289, 'learning_rate': 3.223743605176046e-05, 'epoch': 14.67}\n",
      "{'loss': 0.3652, 'grad_norm': 13.962152481079102, 'learning_rate': 3.216220282876918e-05, 'epoch': 14.72}\n",
      "{'loss': 0.2513, 'grad_norm': 8.14931869506836, 'learning_rate': 3.2086969605777914e-05, 'epoch': 14.77}\n",
      "{'loss': 0.3068, 'grad_norm': 6.72014045715332, 'learning_rate': 3.201173638278664e-05, 'epoch': 14.82}\n",
      "{'loss': 0.2845, 'grad_norm': 9.025717735290527, 'learning_rate': 3.1936503159795364e-05, 'epoch': 14.86}\n",
      "{'loss': 0.2868, 'grad_norm': 3.6108787059783936, 'learning_rate': 3.1861269936804096e-05, 'epoch': 14.91}\n",
      "{'loss': 0.2896, 'grad_norm': 12.648404121398926, 'learning_rate': 3.178603671381282e-05, 'epoch': 14.96}\n"
     ]
    },
    {
     "data": {
      "application/vnd.jupyter.widget-view+json": {
       "model_id": "34c9c4ab726b4b60938e9346df82a574",
       "version_major": 2,
       "version_minor": 0
      },
      "text/plain": [
       "  0%|          | 0/183 [00:00<?, ?it/s]"
      ]
     },
     "metadata": {},
     "output_type": "display_data"
    },
    {
     "name": "stdout",
     "output_type": "stream",
     "text": [
      "{'eval_loss': 0.30652791261672974, 'eval_accuracy': 0.9061643835616439, 'eval_runtime': 6.136, 'eval_samples_per_second': 237.938, 'eval_steps_per_second': 29.824, 'epoch': 15.0}\n",
      "{'loss': 0.3452, 'grad_norm': 5.476109027862549, 'learning_rate': 3.171080349082155e-05, 'epoch': 15.01}\n",
      "{'loss': 0.2456, 'grad_norm': 8.330878257751465, 'learning_rate': 3.163557026783028e-05, 'epoch': 15.05}\n",
      "{'loss': 0.2296, 'grad_norm': 8.56313705444336, 'learning_rate': 3.1560337044839e-05, 'epoch': 15.1}\n",
      "{'loss': 0.2862, 'grad_norm': 10.402885437011719, 'learning_rate': 3.1485103821847726e-05, 'epoch': 15.15}\n",
      "{'loss': 0.3389, 'grad_norm': 7.497808933258057, 'learning_rate': 3.140987059885646e-05, 'epoch': 15.2}\n",
      "{'loss': 0.2575, 'grad_norm': 7.207127094268799, 'learning_rate': 3.133463737586518e-05, 'epoch': 15.24}\n",
      "{'loss': 0.2308, 'grad_norm': 4.729502201080322, 'learning_rate': 3.1259404152873914e-05, 'epoch': 15.29}\n",
      "{'loss': 0.2549, 'grad_norm': 10.251791954040527, 'learning_rate': 3.118417092988264e-05, 'epoch': 15.34}\n",
      "{'loss': 0.2448, 'grad_norm': 4.962519645690918, 'learning_rate': 3.1108937706891364e-05, 'epoch': 15.38}\n",
      "{'loss': 0.2278, 'grad_norm': 8.956313133239746, 'learning_rate': 3.103370448390009e-05, 'epoch': 15.43}\n",
      "{'loss': 0.3195, 'grad_norm': 5.445577144622803, 'learning_rate': 3.0958471260908813e-05, 'epoch': 15.48}\n",
      "{'loss': 0.2816, 'grad_norm': 8.691884994506836, 'learning_rate': 3.0883238037917545e-05, 'epoch': 15.53}\n",
      "{'loss': 0.2479, 'grad_norm': 4.890760898590088, 'learning_rate': 3.080800481492627e-05, 'epoch': 15.57}\n",
      "{'loss': 0.2368, 'grad_norm': 10.502642631530762, 'learning_rate': 3.0732771591935e-05, 'epoch': 15.62}\n",
      "{'loss': 0.396, 'grad_norm': 11.197770118713379, 'learning_rate': 3.0657538368943726e-05, 'epoch': 15.67}\n",
      "{'loss': 0.2605, 'grad_norm': 7.301953315734863, 'learning_rate': 3.058230514595246e-05, 'epoch': 15.72}\n",
      "{'loss': 0.2318, 'grad_norm': 9.391778945922852, 'learning_rate': 3.0507071922961183e-05, 'epoch': 15.76}\n",
      "{'loss': 0.3574, 'grad_norm': 11.96308708190918, 'learning_rate': 3.0431838699969904e-05, 'epoch': 15.81}\n",
      "{'loss': 0.2773, 'grad_norm': 6.631661415100098, 'learning_rate': 3.0356605476978632e-05, 'epoch': 15.86}\n",
      "{'loss': 0.3573, 'grad_norm': 7.179072380065918, 'learning_rate': 3.028137225398736e-05, 'epoch': 15.91}\n",
      "{'loss': 0.3077, 'grad_norm': 9.855470657348633, 'learning_rate': 3.020613903099609e-05, 'epoch': 15.95}\n",
      "{'loss': 0.3149, 'grad_norm': 4.808469772338867, 'learning_rate': 3.0130905808004817e-05, 'epoch': 16.0}\n"
     ]
    },
    {
     "data": {
      "application/vnd.jupyter.widget-view+json": {
       "model_id": "67862bf09e68416b999df06be87aa7dc",
       "version_major": 2,
       "version_minor": 0
      },
      "text/plain": [
       "  0%|          | 0/183 [00:00<?, ?it/s]"
      ]
     },
     "metadata": {},
     "output_type": "display_data"
    },
    {
     "name": "stdout",
     "output_type": "stream",
     "text": [
      "{'eval_loss': 0.2928474545478821, 'eval_accuracy': 0.9082191780821918, 'eval_runtime': 6.1031, 'eval_samples_per_second': 239.221, 'eval_steps_per_second': 29.985, 'epoch': 16.0}\n",
      "{'loss': 0.2194, 'grad_norm': 5.927903175354004, 'learning_rate': 3.0055672585013545e-05, 'epoch': 16.05}\n",
      "{'loss': 0.2311, 'grad_norm': 9.440893173217773, 'learning_rate': 2.9980439362022273e-05, 'epoch': 16.09}\n",
      "{'loss': 0.2608, 'grad_norm': 10.132343292236328, 'learning_rate': 2.9905206139031e-05, 'epoch': 16.14}\n",
      "{'loss': 0.3056, 'grad_norm': 9.294024467468262, 'learning_rate': 2.9829972916039723e-05, 'epoch': 16.19}\n",
      "{'loss': 0.1905, 'grad_norm': 6.507917404174805, 'learning_rate': 2.975473969304845e-05, 'epoch': 16.24}\n",
      "{'loss': 0.3232, 'grad_norm': 8.411003112792969, 'learning_rate': 2.967950647005718e-05, 'epoch': 16.28}\n",
      "{'loss': 0.2718, 'grad_norm': 5.495641708374023, 'learning_rate': 2.9604273247065907e-05, 'epoch': 16.33}\n",
      "{'loss': 0.2966, 'grad_norm': 9.734967231750488, 'learning_rate': 2.9529040024074632e-05, 'epoch': 16.38}\n",
      "{'loss': 0.2234, 'grad_norm': 3.004697799682617, 'learning_rate': 2.945380680108336e-05, 'epoch': 16.43}\n",
      "{'loss': 0.3209, 'grad_norm': 13.730050086975098, 'learning_rate': 2.937857357809209e-05, 'epoch': 16.47}\n",
      "{'loss': 0.2561, 'grad_norm': 5.133395195007324, 'learning_rate': 2.930334035510081e-05, 'epoch': 16.52}\n",
      "{'loss': 0.3166, 'grad_norm': 5.885538101196289, 'learning_rate': 2.9228107132109538e-05, 'epoch': 16.57}\n",
      "{'loss': 0.2634, 'grad_norm': 8.295323371887207, 'learning_rate': 2.9152873909118266e-05, 'epoch': 16.62}\n",
      "{'loss': 0.2488, 'grad_norm': 8.664441108703613, 'learning_rate': 2.9077640686126994e-05, 'epoch': 16.66}\n",
      "{'loss': 0.2616, 'grad_norm': 13.536978721618652, 'learning_rate': 2.9002407463135723e-05, 'epoch': 16.71}\n",
      "{'loss': 0.3111, 'grad_norm': 8.778542518615723, 'learning_rate': 2.892717424014445e-05, 'epoch': 16.76}\n",
      "{'loss': 0.2381, 'grad_norm': 4.70704460144043, 'learning_rate': 2.885194101715318e-05, 'epoch': 16.8}\n",
      "{'loss': 0.2824, 'grad_norm': 13.269988059997559, 'learning_rate': 2.8776707794161907e-05, 'epoch': 16.85}\n",
      "{'loss': 0.2517, 'grad_norm': 3.4718408584594727, 'learning_rate': 2.870147457117063e-05, 'epoch': 16.9}\n",
      "{'loss': 0.2842, 'grad_norm': 4.911701679229736, 'learning_rate': 2.8626241348179357e-05, 'epoch': 16.95}\n",
      "{'loss': 0.2734, 'grad_norm': 14.3350248336792, 'learning_rate': 2.8551008125188085e-05, 'epoch': 16.99}\n"
     ]
    },
    {
     "data": {
      "application/vnd.jupyter.widget-view+json": {
       "model_id": "3238dc2fb3364346bc15582455183254",
       "version_major": 2,
       "version_minor": 0
      },
      "text/plain": [
       "  0%|          | 0/183 [00:00<?, ?it/s]"
      ]
     },
     "metadata": {},
     "output_type": "display_data"
    },
    {
     "name": "stdout",
     "output_type": "stream",
     "text": [
      "{'eval_loss': 0.2769572138786316, 'eval_accuracy': 0.9095890410958904, 'eval_runtime': 6.3128, 'eval_samples_per_second': 231.275, 'eval_steps_per_second': 28.989, 'epoch': 17.0}\n",
      "{'loss': 0.2216, 'grad_norm': 9.578266143798828, 'learning_rate': 2.847577490219681e-05, 'epoch': 17.04}\n",
      "{'loss': 0.2713, 'grad_norm': 10.65328311920166, 'learning_rate': 2.8400541679205538e-05, 'epoch': 17.09}\n",
      "{'loss': 0.2578, 'grad_norm': 13.547807693481445, 'learning_rate': 2.8325308456214266e-05, 'epoch': 17.14}\n",
      "{'loss': 0.3016, 'grad_norm': 5.553393363952637, 'learning_rate': 2.8250075233222994e-05, 'epoch': 17.18}\n",
      "{'loss': 0.281, 'grad_norm': 9.82513427734375, 'learning_rate': 2.8174842010231723e-05, 'epoch': 17.23}\n",
      "{'loss': 0.2876, 'grad_norm': 3.8038620948791504, 'learning_rate': 2.8099608787240444e-05, 'epoch': 17.28}\n",
      "{'loss': 0.2434, 'grad_norm': 4.463418006896973, 'learning_rate': 2.8024375564249172e-05, 'epoch': 17.33}\n",
      "{'loss': 0.2434, 'grad_norm': 4.446181297302246, 'learning_rate': 2.79491423412579e-05, 'epoch': 17.37}\n",
      "{'loss': 0.2706, 'grad_norm': 12.428364753723145, 'learning_rate': 2.787390911826663e-05, 'epoch': 17.42}\n",
      "{'loss': 0.232, 'grad_norm': 9.818281173706055, 'learning_rate': 2.7798675895275357e-05, 'epoch': 17.47}\n",
      "{'loss': 0.2981, 'grad_norm': 19.56150245666504, 'learning_rate': 2.7723442672284085e-05, 'epoch': 17.51}\n",
      "{'loss': 0.2427, 'grad_norm': 8.730667114257812, 'learning_rate': 2.764820944929281e-05, 'epoch': 17.56}\n",
      "{'loss': 0.2359, 'grad_norm': 11.973594665527344, 'learning_rate': 2.7572976226301534e-05, 'epoch': 17.61}\n",
      "{'loss': 0.2783, 'grad_norm': 2.578996419906616, 'learning_rate': 2.7497743003310263e-05, 'epoch': 17.66}\n",
      "{'loss': 0.2268, 'grad_norm': 9.876580238342285, 'learning_rate': 2.7422509780318987e-05, 'epoch': 17.7}\n",
      "{'loss': 0.2296, 'grad_norm': 5.562457084655762, 'learning_rate': 2.7347276557327716e-05, 'epoch': 17.75}\n",
      "{'loss': 0.2818, 'grad_norm': 6.533483505249023, 'learning_rate': 2.7272043334336444e-05, 'epoch': 17.8}\n",
      "{'loss': 0.2865, 'grad_norm': 7.880773544311523, 'learning_rate': 2.7196810111345172e-05, 'epoch': 17.85}\n",
      "{'loss': 0.3133, 'grad_norm': 13.510115623474121, 'learning_rate': 2.71215768883539e-05, 'epoch': 17.89}\n",
      "{'loss': 0.2102, 'grad_norm': 6.314772605895996, 'learning_rate': 2.704634366536263e-05, 'epoch': 17.94}\n",
      "{'loss': 0.2344, 'grad_norm': 4.932859420776367, 'learning_rate': 2.697111044237135e-05, 'epoch': 17.99}\n"
     ]
    },
    {
     "data": {
      "application/vnd.jupyter.widget-view+json": {
       "model_id": "7c5d7d76c0e24366bcdcfaaa79e6a5d5",
       "version_major": 2,
       "version_minor": 0
      },
      "text/plain": [
       "  0%|          | 0/183 [00:00<?, ?it/s]"
      ]
     },
     "metadata": {},
     "output_type": "display_data"
    },
    {
     "name": "stdout",
     "output_type": "stream",
     "text": [
      "{'eval_loss': 0.3737930953502655, 'eval_accuracy': 0.8952054794520548, 'eval_runtime': 6.2965, 'eval_samples_per_second': 231.875, 'eval_steps_per_second': 29.064, 'epoch': 18.0}\n",
      "{'loss': 0.349, 'grad_norm': 8.163798332214355, 'learning_rate': 2.6895877219380078e-05, 'epoch': 18.04}\n",
      "{'loss': 0.2864, 'grad_norm': 8.841765403747559, 'learning_rate': 2.6820643996388806e-05, 'epoch': 18.08}\n",
      "{'loss': 0.2941, 'grad_norm': 5.997651100158691, 'learning_rate': 2.6745410773397534e-05, 'epoch': 18.13}\n",
      "{'loss': 0.2216, 'grad_norm': 5.4760332107543945, 'learning_rate': 2.6670177550406263e-05, 'epoch': 18.18}\n",
      "{'loss': 0.2874, 'grad_norm': 6.478240489959717, 'learning_rate': 2.6594944327414987e-05, 'epoch': 18.22}\n",
      "{'loss': 0.2338, 'grad_norm': 12.63205623626709, 'learning_rate': 2.6519711104423716e-05, 'epoch': 18.27}\n",
      "{'loss': 0.3293, 'grad_norm': 9.010831832885742, 'learning_rate': 2.6444477881432444e-05, 'epoch': 18.32}\n",
      "{'loss': 0.3229, 'grad_norm': 6.102337837219238, 'learning_rate': 2.6369244658441165e-05, 'epoch': 18.37}\n",
      "{'loss': 0.2604, 'grad_norm': 9.948938369750977, 'learning_rate': 2.6294011435449893e-05, 'epoch': 18.41}\n",
      "{'loss': 0.2205, 'grad_norm': 8.575167655944824, 'learning_rate': 2.621877821245862e-05, 'epoch': 18.46}\n",
      "{'loss': 0.1802, 'grad_norm': 7.808337688446045, 'learning_rate': 2.614354498946735e-05, 'epoch': 18.51}\n",
      "{'loss': 0.2161, 'grad_norm': 11.38652515411377, 'learning_rate': 2.6068311766476078e-05, 'epoch': 18.56}\n",
      "{'loss': 0.2973, 'grad_norm': 7.173455715179443, 'learning_rate': 2.5993078543484806e-05, 'epoch': 18.6}\n",
      "{'loss': 0.2557, 'grad_norm': 10.973929405212402, 'learning_rate': 2.5917845320493534e-05, 'epoch': 18.65}\n",
      "{'loss': 0.2371, 'grad_norm': 6.697062015533447, 'learning_rate': 2.5842612097502256e-05, 'epoch': 18.7}\n",
      "{'loss': 0.2639, 'grad_norm': 11.82797908782959, 'learning_rate': 2.5767378874510984e-05, 'epoch': 18.75}\n",
      "{'loss': 0.2212, 'grad_norm': 4.322720050811768, 'learning_rate': 2.5692145651519712e-05, 'epoch': 18.79}\n",
      "{'loss': 0.2003, 'grad_norm': 5.201810836791992, 'learning_rate': 2.561691242852844e-05, 'epoch': 18.84}\n",
      "{'loss': 0.3897, 'grad_norm': 7.236006736755371, 'learning_rate': 2.554167920553717e-05, 'epoch': 18.89}\n",
      "{'loss': 0.1939, 'grad_norm': 7.327210426330566, 'learning_rate': 2.5466445982545893e-05, 'epoch': 18.93}\n",
      "{'loss': 0.2872, 'grad_norm': 16.192811965942383, 'learning_rate': 2.539121275955462e-05, 'epoch': 18.98}\n"
     ]
    },
    {
     "data": {
      "application/vnd.jupyter.widget-view+json": {
       "model_id": "54b22139f56e4fdfa16e82815b7b5f07",
       "version_major": 2,
       "version_minor": 0
      },
      "text/plain": [
       "  0%|          | 0/183 [00:00<?, ?it/s]"
      ]
     },
     "metadata": {},
     "output_type": "display_data"
    },
    {
     "name": "stdout",
     "output_type": "stream",
     "text": [
      "{'eval_loss': 0.3222917914390564, 'eval_accuracy': 0.9061643835616439, 'eval_runtime': 6.2252, 'eval_samples_per_second': 234.532, 'eval_steps_per_second': 29.397, 'epoch': 19.0}\n",
      "{'loss': 0.2899, 'grad_norm': 14.001523971557617, 'learning_rate': 2.531597953656335e-05, 'epoch': 19.03}\n",
      "{'loss': 0.2249, 'grad_norm': 12.866436004638672, 'learning_rate': 2.524074631357207e-05, 'epoch': 19.08}\n",
      "{'loss': 0.2008, 'grad_norm': 12.653215408325195, 'learning_rate': 2.51655130905808e-05, 'epoch': 19.12}\n",
      "{'loss': 0.2264, 'grad_norm': 6.0526604652404785, 'learning_rate': 2.5090279867589527e-05, 'epoch': 19.17}\n",
      "{'loss': 0.2785, 'grad_norm': 7.189617156982422, 'learning_rate': 2.5015046644598256e-05, 'epoch': 19.22}\n",
      "{'loss': 0.2666, 'grad_norm': 6.08707332611084, 'learning_rate': 2.4939813421606984e-05, 'epoch': 19.27}\n",
      "{'loss': 0.2561, 'grad_norm': 8.810041427612305, 'learning_rate': 2.4864580198615712e-05, 'epoch': 19.31}\n",
      "{'loss': 0.1829, 'grad_norm': 5.877760410308838, 'learning_rate': 2.4789346975624437e-05, 'epoch': 19.36}\n",
      "{'loss': 0.2082, 'grad_norm': 4.540722846984863, 'learning_rate': 2.4714113752633165e-05, 'epoch': 19.41}\n",
      "{'loss': 0.2264, 'grad_norm': 10.91895866394043, 'learning_rate': 2.4638880529641893e-05, 'epoch': 19.46}\n",
      "{'loss': 0.2649, 'grad_norm': 18.722084045410156, 'learning_rate': 2.4563647306650618e-05, 'epoch': 19.5}\n",
      "{'loss': 0.1769, 'grad_norm': 5.907430648803711, 'learning_rate': 2.4488414083659346e-05, 'epoch': 19.55}\n",
      "{'loss': 0.2895, 'grad_norm': 12.51977825164795, 'learning_rate': 2.441318086066807e-05, 'epoch': 19.6}\n",
      "{'loss': 0.2349, 'grad_norm': 9.822182655334473, 'learning_rate': 2.43379476376768e-05, 'epoch': 19.64}\n",
      "{'loss': 0.2949, 'grad_norm': 6.536006450653076, 'learning_rate': 2.4262714414685524e-05, 'epoch': 19.69}\n",
      "{'loss': 0.2438, 'grad_norm': 6.116447448730469, 'learning_rate': 2.4187481191694252e-05, 'epoch': 19.74}\n",
      "{'loss': 0.274, 'grad_norm': 8.528430938720703, 'learning_rate': 2.411224796870298e-05, 'epoch': 19.79}\n",
      "{'loss': 0.2848, 'grad_norm': 9.427675247192383, 'learning_rate': 2.403701474571171e-05, 'epoch': 19.83}\n",
      "{'loss': 0.24, 'grad_norm': 5.054657459259033, 'learning_rate': 2.3961781522720433e-05, 'epoch': 19.88}\n",
      "{'loss': 0.2593, 'grad_norm': 12.677891731262207, 'learning_rate': 2.388654829972916e-05, 'epoch': 19.93}\n",
      "{'loss': 0.2486, 'grad_norm': 5.84495735168457, 'learning_rate': 2.381131507673789e-05, 'epoch': 19.98}\n"
     ]
    },
    {
     "data": {
      "application/vnd.jupyter.widget-view+json": {
       "model_id": "8e7f468513e744148b5f3b672c4bccfe",
       "version_major": 2,
       "version_minor": 0
      },
      "text/plain": [
       "  0%|          | 0/183 [00:00<?, ?it/s]"
      ]
     },
     "metadata": {},
     "output_type": "display_data"
    },
    {
     "name": "stdout",
     "output_type": "stream",
     "text": [
      "{'eval_loss': 0.32860177755355835, 'eval_accuracy': 0.9068493150684932, 'eval_runtime': 6.1011, 'eval_samples_per_second': 239.302, 'eval_steps_per_second': 29.995, 'epoch': 20.0}\n",
      "{'loss': 0.2215, 'grad_norm': 6.881824970245361, 'learning_rate': 2.3736081853746618e-05, 'epoch': 20.02}\n",
      "{'loss': 0.244, 'grad_norm': 10.07770824432373, 'learning_rate': 2.3660848630755343e-05, 'epoch': 20.07}\n",
      "{'loss': 0.2289, 'grad_norm': 4.6197919845581055, 'learning_rate': 2.358561540776407e-05, 'epoch': 20.12}\n",
      "{'loss': 0.1889, 'grad_norm': 8.33582592010498, 'learning_rate': 2.35103821847728e-05, 'epoch': 20.17}\n",
      "{'loss': 0.2015, 'grad_norm': 8.195116996765137, 'learning_rate': 2.3435148961781524e-05, 'epoch': 20.21}\n",
      "{'loss': 0.2306, 'grad_norm': 6.473872661590576, 'learning_rate': 2.335991573879025e-05, 'epoch': 20.26}\n",
      "{'loss': 0.2311, 'grad_norm': 4.936031341552734, 'learning_rate': 2.3284682515798977e-05, 'epoch': 20.31}\n",
      "{'loss': 0.2129, 'grad_norm': 16.449352264404297, 'learning_rate': 2.3209449292807705e-05, 'epoch': 20.36}\n",
      "{'loss': 0.2211, 'grad_norm': 7.029664516448975, 'learning_rate': 2.3134216069816433e-05, 'epoch': 20.4}\n",
      "{'loss': 0.2305, 'grad_norm': 7.797490119934082, 'learning_rate': 2.3058982846825158e-05, 'epoch': 20.45}\n",
      "{'loss': 0.2916, 'grad_norm': 13.063493728637695, 'learning_rate': 2.2983749623833886e-05, 'epoch': 20.5}\n",
      "{'loss': 0.2342, 'grad_norm': 9.06458568572998, 'learning_rate': 2.2908516400842614e-05, 'epoch': 20.54}\n",
      "{'loss': 0.2041, 'grad_norm': 7.881487846374512, 'learning_rate': 2.283328317785134e-05, 'epoch': 20.59}\n",
      "{'loss': 0.2949, 'grad_norm': 10.349453926086426, 'learning_rate': 2.2758049954860067e-05, 'epoch': 20.64}\n",
      "{'loss': 0.2607, 'grad_norm': 12.278468132019043, 'learning_rate': 2.2682816731868795e-05, 'epoch': 20.69}\n",
      "{'loss': 0.2741, 'grad_norm': 11.949197769165039, 'learning_rate': 2.2607583508877524e-05, 'epoch': 20.73}\n",
      "{'loss': 0.2845, 'grad_norm': 13.006739616394043, 'learning_rate': 2.253235028588625e-05, 'epoch': 20.78}\n",
      "{'loss': 0.2518, 'grad_norm': 6.179040908813477, 'learning_rate': 2.2457117062894977e-05, 'epoch': 20.83}\n",
      "{'loss': 0.254, 'grad_norm': 8.708568572998047, 'learning_rate': 2.23818838399037e-05, 'epoch': 20.88}\n",
      "{'loss': 0.2462, 'grad_norm': 8.595051765441895, 'learning_rate': 2.230665061691243e-05, 'epoch': 20.92}\n",
      "{'loss': 0.2818, 'grad_norm': 8.650654792785645, 'learning_rate': 2.2231417393921154e-05, 'epoch': 20.97}\n"
     ]
    },
    {
     "data": {
      "application/vnd.jupyter.widget-view+json": {
       "model_id": "05bca3d4805e4dc183bbae08cfd9396f",
       "version_major": 2,
       "version_minor": 0
      },
      "text/plain": [
       "  0%|          | 0/183 [00:00<?, ?it/s]"
      ]
     },
     "metadata": {},
     "output_type": "display_data"
    },
    {
     "name": "stdout",
     "output_type": "stream",
     "text": [
      "{'eval_loss': 0.3853361904621124, 'eval_accuracy': 0.8938356164383562, 'eval_runtime': 6.105, 'eval_samples_per_second': 239.147, 'eval_steps_per_second': 29.975, 'epoch': 21.0}\n",
      "{'loss': 0.2664, 'grad_norm': 7.857712268829346, 'learning_rate': 2.2156184170929883e-05, 'epoch': 21.02}\n",
      "{'loss': 0.2062, 'grad_norm': 7.22745943069458, 'learning_rate': 2.208095094793861e-05, 'epoch': 21.07}\n",
      "{'loss': 0.2239, 'grad_norm': 2.6673853397369385, 'learning_rate': 2.200571772494734e-05, 'epoch': 21.11}\n",
      "{'loss': 0.1985, 'grad_norm': 4.8849005699157715, 'learning_rate': 2.1930484501956064e-05, 'epoch': 21.16}\n",
      "{'loss': 0.2331, 'grad_norm': 22.471643447875977, 'learning_rate': 2.1855251278964792e-05, 'epoch': 21.21}\n",
      "{'loss': 0.193, 'grad_norm': 12.047694206237793, 'learning_rate': 2.178001805597352e-05, 'epoch': 21.25}\n",
      "{'loss': 0.2698, 'grad_norm': 8.459744453430176, 'learning_rate': 2.170478483298225e-05, 'epoch': 21.3}\n",
      "{'loss': 0.2626, 'grad_norm': 5.106344699859619, 'learning_rate': 2.1629551609990973e-05, 'epoch': 21.35}\n",
      "{'loss': 0.208, 'grad_norm': 8.469663619995117, 'learning_rate': 2.15543183869997e-05, 'epoch': 21.4}\n",
      "{'loss': 0.2903, 'grad_norm': 4.838006496429443, 'learning_rate': 2.147908516400843e-05, 'epoch': 21.44}\n",
      "{'loss': 0.2337, 'grad_norm': 5.432097911834717, 'learning_rate': 2.1403851941017154e-05, 'epoch': 21.49}\n",
      "{'loss': 0.2269, 'grad_norm': 6.889484882354736, 'learning_rate': 2.132861871802588e-05, 'epoch': 21.54}\n",
      "{'loss': 0.2631, 'grad_norm': 8.73716926574707, 'learning_rate': 2.1253385495034607e-05, 'epoch': 21.59}\n",
      "{'loss': 0.2186, 'grad_norm': 2.4893133640289307, 'learning_rate': 2.1178152272043336e-05, 'epoch': 21.63}\n",
      "{'loss': 0.2052, 'grad_norm': 7.44368839263916, 'learning_rate': 2.110291904905206e-05, 'epoch': 21.68}\n",
      "{'loss': 0.2862, 'grad_norm': 12.204940795898438, 'learning_rate': 2.102768582606079e-05, 'epoch': 21.73}\n",
      "{'loss': 0.2568, 'grad_norm': 7.419914722442627, 'learning_rate': 2.0952452603069517e-05, 'epoch': 21.78}\n",
      "{'loss': 0.2727, 'grad_norm': 7.833005905151367, 'learning_rate': 2.0877219380078245e-05, 'epoch': 21.82}\n",
      "{'loss': 0.2306, 'grad_norm': 3.8460819721221924, 'learning_rate': 2.080198615708697e-05, 'epoch': 21.87}\n",
      "{'loss': 0.2729, 'grad_norm': 12.018167495727539, 'learning_rate': 2.0726752934095698e-05, 'epoch': 21.92}\n",
      "{'loss': 0.2845, 'grad_norm': 7.023700714111328, 'learning_rate': 2.0651519711104426e-05, 'epoch': 21.96}\n"
     ]
    },
    {
     "data": {
      "application/vnd.jupyter.widget-view+json": {
       "model_id": "1edbd3bb9f794c19a026e2a6b4aaf018",
       "version_major": 2,
       "version_minor": 0
      },
      "text/plain": [
       "  0%|          | 0/183 [00:00<?, ?it/s]"
      ]
     },
     "metadata": {},
     "output_type": "display_data"
    },
    {
     "name": "stdout",
     "output_type": "stream",
     "text": [
      "{'eval_loss': 0.3902602195739746, 'eval_accuracy': 0.8938356164383562, 'eval_runtime': 6.3485, 'eval_samples_per_second': 229.975, 'eval_steps_per_second': 28.826, 'epoch': 22.0}\n",
      "{'loss': 0.3063, 'grad_norm': 11.811697006225586, 'learning_rate': 2.0576286488113154e-05, 'epoch': 22.01}\n",
      "{'loss': 0.2157, 'grad_norm': 4.944943428039551, 'learning_rate': 2.050105326512188e-05, 'epoch': 22.06}\n",
      "{'loss': 0.2373, 'grad_norm': 5.4949517250061035, 'learning_rate': 2.0425820042130607e-05, 'epoch': 22.11}\n",
      "{'loss': 0.2378, 'grad_norm': 6.9762163162231445, 'learning_rate': 2.0350586819139332e-05, 'epoch': 22.15}\n",
      "{'loss': 0.1939, 'grad_norm': 6.753002643585205, 'learning_rate': 2.027535359614806e-05, 'epoch': 22.2}\n",
      "{'loss': 0.242, 'grad_norm': 4.161319732666016, 'learning_rate': 2.0200120373156785e-05, 'epoch': 22.25}\n",
      "{'loss': 0.2782, 'grad_norm': 5.062042713165283, 'learning_rate': 2.0124887150165513e-05, 'epoch': 22.3}\n",
      "{'loss': 0.2009, 'grad_norm': 9.755287170410156, 'learning_rate': 2.004965392717424e-05, 'epoch': 22.34}\n",
      "{'loss': 0.1617, 'grad_norm': 6.668210506439209, 'learning_rate': 1.997442070418297e-05, 'epoch': 22.39}\n",
      "{'loss': 0.2013, 'grad_norm': 3.9158642292022705, 'learning_rate': 1.9899187481191694e-05, 'epoch': 22.44}\n",
      "{'loss': 0.2057, 'grad_norm': 7.47080659866333, 'learning_rate': 1.9823954258200423e-05, 'epoch': 22.49}\n",
      "{'loss': 0.2964, 'grad_norm': 17.479690551757812, 'learning_rate': 1.974872103520915e-05, 'epoch': 22.53}\n",
      "{'loss': 0.2519, 'grad_norm': 9.807324409484863, 'learning_rate': 1.9673487812217876e-05, 'epoch': 22.58}\n",
      "{'loss': 0.2724, 'grad_norm': 8.961894035339355, 'learning_rate': 1.9598254589226604e-05, 'epoch': 22.63}\n",
      "{'loss': 0.187, 'grad_norm': 3.2384064197540283, 'learning_rate': 1.9523021366235332e-05, 'epoch': 22.67}\n",
      "{'loss': 0.2512, 'grad_norm': 5.056863307952881, 'learning_rate': 1.944778814324406e-05, 'epoch': 22.72}\n",
      "{'loss': 0.2003, 'grad_norm': 9.88666820526123, 'learning_rate': 1.9372554920252785e-05, 'epoch': 22.77}\n",
      "{'loss': 0.2665, 'grad_norm': 15.032508850097656, 'learning_rate': 1.929732169726151e-05, 'epoch': 22.82}\n",
      "{'loss': 0.2592, 'grad_norm': 6.520040035247803, 'learning_rate': 1.9222088474270238e-05, 'epoch': 22.86}\n",
      "{'loss': 0.2219, 'grad_norm': 5.046426296234131, 'learning_rate': 1.9146855251278966e-05, 'epoch': 22.91}\n",
      "{'loss': 0.227, 'grad_norm': 11.43876838684082, 'learning_rate': 1.907162202828769e-05, 'epoch': 22.96}\n"
     ]
    },
    {
     "data": {
      "application/vnd.jupyter.widget-view+json": {
       "model_id": "b6f475ab2bf0485e9dd96ed54a35edb6",
       "version_major": 2,
       "version_minor": 0
      },
      "text/plain": [
       "  0%|          | 0/183 [00:00<?, ?it/s]"
      ]
     },
     "metadata": {},
     "output_type": "display_data"
    },
    {
     "name": "stdout",
     "output_type": "stream",
     "text": [
      "{'eval_loss': 0.3559742569923401, 'eval_accuracy': 0.9041095890410958, 'eval_runtime': 6.1037, 'eval_samples_per_second': 239.198, 'eval_steps_per_second': 29.982, 'epoch': 23.0}\n",
      "{'loss': 0.1716, 'grad_norm': 5.062148571014404, 'learning_rate': 1.899638880529642e-05, 'epoch': 23.01}\n",
      "{'loss': 0.2274, 'grad_norm': 13.177910804748535, 'learning_rate': 1.8921155582305147e-05, 'epoch': 23.05}\n",
      "{'loss': 0.2376, 'grad_norm': 10.63724136352539, 'learning_rate': 1.8845922359313875e-05, 'epoch': 23.1}\n",
      "{'loss': 0.2451, 'grad_norm': 11.315512657165527, 'learning_rate': 1.87706891363226e-05, 'epoch': 23.15}\n",
      "{'loss': 0.265, 'grad_norm': 9.915947914123535, 'learning_rate': 1.869545591333133e-05, 'epoch': 23.2}\n",
      "{'loss': 0.203, 'grad_norm': 7.371302604675293, 'learning_rate': 1.8620222690340057e-05, 'epoch': 23.24}\n",
      "{'loss': 0.2058, 'grad_norm': 10.347346305847168, 'learning_rate': 1.8544989467348785e-05, 'epoch': 23.29}\n",
      "{'loss': 0.1881, 'grad_norm': 7.930377006530762, 'learning_rate': 1.846975624435751e-05, 'epoch': 23.34}\n",
      "{'loss': 0.2058, 'grad_norm': 7.690789699554443, 'learning_rate': 1.8394523021366238e-05, 'epoch': 23.38}\n",
      "{'loss': 0.2432, 'grad_norm': 9.262539863586426, 'learning_rate': 1.8319289798374963e-05, 'epoch': 23.43}\n",
      "{'loss': 0.1951, 'grad_norm': 6.507819652557373, 'learning_rate': 1.8244056575383687e-05, 'epoch': 23.48}\n",
      "{'loss': 0.1948, 'grad_norm': 5.187134742736816, 'learning_rate': 1.8168823352392416e-05, 'epoch': 23.53}\n",
      "{'loss': 0.1896, 'grad_norm': 5.986237525939941, 'learning_rate': 1.8093590129401144e-05, 'epoch': 23.57}\n",
      "{'loss': 0.2521, 'grad_norm': 3.2465999126434326, 'learning_rate': 1.8018356906409872e-05, 'epoch': 23.62}\n",
      "{'loss': 0.2162, 'grad_norm': 6.972270488739014, 'learning_rate': 1.7943123683418597e-05, 'epoch': 23.67}\n",
      "{'loss': 0.228, 'grad_norm': 10.68996524810791, 'learning_rate': 1.7867890460427325e-05, 'epoch': 23.72}\n",
      "{'loss': 0.2184, 'grad_norm': 13.406333923339844, 'learning_rate': 1.7792657237436053e-05, 'epoch': 23.76}\n",
      "{'loss': 0.2286, 'grad_norm': 10.20108699798584, 'learning_rate': 1.771742401444478e-05, 'epoch': 23.81}\n",
      "{'loss': 0.177, 'grad_norm': 4.646299839019775, 'learning_rate': 1.7642190791453506e-05, 'epoch': 23.86}\n",
      "{'loss': 0.232, 'grad_norm': 11.070876121520996, 'learning_rate': 1.7566957568462234e-05, 'epoch': 23.91}\n",
      "{'loss': 0.2007, 'grad_norm': 9.572555541992188, 'learning_rate': 1.7491724345470962e-05, 'epoch': 23.95}\n",
      "{'loss': 0.1909, 'grad_norm': 5.681567668914795, 'learning_rate': 1.7416491122479687e-05, 'epoch': 24.0}\n"
     ]
    },
    {
     "data": {
      "application/vnd.jupyter.widget-view+json": {
       "model_id": "af2abb86aca145298f1d11a52028edeb",
       "version_major": 2,
       "version_minor": 0
      },
      "text/plain": [
       "  0%|          | 0/183 [00:00<?, ?it/s]"
      ]
     },
     "metadata": {},
     "output_type": "display_data"
    },
    {
     "name": "stdout",
     "output_type": "stream",
     "text": [
      "{'eval_loss': 0.3623672127723694, 'eval_accuracy': 0.9054794520547945, 'eval_runtime': 6.2394, 'eval_samples_per_second': 233.996, 'eval_steps_per_second': 29.33, 'epoch': 24.0}\n",
      "{'loss': 0.2439, 'grad_norm': 9.697016716003418, 'learning_rate': 1.7341257899488415e-05, 'epoch': 24.05}\n",
      "{'loss': 0.1802, 'grad_norm': 10.163914680480957, 'learning_rate': 1.726602467649714e-05, 'epoch': 24.09}\n",
      "{'loss': 0.2823, 'grad_norm': 11.584846496582031, 'learning_rate': 1.719079145350587e-05, 'epoch': 24.14}\n",
      "{'loss': 0.1716, 'grad_norm': 4.525638103485107, 'learning_rate': 1.7115558230514597e-05, 'epoch': 24.19}\n",
      "{'loss': 0.218, 'grad_norm': 7.053022861480713, 'learning_rate': 1.704032500752332e-05, 'epoch': 24.24}\n",
      "{'loss': 0.185, 'grad_norm': 2.7923426628112793, 'learning_rate': 1.696509178453205e-05, 'epoch': 24.28}\n",
      "{'loss': 0.2196, 'grad_norm': 3.2291653156280518, 'learning_rate': 1.6889858561540778e-05, 'epoch': 24.33}\n",
      "{'loss': 0.2367, 'grad_norm': 11.007999420166016, 'learning_rate': 1.6814625338549506e-05, 'epoch': 24.38}\n",
      "{'loss': 0.2754, 'grad_norm': 10.4671049118042, 'learning_rate': 1.673939211555823e-05, 'epoch': 24.43}\n",
      "{'loss': 0.2092, 'grad_norm': 11.023184776306152, 'learning_rate': 1.666415889256696e-05, 'epoch': 24.47}\n",
      "{'loss': 0.2387, 'grad_norm': 7.405954360961914, 'learning_rate': 1.6588925669575687e-05, 'epoch': 24.52}\n",
      "{'loss': 0.2842, 'grad_norm': 2.6797077655792236, 'learning_rate': 1.6513692446584412e-05, 'epoch': 24.57}\n",
      "{'loss': 0.2395, 'grad_norm': 2.8351101875305176, 'learning_rate': 1.643845922359314e-05, 'epoch': 24.62}\n",
      "{'loss': 0.2047, 'grad_norm': 5.248380661010742, 'learning_rate': 1.636322600060187e-05, 'epoch': 24.66}\n",
      "{'loss': 0.2442, 'grad_norm': 11.657218933105469, 'learning_rate': 1.6287992777610593e-05, 'epoch': 24.71}\n",
      "{'loss': 0.1842, 'grad_norm': 8.078208923339844, 'learning_rate': 1.6212759554619318e-05, 'epoch': 24.76}\n",
      "{'loss': 0.2838, 'grad_norm': 7.111977577209473, 'learning_rate': 1.6137526331628046e-05, 'epoch': 24.8}\n",
      "{'loss': 0.2379, 'grad_norm': 5.9829535484313965, 'learning_rate': 1.6062293108636774e-05, 'epoch': 24.85}\n",
      "{'loss': 0.2162, 'grad_norm': 7.217136859893799, 'learning_rate': 1.5987059885645502e-05, 'epoch': 24.9}\n",
      "{'loss': 0.2123, 'grad_norm': 3.860224485397339, 'learning_rate': 1.5911826662654227e-05, 'epoch': 24.95}\n",
      "{'loss': 0.1972, 'grad_norm': 7.911783695220947, 'learning_rate': 1.5836593439662955e-05, 'epoch': 24.99}\n"
     ]
    },
    {
     "data": {
      "application/vnd.jupyter.widget-view+json": {
       "model_id": "37fc931775da4276a8d2b8484fe119a3",
       "version_major": 2,
       "version_minor": 0
      },
      "text/plain": [
       "  0%|          | 0/183 [00:00<?, ?it/s]"
      ]
     },
     "metadata": {},
     "output_type": "display_data"
    },
    {
     "name": "stdout",
     "output_type": "stream",
     "text": [
      "{'eval_loss': 0.3805873990058899, 'eval_accuracy': 0.910958904109589, 'eval_runtime': 6.2415, 'eval_samples_per_second': 233.919, 'eval_steps_per_second': 29.32, 'epoch': 25.0}\n",
      "{'loss': 0.1943, 'grad_norm': 11.003094673156738, 'learning_rate': 1.5761360216671684e-05, 'epoch': 25.04}\n",
      "{'loss': 0.1732, 'grad_norm': 10.909906387329102, 'learning_rate': 1.5686126993680412e-05, 'epoch': 25.09}\n",
      "{'loss': 0.1627, 'grad_norm': 9.148816108703613, 'learning_rate': 1.5610893770689137e-05, 'epoch': 25.14}\n",
      "{'loss': 0.2566, 'grad_norm': 16.407743453979492, 'learning_rate': 1.5535660547697865e-05, 'epoch': 25.18}\n",
      "{'loss': 0.2903, 'grad_norm': 5.4412336349487305, 'learning_rate': 1.5460427324706593e-05, 'epoch': 25.23}\n",
      "{'loss': 0.2498, 'grad_norm': 5.705301284790039, 'learning_rate': 1.5385194101715318e-05, 'epoch': 25.28}\n",
      "{'loss': 0.258, 'grad_norm': 6.196264743804932, 'learning_rate': 1.5309960878724046e-05, 'epoch': 25.33}\n",
      "{'loss': 0.2051, 'grad_norm': 5.141286373138428, 'learning_rate': 1.5234727655732773e-05, 'epoch': 25.37}\n",
      "{'loss': 0.2487, 'grad_norm': 10.09032917022705, 'learning_rate': 1.51594944327415e-05, 'epoch': 25.42}\n",
      "{'loss': 0.2253, 'grad_norm': 9.43677806854248, 'learning_rate': 1.5084261209750225e-05, 'epoch': 25.47}\n",
      "{'loss': 0.2703, 'grad_norm': 8.553553581237793, 'learning_rate': 1.5009027986758954e-05, 'epoch': 25.51}\n",
      "{'loss': 0.2149, 'grad_norm': 7.3572611808776855, 'learning_rate': 1.493379476376768e-05, 'epoch': 25.56}\n",
      "{'loss': 0.2396, 'grad_norm': 5.610743999481201, 'learning_rate': 1.4858561540776408e-05, 'epoch': 25.61}\n",
      "{'loss': 0.1808, 'grad_norm': 7.072268009185791, 'learning_rate': 1.4783328317785133e-05, 'epoch': 25.66}\n",
      "{'loss': 0.1987, 'grad_norm': 6.994169235229492, 'learning_rate': 1.4708095094793861e-05, 'epoch': 25.7}\n",
      "{'loss': 0.2172, 'grad_norm': 6.808544635772705, 'learning_rate': 1.463286187180259e-05, 'epoch': 25.75}\n",
      "{'loss': 0.1874, 'grad_norm': 5.467230319976807, 'learning_rate': 1.4557628648811316e-05, 'epoch': 25.8}\n",
      "{'loss': 0.2273, 'grad_norm': 7.486201763153076, 'learning_rate': 1.4482395425820043e-05, 'epoch': 25.85}\n",
      "{'loss': 0.2175, 'grad_norm': 9.13160514831543, 'learning_rate': 1.4407162202828769e-05, 'epoch': 25.89}\n",
      "{'loss': 0.1603, 'grad_norm': 3.0594916343688965, 'learning_rate': 1.4331928979837497e-05, 'epoch': 25.94}\n",
      "{'loss': 0.2321, 'grad_norm': 12.567781448364258, 'learning_rate': 1.4256695756846225e-05, 'epoch': 25.99}\n"
     ]
    },
    {
     "data": {
      "application/vnd.jupyter.widget-view+json": {
       "model_id": "a731e23cea674740af469e78085479fc",
       "version_major": 2,
       "version_minor": 0
      },
      "text/plain": [
       "  0%|          | 0/183 [00:00<?, ?it/s]"
      ]
     },
     "metadata": {},
     "output_type": "display_data"
    },
    {
     "name": "stdout",
     "output_type": "stream",
     "text": [
      "{'eval_loss': 0.39881959557533264, 'eval_accuracy': 0.9020547945205479, 'eval_runtime': 5.9332, 'eval_samples_per_second': 246.073, 'eval_steps_per_second': 30.843, 'epoch': 26.0}\n",
      "{'loss': 0.245, 'grad_norm': 19.91950035095215, 'learning_rate': 1.418146253385495e-05, 'epoch': 26.04}\n",
      "{'loss': 0.1887, 'grad_norm': 7.391870498657227, 'learning_rate': 1.4106229310863678e-05, 'epoch': 26.08}\n",
      "{'loss': 0.1479, 'grad_norm': 5.9580078125, 'learning_rate': 1.4030996087872405e-05, 'epoch': 26.13}\n",
      "{'loss': 0.1116, 'grad_norm': 3.4162750244140625, 'learning_rate': 1.3955762864881133e-05, 'epoch': 26.18}\n",
      "{'loss': 0.1949, 'grad_norm': 5.857022762298584, 'learning_rate': 1.3880529641889858e-05, 'epoch': 26.22}\n",
      "{'loss': 0.2525, 'grad_norm': 11.025476455688477, 'learning_rate': 1.3805296418898586e-05, 'epoch': 26.27}\n",
      "{'loss': 0.1683, 'grad_norm': 4.637174129486084, 'learning_rate': 1.3730063195907314e-05, 'epoch': 26.32}\n",
      "{'loss': 0.2257, 'grad_norm': 6.837101459503174, 'learning_rate': 1.3654829972916042e-05, 'epoch': 26.37}\n",
      "{'loss': 0.2192, 'grad_norm': 10.085379600524902, 'learning_rate': 1.3579596749924767e-05, 'epoch': 26.41}\n",
      "{'loss': 0.2178, 'grad_norm': 14.575711250305176, 'learning_rate': 1.3504363526933494e-05, 'epoch': 26.46}\n",
      "{'loss': 0.2255, 'grad_norm': 1.3846685886383057, 'learning_rate': 1.3429130303942222e-05, 'epoch': 26.51}\n",
      "{'loss': 0.1841, 'grad_norm': 2.5060837268829346, 'learning_rate': 1.3353897080950947e-05, 'epoch': 26.56}\n",
      "{'loss': 0.1815, 'grad_norm': 8.861625671386719, 'learning_rate': 1.3278663857959675e-05, 'epoch': 26.6}\n",
      "{'loss': 0.2201, 'grad_norm': 11.749606132507324, 'learning_rate': 1.3203430634968403e-05, 'epoch': 26.65}\n",
      "{'loss': 0.223, 'grad_norm': 11.236172676086426, 'learning_rate': 1.3128197411977131e-05, 'epoch': 26.7}\n",
      "{'loss': 0.2085, 'grad_norm': 9.813485145568848, 'learning_rate': 1.3052964188985856e-05, 'epoch': 26.75}\n",
      "{'loss': 0.2276, 'grad_norm': 8.109848022460938, 'learning_rate': 1.2977730965994583e-05, 'epoch': 26.79}\n",
      "{'loss': 0.2317, 'grad_norm': 8.18017864227295, 'learning_rate': 1.290249774300331e-05, 'epoch': 26.84}\n",
      "{'loss': 0.2032, 'grad_norm': 8.016799926757812, 'learning_rate': 1.2827264520012039e-05, 'epoch': 26.89}\n",
      "{'loss': 0.1772, 'grad_norm': 5.620159149169922, 'learning_rate': 1.2752031297020764e-05, 'epoch': 26.93}\n",
      "{'loss': 0.2272, 'grad_norm': 9.059211730957031, 'learning_rate': 1.2676798074029492e-05, 'epoch': 26.98}\n"
     ]
    },
    {
     "data": {
      "application/vnd.jupyter.widget-view+json": {
       "model_id": "dbf14be3f850418fa6562e50e08a6ecc",
       "version_major": 2,
       "version_minor": 0
      },
      "text/plain": [
       "  0%|          | 0/183 [00:00<?, ?it/s]"
      ]
     },
     "metadata": {},
     "output_type": "display_data"
    },
    {
     "name": "stdout",
     "output_type": "stream",
     "text": [
      "{'eval_loss': 0.38451480865478516, 'eval_accuracy': 0.9013698630136986, 'eval_runtime': 6.1239, 'eval_samples_per_second': 238.412, 'eval_steps_per_second': 29.883, 'epoch': 27.0}\n",
      "{'loss': 0.2311, 'grad_norm': 10.816908836364746, 'learning_rate': 1.260156485103822e-05, 'epoch': 27.03}\n",
      "{'loss': 0.1576, 'grad_norm': 7.416836738586426, 'learning_rate': 1.2526331628046947e-05, 'epoch': 27.08}\n",
      "{'loss': 0.2105, 'grad_norm': 5.841176509857178, 'learning_rate': 1.2451098405055673e-05, 'epoch': 27.12}\n",
      "{'loss': 0.1497, 'grad_norm': 6.8240065574646, 'learning_rate': 1.23758651820644e-05, 'epoch': 27.17}\n",
      "{'loss': 0.2082, 'grad_norm': 4.735475540161133, 'learning_rate': 1.2300631959073128e-05, 'epoch': 27.22}\n",
      "{'loss': 0.2051, 'grad_norm': 4.068787097930908, 'learning_rate': 1.2225398736081854e-05, 'epoch': 27.27}\n",
      "{'loss': 0.2111, 'grad_norm': 8.406126976013184, 'learning_rate': 1.2150165513090582e-05, 'epoch': 27.31}\n",
      "{'loss': 0.2363, 'grad_norm': 11.296841621398926, 'learning_rate': 1.2074932290099309e-05, 'epoch': 27.36}\n",
      "{'loss': 0.1788, 'grad_norm': 6.382559299468994, 'learning_rate': 1.1999699067108035e-05, 'epoch': 27.41}\n",
      "{'loss': 0.229, 'grad_norm': 16.921314239501953, 'learning_rate': 1.1924465844116762e-05, 'epoch': 27.46}\n",
      "{'loss': 0.2299, 'grad_norm': 6.629945755004883, 'learning_rate': 1.1849232621125488e-05, 'epoch': 27.5}\n",
      "{'loss': 0.2192, 'grad_norm': 12.590339660644531, 'learning_rate': 1.1773999398134217e-05, 'epoch': 27.55}\n",
      "{'loss': 0.2551, 'grad_norm': 10.77224063873291, 'learning_rate': 1.1698766175142943e-05, 'epoch': 27.6}\n",
      "{'loss': 0.1556, 'grad_norm': 6.861285209655762, 'learning_rate': 1.1623532952151671e-05, 'epoch': 27.64}\n",
      "{'loss': 0.193, 'grad_norm': 7.521730899810791, 'learning_rate': 1.1548299729160398e-05, 'epoch': 27.69}\n",
      "{'loss': 0.2196, 'grad_norm': 4.924305438995361, 'learning_rate': 1.1473066506169124e-05, 'epoch': 27.74}\n",
      "{'loss': 0.1856, 'grad_norm': 6.166696548461914, 'learning_rate': 1.139783328317785e-05, 'epoch': 27.79}\n",
      "{'loss': 0.1508, 'grad_norm': 8.01871109008789, 'learning_rate': 1.1322600060186579e-05, 'epoch': 27.83}\n",
      "{'loss': 0.1362, 'grad_norm': 7.002715587615967, 'learning_rate': 1.1247366837195305e-05, 'epoch': 27.88}\n",
      "{'loss': 0.1911, 'grad_norm': 10.854193687438965, 'learning_rate': 1.1172133614204034e-05, 'epoch': 27.93}\n",
      "{'loss': 0.244, 'grad_norm': 6.3542070388793945, 'learning_rate': 1.109690039121276e-05, 'epoch': 27.98}\n"
     ]
    },
    {
     "data": {
      "application/vnd.jupyter.widget-view+json": {
       "model_id": "ac6a707c88a34b61868ac188a90b41d8",
       "version_major": 2,
       "version_minor": 0
      },
      "text/plain": [
       "  0%|          | 0/183 [00:00<?, ?it/s]"
      ]
     },
     "metadata": {},
     "output_type": "display_data"
    },
    {
     "name": "stdout",
     "output_type": "stream",
     "text": [
      "{'eval_loss': 0.41832518577575684, 'eval_accuracy': 0.9068493150684932, 'eval_runtime': 6.142, 'eval_samples_per_second': 237.706, 'eval_steps_per_second': 29.795, 'epoch': 28.0}\n",
      "{'loss': 0.18, 'grad_norm': 3.0979607105255127, 'learning_rate': 1.1021667168221488e-05, 'epoch': 28.02}\n",
      "{'loss': 0.1973, 'grad_norm': 6.464561462402344, 'learning_rate': 1.0946433945230213e-05, 'epoch': 28.07}\n",
      "{'loss': 0.2725, 'grad_norm': 11.833675384521484, 'learning_rate': 1.0871200722238941e-05, 'epoch': 28.12}\n",
      "{'loss': 0.1479, 'grad_norm': 8.367408752441406, 'learning_rate': 1.0795967499247668e-05, 'epoch': 28.17}\n",
      "{'loss': 0.1416, 'grad_norm': 8.328086853027344, 'learning_rate': 1.0720734276256396e-05, 'epoch': 28.21}\n",
      "{'loss': 0.2156, 'grad_norm': 13.52791690826416, 'learning_rate': 1.0645501053265122e-05, 'epoch': 28.26}\n",
      "{'loss': 0.2553, 'grad_norm': 9.827089309692383, 'learning_rate': 1.057026783027385e-05, 'epoch': 28.31}\n",
      "{'loss': 0.2355, 'grad_norm': 9.329617500305176, 'learning_rate': 1.0495034607282577e-05, 'epoch': 28.36}\n",
      "{'loss': 0.2058, 'grad_norm': 9.284987449645996, 'learning_rate': 1.0419801384291304e-05, 'epoch': 28.4}\n",
      "{'loss': 0.1939, 'grad_norm': 5.8675384521484375, 'learning_rate': 1.034456816130003e-05, 'epoch': 28.45}\n",
      "{'loss': 0.2481, 'grad_norm': 16.27242660522461, 'learning_rate': 1.0269334938308757e-05, 'epoch': 28.5}\n",
      "{'loss': 0.22, 'grad_norm': 16.943920135498047, 'learning_rate': 1.0194101715317485e-05, 'epoch': 28.54}\n",
      "{'loss': 0.2119, 'grad_norm': 14.077122688293457, 'learning_rate': 1.0118868492326211e-05, 'epoch': 28.59}\n",
      "{'loss': 0.2543, 'grad_norm': 17.29863929748535, 'learning_rate': 1.004363526933494e-05, 'epoch': 28.64}\n",
      "{'loss': 0.2152, 'grad_norm': 5.942380428314209, 'learning_rate': 9.968402046343666e-06, 'epoch': 28.69}\n",
      "{'loss': 0.2395, 'grad_norm': 14.641837120056152, 'learning_rate': 9.893168823352392e-06, 'epoch': 28.73}\n",
      "{'loss': 0.2156, 'grad_norm': 8.049460411071777, 'learning_rate': 9.817935600361119e-06, 'epoch': 28.78}\n",
      "{'loss': 0.2052, 'grad_norm': 8.106864929199219, 'learning_rate': 9.742702377369847e-06, 'epoch': 28.83}\n",
      "{'loss': 0.18, 'grad_norm': 9.828446388244629, 'learning_rate': 9.667469154378574e-06, 'epoch': 28.88}\n",
      "{'loss': 0.1543, 'grad_norm': 8.367891311645508, 'learning_rate': 9.592235931387302e-06, 'epoch': 28.92}\n",
      "{'loss': 0.1481, 'grad_norm': 6.180827617645264, 'learning_rate': 9.517002708396028e-06, 'epoch': 28.97}\n"
     ]
    },
    {
     "data": {
      "application/vnd.jupyter.widget-view+json": {
       "model_id": "115c6fbbc4bc475b86c9d13cbf9da142",
       "version_major": 2,
       "version_minor": 0
      },
      "text/plain": [
       "  0%|          | 0/183 [00:00<?, ?it/s]"
      ]
     },
     "metadata": {},
     "output_type": "display_data"
    },
    {
     "name": "stdout",
     "output_type": "stream",
     "text": [
      "{'eval_loss': 0.39936017990112305, 'eval_accuracy': 0.9095890410958904, 'eval_runtime': 6.2434, 'eval_samples_per_second': 233.846, 'eval_steps_per_second': 29.311, 'epoch': 29.0}\n",
      "{'loss': 0.1737, 'grad_norm': 4.335139274597168, 'learning_rate': 9.441769485404755e-06, 'epoch': 29.02}\n",
      "{'loss': 0.173, 'grad_norm': 7.964666843414307, 'learning_rate': 9.366536262413481e-06, 'epoch': 29.07}\n",
      "{'loss': 0.2133, 'grad_norm': 6.1081647872924805, 'learning_rate': 9.29130303942221e-06, 'epoch': 29.11}\n",
      "{'loss': 0.1858, 'grad_norm': 12.350641250610352, 'learning_rate': 9.216069816430936e-06, 'epoch': 29.16}\n",
      "{'loss': 0.2087, 'grad_norm': 8.837786674499512, 'learning_rate': 9.140836593439664e-06, 'epoch': 29.21}\n",
      "{'loss': 0.1809, 'grad_norm': 2.181053638458252, 'learning_rate': 9.06560337044839e-06, 'epoch': 29.25}\n",
      "{'loss': 0.158, 'grad_norm': 9.667939186096191, 'learning_rate': 8.990370147457119e-06, 'epoch': 29.3}\n",
      "{'loss': 0.2295, 'grad_norm': 7.335776329040527, 'learning_rate': 8.915136924465844e-06, 'epoch': 29.35}\n",
      "{'loss': 0.2159, 'grad_norm': 4.254685878753662, 'learning_rate': 8.839903701474572e-06, 'epoch': 29.4}\n",
      "{'loss': 0.1526, 'grad_norm': 2.9836573600769043, 'learning_rate': 8.764670478483298e-06, 'epoch': 29.44}\n",
      "{'loss': 0.211, 'grad_norm': 8.552689552307129, 'learning_rate': 8.689437255492025e-06, 'epoch': 29.49}\n",
      "{'loss': 0.2812, 'grad_norm': 8.533134460449219, 'learning_rate': 8.614204032500753e-06, 'epoch': 29.54}\n",
      "{'loss': 0.142, 'grad_norm': 6.841360092163086, 'learning_rate': 8.53897080950948e-06, 'epoch': 29.59}\n",
      "{'loss': 0.1356, 'grad_norm': 6.612742900848389, 'learning_rate': 8.463737586518208e-06, 'epoch': 29.63}\n",
      "{'loss': 0.1968, 'grad_norm': 5.485973834991455, 'learning_rate': 8.388504363526934e-06, 'epoch': 29.68}\n",
      "{'loss': 0.1999, 'grad_norm': 3.6342973709106445, 'learning_rate': 8.31327114053566e-06, 'epoch': 29.73}\n",
      "{'loss': 0.2303, 'grad_norm': 9.32873821258545, 'learning_rate': 8.238037917544387e-06, 'epoch': 29.78}\n",
      "{'loss': 0.1621, 'grad_norm': 6.906630516052246, 'learning_rate': 8.162804694553115e-06, 'epoch': 29.82}\n",
      "{'loss': 0.1828, 'grad_norm': 13.725852012634277, 'learning_rate': 8.087571471561842e-06, 'epoch': 29.87}\n",
      "{'loss': 0.1411, 'grad_norm': 8.523693084716797, 'learning_rate': 8.01233824857057e-06, 'epoch': 29.92}\n",
      "{'loss': 0.1829, 'grad_norm': 7.282522678375244, 'learning_rate': 7.937105025579297e-06, 'epoch': 29.96}\n"
     ]
    },
    {
     "data": {
      "application/vnd.jupyter.widget-view+json": {
       "model_id": "4ce07e398bb04744bd1c02a2c2f6b18a",
       "version_major": 2,
       "version_minor": 0
      },
      "text/plain": [
       "  0%|          | 0/183 [00:00<?, ?it/s]"
      ]
     },
     "metadata": {},
     "output_type": "display_data"
    },
    {
     "name": "stdout",
     "output_type": "stream",
     "text": [
      "{'eval_loss': 0.4040418565273285, 'eval_accuracy': 0.9068493150684932, 'eval_runtime': 6.112, 'eval_samples_per_second': 238.876, 'eval_steps_per_second': 29.941, 'epoch': 30.0}\n",
      "{'loss': 0.2549, 'grad_norm': 11.497525215148926, 'learning_rate': 7.861871802588023e-06, 'epoch': 30.01}\n",
      "{'loss': 0.182, 'grad_norm': 6.7957940101623535, 'learning_rate': 7.78663857959675e-06, 'epoch': 30.06}\n",
      "{'loss': 0.2116, 'grad_norm': 9.151453971862793, 'learning_rate': 7.711405356605478e-06, 'epoch': 30.11}\n",
      "{'loss': 0.1942, 'grad_norm': 5.54147481918335, 'learning_rate': 7.636172133614204e-06, 'epoch': 30.15}\n",
      "{'loss': 0.2368, 'grad_norm': 11.477782249450684, 'learning_rate': 7.560938910622932e-06, 'epoch': 30.2}\n",
      "{'loss': 0.1381, 'grad_norm': 5.206050395965576, 'learning_rate': 7.485705687631658e-06, 'epoch': 30.25}\n",
      "{'loss': 0.1993, 'grad_norm': 2.8993656635284424, 'learning_rate': 7.410472464640386e-06, 'epoch': 30.3}\n",
      "{'loss': 0.1527, 'grad_norm': 6.874945163726807, 'learning_rate': 7.335239241649113e-06, 'epoch': 30.34}\n",
      "{'loss': 0.1807, 'grad_norm': 9.630992889404297, 'learning_rate': 7.26000601865784e-06, 'epoch': 30.39}\n",
      "{'loss': 0.1252, 'grad_norm': 8.542771339416504, 'learning_rate': 7.1847727956665666e-06, 'epoch': 30.44}\n",
      "{'loss': 0.1616, 'grad_norm': 10.203761100769043, 'learning_rate': 7.109539572675293e-06, 'epoch': 30.49}\n",
      "{'loss': 0.2217, 'grad_norm': 12.158005714416504, 'learning_rate': 7.034306349684021e-06, 'epoch': 30.53}\n",
      "{'loss': 0.1693, 'grad_norm': 9.65265941619873, 'learning_rate': 6.959073126692747e-06, 'epoch': 30.58}\n",
      "{'loss': 0.1792, 'grad_norm': 8.076037406921387, 'learning_rate': 6.883839903701475e-06, 'epoch': 30.63}\n",
      "{'loss': 0.2104, 'grad_norm': 7.794898509979248, 'learning_rate': 6.8086066807102016e-06, 'epoch': 30.67}\n",
      "{'loss': 0.1614, 'grad_norm': 6.1947479248046875, 'learning_rate': 6.733373457718929e-06, 'epoch': 30.72}\n",
      "{'loss': 0.194, 'grad_norm': 9.220906257629395, 'learning_rate': 6.658140234727655e-06, 'epoch': 30.77}\n",
      "{'loss': 0.187, 'grad_norm': 6.673669338226318, 'learning_rate': 6.582907011736384e-06, 'epoch': 30.82}\n",
      "{'loss': 0.1783, 'grad_norm': 7.52375602722168, 'learning_rate': 6.50767378874511e-06, 'epoch': 30.86}\n",
      "{'loss': 0.2086, 'grad_norm': 7.332435131072998, 'learning_rate': 6.432440565753837e-06, 'epoch': 30.91}\n",
      "{'loss': 0.2191, 'grad_norm': 10.298328399658203, 'learning_rate': 6.357207342762564e-06, 'epoch': 30.96}\n"
     ]
    },
    {
     "data": {
      "application/vnd.jupyter.widget-view+json": {
       "model_id": "5b0943271c1244d5a139878549f3dec6",
       "version_major": 2,
       "version_minor": 0
      },
      "text/plain": [
       "  0%|          | 0/183 [00:00<?, ?it/s]"
      ]
     },
     "metadata": {},
     "output_type": "display_data"
    },
    {
     "name": "stdout",
     "output_type": "stream",
     "text": [
      "{'eval_loss': 0.3954011797904968, 'eval_accuracy': 0.910958904109589, 'eval_runtime': 6.0836, 'eval_samples_per_second': 239.991, 'eval_steps_per_second': 30.081, 'epoch': 31.0}\n",
      "{'loss': 0.226, 'grad_norm': 17.478641510009766, 'learning_rate': 6.281974119771292e-06, 'epoch': 31.01}\n",
      "{'loss': 0.1783, 'grad_norm': 7.5789079666137695, 'learning_rate': 6.206740896780018e-06, 'epoch': 31.05}\n",
      "{'loss': 0.1999, 'grad_norm': 12.559391021728516, 'learning_rate': 6.131507673788745e-06, 'epoch': 31.1}\n",
      "{'loss': 0.1432, 'grad_norm': 2.60347580909729, 'learning_rate': 6.056274450797472e-06, 'epoch': 31.15}\n",
      "{'loss': 0.1862, 'grad_norm': 13.352921485900879, 'learning_rate': 5.981041227806199e-06, 'epoch': 31.2}\n",
      "{'loss': 0.1912, 'grad_norm': 3.4894936084747314, 'learning_rate': 5.905808004814926e-06, 'epoch': 31.24}\n",
      "{'loss': 0.1934, 'grad_norm': 9.798748970031738, 'learning_rate': 5.830574781823654e-06, 'epoch': 31.29}\n",
      "{'loss': 0.1788, 'grad_norm': 9.327327728271484, 'learning_rate': 5.755341558832381e-06, 'epoch': 31.34}\n",
      "{'loss': 0.1427, 'grad_norm': 4.319284915924072, 'learning_rate': 5.680108335841107e-06, 'epoch': 31.38}\n",
      "{'loss': 0.1729, 'grad_norm': 13.766491889953613, 'learning_rate': 5.604875112849835e-06, 'epoch': 31.43}\n",
      "{'loss': 0.1486, 'grad_norm': 7.24221658706665, 'learning_rate': 5.529641889858562e-06, 'epoch': 31.48}\n",
      "{'loss': 0.2418, 'grad_norm': 9.38214111328125, 'learning_rate': 5.454408666867289e-06, 'epoch': 31.53}\n",
      "{'loss': 0.2531, 'grad_norm': 7.863073825836182, 'learning_rate': 5.379175443876016e-06, 'epoch': 31.57}\n",
      "{'loss': 0.2213, 'grad_norm': 10.41354751586914, 'learning_rate': 5.303942220884743e-06, 'epoch': 31.62}\n",
      "{'loss': 0.1964, 'grad_norm': 5.3752617835998535, 'learning_rate': 5.22870899789347e-06, 'epoch': 31.67}\n",
      "{'loss': 0.1503, 'grad_norm': 6.900928497314453, 'learning_rate': 5.153475774902197e-06, 'epoch': 31.72}\n",
      "{'loss': 0.1846, 'grad_norm': 9.406526565551758, 'learning_rate': 5.0782425519109244e-06, 'epoch': 31.76}\n",
      "{'loss': 0.1583, 'grad_norm': 5.645761489868164, 'learning_rate': 5.003009328919652e-06, 'epoch': 31.81}\n",
      "{'loss': 0.1649, 'grad_norm': 3.953580379486084, 'learning_rate': 4.927776105928378e-06, 'epoch': 31.86}\n",
      "{'loss': 0.1283, 'grad_norm': 6.54025936126709, 'learning_rate': 4.852542882937106e-06, 'epoch': 31.91}\n",
      "{'loss': 0.1585, 'grad_norm': 8.968388557434082, 'learning_rate': 4.777309659945833e-06, 'epoch': 31.95}\n",
      "{'loss': 0.1842, 'grad_norm': 12.953301429748535, 'learning_rate': 4.7020764369545595e-06, 'epoch': 32.0}\n"
     ]
    },
    {
     "data": {
      "application/vnd.jupyter.widget-view+json": {
       "model_id": "45158a63903542ddbb908b60e1d01bf8",
       "version_major": 2,
       "version_minor": 0
      },
      "text/plain": [
       "  0%|          | 0/183 [00:00<?, ?it/s]"
      ]
     },
     "metadata": {},
     "output_type": "display_data"
    },
    {
     "name": "stdout",
     "output_type": "stream",
     "text": [
      "{'eval_loss': 0.3968183100223541, 'eval_accuracy': 0.910958904109589, 'eval_runtime': 6.1788, 'eval_samples_per_second': 236.29, 'eval_steps_per_second': 29.617, 'epoch': 32.0}\n",
      "{'loss': 0.159, 'grad_norm': 4.856642246246338, 'learning_rate': 4.626843213963286e-06, 'epoch': 32.05}\n",
      "{'loss': 0.1336, 'grad_norm': 4.019081115722656, 'learning_rate': 4.551609990972013e-06, 'epoch': 32.09}\n",
      "{'loss': 0.1943, 'grad_norm': 11.31279182434082, 'learning_rate': 4.476376767980741e-06, 'epoch': 32.14}\n",
      "{'loss': 0.1555, 'grad_norm': 7.204745769500732, 'learning_rate': 4.401143544989467e-06, 'epoch': 32.19}\n",
      "{'loss': 0.2125, 'grad_norm': 10.213384628295898, 'learning_rate': 4.3259103219981945e-06, 'epoch': 32.24}\n",
      "{'loss': 0.1564, 'grad_norm': 5.959835529327393, 'learning_rate': 4.250677099006922e-06, 'epoch': 32.28}\n",
      "{'loss': 0.1793, 'grad_norm': 7.325605392456055, 'learning_rate': 4.175443876015648e-06, 'epoch': 32.33}\n",
      "{'loss': 0.1941, 'grad_norm': 4.787714958190918, 'learning_rate': 4.100210653024376e-06, 'epoch': 32.38}\n",
      "{'loss': 0.1736, 'grad_norm': 10.980713844299316, 'learning_rate': 4.024977430033103e-06, 'epoch': 32.43}\n",
      "{'loss': 0.1578, 'grad_norm': 13.253569602966309, 'learning_rate': 3.9497442070418295e-06, 'epoch': 32.47}\n",
      "{'loss': 0.1701, 'grad_norm': 5.67722225189209, 'learning_rate': 3.874510984050557e-06, 'epoch': 32.52}\n",
      "{'loss': 0.2074, 'grad_norm': 10.403371810913086, 'learning_rate': 3.799277761059284e-06, 'epoch': 32.57}\n",
      "{'loss': 0.1499, 'grad_norm': 5.005650043487549, 'learning_rate': 3.724044538068011e-06, 'epoch': 32.62}\n",
      "{'loss': 0.1112, 'grad_norm': 7.560992240905762, 'learning_rate': 3.6488113150767384e-06, 'epoch': 32.66}\n",
      "{'loss': 0.2242, 'grad_norm': 10.109014511108398, 'learning_rate': 3.5735780920854653e-06, 'epoch': 32.71}\n",
      "{'loss': 0.2449, 'grad_norm': 7.1409525871276855, 'learning_rate': 3.4983448690941922e-06, 'epoch': 32.76}\n",
      "{'loss': 0.1847, 'grad_norm': 9.117083549499512, 'learning_rate': 3.4231116461029196e-06, 'epoch': 32.8}\n",
      "{'loss': 0.147, 'grad_norm': 11.094867706298828, 'learning_rate': 3.3478784231116465e-06, 'epoch': 32.85}\n",
      "{'loss': 0.1556, 'grad_norm': 8.522062301635742, 'learning_rate': 3.2726452001203734e-06, 'epoch': 32.9}\n",
      "{'loss': 0.1864, 'grad_norm': 4.309238433837891, 'learning_rate': 3.1974119771291008e-06, 'epoch': 32.95}\n",
      "{'loss': 0.1833, 'grad_norm': 16.177001953125, 'learning_rate': 3.1221787541378272e-06, 'epoch': 32.99}\n"
     ]
    },
    {
     "data": {
      "application/vnd.jupyter.widget-view+json": {
       "model_id": "bf3983fd6c4844928585dc6243f90d1d",
       "version_major": 2,
       "version_minor": 0
      },
      "text/plain": [
       "  0%|          | 0/183 [00:00<?, ?it/s]"
      ]
     },
     "metadata": {},
     "output_type": "display_data"
    },
    {
     "name": "stdout",
     "output_type": "stream",
     "text": [
      "{'eval_loss': 0.41630348563194275, 'eval_accuracy': 0.9089041095890411, 'eval_runtime': 6.2634, 'eval_samples_per_second': 233.101, 'eval_steps_per_second': 29.217, 'epoch': 33.0}\n",
      "{'loss': 0.1724, 'grad_norm': 4.449179649353027, 'learning_rate': 3.0469455311465546e-06, 'epoch': 33.04}\n",
      "{'loss': 0.2433, 'grad_norm': 11.228163719177246, 'learning_rate': 2.9717123081552815e-06, 'epoch': 33.09}\n",
      "{'loss': 0.2095, 'grad_norm': 9.91794204711914, 'learning_rate': 2.896479085164009e-06, 'epoch': 33.14}\n",
      "{'loss': 0.1858, 'grad_norm': 11.325150489807129, 'learning_rate': 2.8212458621727358e-06, 'epoch': 33.18}\n",
      "{'loss': 0.1808, 'grad_norm': 11.480091094970703, 'learning_rate': 2.7460126391814627e-06, 'epoch': 33.23}\n",
      "{'loss': 0.1749, 'grad_norm': 6.75496244430542, 'learning_rate': 2.6707794161901896e-06, 'epoch': 33.28}\n",
      "{'loss': 0.1445, 'grad_norm': 7.288575649261475, 'learning_rate': 2.5955461931989165e-06, 'epoch': 33.33}\n",
      "{'loss': 0.1576, 'grad_norm': 17.545753479003906, 'learning_rate': 2.520312970207644e-06, 'epoch': 33.37}\n",
      "{'loss': 0.13, 'grad_norm': 10.093124389648438, 'learning_rate': 2.4450797472163708e-06, 'epoch': 33.42}\n",
      "{'loss': 0.1566, 'grad_norm': 5.900517463684082, 'learning_rate': 2.369846524225098e-06, 'epoch': 33.47}\n",
      "{'loss': 0.1964, 'grad_norm': 6.571379661560059, 'learning_rate': 2.294613301233825e-06, 'epoch': 33.51}\n",
      "{'loss': 0.1557, 'grad_norm': 6.941065311431885, 'learning_rate': 2.219380078242552e-06, 'epoch': 33.56}\n",
      "{'loss': 0.2158, 'grad_norm': 8.533344268798828, 'learning_rate': 2.1441468552512793e-06, 'epoch': 33.61}\n",
      "{'loss': 0.1497, 'grad_norm': 4.303415775299072, 'learning_rate': 2.068913632260006e-06, 'epoch': 33.66}\n",
      "{'loss': 0.1462, 'grad_norm': 2.482029914855957, 'learning_rate': 1.9936804092687335e-06, 'epoch': 33.7}\n",
      "{'loss': 0.1332, 'grad_norm': 3.6415491104125977, 'learning_rate': 1.91844718627746e-06, 'epoch': 33.75}\n",
      "{'loss': 0.1364, 'grad_norm': 8.916268348693848, 'learning_rate': 1.8432139632861872e-06, 'epoch': 33.8}\n",
      "{'loss': 0.2007, 'grad_norm': 5.632096767425537, 'learning_rate': 1.7679807402949143e-06, 'epoch': 33.85}\n",
      "{'loss': 0.1156, 'grad_norm': 8.119802474975586, 'learning_rate': 1.6927475173036414e-06, 'epoch': 33.89}\n",
      "{'loss': 0.1708, 'grad_norm': 6.349978446960449, 'learning_rate': 1.6175142943123683e-06, 'epoch': 33.94}\n",
      "{'loss': 0.1728, 'grad_norm': 7.916631698608398, 'learning_rate': 1.5422810713210955e-06, 'epoch': 33.99}\n"
     ]
    },
    {
     "data": {
      "application/vnd.jupyter.widget-view+json": {
       "model_id": "22bbc751b2ce452683b089f56ef4767b",
       "version_major": 2,
       "version_minor": 0
      },
      "text/plain": [
       "  0%|          | 0/183 [00:00<?, ?it/s]"
      ]
     },
     "metadata": {},
     "output_type": "display_data"
    },
    {
     "name": "stdout",
     "output_type": "stream",
     "text": [
      "{'eval_loss': 0.420358806848526, 'eval_accuracy': 0.9075342465753424, 'eval_runtime': 6.1196, 'eval_samples_per_second': 238.577, 'eval_steps_per_second': 29.904, 'epoch': 34.0}\n",
      "{'loss': 0.137, 'grad_norm': 7.621824741363525, 'learning_rate': 1.4670478483298226e-06, 'epoch': 34.04}\n",
      "{'loss': 0.1626, 'grad_norm': 4.038236141204834, 'learning_rate': 1.3918146253385495e-06, 'epoch': 34.08}\n",
      "{'loss': 0.1651, 'grad_norm': 5.0053558349609375, 'learning_rate': 1.3165814023472766e-06, 'epoch': 34.13}\n",
      "{'loss': 0.1458, 'grad_norm': 12.053594589233398, 'learning_rate': 1.2413481793560035e-06, 'epoch': 34.18}\n",
      "{'loss': 0.1848, 'grad_norm': 8.431727409362793, 'learning_rate': 1.1661149563647307e-06, 'epoch': 34.22}\n",
      "{'loss': 0.1581, 'grad_norm': 6.528326034545898, 'learning_rate': 1.0908817333734578e-06, 'epoch': 34.27}\n",
      "{'loss': 0.1662, 'grad_norm': 8.678977012634277, 'learning_rate': 1.015648510382185e-06, 'epoch': 34.32}\n",
      "{'loss': 0.1751, 'grad_norm': 4.814255714416504, 'learning_rate': 9.404152873909118e-07, 'epoch': 34.37}\n",
      "{'loss': 0.1469, 'grad_norm': 14.819906234741211, 'learning_rate': 8.651820643996389e-07, 'epoch': 34.41}\n",
      "{'loss': 0.1635, 'grad_norm': 36.21095275878906, 'learning_rate': 7.89948841408366e-07, 'epoch': 34.46}\n",
      "{'loss': 0.1829, 'grad_norm': 6.061919689178467, 'learning_rate': 7.14715618417093e-07, 'epoch': 34.51}\n",
      "{'loss': 0.1347, 'grad_norm': 11.484111785888672, 'learning_rate': 6.3948239542582e-07, 'epoch': 34.56}\n",
      "{'loss': 0.1765, 'grad_norm': 11.295050621032715, 'learning_rate': 5.642491724345472e-07, 'epoch': 34.6}\n",
      "{'loss': 0.2476, 'grad_norm': 7.9745917320251465, 'learning_rate': 4.890159494432741e-07, 'epoch': 34.65}\n",
      "{'loss': 0.2117, 'grad_norm': 20.767650604248047, 'learning_rate': 4.137827264520012e-07, 'epoch': 34.7}\n",
      "{'loss': 0.1791, 'grad_norm': 10.046299934387207, 'learning_rate': 3.3854950346072824e-07, 'epoch': 34.75}\n",
      "{'loss': 0.1311, 'grad_norm': 5.846187591552734, 'learning_rate': 2.633162804694553e-07, 'epoch': 34.79}\n",
      "{'loss': 0.238, 'grad_norm': 10.293211936950684, 'learning_rate': 1.880830574781824e-07, 'epoch': 34.84}\n",
      "{'loss': 0.1706, 'grad_norm': 8.225301742553711, 'learning_rate': 1.1284983448690941e-07, 'epoch': 34.89}\n",
      "{'loss': 0.2003, 'grad_norm': 10.706038475036621, 'learning_rate': 3.7616611495636476e-08, 'epoch': 34.93}\n"
     ]
    },
    {
     "data": {
      "application/vnd.jupyter.widget-view+json": {
       "model_id": "38a03c65280a494997bcf194689df1b5",
       "version_major": 2,
       "version_minor": 0
      },
      "text/plain": [
       "  0%|          | 0/183 [00:00<?, ?it/s]"
      ]
     },
     "metadata": {},
     "output_type": "display_data"
    },
    {
     "name": "stdout",
     "output_type": "stream",
     "text": [
      "{'eval_loss': 0.4179632365703583, 'eval_accuracy': 0.9061643835616439, 'eval_runtime': 6.2707, 'eval_samples_per_second': 232.83, 'eval_steps_per_second': 29.183, 'epoch': 34.96}\n",
      "{'train_runtime': 2527.3996, 'train_samples_per_second': 93.531, 'train_steps_per_second': 2.922, 'train_loss': 0.334529117377287, 'epoch': 34.96}\n",
      "***** train metrics *****\n",
      "  epoch                    =      34.9586\n",
      "  total_flos               = 7154902524GF\n",
      "  train_loss               =       0.3345\n",
      "  train_runtime            =   0:42:07.39\n",
      "  train_samples_per_second =       93.531\n",
      "  train_steps_per_second   =        2.922\n"
     ]
    }
   ],
   "source": [
    "train_results = trainer.train()\n",
    "# rest is optional but nice to have\n",
    "trainer.save_model()\n",
    "trainer.log_metrics(\"train\", train_results.metrics)\n",
    "trainer.save_metrics(\"train\", train_results.metrics)\n",
    "trainer.save_state()"
   ]
  },
  {
   "cell_type": "code",
   "execution_count": 27,
   "metadata": {},
   "outputs": [
    {
     "data": {
      "application/vnd.jupyter.widget-view+json": {
       "model_id": "73dc4d042de34bac90c5a40628eaf3b7",
       "version_major": 2,
       "version_minor": 0
      },
      "text/plain": [
       "  0%|          | 0/183 [00:00<?, ?it/s]"
      ]
     },
     "metadata": {},
     "output_type": "display_data"
    },
    {
     "name": "stdout",
     "output_type": "stream",
     "text": [
      "***** eval metrics *****\n",
      "  epoch                   =    34.9586\n",
      "  eval_accuracy           =      0.911\n",
      "  eval_loss               =     0.3806\n",
      "  eval_runtime            = 0:00:06.06\n",
      "  eval_samples_per_second =    240.766\n",
      "  eval_steps_per_second   =     30.178\n"
     ]
    }
   ],
   "source": [
    "metrics = trainer.evaluate()\n",
    "# some nice to haves:\n",
    "trainer.log_metrics(\"eval\", metrics)\n",
    "trainer.save_metrics(\"eval\", metrics)"
   ]
  },
  {
   "cell_type": "code",
   "execution_count": 28,
   "metadata": {},
   "outputs": [],
   "source": [
    "from transformers import AutoModelForImageClassification, AutoImageProcessor\n",
    "\n",
    "# pretrain_path = r\"C:\\Users\\User\\Desktop\\Code\\Github\\Final_project\\WASSUP_EST_FINAL_Team4\\swinv2-tiny-patch4-window8-256-finetuned-emotions-train-masked\\checkpoint-2516\"\n",
    "# pretrain_path = r'C:\\Users\\User\\Desktop\\Code\\Github\\Final_project\\swinv2-tiny-patch4-window8-256-finetuned-eurosat\\checkpoint-2516'\n",
    "pretrain_path = r'C:\\Users\\User\\Desktop\\Code\\Github\\Final_project\\WASSUP_EST_FINAL_Team4\\swinv2-tiny-patch4-window8-256-finetuned-5emotions\\checkpoint-5281'\n",
    "model_trained = AutoModelForImageClassification.from_pretrained(pretrain_path)\n",
    "test_img_processor = AutoImageProcessor.from_pretrained(pretrain_path)"
   ]
  },
  {
   "cell_type": "code",
   "execution_count": 29,
   "metadata": {},
   "outputs": [
    {
     "name": "stdout",
     "output_type": "stream",
     "text": [
      "Emotion 분노 stwqfff0a1f114d3475946c1d4b321d5df08776b1d626373dcdfe242bbad4haix.jpg Not available\n",
      "Emotion 중립 18682daa07165675e5fe8ee4b8985cc46d6cb509c83e5e5944b257b4c63492d33020210119175208008006.jpg Not available\n",
      "Emotion 당황 8bj909c3084349a3804abb06e89e69b3305a51b298beb50639d51dd020389jqpq.jpg Not available\n"
     ]
    }
   ],
   "source": [
    "json_test = get_json_list_1d(TEST_JSON_PATH)\n",
    "test_img, test_label = load_image_and_label_1D(json_test, TEST_IMG_PATH)"
   ]
  },
  {
   "cell_type": "code",
   "execution_count": 30,
   "metadata": {},
   "outputs": [
    {
     "data": {
      "text/plain": [
       "['Anger',\n",
       " 'Anger',\n",
       " 'Anger',\n",
       " 'Anger',\n",
       " 'Anger',\n",
       " 'Anger',\n",
       " 'Anger',\n",
       " 'Panic',\n",
       " 'Anger',\n",
       " 'Anger',\n",
       " 'Anger',\n",
       " 'Anger',\n",
       " 'Anger',\n",
       " 'Anger',\n",
       " 'Panic',\n",
       " 'Sadness',\n",
       " 'Anger',\n",
       " 'Anger',\n",
       " 'Anger',\n",
       " 'Anger',\n",
       " 'Anger',\n",
       " 'Panic',\n",
       " 'Anger',\n",
       " 'Anger',\n",
       " 'Anger',\n",
       " 'Sadness',\n",
       " 'Sadness',\n",
       " 'Anger',\n",
       " 'Sadness',\n",
       " 'Anger',\n",
       " 'Panic',\n",
       " 'Anger',\n",
       " 'Anger',\n",
       " 'Anger',\n",
       " 'Anger',\n",
       " 'Anger',\n",
       " 'Sadness',\n",
       " 'Anger',\n",
       " 'Anger',\n",
       " 'Anger',\n",
       " 'Anger',\n",
       " 'Anger',\n",
       " 'Sadness',\n",
       " 'Anger',\n",
       " 'Panic',\n",
       " 'Anger',\n",
       " 'Anger',\n",
       " 'Anger',\n",
       " 'Anger',\n",
       " 'Anger',\n",
       " 'Anger',\n",
       " 'Anger',\n",
       " 'Anger',\n",
       " 'Anger',\n",
       " 'Anger',\n",
       " 'Anger',\n",
       " 'Anger',\n",
       " 'Anger',\n",
       " 'Panic',\n",
       " 'Sadness',\n",
       " 'Anger',\n",
       " 'Anger',\n",
       " 'Anger',\n",
       " 'Anger',\n",
       " 'Anger',\n",
       " 'Sadness',\n",
       " 'Sadness',\n",
       " 'Anger',\n",
       " 'Anger',\n",
       " 'Anger',\n",
       " 'Anger',\n",
       " 'Sadness',\n",
       " 'Sadness',\n",
       " 'Anger',\n",
       " 'Panic',\n",
       " 'Anger',\n",
       " 'Sadness',\n",
       " 'Anger',\n",
       " 'Anger',\n",
       " 'Anger',\n",
       " 'Panic',\n",
       " 'Anger',\n",
       " 'Happy',\n",
       " 'Anger',\n",
       " 'Anger',\n",
       " 'Anger',\n",
       " 'Sadness',\n",
       " 'Anger',\n",
       " 'Panic',\n",
       " 'Anger',\n",
       " 'Panic',\n",
       " 'Sadness',\n",
       " 'Anger',\n",
       " 'Anger',\n",
       " 'Anger',\n",
       " 'Anger',\n",
       " 'Anger',\n",
       " 'Anger',\n",
       " 'Sadness',\n",
       " 'Sadness',\n",
       " 'Anger',\n",
       " 'Panic',\n",
       " 'Anger',\n",
       " 'Anger',\n",
       " 'Anger',\n",
       " 'Anger',\n",
       " 'Anger',\n",
       " 'Anger',\n",
       " 'Anger',\n",
       " 'Anger',\n",
       " 'Anger',\n",
       " 'Anger',\n",
       " 'Anger',\n",
       " 'Anger',\n",
       " 'Anger',\n",
       " 'Sadness',\n",
       " 'Anger',\n",
       " 'Panic',\n",
       " 'Sadness',\n",
       " 'Anger',\n",
       " 'Anger',\n",
       " 'Anger',\n",
       " 'Anger',\n",
       " 'Anger',\n",
       " 'Anger',\n",
       " 'Anger',\n",
       " 'Anger',\n",
       " 'Anger',\n",
       " 'Anger',\n",
       " 'Anger',\n",
       " 'Anger',\n",
       " 'Sadness',\n",
       " 'Anger',\n",
       " 'Anger',\n",
       " 'Anger',\n",
       " 'Panic',\n",
       " 'Anger',\n",
       " 'Anger',\n",
       " 'Anger',\n",
       " 'Anger',\n",
       " 'Panic',\n",
       " 'Anger',\n",
       " 'Happy',\n",
       " 'Anger',\n",
       " 'Anger',\n",
       " 'Sadness',\n",
       " 'Anger',\n",
       " 'Anger',\n",
       " 'Anger',\n",
       " 'Anger',\n",
       " 'Anger',\n",
       " 'Anger',\n",
       " 'Anger',\n",
       " 'Anger',\n",
       " 'Anger',\n",
       " 'Anger',\n",
       " 'Anger',\n",
       " 'Anger',\n",
       " 'Anger',\n",
       " 'Sadness',\n",
       " 'Panic',\n",
       " 'Sadness',\n",
       " 'Sadness',\n",
       " 'Anger',\n",
       " 'Anger',\n",
       " 'Anger',\n",
       " 'Anger',\n",
       " 'Anger',\n",
       " 'Anger',\n",
       " 'Anger',\n",
       " 'Sadness',\n",
       " 'Anger',\n",
       " 'Sadness',\n",
       " 'Anger',\n",
       " 'Anger',\n",
       " 'Anger',\n",
       " 'Anger',\n",
       " 'Anger',\n",
       " 'Anger',\n",
       " 'Anger',\n",
       " 'Sadness',\n",
       " 'Anger',\n",
       " 'Anger',\n",
       " 'Anger',\n",
       " 'Panic',\n",
       " 'Anger',\n",
       " 'Sadness',\n",
       " 'Anger',\n",
       " 'Anger',\n",
       " 'Happy',\n",
       " 'Anger',\n",
       " 'Anger',\n",
       " 'Panic',\n",
       " 'Anger',\n",
       " 'Anger',\n",
       " 'Anger',\n",
       " 'Anger',\n",
       " 'Anger',\n",
       " 'Anger',\n",
       " 'Anger',\n",
       " 'Anger',\n",
       " 'Anger',\n",
       " 'Anger',\n",
       " 'Anger',\n",
       " 'Sadness',\n",
       " 'Anger',\n",
       " 'Anger',\n",
       " 'Anger',\n",
       " 'Anger',\n",
       " 'Panic',\n",
       " 'Anger',\n",
       " 'Anger',\n",
       " 'Anger',\n",
       " 'Sadness',\n",
       " 'Anger',\n",
       " 'Anger',\n",
       " 'Anger',\n",
       " 'Anger',\n",
       " 'Panic',\n",
       " 'Anger',\n",
       " 'Anger',\n",
       " 'Anger',\n",
       " 'Panic',\n",
       " 'Anger',\n",
       " 'Sadness',\n",
       " 'Sadness',\n",
       " 'Anger',\n",
       " 'Sadness',\n",
       " 'Anger',\n",
       " 'Anger',\n",
       " 'Anger',\n",
       " 'Anger',\n",
       " 'Anger',\n",
       " 'Anger',\n",
       " 'Panic',\n",
       " 'Anger',\n",
       " 'Anger',\n",
       " 'Anger',\n",
       " 'Sadness',\n",
       " 'Anger',\n",
       " 'Anger',\n",
       " 'Anger',\n",
       " 'Happy',\n",
       " 'Anger',\n",
       " 'Sadness',\n",
       " 'Anger',\n",
       " 'Anger',\n",
       " 'Anger',\n",
       " 'Anger',\n",
       " 'Anger',\n",
       " 'Anger',\n",
       " 'Anger',\n",
       " 'Anger',\n",
       " 'Anger',\n",
       " 'Happy',\n",
       " 'Anger',\n",
       " 'Sadness',\n",
       " 'Anger',\n",
       " 'Anger',\n",
       " 'Anger',\n",
       " 'Panic',\n",
       " 'Anger',\n",
       " 'Sadness',\n",
       " 'Anger',\n",
       " 'Anger',\n",
       " 'Anger',\n",
       " 'Sadness',\n",
       " 'Happy',\n",
       " 'Anger',\n",
       " 'Anger',\n",
       " 'Sadness',\n",
       " 'Anger',\n",
       " 'Sadness',\n",
       " 'Anger',\n",
       " 'Anger',\n",
       " 'Anger',\n",
       " 'Anger',\n",
       " 'Sadness',\n",
       " 'Anger',\n",
       " 'Happy',\n",
       " 'Happy',\n",
       " 'Happy',\n",
       " 'Happy',\n",
       " 'Happy',\n",
       " 'Happy',\n",
       " 'Happy',\n",
       " 'Panic',\n",
       " 'Happy',\n",
       " 'Happy',\n",
       " 'Happy',\n",
       " 'Happy',\n",
       " 'Happy',\n",
       " 'Happy',\n",
       " 'Happy',\n",
       " 'Happy',\n",
       " 'Happy',\n",
       " 'Happy',\n",
       " 'Happy',\n",
       " 'Happy',\n",
       " 'Happy',\n",
       " 'Happy',\n",
       " 'Happy',\n",
       " 'Happy',\n",
       " 'Happy',\n",
       " 'Happy',\n",
       " 'Happy',\n",
       " 'Happy',\n",
       " 'Happy',\n",
       " 'Happy',\n",
       " 'Happy',\n",
       " 'Happy',\n",
       " 'Happy',\n",
       " 'Happy',\n",
       " 'Happy',\n",
       " 'Anger',\n",
       " 'Happy',\n",
       " 'Happy',\n",
       " 'Happy',\n",
       " 'Happy',\n",
       " 'Happy',\n",
       " 'Happy',\n",
       " 'Happy',\n",
       " 'Happy',\n",
       " 'Happy',\n",
       " 'Happy',\n",
       " 'Happy',\n",
       " 'Happy',\n",
       " 'Happy',\n",
       " 'Happy',\n",
       " 'Happy',\n",
       " 'Happy',\n",
       " 'Happy',\n",
       " 'Happy',\n",
       " 'Happy',\n",
       " 'Happy',\n",
       " 'Happy',\n",
       " 'Happy',\n",
       " 'Happy',\n",
       " 'Happy',\n",
       " 'Happy',\n",
       " 'Happy',\n",
       " 'Happy',\n",
       " 'Happy',\n",
       " 'Happy',\n",
       " 'Happy',\n",
       " 'Happy',\n",
       " 'Anger',\n",
       " 'Happy',\n",
       " 'Happy',\n",
       " 'Happy',\n",
       " 'Happy',\n",
       " 'Happy',\n",
       " 'Happy',\n",
       " 'Happy',\n",
       " 'Happy',\n",
       " 'Happy',\n",
       " 'Happy',\n",
       " 'Happy',\n",
       " 'Happy',\n",
       " 'Happy',\n",
       " 'Happy',\n",
       " 'Happy',\n",
       " 'Happy',\n",
       " 'Happy',\n",
       " 'Anger',\n",
       " 'Happy',\n",
       " 'Happy',\n",
       " 'Happy',\n",
       " 'Happy',\n",
       " 'Happy',\n",
       " 'Happy',\n",
       " 'Happy',\n",
       " 'Happy',\n",
       " 'Happy',\n",
       " 'Happy',\n",
       " 'Happy',\n",
       " 'Happy',\n",
       " 'Happy',\n",
       " 'Happy',\n",
       " 'Happy',\n",
       " 'Happy',\n",
       " 'Sadness',\n",
       " 'Happy',\n",
       " 'Happy',\n",
       " 'Happy',\n",
       " 'Happy',\n",
       " 'Happy',\n",
       " 'Happy',\n",
       " 'Happy',\n",
       " 'Happy',\n",
       " 'Happy',\n",
       " 'Happy',\n",
       " 'Happy',\n",
       " 'Happy',\n",
       " 'Happy',\n",
       " 'Happy',\n",
       " 'Happy',\n",
       " 'Happy',\n",
       " 'Happy',\n",
       " 'Happy',\n",
       " 'Happy',\n",
       " 'Happy',\n",
       " 'Happy',\n",
       " 'Happy',\n",
       " 'Happy',\n",
       " 'Happy',\n",
       " 'Happy',\n",
       " 'Happy',\n",
       " 'Happy',\n",
       " 'Happy',\n",
       " 'Happy',\n",
       " 'Happy',\n",
       " 'Happy',\n",
       " 'Happy',\n",
       " 'Happy',\n",
       " 'Happy',\n",
       " 'Happy',\n",
       " 'Sadness',\n",
       " 'Happy',\n",
       " 'Happy',\n",
       " 'Happy',\n",
       " 'Happy',\n",
       " 'Anger',\n",
       " 'Happy',\n",
       " 'Happy',\n",
       " 'Happy',\n",
       " 'Happy',\n",
       " 'Happy',\n",
       " 'Happy',\n",
       " 'Happy',\n",
       " 'Happy',\n",
       " 'Happy',\n",
       " 'Happy',\n",
       " 'Happy',\n",
       " 'Happy',\n",
       " 'Happy',\n",
       " 'Happy',\n",
       " 'Happy',\n",
       " 'Happy',\n",
       " 'Happy',\n",
       " 'Happy',\n",
       " 'Happy',\n",
       " 'Happy',\n",
       " 'Happy',\n",
       " 'Happy',\n",
       " 'Happy',\n",
       " 'Happy',\n",
       " 'Happy',\n",
       " 'Happy',\n",
       " 'Happy',\n",
       " 'Happy',\n",
       " 'Happy',\n",
       " 'Happy',\n",
       " 'Happy',\n",
       " 'Happy',\n",
       " 'Happy',\n",
       " 'Happy',\n",
       " 'Happy',\n",
       " 'Anger',\n",
       " 'Happy',\n",
       " 'Happy',\n",
       " 'Happy',\n",
       " 'Happy',\n",
       " 'Happy',\n",
       " 'Happy',\n",
       " 'Happy',\n",
       " 'Happy',\n",
       " 'Happy',\n",
       " 'Happy',\n",
       " 'Happy',\n",
       " 'Happy',\n",
       " 'Happy',\n",
       " 'Happy',\n",
       " 'Happy',\n",
       " 'Happy',\n",
       " 'Happy',\n",
       " 'Happy',\n",
       " 'Happy',\n",
       " 'Happy',\n",
       " 'Happy',\n",
       " 'Happy',\n",
       " 'Happy',\n",
       " 'Happy',\n",
       " 'Happy',\n",
       " 'Happy',\n",
       " 'Happy',\n",
       " 'Happy',\n",
       " 'Happy',\n",
       " 'Happy',\n",
       " 'Happy',\n",
       " 'Happy',\n",
       " 'Happy',\n",
       " 'Happy',\n",
       " 'Happy',\n",
       " 'Happy',\n",
       " 'Happy',\n",
       " 'Happy',\n",
       " 'Happy',\n",
       " 'Happy',\n",
       " 'Happy',\n",
       " 'Happy',\n",
       " 'Happy',\n",
       " 'Happy',\n",
       " 'Happy',\n",
       " 'Happy',\n",
       " 'Happy',\n",
       " 'Happy',\n",
       " 'Happy',\n",
       " 'Happy',\n",
       " 'Happy',\n",
       " 'Happy',\n",
       " 'Happy',\n",
       " 'Happy',\n",
       " 'Happy',\n",
       " 'Happy',\n",
       " 'Happy',\n",
       " 'Happy',\n",
       " 'Sadness',\n",
       " 'Happy',\n",
       " 'Happy',\n",
       " 'Happy',\n",
       " 'Happy',\n",
       " 'Happy',\n",
       " 'Happy',\n",
       " 'Happy',\n",
       " 'Happy',\n",
       " 'Happy',\n",
       " 'Happy',\n",
       " 'Happy',\n",
       " 'Happy',\n",
       " 'Happy',\n",
       " 'Happy',\n",
       " 'Happy',\n",
       " 'Happy',\n",
       " 'Happy',\n",
       " 'Happy',\n",
       " 'Happy',\n",
       " 'Happy',\n",
       " 'Happy',\n",
       " 'Happy',\n",
       " 'Happy',\n",
       " 'Happy',\n",
       " 'Happy',\n",
       " 'Happy',\n",
       " 'Happy',\n",
       " 'Happy',\n",
       " 'Happy',\n",
       " 'Happy',\n",
       " 'Happy',\n",
       " 'Happy',\n",
       " 'Happy',\n",
       " 'Happy',\n",
       " 'Happy',\n",
       " 'Happy',\n",
       " 'Happy',\n",
       " 'Happy',\n",
       " 'Happy',\n",
       " 'Happy',\n",
       " 'Happy',\n",
       " 'Happy',\n",
       " 'Happy',\n",
       " 'Happy',\n",
       " 'Happy',\n",
       " 'Happy',\n",
       " 'Happy',\n",
       " 'Happy',\n",
       " 'Happy',\n",
       " 'Happy',\n",
       " 'Happy',\n",
       " 'Happy',\n",
       " 'Happy',\n",
       " 'Happy',\n",
       " 'Happy',\n",
       " 'Happy',\n",
       " 'Happy',\n",
       " 'Happy',\n",
       " 'Happy',\n",
       " 'Neutral',\n",
       " 'Neutral',\n",
       " 'Neutral',\n",
       " 'Neutral',\n",
       " 'Neutral',\n",
       " 'Neutral',\n",
       " 'Neutral',\n",
       " 'Neutral',\n",
       " 'Neutral',\n",
       " 'Neutral',\n",
       " 'Neutral',\n",
       " 'Neutral',\n",
       " 'Neutral',\n",
       " 'Neutral',\n",
       " 'Neutral',\n",
       " 'Neutral',\n",
       " 'Neutral',\n",
       " 'Neutral',\n",
       " 'Neutral',\n",
       " 'Neutral',\n",
       " 'Neutral',\n",
       " 'Neutral',\n",
       " 'Neutral',\n",
       " 'Neutral',\n",
       " 'Neutral',\n",
       " 'Neutral',\n",
       " 'Neutral',\n",
       " 'Neutral',\n",
       " 'Neutral',\n",
       " 'Neutral',\n",
       " 'Neutral',\n",
       " 'Neutral',\n",
       " 'Neutral',\n",
       " 'Neutral',\n",
       " 'Neutral',\n",
       " 'Neutral',\n",
       " 'Neutral',\n",
       " 'Neutral',\n",
       " 'Neutral',\n",
       " 'Neutral',\n",
       " 'Neutral',\n",
       " 'Neutral',\n",
       " 'Neutral',\n",
       " 'Neutral',\n",
       " 'Neutral',\n",
       " 'Neutral',\n",
       " 'Neutral',\n",
       " 'Neutral',\n",
       " 'Neutral',\n",
       " 'Neutral',\n",
       " 'Neutral',\n",
       " 'Neutral',\n",
       " 'Neutral',\n",
       " 'Neutral',\n",
       " 'Neutral',\n",
       " 'Neutral',\n",
       " 'Neutral',\n",
       " 'Neutral',\n",
       " 'Neutral',\n",
       " 'Neutral',\n",
       " 'Neutral',\n",
       " 'Neutral',\n",
       " 'Neutral',\n",
       " 'Neutral',\n",
       " 'Neutral',\n",
       " 'Neutral',\n",
       " 'Neutral',\n",
       " 'Neutral',\n",
       " 'Neutral',\n",
       " 'Neutral',\n",
       " 'Neutral',\n",
       " 'Neutral',\n",
       " 'Neutral',\n",
       " 'Neutral',\n",
       " 'Neutral',\n",
       " 'Neutral',\n",
       " 'Neutral',\n",
       " 'Neutral',\n",
       " 'Neutral',\n",
       " 'Neutral',\n",
       " 'Neutral',\n",
       " 'Neutral',\n",
       " 'Neutral',\n",
       " 'Neutral',\n",
       " 'Neutral',\n",
       " 'Neutral',\n",
       " 'Neutral',\n",
       " 'Neutral',\n",
       " 'Neutral',\n",
       " 'Neutral',\n",
       " 'Neutral',\n",
       " 'Neutral',\n",
       " 'Neutral',\n",
       " 'Neutral',\n",
       " 'Neutral',\n",
       " 'Neutral',\n",
       " 'Neutral',\n",
       " 'Neutral',\n",
       " 'Neutral',\n",
       " 'Neutral',\n",
       " 'Neutral',\n",
       " 'Neutral',\n",
       " 'Neutral',\n",
       " 'Neutral',\n",
       " 'Neutral',\n",
       " 'Neutral',\n",
       " 'Neutral',\n",
       " 'Neutral',\n",
       " 'Neutral',\n",
       " 'Neutral',\n",
       " 'Neutral',\n",
       " 'Neutral',\n",
       " 'Neutral',\n",
       " 'Neutral',\n",
       " 'Neutral',\n",
       " 'Neutral',\n",
       " 'Neutral',\n",
       " 'Neutral',\n",
       " 'Neutral',\n",
       " 'Neutral',\n",
       " 'Neutral',\n",
       " 'Neutral',\n",
       " 'Neutral',\n",
       " 'Neutral',\n",
       " 'Neutral',\n",
       " 'Neutral',\n",
       " 'Neutral',\n",
       " 'Neutral',\n",
       " 'Neutral',\n",
       " 'Neutral',\n",
       " 'Neutral',\n",
       " 'Neutral',\n",
       " 'Neutral',\n",
       " 'Neutral',\n",
       " 'Neutral',\n",
       " 'Neutral',\n",
       " 'Neutral',\n",
       " 'Neutral',\n",
       " 'Neutral',\n",
       " 'Neutral',\n",
       " 'Neutral',\n",
       " 'Neutral',\n",
       " 'Neutral',\n",
       " 'Neutral',\n",
       " 'Neutral',\n",
       " 'Neutral',\n",
       " 'Neutral',\n",
       " 'Neutral',\n",
       " 'Neutral',\n",
       " 'Neutral',\n",
       " 'Neutral',\n",
       " 'Neutral',\n",
       " 'Neutral',\n",
       " 'Neutral',\n",
       " 'Neutral',\n",
       " 'Neutral',\n",
       " 'Neutral',\n",
       " 'Neutral',\n",
       " 'Neutral',\n",
       " 'Neutral',\n",
       " 'Neutral',\n",
       " 'Neutral',\n",
       " 'Neutral',\n",
       " 'Neutral',\n",
       " 'Neutral',\n",
       " 'Neutral',\n",
       " 'Neutral',\n",
       " 'Neutral',\n",
       " 'Neutral',\n",
       " 'Neutral',\n",
       " 'Neutral',\n",
       " 'Neutral',\n",
       " 'Neutral',\n",
       " 'Neutral',\n",
       " 'Neutral',\n",
       " 'Neutral',\n",
       " 'Neutral',\n",
       " 'Neutral',\n",
       " 'Neutral',\n",
       " 'Neutral',\n",
       " 'Neutral',\n",
       " 'Neutral',\n",
       " 'Neutral',\n",
       " 'Neutral',\n",
       " 'Neutral',\n",
       " 'Neutral',\n",
       " 'Neutral',\n",
       " 'Neutral',\n",
       " 'Neutral',\n",
       " 'Neutral',\n",
       " 'Neutral',\n",
       " 'Neutral',\n",
       " 'Neutral',\n",
       " 'Neutral',\n",
       " 'Neutral',\n",
       " 'Neutral',\n",
       " 'Neutral',\n",
       " 'Neutral',\n",
       " 'Neutral',\n",
       " 'Neutral',\n",
       " 'Neutral',\n",
       " 'Neutral',\n",
       " 'Neutral',\n",
       " 'Neutral',\n",
       " 'Neutral',\n",
       " 'Neutral',\n",
       " 'Neutral',\n",
       " 'Neutral',\n",
       " 'Neutral',\n",
       " 'Neutral',\n",
       " 'Neutral',\n",
       " 'Neutral',\n",
       " 'Neutral',\n",
       " 'Neutral',\n",
       " 'Neutral',\n",
       " 'Neutral',\n",
       " 'Neutral',\n",
       " 'Neutral',\n",
       " 'Neutral',\n",
       " 'Neutral',\n",
       " 'Neutral',\n",
       " 'Neutral',\n",
       " 'Neutral',\n",
       " 'Neutral',\n",
       " 'Neutral',\n",
       " 'Neutral',\n",
       " 'Neutral',\n",
       " 'Neutral',\n",
       " 'Neutral',\n",
       " 'Neutral',\n",
       " 'Neutral',\n",
       " 'Neutral',\n",
       " 'Neutral',\n",
       " 'Neutral',\n",
       " 'Neutral',\n",
       " 'Neutral',\n",
       " 'Neutral',\n",
       " 'Neutral',\n",
       " 'Neutral',\n",
       " 'Neutral',\n",
       " 'Neutral',\n",
       " 'Neutral',\n",
       " 'Neutral',\n",
       " 'Neutral',\n",
       " 'Neutral',\n",
       " 'Neutral',\n",
       " 'Neutral',\n",
       " 'Neutral',\n",
       " 'Neutral',\n",
       " 'Neutral',\n",
       " 'Neutral',\n",
       " 'Neutral',\n",
       " 'Neutral',\n",
       " 'Neutral',\n",
       " 'Neutral',\n",
       " 'Neutral',\n",
       " 'Neutral',\n",
       " 'Neutral',\n",
       " 'Neutral',\n",
       " 'Neutral',\n",
       " 'Neutral',\n",
       " 'Neutral',\n",
       " 'Neutral',\n",
       " 'Neutral',\n",
       " 'Neutral',\n",
       " 'Neutral',\n",
       " 'Neutral',\n",
       " 'Neutral',\n",
       " 'Neutral',\n",
       " 'Neutral',\n",
       " 'Neutral',\n",
       " 'Neutral',\n",
       " 'Neutral',\n",
       " 'Neutral',\n",
       " 'Neutral',\n",
       " 'Neutral',\n",
       " 'Neutral',\n",
       " 'Neutral',\n",
       " 'Neutral',\n",
       " 'Neutral',\n",
       " 'Neutral',\n",
       " 'Neutral',\n",
       " 'Neutral',\n",
       " 'Neutral',\n",
       " 'Neutral',\n",
       " 'Neutral',\n",
       " 'Neutral',\n",
       " 'Neutral',\n",
       " 'Neutral',\n",
       " 'Neutral',\n",
       " 'Neutral',\n",
       " 'Neutral',\n",
       " 'Neutral',\n",
       " 'Neutral',\n",
       " 'Neutral',\n",
       " 'Neutral',\n",
       " 'Neutral',\n",
       " 'Neutral',\n",
       " 'Neutral',\n",
       " 'Neutral',\n",
       " 'Neutral',\n",
       " 'Neutral',\n",
       " 'Neutral',\n",
       " 'Neutral',\n",
       " 'Neutral',\n",
       " 'Neutral',\n",
       " 'Neutral',\n",
       " 'Neutral',\n",
       " 'Neutral',\n",
       " 'Neutral',\n",
       " 'Neutral',\n",
       " 'Neutral',\n",
       " 'Neutral',\n",
       " 'Neutral',\n",
       " 'Neutral',\n",
       " 'Neutral',\n",
       " 'Neutral',\n",
       " 'Neutral',\n",
       " 'Neutral',\n",
       " 'Neutral',\n",
       " 'Neutral',\n",
       " 'Neutral',\n",
       " 'Neutral',\n",
       " 'Neutral',\n",
       " 'Neutral',\n",
       " 'Neutral',\n",
       " 'Neutral',\n",
       " 'Neutral',\n",
       " 'Neutral',\n",
       " 'Neutral',\n",
       " 'Neutral',\n",
       " 'Neutral',\n",
       " 'Neutral',\n",
       " 'Neutral',\n",
       " 'Neutral',\n",
       " 'Neutral',\n",
       " 'Neutral',\n",
       " 'Neutral',\n",
       " 'Neutral',\n",
       " 'Neutral',\n",
       " 'Neutral',\n",
       " 'Neutral',\n",
       " 'Neutral',\n",
       " 'Neutral',\n",
       " 'Neutral',\n",
       " 'Neutral',\n",
       " 'Neutral',\n",
       " 'Neutral',\n",
       " 'Neutral',\n",
       " 'Neutral',\n",
       " 'Neutral',\n",
       " 'Neutral',\n",
       " 'Neutral',\n",
       " 'Neutral',\n",
       " 'Neutral',\n",
       " 'Neutral',\n",
       " 'Neutral',\n",
       " 'Neutral',\n",
       " 'Neutral',\n",
       " 'Neutral',\n",
       " 'Neutral',\n",
       " 'Neutral',\n",
       " 'Neutral',\n",
       " 'Neutral',\n",
       " 'Neutral',\n",
       " 'Neutral',\n",
       " 'Neutral',\n",
       " 'Panic',\n",
       " 'Panic',\n",
       " 'Panic',\n",
       " 'Panic',\n",
       " 'Panic',\n",
       " 'Panic',\n",
       " 'Panic',\n",
       " 'Sadness',\n",
       " 'Panic',\n",
       " 'Anger',\n",
       " 'Panic',\n",
       " 'Panic',\n",
       " 'Sadness',\n",
       " 'Panic',\n",
       " 'Panic',\n",
       " 'Panic',\n",
       " 'Panic',\n",
       " 'Panic',\n",
       " 'Panic',\n",
       " 'Panic',\n",
       " 'Panic',\n",
       " 'Panic',\n",
       " 'Panic',\n",
       " 'Panic',\n",
       " 'Panic',\n",
       " 'Panic',\n",
       " 'Panic',\n",
       " 'Panic',\n",
       " 'Panic',\n",
       " 'Happy',\n",
       " 'Panic',\n",
       " 'Sadness',\n",
       " 'Panic',\n",
       " 'Panic',\n",
       " 'Panic',\n",
       " 'Panic',\n",
       " 'Panic',\n",
       " 'Panic',\n",
       " 'Panic',\n",
       " 'Panic',\n",
       " 'Sadness',\n",
       " 'Panic',\n",
       " 'Panic',\n",
       " 'Panic',\n",
       " 'Panic',\n",
       " 'Panic',\n",
       " 'Panic',\n",
       " 'Panic',\n",
       " 'Panic',\n",
       " 'Happy',\n",
       " 'Panic',\n",
       " 'Sadness',\n",
       " 'Panic',\n",
       " 'Panic',\n",
       " 'Panic',\n",
       " 'Panic',\n",
       " ...]"
      ]
     },
     "execution_count": 30,
     "metadata": {},
     "output_type": "execute_result"
    }
   ],
   "source": [
    "predictions = []\n",
    "\n",
    "for test in test_img:\n",
    "    enc = test_img_processor(test.convert(\"RGB\"), return_tensors=\"pt\")\n",
    "    \n",
    "    with torch.no_grad():\n",
    "        outputs = model_trained(**enc)\n",
    "        logits = outputs.logits\n",
    "        predicted_class_idx = logits.argmax(-1).item()\n",
    "        predictions.append(model_trained.config.id2label[predicted_class_idx])\n",
    "\n",
    "predictions\n",
    "# int_to_label_mapping = {0: '분노', 1: '기쁨', 2: '당황', 3: '슬픔'}\n",
    "# predicted_labels = [int_to_label_mapping[pred] for pred in predictions]"
   ]
  },
  {
   "cell_type": "code",
   "execution_count": 31,
   "metadata": {},
   "outputs": [],
   "source": [
    "# int_to_label_mapping = {0: '분노', 1: '기쁨', 2: '당황', 3: '슬픔'}\n",
    "int_to_label_mapping = {0: 'Anger', 1: 'Happy', 2: 'Neutral', 3: 'Panic', 4: 'Sadness'}\n",
    "test_label = list(map(int_to_label_mapping.get, test_label))"
   ]
  },
  {
   "cell_type": "code",
   "execution_count": 34,
   "metadata": {},
   "outputs": [
    {
     "name": "stdout",
     "output_type": "stream",
     "text": [
      "Accuracy: 89.95\n",
      "              precision    recall  f1-score   support\n",
      "\n",
      "       Anger       0.83      0.76      0.79       279\n",
      "       Happy       0.93      0.97      0.95       298\n",
      "     Neutral       1.00      1.00      1.00       367\n",
      "       Panic       0.90      0.82      0.86       274\n",
      "     Sadness       0.81      0.91      0.86       284\n",
      "\n",
      "    accuracy                           0.90      1502\n",
      "   macro avg       0.89      0.89      0.89      1502\n",
      "weighted avg       0.90      0.90      0.90      1502\n",
      "\n",
      "[[211   6   0  22  40]\n",
      " [  5 289   0   1   3]\n",
      " [  0   0 367   0   0]\n",
      " [ 20  10   0 225  19]\n",
      " [ 18   5   0   2 259]]\n"
     ]
    }
   ],
   "source": [
    "from sklearn.metrics import accuracy_score, classification_report, confusion_matrix\n",
    "import seaborn as sns\n",
    "labels = ['Anger', 'Happy', 'Neutral', 'Panic', 'Sadness']\n",
    "\n",
    "accuracy = accuracy_score(test_label,predictions)\n",
    "print('Accuracy: {:.2f}'.format(accuracy*100))\n",
    "\n",
    "report = classification_report(test_label,predictions)\n",
    "print(report)\n",
    "\n",
    "cm = confusion_matrix(test_label,predictions)\n",
    "print(cm)"
   ]
  }
 ],
 "metadata": {
  "kernelspec": {
   "display_name": "my_env_py311",
   "language": "python",
   "name": "python3"
  },
  "language_info": {
   "codemirror_mode": {
    "name": "ipython",
    "version": 3
   },
   "file_extension": ".py",
   "mimetype": "text/x-python",
   "name": "python",
   "nbconvert_exporter": "python",
   "pygments_lexer": "ipython3",
   "version": "3.11.8"
  }
 },
 "nbformat": 4,
 "nbformat_minor": 2
}
